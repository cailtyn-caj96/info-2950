{
 "cells": [
  {
   "cell_type": "markdown",
   "id": "renewable-hypothesis",
   "metadata": {},
   "source": [
    "## Phase II\n"
   ]
  },
  {
   "cell_type": "markdown",
   "id": "allied-relaxation",
   "metadata": {},
   "source": [
    "### Data Collection and Cleaning"
   ]
  },
  {
   "cell_type": "code",
   "execution_count": 1,
   "id": "clean-cable",
   "metadata": {},
   "outputs": [],
   "source": [
    "## load libraries\n",
    "import pandas as pd\n",
    "import numpy as np\n",
    "import matplotlib.pyplot as plt\n",
    "from scipy import stats\n",
    "\n",
    "## load data\n",
    "school_data = pd.read_csv(\"Ny_School.csv\")\n",
    "housing_data = pd.read_csv(\"Student_Temp_Housing.csv\")\n"
   ]
  },
  {
   "cell_type": "markdown",
   "id": "extended-coverage",
   "metadata": {},
   "source": [
    "#### Renaming Columns"
   ]
  },
  {
   "cell_type": "markdown",
   "id": "saved-legislature",
   "metadata": {},
   "source": [
    "In this section, we renamed the columns by making them lower_case and replacing spaces in order to make them easier to work with."
   ]
  },
  {
   "cell_type": "code",
   "execution_count": 2,
   "id": "pleased-colony",
   "metadata": {},
   "outputs": [],
   "source": [
    "new_colnames = []\n",
    "for col in school_data.columns:\n",
    "    new_colnames.append(col.lower())\n",
    "    \n",
    "new_colnames_2 = []\n",
    "for col in housing_data.columns:\n",
    "    new_colnames_2.append(col.lower())\n",
    "    \n",
    "    "
   ]
  },
  {
   "cell_type": "code",
   "execution_count": 3,
   "id": "damaged-fisher",
   "metadata": {},
   "outputs": [
    {
     "name": "stdout",
     "output_type": "stream",
     "text": [
      "['dbn', 'school_name', 'year', 'total_enrollment', 'grade_pk_(half_day_&_full_day)', 'grade_k', 'grade_1', 'grade_2', 'grade_3', 'grade_4', 'grade_5', 'grade_6', 'grade_7', 'grade_8', 'grade_9', 'grade_10', 'grade_11', 'grade_12', '#_female', '%_female', '#_male', '%_male', '#_asian', '%_asian', '#_black', '%_black', '#_hispanic', '%_hispanic', '#_multiple_race_categories_not_represented', '%_multiple_race_categories_not_represented', '#_white', '%_white', '#_students_with_disabilities', '%_students_with_disabilities', '#_english_language_learners', '%_english_language_learners', '#_poverty', '%_poverty', 'economic_need_index']\n",
      "['dbn', 'school_name', '#_total_students', '#_students_in_temporary_housing', '%_students_in_temporary_housing', '#_students_residing_in_shelter', '#_residing_in_dhs_shelter', '#_residing_in_non-dhs_shelter', '#_doubled_up']\n"
     ]
    }
   ],
   "source": [
    "for col in range(len(new_colnames)):\n",
    "    new_colnames[col] = new_colnames[col].replace(\" \", \"_\")\n",
    "print (new_colnames)\n",
    "\n",
    "sdata = school_data.copy()\n",
    "sdata.columns = new_colnames\n",
    "\n",
    "for col in range(len(new_colnames_2)):\n",
    "    new_colnames_2[col] = new_colnames_2[col].replace(\" \", \"_\")\n",
    "print (new_colnames_2)\n",
    "\n",
    "sdata = school_data.copy()\n",
    "sdata.columns = new_colnames\n",
    "\n",
    "hdata = housing_data.copy()\n",
    "hdata.columns = new_colnames_2"
   ]
  },
  {
   "cell_type": "markdown",
   "id": "outside-player",
   "metadata": {},
   "source": [
    "#### Dropping Columns"
   ]
  },
  {
   "cell_type": "markdown",
   "id": "hundred-wealth",
   "metadata": {},
   "source": [
    "Then, we dropped the columns we did not need, only keeping ones relative to our research question which involved keeping school demographic (race make-up), poverty, and students in temporary housing data. "
   ]
  },
  {
   "cell_type": "code",
   "execution_count": 4,
   "id": "sensitive-space",
   "metadata": {},
   "outputs": [
    {
     "data": {
      "text/html": [
       "<div>\n",
       "<style scoped>\n",
       "    .dataframe tbody tr th:only-of-type {\n",
       "        vertical-align: middle;\n",
       "    }\n",
       "\n",
       "    .dataframe tbody tr th {\n",
       "        vertical-align: top;\n",
       "    }\n",
       "\n",
       "    .dataframe thead th {\n",
       "        text-align: right;\n",
       "    }\n",
       "</style>\n",
       "<table border=\"1\" class=\"dataframe\">\n",
       "  <thead>\n",
       "    <tr style=\"text-align: right;\">\n",
       "      <th></th>\n",
       "      <th>dbn</th>\n",
       "      <th>school_name</th>\n",
       "      <th>year</th>\n",
       "      <th>%_asian</th>\n",
       "      <th>%_black</th>\n",
       "      <th>%_hispanic</th>\n",
       "      <th>%_white</th>\n",
       "      <th>%_poverty</th>\n",
       "    </tr>\n",
       "  </thead>\n",
       "  <tbody>\n",
       "    <tr>\n",
       "      <th>0</th>\n",
       "      <td>01M015</td>\n",
       "      <td>P.S. 015 Roberto Clemente</td>\n",
       "      <td>2014-15</td>\n",
       "      <td>0.044</td>\n",
       "      <td>0.355</td>\n",
       "      <td>0.585</td>\n",
       "      <td>0.011</td>\n",
       "      <td>0.923</td>\n",
       "    </tr>\n",
       "    <tr>\n",
       "      <th>1</th>\n",
       "      <td>01M015</td>\n",
       "      <td>P.S. 015 Roberto Clemente</td>\n",
       "      <td>2015-16</td>\n",
       "      <td>0.051</td>\n",
       "      <td>0.324</td>\n",
       "      <td>0.597</td>\n",
       "      <td>0.011</td>\n",
       "      <td>0.847</td>\n",
       "    </tr>\n",
       "    <tr>\n",
       "      <th>2</th>\n",
       "      <td>01M015</td>\n",
       "      <td>P.S. 015 Roberto Clemente</td>\n",
       "      <td>2016-17</td>\n",
       "      <td>0.079</td>\n",
       "      <td>0.287</td>\n",
       "      <td>0.590</td>\n",
       "      <td>0.022</td>\n",
       "      <td>0.854</td>\n",
       "    </tr>\n",
       "    <tr>\n",
       "      <th>3</th>\n",
       "      <td>01M015</td>\n",
       "      <td>P.S. 015 Roberto Clemente</td>\n",
       "      <td>2017-18</td>\n",
       "      <td>0.105</td>\n",
       "      <td>0.274</td>\n",
       "      <td>0.579</td>\n",
       "      <td>0.032</td>\n",
       "      <td>0.847</td>\n",
       "    </tr>\n",
       "    <tr>\n",
       "      <th>4</th>\n",
       "      <td>01M015</td>\n",
       "      <td>P.S. 015 Roberto Clemente</td>\n",
       "      <td>2018-19</td>\n",
       "      <td>0.138</td>\n",
       "      <td>0.276</td>\n",
       "      <td>0.546</td>\n",
       "      <td>0.034</td>\n",
       "      <td>0.833</td>\n",
       "    </tr>\n",
       "  </tbody>\n",
       "</table>\n",
       "</div>"
      ],
      "text/plain": [
       "      dbn                school_name     year  %_asian  %_black  %_hispanic  \\\n",
       "0  01M015  P.S. 015 Roberto Clemente  2014-15    0.044    0.355       0.585   \n",
       "1  01M015  P.S. 015 Roberto Clemente  2015-16    0.051    0.324       0.597   \n",
       "2  01M015  P.S. 015 Roberto Clemente  2016-17    0.079    0.287       0.590   \n",
       "3  01M015  P.S. 015 Roberto Clemente  2017-18    0.105    0.274       0.579   \n",
       "4  01M015  P.S. 015 Roberto Clemente  2018-19    0.138    0.276       0.546   \n",
       "\n",
       "   %_white  %_poverty  \n",
       "0    0.011      0.923  \n",
       "1    0.011      0.847  \n",
       "2    0.022      0.854  \n",
       "3    0.032      0.847  \n",
       "4    0.034      0.833  "
      ]
     },
     "metadata": {},
     "output_type": "display_data"
    },
    {
     "data": {
      "text/html": [
       "<div>\n",
       "<style scoped>\n",
       "    .dataframe tbody tr th:only-of-type {\n",
       "        vertical-align: middle;\n",
       "    }\n",
       "\n",
       "    .dataframe tbody tr th {\n",
       "        vertical-align: top;\n",
       "    }\n",
       "\n",
       "    .dataframe thead th {\n",
       "        text-align: right;\n",
       "    }\n",
       "</style>\n",
       "<table border=\"1\" class=\"dataframe\">\n",
       "  <thead>\n",
       "    <tr style=\"text-align: right;\">\n",
       "      <th></th>\n",
       "      <th>dbn</th>\n",
       "      <th>#_total_students</th>\n",
       "      <th>#_students_in_temporary_housing</th>\n",
       "      <th>%_students_in_temporary_housing</th>\n",
       "      <th>#_students_residing_in_shelter</th>\n",
       "      <th>#_residing_in_dhs_shelter</th>\n",
       "    </tr>\n",
       "  </thead>\n",
       "  <tbody>\n",
       "    <tr>\n",
       "      <th>0</th>\n",
       "      <td>01M015</td>\n",
       "      <td>187</td>\n",
       "      <td>67</td>\n",
       "      <td>0.36</td>\n",
       "      <td>16</td>\n",
       "      <td>6</td>\n",
       "    </tr>\n",
       "    <tr>\n",
       "      <th>1</th>\n",
       "      <td>01M019</td>\n",
       "      <td>274</td>\n",
       "      <td>34</td>\n",
       "      <td>0.12</td>\n",
       "      <td>19</td>\n",
       "      <td>s</td>\n",
       "    </tr>\n",
       "    <tr>\n",
       "      <th>2</th>\n",
       "      <td>01M020</td>\n",
       "      <td>512</td>\n",
       "      <td>95</td>\n",
       "      <td>0.19</td>\n",
       "      <td>41</td>\n",
       "      <td>26</td>\n",
       "    </tr>\n",
       "    <tr>\n",
       "      <th>3</th>\n",
       "      <td>01M034</td>\n",
       "      <td>348</td>\n",
       "      <td>84</td>\n",
       "      <td>0.24</td>\n",
       "      <td>46</td>\n",
       "      <td>34</td>\n",
       "    </tr>\n",
       "    <tr>\n",
       "      <th>4</th>\n",
       "      <td>01M063</td>\n",
       "      <td>212</td>\n",
       "      <td>52</td>\n",
       "      <td>0.25</td>\n",
       "      <td>13</td>\n",
       "      <td>s</td>\n",
       "    </tr>\n",
       "  </tbody>\n",
       "</table>\n",
       "</div>"
      ],
      "text/plain": [
       "      dbn  #_total_students #_students_in_temporary_housing  \\\n",
       "0  01M015               187                              67   \n",
       "1  01M019               274                              34   \n",
       "2  01M020               512                              95   \n",
       "3  01M034               348                              84   \n",
       "4  01M063               212                              52   \n",
       "\n",
       "  %_students_in_temporary_housing #_students_residing_in_shelter  \\\n",
       "0                            0.36                             16   \n",
       "1                            0.12                             19   \n",
       "2                            0.19                             41   \n",
       "3                            0.24                             46   \n",
       "4                            0.25                             13   \n",
       "\n",
       "  #_residing_in_dhs_shelter  \n",
       "0                         6  \n",
       "1                         s  \n",
       "2                        26  \n",
       "3                        34  \n",
       "4                         s  "
      ]
     },
     "metadata": {},
     "output_type": "display_data"
    }
   ],
   "source": [
    "sdata.drop(sdata.loc[:,[\"total_enrollment\", \"#_female\", \"%_female\", \"#_male\", \"%_male\", \"#_black\", \"#_white\", \"#_asian\", \"#_hispanic\", \"#_multiple_race_categories_not_represented\", \"#_students_with_disabilities\", \"#_english_language_learners\", \"%_students_with_disabilities\", \"#_poverty\", \"%_multiple_race_categories_not_represented\", \"%_english_language_learners\", \"economic_need_index\"]], inplace = True, axis = 1)\n",
    "sdata.drop(sdata.loc[:,[\"grade_pk_(half_day_&_full_day)\", 'grade_k', 'grade_1', 'grade_2', 'grade_3', 'grade_4', 'grade_5', 'grade_6', 'grade_7', 'grade_8', 'grade_9', 'grade_10', 'grade_11', 'grade_12']], inplace = True, axis = 1)\n",
    "display(sdata.head())\n",
    "\n",
    "hdata.drop(hdata.loc[:, ['#_doubled_up', \"school_name\", '#_residing_in_non-dhs_shelter', '#_doubled_up'  ]], inplace = True, axis = 1)\n",
    "display(hdata.head())"
   ]
  },
  {
   "cell_type": "markdown",
   "id": "reverse-microwave",
   "metadata": {},
   "source": [
    "#### Adding Columns then Grouping"
   ]
  },
  {
   "cell_type": "markdown",
   "id": "covered-union",
   "metadata": {},
   "source": [
    "In this section, we added two new columns in borough + district and boroughs so that we could group by both. In order to achieve this, we wrote two functions which took the dbn school number and converted them to specific boroughs and districts. Then, we grouped all the data by the boroughs and districts, replaced \"suppressed values\" with 0, and rounded and converted the decimals to percentages."
   ]
  },
  {
   "cell_type": "code",
   "execution_count": 5,
   "id": "likely-calculator",
   "metadata": {},
   "outputs": [
    {
     "data": {
      "text/html": [
       "<div>\n",
       "<style scoped>\n",
       "    .dataframe tbody tr th:only-of-type {\n",
       "        vertical-align: middle;\n",
       "    }\n",
       "\n",
       "    .dataframe tbody tr th {\n",
       "        vertical-align: top;\n",
       "    }\n",
       "\n",
       "    .dataframe thead th {\n",
       "        text-align: right;\n",
       "    }\n",
       "</style>\n",
       "<table border=\"1\" class=\"dataframe\">\n",
       "  <thead>\n",
       "    <tr style=\"text-align: right;\">\n",
       "      <th></th>\n",
       "      <th>borough_and_district_#</th>\n",
       "      <th>%_asian</th>\n",
       "      <th>%_black</th>\n",
       "      <th>%_hispanic</th>\n",
       "      <th>%_white</th>\n",
       "      <th>%_poverty</th>\n",
       "    </tr>\n",
       "  </thead>\n",
       "  <tbody>\n",
       "    <tr>\n",
       "      <th>0</th>\n",
       "      <td>Bronx 07</td>\n",
       "      <td>1.10</td>\n",
       "      <td>26.60</td>\n",
       "      <td>69.87</td>\n",
       "      <td>1.42</td>\n",
       "      <td>91.76</td>\n",
       "    </tr>\n",
       "    <tr>\n",
       "      <th>1</th>\n",
       "      <td>Bronx 08</td>\n",
       "      <td>5.04</td>\n",
       "      <td>24.28</td>\n",
       "      <td>64.12</td>\n",
       "      <td>5.17</td>\n",
       "      <td>81.42</td>\n",
       "    </tr>\n",
       "    <tr>\n",
       "      <th>2</th>\n",
       "      <td>Bronx 09</td>\n",
       "      <td>1.50</td>\n",
       "      <td>28.60</td>\n",
       "      <td>67.84</td>\n",
       "      <td>1.24</td>\n",
       "      <td>90.82</td>\n",
       "    </tr>\n",
       "    <tr>\n",
       "      <th>3</th>\n",
       "      <td>Bronx 10</td>\n",
       "      <td>4.41</td>\n",
       "      <td>17.52</td>\n",
       "      <td>72.22</td>\n",
       "      <td>4.41</td>\n",
       "      <td>85.26</td>\n",
       "    </tr>\n",
       "    <tr>\n",
       "      <th>4</th>\n",
       "      <td>Bronx 11</td>\n",
       "      <td>6.76</td>\n",
       "      <td>40.91</td>\n",
       "      <td>42.18</td>\n",
       "      <td>8.06</td>\n",
       "      <td>78.04</td>\n",
       "    </tr>\n",
       "  </tbody>\n",
       "</table>\n",
       "</div>"
      ],
      "text/plain": [
       "  borough_and_district_#  %_asian  %_black  %_hispanic  %_white  %_poverty\n",
       "0               Bronx 07     1.10    26.60       69.87     1.42      91.76\n",
       "1               Bronx 08     5.04    24.28       64.12     5.17      81.42\n",
       "2               Bronx 09     1.50    28.60       67.84     1.24      90.82\n",
       "3               Bronx 10     4.41    17.52       72.22     4.41      85.26\n",
       "4               Bronx 11     6.76    40.91       42.18     8.06      78.04"
      ]
     },
     "metadata": {},
     "output_type": "display_data"
    },
    {
     "data": {
      "text/html": [
       "<div>\n",
       "<style scoped>\n",
       "    .dataframe tbody tr th:only-of-type {\n",
       "        vertical-align: middle;\n",
       "    }\n",
       "\n",
       "    .dataframe tbody tr th {\n",
       "        vertical-align: top;\n",
       "    }\n",
       "\n",
       "    .dataframe thead th {\n",
       "        text-align: right;\n",
       "    }\n",
       "</style>\n",
       "<table border=\"1\" class=\"dataframe\">\n",
       "  <thead>\n",
       "    <tr style=\"text-align: right;\">\n",
       "      <th></th>\n",
       "      <th>borough_and_district_#</th>\n",
       "      <th>#_total_students</th>\n",
       "      <th>%_students_in_temporary_housing</th>\n",
       "      <th>#_students_residing_in_shelter</th>\n",
       "      <th>borough</th>\n",
       "    </tr>\n",
       "  </thead>\n",
       "  <tbody>\n",
       "    <tr>\n",
       "      <th>0</th>\n",
       "      <td>Bronx 07</td>\n",
       "      <td>458.76</td>\n",
       "      <td>18.00</td>\n",
       "      <td>34.31</td>\n",
       "      <td>Bronx</td>\n",
       "    </tr>\n",
       "    <tr>\n",
       "      <th>1</th>\n",
       "      <td>Bronx 08</td>\n",
       "      <td>508.66</td>\n",
       "      <td>14.73</td>\n",
       "      <td>31.05</td>\n",
       "      <td>Bronx</td>\n",
       "    </tr>\n",
       "    <tr>\n",
       "      <th>2</th>\n",
       "      <td>Bronx 09</td>\n",
       "      <td>515.24</td>\n",
       "      <td>21.07</td>\n",
       "      <td>43.58</td>\n",
       "      <td>Bronx</td>\n",
       "    </tr>\n",
       "    <tr>\n",
       "      <th>3</th>\n",
       "      <td>Bronx 10</td>\n",
       "      <td>644.69</td>\n",
       "      <td>18.66</td>\n",
       "      <td>28.36</td>\n",
       "      <td>Bronx</td>\n",
       "    </tr>\n",
       "    <tr>\n",
       "      <th>4</th>\n",
       "      <td>Bronx 11</td>\n",
       "      <td>643.30</td>\n",
       "      <td>11.88</td>\n",
       "      <td>25.68</td>\n",
       "      <td>Bronx</td>\n",
       "    </tr>\n",
       "  </tbody>\n",
       "</table>\n",
       "</div>"
      ],
      "text/plain": [
       "  borough_and_district_#  #_total_students  %_students_in_temporary_housing  \\\n",
       "0               Bronx 07            458.76                            18.00   \n",
       "1               Bronx 08            508.66                            14.73   \n",
       "2               Bronx 09            515.24                            21.07   \n",
       "3               Bronx 10            644.69                            18.66   \n",
       "4               Bronx 11            643.30                            11.88   \n",
       "\n",
       "   #_students_residing_in_shelter borough  \n",
       "0                           34.31   Bronx  \n",
       "1                           31.05   Bronx  \n",
       "2                           43.58   Bronx  \n",
       "3                           28.36   Bronx  \n",
       "4                           25.68   Bronx  "
      ]
     },
     "metadata": {},
     "output_type": "display_data"
    }
   ],
   "source": [
    "def label_borough(col):\n",
    "    district_number = col['dbn'][0:2]\n",
    "    if col['dbn'].find(\"M\") == 2:\n",
    "      return 'Manhattan ' + district_number\n",
    "    if col['dbn'].find(\"K\") == 2:\n",
    "      return 'Brooklyn ' + district_number\n",
    "    if col['dbn'].find(\"X\") == 2 :\n",
    "      return 'Bronx ' + district_number\n",
    "    if col['dbn'].find(\"Q\") == 2:\n",
    "      return 'Queens ' + district_number\n",
    "    if col['dbn'].find(\"R\") == 2:\n",
    "      return 'Staten Island ' + district_number\n",
    "\n",
    "def labelBorough(col):\n",
    "    if col['borough_and_district_#'].find(\"Manhattan\") != -1:\n",
    "      return 'Manhattan'\n",
    "    if col['borough_and_district_#'].find(\"Brooklyn\") != -1:\n",
    "      return 'Brooklyn'\n",
    "    if col['borough_and_district_#'].find(\"Bronx\") != -1:\n",
    "      return 'Bronx'\n",
    "    if col['borough_and_district_#'].find(\"Queens\") != -1:\n",
    "      return 'Queens'\n",
    "    if col['borough_and_district_#'].find(\"Staten Island\")!= -1:\n",
    "      return 'Staten Island'\n",
    "\n",
    "\n",
    "sdata['borough_and_district_#'] = sdata.apply (lambda col: label_borough(col), axis=1)\n",
    "\n",
    "sdata = sdata.groupby(['borough_and_district_#'], as_index=False).mean()\n",
    "\n",
    "sdata.iloc[:,1:6] = sdata.iloc[:,1:6].mul(100).round(2)\n",
    "display(sdata.head())\n",
    "\n",
    "hdata = hdata.replace(\"s\", 0)\n",
    "\n",
    "hdata['borough_and_district_#'] = hdata.apply (lambda col: label_borough(col), axis=1)\n",
    "\n",
    "hdata[\"%_students_in_temporary_housing\"] = pd.to_numeric(hdata[\"%_students_in_temporary_housing\"])\n",
    "hdata[\"#_total_students\"] = pd.to_numeric(hdata[\"#_total_students\"])\n",
    "hdata[\"#_students_residing_in_shelter\"] = pd.to_numeric(hdata[\"#_students_residing_in_shelter\"])\n",
    "\n",
    "hdata = hdata.groupby(['borough_and_district_#'], as_index=False).mean()\n",
    "hdata[\"borough\"] = hdata.apply(lambda col: labelBorough(col), axis=1)\n",
    "hdata.iloc[:,2] = hdata.iloc[:,2].mul(100).round(2)\n",
    "hdata.iloc[: ,1:4] = hdata.iloc[: ,1:4].round(2)\n",
    "\n",
    "display(hdata.head())\n",
    "\n",
    "\n",
    "\n"
   ]
  },
  {
   "cell_type": "markdown",
   "id": "warming-comment",
   "metadata": {},
   "source": [
    "#### Merging the two datasets"
   ]
  },
  {
   "cell_type": "markdown",
   "id": "colonial-interest",
   "metadata": {},
   "source": [
    "For this step, we created the final dataframe by merging both the education and housing data by borough and district number using the merge method."
   ]
  },
  {
   "cell_type": "code",
   "execution_count": 6,
   "id": "developmental-provider",
   "metadata": {},
   "outputs": [
    {
     "data": {
      "text/html": [
       "<div>\n",
       "<style scoped>\n",
       "    .dataframe tbody tr th:only-of-type {\n",
       "        vertical-align: middle;\n",
       "    }\n",
       "\n",
       "    .dataframe tbody tr th {\n",
       "        vertical-align: top;\n",
       "    }\n",
       "\n",
       "    .dataframe thead th {\n",
       "        text-align: right;\n",
       "    }\n",
       "</style>\n",
       "<table border=\"1\" class=\"dataframe\">\n",
       "  <thead>\n",
       "    <tr style=\"text-align: right;\">\n",
       "      <th></th>\n",
       "      <th>borough_and_district_#</th>\n",
       "      <th>%_asian</th>\n",
       "      <th>%_black</th>\n",
       "      <th>%_hispanic</th>\n",
       "      <th>%_white</th>\n",
       "      <th>%_poverty</th>\n",
       "      <th>#_total_students</th>\n",
       "      <th>%_students_in_temporary_housing</th>\n",
       "      <th>#_students_residing_in_shelter</th>\n",
       "      <th>borough</th>\n",
       "    </tr>\n",
       "  </thead>\n",
       "  <tbody>\n",
       "    <tr>\n",
       "      <th>0</th>\n",
       "      <td>Bronx 07</td>\n",
       "      <td>1.10</td>\n",
       "      <td>26.60</td>\n",
       "      <td>69.87</td>\n",
       "      <td>1.42</td>\n",
       "      <td>91.76</td>\n",
       "      <td>458.76</td>\n",
       "      <td>18.00</td>\n",
       "      <td>34.31</td>\n",
       "      <td>Bronx</td>\n",
       "    </tr>\n",
       "    <tr>\n",
       "      <th>1</th>\n",
       "      <td>Bronx 08</td>\n",
       "      <td>5.04</td>\n",
       "      <td>24.28</td>\n",
       "      <td>64.12</td>\n",
       "      <td>5.17</td>\n",
       "      <td>81.42</td>\n",
       "      <td>508.66</td>\n",
       "      <td>14.73</td>\n",
       "      <td>31.05</td>\n",
       "      <td>Bronx</td>\n",
       "    </tr>\n",
       "    <tr>\n",
       "      <th>2</th>\n",
       "      <td>Bronx 09</td>\n",
       "      <td>1.50</td>\n",
       "      <td>28.60</td>\n",
       "      <td>67.84</td>\n",
       "      <td>1.24</td>\n",
       "      <td>90.82</td>\n",
       "      <td>515.24</td>\n",
       "      <td>21.07</td>\n",
       "      <td>43.58</td>\n",
       "      <td>Bronx</td>\n",
       "    </tr>\n",
       "    <tr>\n",
       "      <th>3</th>\n",
       "      <td>Bronx 10</td>\n",
       "      <td>4.41</td>\n",
       "      <td>17.52</td>\n",
       "      <td>72.22</td>\n",
       "      <td>4.41</td>\n",
       "      <td>85.26</td>\n",
       "      <td>644.69</td>\n",
       "      <td>18.66</td>\n",
       "      <td>28.36</td>\n",
       "      <td>Bronx</td>\n",
       "    </tr>\n",
       "    <tr>\n",
       "      <th>4</th>\n",
       "      <td>Bronx 11</td>\n",
       "      <td>6.76</td>\n",
       "      <td>40.91</td>\n",
       "      <td>42.18</td>\n",
       "      <td>8.06</td>\n",
       "      <td>78.04</td>\n",
       "      <td>643.30</td>\n",
       "      <td>11.88</td>\n",
       "      <td>25.68</td>\n",
       "      <td>Bronx</td>\n",
       "    </tr>\n",
       "  </tbody>\n",
       "</table>\n",
       "</div>"
      ],
      "text/plain": [
       "  borough_and_district_#  %_asian  %_black  %_hispanic  %_white  %_poverty  \\\n",
       "0               Bronx 07     1.10    26.60       69.87     1.42      91.76   \n",
       "1               Bronx 08     5.04    24.28       64.12     5.17      81.42   \n",
       "2               Bronx 09     1.50    28.60       67.84     1.24      90.82   \n",
       "3               Bronx 10     4.41    17.52       72.22     4.41      85.26   \n",
       "4               Bronx 11     6.76    40.91       42.18     8.06      78.04   \n",
       "\n",
       "   #_total_students  %_students_in_temporary_housing  \\\n",
       "0            458.76                            18.00   \n",
       "1            508.66                            14.73   \n",
       "2            515.24                            21.07   \n",
       "3            644.69                            18.66   \n",
       "4            643.30                            11.88   \n",
       "\n",
       "   #_students_residing_in_shelter borough  \n",
       "0                           34.31   Bronx  \n",
       "1                           31.05   Bronx  \n",
       "2                           43.58   Bronx  \n",
       "3                           28.36   Bronx  \n",
       "4                           25.68   Bronx  "
      ]
     },
     "execution_count": 6,
     "metadata": {},
     "output_type": "execute_result"
    }
   ],
   "source": [
    "final_ds = pd.merge(sdata, hdata, on = \"borough_and_district_#\", how = \"inner\")\n",
    "final_ds.head()"
   ]
  },
  {
   "cell_type": "markdown",
   "id": "mathematical-format",
   "metadata": {},
   "source": [
    "## Data Description"
   ]
  },
  {
   "cell_type": "markdown",
   "id": "compact-donna",
   "metadata": {},
   "source": [
    "For the finalized dataset for housing and education data, we combined two datasets. The rows represent different boroughs and school districts within New York City. The columns make up different demographics, including percentage of Asian, Black, Hispanic, White, and other races, along with percentage of students in poverty. Additionally, they show the total number of students at each public school regardless of housing situation, students residing in shelter, the number and percent of students in temporary housing. Poverty is measured by students who qualify for a free or reduced price lunch program or those eligible for Human Resources Administration benefits. Students in temporary housing are defined as any student 21 or younger enrolled in school and experiencing housing instability at any point during the school year. Temporary housing includes sharing the housing of others, in shelter, in hotel/motel, or in other temporary housing. The total numbers of students and students in temporary housing are disaggregated by school, based on the last school or program a student attended. In 2017-18, there were 105,261 students residing in temporary housing at any point throughout the school year.  The total numbers of students and students in temporary housing are disaggregated by school, based on the last school or program a student attended. The final, revised dataset was created in order to study relationships between districts and specific demographics in order to find insights into poverty levels and temporary housing numbers within the districts. The data was collected using multiple data sources, including the DOE's Audited Register, biographic data from the Automate the Schools (ATS) system, and the Location Code Generation and Management System (LCGMS), and the Department of Homeless Services (DHS). Due to the occasional missing demographic data and long-term-absent students not being accounted for, some of the enrollment numbers do not add up. The people surveyed (students within New York City) are probably aware that their demographic and free lunch status is recorded but this information does not affect the data. The original data set can be found here https://drive.google.com/drive/folders/1B8daIcWqa5voZ6YwI-Jy1ZA4WMcZJdzW?usp=sharing. \n",
    "\n"
   ]
  },
  {
   "cell_type": "markdown",
   "id": "stone-hands",
   "metadata": {},
   "source": [
    "## Data Limitations"
   ]
  },
  {
   "cell_type": "markdown",
   "id": "endangered-maryland",
   "metadata": {},
   "source": [
    "One significant limitation within the dataset is that only public schools are accounted for (tne school data accounts for charter schools while the housing data does not). The absense of private schools in the dataset results in inflated poverty, racial minority percentages, and housing data for each district as private schools historically account for a higher level of wealthier and white students due to the tuition and prep needed to admitted. Regarding the housing data, The Federal McKinney-Vento Homeless Assistance Act requires school districts to ask families to report on their housing situation. Schools are only required to provide the survey when they are aware that there is a change in address so there may be instances where schools have outdated information. Additionally, families might lie about the state of housing in their families in the questionnaires as they do not want schools prying into their family situation so as a result, the actual temporary housing numbers might be lower than they actually are. "
   ]
  },
  {
   "cell_type": "markdown",
   "id": "raised-forwarding",
   "metadata": {},
   "source": [
    "## Initial Analysis"
   ]
  },
  {
   "cell_type": "markdown",
   "id": "frank-trigger",
   "metadata": {},
   "source": [
    "#### Mean values for Columns"
   ]
  },
  {
   "cell_type": "code",
   "execution_count": 7,
   "id": "annoying-static",
   "metadata": {},
   "outputs": [
    {
     "name": "stdout",
     "output_type": "stream",
     "text": [
      "The mean Asian enrollment percentage is 11.10\n",
      "The std of Asian enrollment percentage is 12.67\n",
      "\n",
      "\n",
      "The mean Black enrollment percentage is 33.49\n",
      "The std of Black enrollment percentage is 21.87\n",
      "\n",
      "\n",
      "The mean Hispanic enrollment percentage is 41.00\n",
      "The std of Hispanic enrollment percentage is 19.89\n",
      "\n",
      "\n",
      "The mean White enrollment percentage is 12.20\n",
      "The std of White enrollment percentage is 10.91\n",
      "\n",
      "\n",
      "The mean poverty percentage is 75.64\n",
      "The std of poverty percentage is 11.16\n",
      "\n",
      "\n"
     ]
    }
   ],
   "source": [
    "print(\"The mean Asian enrollment percentage is {:.2f}\".format(final_ds[\"%_asian\"].mean()))\n",
    "print(\"The std of Asian enrollment percentage is {:.2f}\".format(final_ds[\"%_asian\"].std()))\n",
    "print(\"\\n\")\n",
    "\n",
    "print(\"The mean Black enrollment percentage is {:.2f}\".format(final_ds[\"%_black\"].mean()))\n",
    "print(\"The std of Black enrollment percentage is {:.2f}\".format(final_ds[\"%_black\"].std()))\n",
    "print(\"\\n\")\n",
    "\n",
    "print(\"The mean Hispanic enrollment percentage is {:.2f}\".format(final_ds[\"%_hispanic\"].mean()))\n",
    "print(\"The std of Hispanic enrollment percentage is {:.2f}\".format(final_ds[\"%_hispanic\"].std()))\n",
    "print(\"\\n\")\n",
    "\n",
    "print(\"The mean White enrollment percentage is {:.2f}\".format(final_ds[\"%_white\"].mean()))\n",
    "print(\"The std of White enrollment percentage is {:.2f}\".format(final_ds[\"%_white\"].std()))\n",
    "print(\"\\n\")\n",
    "\n",
    "print(\"The mean poverty percentage is {:.2f}\".format(final_ds[\"%_poverty\"].mean()))\n",
    "print(\"The std of poverty percentage is {:.2f}\".format(final_ds[\"%_poverty\"].std()))\n",
    "print(\"\\n\")"
   ]
  },
  {
   "cell_type": "markdown",
   "id": "driving-church",
   "metadata": {},
   "source": [
    "#### Scatter Plots and Correlation"
   ]
  },
  {
   "cell_type": "code",
   "execution_count": 8,
   "id": "hundred-penny",
   "metadata": {},
   "outputs": [
    {
     "name": "stdout",
     "output_type": "stream",
     "text": [
      "The correlation is -0.66\n"
     ]
    },
    {
     "data": {
      "text/plain": [
       "Text(0, 0.5, 'Poverty')"
      ]
     },
     "execution_count": 8,
     "metadata": {},
     "output_type": "execute_result"
    },
    {
     "data": {
      "image/png": "[encoded data removed]",
      "text/plain": [
       "<Figure size 432x288 with 1 Axes>"
      ]
     },
     "metadata": {
      "needs_background": "light"
     },
     "output_type": "display_data"
    }
   ],
   "source": [
    "print(\"The correlation is {:.2f}\".format(final_ds[\"%_white\"].corr(final_ds[\"%_poverty\"])))\n",
    "plt.scatter(final_ds[\"%_white\"],final_ds[\"%_poverty\"],alpha = 0.3)\n",
    "plt.xlabel(\"White Percentage\")\n",
    "plt.ylabel(\"Poverty\")"
   ]
  },
  {
   "cell_type": "code",
   "execution_count": 9,
   "id": "genuine-russia",
   "metadata": {},
   "outputs": [
    {
     "name": "stdout",
     "output_type": "stream",
     "text": [
      "The correlation is -0.53\n"
     ]
    },
    {
     "data": {
      "text/plain": [
       "Text(0, 0.5, 'Poverty')"
      ]
     },
     "execution_count": 9,
     "metadata": {},
     "output_type": "execute_result"
    },
    {
     "data": {
      "image/png": "[encoded data removed]",
      "text/plain": [
       "<Figure size 432x288 with 1 Axes>"
      ]
     },
     "metadata": {
      "needs_background": "light"
     },
     "output_type": "display_data"
    }
   ],
   "source": [
    "print(\"The correlation is {:.2f}\".format(final_ds[\"%_asian\"].corr(final_ds[\"%_poverty\"])))\n",
    "plt.scatter(final_ds[\"%_asian\"],final_ds[\"%_poverty\"],alpha = 0.3)\n",
    "plt.xlabel(\"Asian Percentage\")\n",
    "plt.ylabel(\"Poverty\")"
   ]
  },
  {
   "cell_type": "code",
   "execution_count": 10,
   "id": "dress-carrier",
   "metadata": {},
   "outputs": [
    {
     "name": "stdout",
     "output_type": "stream",
     "text": [
      "The correlation is 0.37\n"
     ]
    },
    {
     "data": {
      "text/plain": [
       "Text(0, 0.5, 'Poverty')"
      ]
     },
     "execution_count": 10,
     "metadata": {},
     "output_type": "execute_result"
    },
    {
     "data": {
      "image/png": "[encoded data removed]",
      "text/plain": [
       "<Figure size 432x288 with 1 Axes>"
      ]
     },
     "metadata": {
      "needs_background": "light"
     },
     "output_type": "display_data"
    }
   ],
   "source": [
    "print(\"The correlation is {:.2f}\".format(final_ds[\"%_hispanic\"].corr(final_ds[\"%_poverty\"])))\n",
    "plt.scatter(final_ds[\"%_hispanic\"],final_ds[\"%_poverty\"],alpha = 0.3)\n",
    "plt.xlabel(\"Hispanic Percentage\")\n",
    "plt.ylabel(\"Poverty\")"
   ]
  },
  {
   "cell_type": "code",
   "execution_count": 11,
   "id": "impossible-dispatch",
   "metadata": {},
   "outputs": [
    {
     "name": "stdout",
     "output_type": "stream",
     "text": [
      "The correlation is 0.33\n"
     ]
    },
    {
     "data": {
      "text/plain": [
       "Text(0, 0.5, 'Poverty')"
      ]
     },
     "execution_count": 11,
     "metadata": {},
     "output_type": "execute_result"
    },
    {
     "data": {
      "image/png": "[encoded data removed]",
      "text/plain": [
       "<Figure size 432x288 with 1 Axes>"
      ]
     },
     "metadata": {
      "needs_background": "light"
     },
     "output_type": "display_data"
    }
   ],
   "source": [
    "print(\"The correlation is {:.2f}\".format(final_ds[\"%_black\"].corr(final_ds[\"%_poverty\"])))\n",
    "plt.scatter(final_ds[\"%_black\"],final_ds[\"%_poverty\"],alpha = 0.3)\n",
    "plt.xlabel(\"Black Percentage\")\n",
    "plt.ylabel(\"Poverty\")"
   ]
  },
  {
   "cell_type": "code",
   "execution_count": 12,
   "id": "industrial-allowance",
   "metadata": {},
   "outputs": [
    {
     "name": "stdout",
     "output_type": "stream",
     "text": [
      "The correlation is 0.26\n"
     ]
    },
    {
     "data": {
      "image/png": "[encoded data removed]",
      "text/plain": [
       "<Figure size 432x288 with 1 Axes>"
      ]
     },
     "metadata": {
      "needs_background": "light"
     },
     "output_type": "display_data"
    }
   ],
   "source": [
    "by_bronx = final_ds.loc[final_ds[\"borough\"] == \"Bronx\"]\n",
    "le_bronx = by_bronx.groupby(\"borough_and_district_#\").mean()\n",
    "\n",
    "print(\"The correlation is {:.2f}\".format(le_bronx[\"#_total_students\"].corr(le_bronx[\"%_students_in_temporary_housing\"])))\n",
    "\n",
    "plt.scatter(le_bronx[\"#_total_students\"], le_bronx[\"%_students_in_temporary_housing\"])#, labels = \"borough_and_district_#\")\n",
    "plt.xlabel(\"Total student population in each school\")\n",
    "plt.ylabel(\"Percent of students in Temporary Housing\")\n",
    "plt.title(\"Bronx\")\n",
    "plt.show()\n"
   ]
  },
  {
   "cell_type": "code",
   "execution_count": 13,
   "id": "extended-element",
   "metadata": {},
   "outputs": [
    {
     "name": "stdout",
     "output_type": "stream",
     "text": [
      "The correlation is -0.73\n"
     ]
    },
    {
     "data": {
      "image/png": "[encoded data removed]",
      "text/plain": [
       "<Figure size 432x288 with 1 Axes>"
      ]
     },
     "metadata": {
      "needs_background": "light"
     },
     "output_type": "display_data"
    }
   ],
   "source": [
    "by_brooklyn = final_ds.loc[final_ds[\"borough\"] == \"Brooklyn\"]\n",
    "le_brooklyn = by_brooklyn.groupby(\"borough_and_district_#\").mean()\n",
    "\n",
    "print(\"The correlation is {:.2f}\".format(le_brooklyn[\"#_total_students\"].corr(le_brooklyn[\"%_students_in_temporary_housing\"])))\n",
    "\n",
    "\n",
    "plt.scatter(le_brooklyn[\"#_total_students\"], le_brooklyn[\"%_students_in_temporary_housing\"])#, labels = \"borough_and_district_#\")\n",
    "plt.xlabel(\"Total student population in each school\")\n",
    "plt.ylabel(\"Percent of students in Temporary Housing\")\n",
    "plt.title(\"Brooklyn\")\n",
    "plt.show()\n"
   ]
  },
  {
   "cell_type": "code",
   "execution_count": 14,
   "id": "authentic-oakland",
   "metadata": {},
   "outputs": [
    {
     "name": "stdout",
     "output_type": "stream",
     "text": [
      "The correlation is 0.08\n"
     ]
    },
    {
     "data": {
      "image/png": "[encoded data removed]",
      "text/plain": [
       "<Figure size 432x288 with 1 Axes>"
      ]
     },
     "metadata": {
      "needs_background": "light"
     },
     "output_type": "display_data"
    }
   ],
   "source": [
    "by_manhattan = final_ds.loc[final_ds[\"borough\"] == \"Manhattan\"]\n",
    "le_manhattan = by_manhattan.groupby(\"borough_and_district_#\").mean()\n",
    "print(\"The correlation is {:.2f}\".format(le_manhattan[\"#_total_students\"].corr(le_manhattan[\"%_students_in_temporary_housing\"])))\n",
    "\n",
    "plt.scatter(le_manhattan[\"#_total_students\"], le_manhattan[\"%_students_in_temporary_housing\"])#, labels = \"borough_and_district_#\")\n",
    "plt.xlabel(\"Total student population in each school\")\n",
    "plt.ylabel(\"Percent of students in Temporary Housing\")\n",
    "plt.title(\"Manhattan\")\n",
    "plt.show()\n"
   ]
  },
  {
   "cell_type": "code",
   "execution_count": 15,
   "id": "dedicated-amplifier",
   "metadata": {},
   "outputs": [
    {
     "name": "stdout",
     "output_type": "stream",
     "text": [
      "The correlation is 0.81\n"
     ]
    },
    {
     "data": {
      "image/png": "[encoded data removed]",
      "text/plain": [
       "<Figure size 432x288 with 1 Axes>"
      ]
     },
     "metadata": {
      "needs_background": "light"
     },
     "output_type": "display_data"
    }
   ],
   "source": [
    "by_queens = final_ds.loc[final_ds[\"borough\"] == \"Queens\"]\n",
    "le_queens = by_queens.groupby(\"borough_and_district_#\").mean()\n",
    "print(\"The correlation is {:.2f}\".format(le_queens[\"#_total_students\"].corr(le_queens[\"%_students_in_temporary_housing\"])))\n",
    "plt.scatter(le_queens[\"#_total_students\"], le_queens[\"%_students_in_temporary_housing\"])#, labels = \"borough_and_district_#\")\n",
    "plt.xlabel(\"Total student population in each school\")\n",
    "plt.ylabel(\"Percent of students in Temporary Housing\")\n",
    "plt.title(\"Queens\")\n",
    "plt.show()\n"
   ]
  },
  {
   "cell_type": "code",
   "execution_count": 16,
   "id": "scenic-techno",
   "metadata": {},
   "outputs": [
    {
     "data": {
      "image/png": "[encoded data removed]",
      "text/plain": [
       "<Figure size 432x288 with 1 Axes>"
      ]
     },
     "metadata": {
      "needs_background": "light"
     },
     "output_type": "display_data"
    }
   ],
   "source": [
    "by_SI = final_ds.loc[final_ds[\"borough\"] == \"Staten Island\"]\n",
    "le_SI = by_SI.groupby(\"borough_and_district_#\").sum()\n",
    "plt.scatter(le_SI[\"#_total_students\"], le_SI[\"%_students_in_temporary_housing\"])\n",
    "plt.xlabel(\"Total student population in district\")\n",
    "plt.ylabel(\"Percent of students in Temporary Housing\")\n",
    "plt.title(\"Staten Island\")\n",
    "plt.show()"
   ]
  }
 ],
 "metadata": {
  "kernelspec": {
   "display_name": "Python 3",
   "language": "python",
   "name": "python3"
  },
  "language_info": {
   "codemirror_mode": {
    "name": "ipython",
    "version": 3
   },
   "file_extension": ".py",
   "mimetype": "text/x-python",
   "name": "python",
   "nbconvert_exporter": "python",
   "pygments_lexer": "ipython3",
   "version": "3.7.10"
  }
 },
 "nbformat": 4,
 "nbformat_minor": 5
}
