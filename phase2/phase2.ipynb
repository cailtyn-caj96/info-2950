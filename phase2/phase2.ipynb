{
 "cells": [
  {
   "cell_type": "markdown",
   "metadata": {},
   "source": [
    "## Phase II\n"
   ]
  },
  {
   "cell_type": "markdown",
   "metadata": {},
   "source": [
    "### Data Collection and Cleaning"
   ]
  },
  {
   "cell_type": "code",
   "execution_count": 1,
   "metadata": {},
   "outputs": [],
   "source": [
    "## load libraries\n",
    "import pandas as pd\n",
    "import numpy as np\n",
    "import matplotlib.pyplot as plt\n",
    "from scipy import stats\n",
    "\n",
    "## load data\n",
    "school_data = pd.read_csv(\"Ny_School.csv\")\n",
    "housing_data = pd.read_csv(\"Student_Temp_Housing.csv\")\n"
   ]
  },
  {
   "cell_type": "markdown",
   "metadata": {},
   "source": [
    "#### Renaming Columns"
   ]
  },
  {
   "cell_type": "code",
   "execution_count": 2,
   "metadata": {},
   "outputs": [],
   "source": [
    "new_colnames = []\n",
    "for col in school_data.columns:\n",
    "    new_colnames.append(col.lower())\n",
    "    \n",
    "new_colnames_2 = []\n",
    "for col in housing_data.columns:\n",
    "    new_colnames_2.append(col.lower())\n",
    "    \n",
    "    "
   ]
  },
  {
   "cell_type": "code",
   "execution_count": 3,
   "metadata": {},
   "outputs": [
    {
     "name": "stdout",
     "output_type": "stream",
     "text": [
      "['dbn', 'school_name', 'year', 'total_enrollment', 'grade_pk_(half_day_&_full_day)', 'grade_k', 'grade_1', 'grade_2', 'grade_3', 'grade_4', 'grade_5', 'grade_6', 'grade_7', 'grade_8', 'grade_9', 'grade_10', 'grade_11', 'grade_12', '#_female', '%_female', '#_male', '%_male', '#_asian', '%_asian', '#_black', '%_black', '#_hispanic', '%_hispanic', '#_multiple_race_categories_not_represented', '%_multiple_race_categories_not_represented', '#_white', '%_white', '#_students_with_disabilities', '%_students_with_disabilities', '#_english_language_learners', '%_english_language_learners', '#_poverty', '%_poverty', 'economic_need_index']\n",
      "['dbn', 'school_name', '#_total_students', '#_students_in_temporary_housing', '%_students_in_temporary_housing', '#_students_residing_in_shelter', '#_residing_in_dhs_shelter', '#_residing_in_non-dhs_shelter', '#_doubled_up']\n"
     ]
    }
   ],
   "source": [
    "for col in range(len(new_colnames)):\n",
    "    new_colnames[col] = new_colnames[col].replace(\" \", \"_\")\n",
    "print (new_colnames)\n",
    "\n",
    "sdata = school_data.copy()\n",
    "sdata.columns = new_colnames\n",
    "\n",
    "for col in range(len(new_colnames_2)):\n",
    "    new_colnames_2[col] = new_colnames_2[col].replace(\" \", \"_\")\n",
    "print (new_colnames_2)\n",
    "\n",
    "sdata = school_data.copy()\n",
    "sdata.columns = new_colnames\n",
    "\n",
    "hdata = housing_data.copy()\n",
    "hdata.columns = new_colnames_2\n",
    "\n",
    "\n",
    "\n",
    "\n",
    "\n"
   ]
  },
  {
   "cell_type": "markdown",
   "metadata": {},
   "source": [
    "First we renamed all the columns in order to make them easier to work with by making all the letters lower-cased and replacing spaces with underscores. "
   ]
  },
  {
   "cell_type": "markdown",
   "metadata": {},
   "source": [
    "#### Dropping Columns"
   ]
  },
  {
   "cell_type": "code",
   "execution_count": 4,
   "metadata": {},
   "outputs": [
    {
     "data": {
      "text/html": [
       "<div>\n",
       "<style scoped>\n",
       "    .dataframe tbody tr th:only-of-type {\n",
       "        vertical-align: middle;\n",
       "    }\n",
       "\n",
       "    .dataframe tbody tr th {\n",
       "        vertical-align: top;\n",
       "    }\n",
       "\n",
       "    .dataframe thead th {\n",
       "        text-align: right;\n",
       "    }\n",
       "</style>\n",
       "<table border=\"1\" class=\"dataframe\">\n",
       "  <thead>\n",
       "    <tr style=\"text-align: right;\">\n",
       "      <th></th>\n",
       "      <th>dbn</th>\n",
       "      <th>school_name</th>\n",
       "      <th>year</th>\n",
       "      <th>%_asian</th>\n",
       "      <th>%_black</th>\n",
       "      <th>%_hispanic</th>\n",
       "      <th>%_white</th>\n",
       "      <th>%_poverty</th>\n",
       "    </tr>\n",
       "  </thead>\n",
       "  <tbody>\n",
       "    <tr>\n",
       "      <th>0</th>\n",
       "      <td>01M015</td>\n",
       "      <td>P.S. 015 Roberto Clemente</td>\n",
       "      <td>2014-15</td>\n",
       "      <td>0.044</td>\n",
       "      <td>0.355</td>\n",
       "      <td>0.585</td>\n",
       "      <td>0.011</td>\n",
       "      <td>0.923</td>\n",
       "    </tr>\n",
       "    <tr>\n",
       "      <th>1</th>\n",
       "      <td>01M015</td>\n",
       "      <td>P.S. 015 Roberto Clemente</td>\n",
       "      <td>2015-16</td>\n",
       "      <td>0.051</td>\n",
       "      <td>0.324</td>\n",
       "      <td>0.597</td>\n",
       "      <td>0.011</td>\n",
       "      <td>0.847</td>\n",
       "    </tr>\n",
       "    <tr>\n",
       "      <th>2</th>\n",
       "      <td>01M015</td>\n",
       "      <td>P.S. 015 Roberto Clemente</td>\n",
       "      <td>2016-17</td>\n",
       "      <td>0.079</td>\n",
       "      <td>0.287</td>\n",
       "      <td>0.590</td>\n",
       "      <td>0.022</td>\n",
       "      <td>0.854</td>\n",
       "    </tr>\n",
       "    <tr>\n",
       "      <th>3</th>\n",
       "      <td>01M015</td>\n",
       "      <td>P.S. 015 Roberto Clemente</td>\n",
       "      <td>2017-18</td>\n",
       "      <td>0.105</td>\n",
       "      <td>0.274</td>\n",
       "      <td>0.579</td>\n",
       "      <td>0.032</td>\n",
       "      <td>0.847</td>\n",
       "    </tr>\n",
       "    <tr>\n",
       "      <th>4</th>\n",
       "      <td>01M015</td>\n",
       "      <td>P.S. 015 Roberto Clemente</td>\n",
       "      <td>2018-19</td>\n",
       "      <td>0.138</td>\n",
       "      <td>0.276</td>\n",
       "      <td>0.546</td>\n",
       "      <td>0.034</td>\n",
       "      <td>0.833</td>\n",
       "    </tr>\n",
       "  </tbody>\n",
       "</table>\n",
       "</div>"
      ],
      "text/plain": [
       "      dbn                school_name     year  %_asian  %_black  %_hispanic  \\\n",
       "0  01M015  P.S. 015 Roberto Clemente  2014-15    0.044    0.355       0.585   \n",
       "1  01M015  P.S. 015 Roberto Clemente  2015-16    0.051    0.324       0.597   \n",
       "2  01M015  P.S. 015 Roberto Clemente  2016-17    0.079    0.287       0.590   \n",
       "3  01M015  P.S. 015 Roberto Clemente  2017-18    0.105    0.274       0.579   \n",
       "4  01M015  P.S. 015 Roberto Clemente  2018-19    0.138    0.276       0.546   \n",
       "\n",
       "   %_white  %_poverty  \n",
       "0    0.011      0.923  \n",
       "1    0.011      0.847  \n",
       "2    0.022      0.854  \n",
       "3    0.032      0.847  \n",
       "4    0.034      0.833  "
      ]
     },
     "metadata": {},
     "output_type": "display_data"
    },
    {
     "data": {
      "text/html": [
       "<div>\n",
       "<style scoped>\n",
       "    .dataframe tbody tr th:only-of-type {\n",
       "        vertical-align: middle;\n",
       "    }\n",
       "\n",
       "    .dataframe tbody tr th {\n",
       "        vertical-align: top;\n",
       "    }\n",
       "\n",
       "    .dataframe thead th {\n",
       "        text-align: right;\n",
       "    }\n",
       "</style>\n",
       "<table border=\"1\" class=\"dataframe\">\n",
       "  <thead>\n",
       "    <tr style=\"text-align: right;\">\n",
       "      <th></th>\n",
       "      <th>dbn</th>\n",
       "      <th>school_name</th>\n",
       "      <th>%_students_in_temporary_housing</th>\n",
       "    </tr>\n",
       "  </thead>\n",
       "  <tbody>\n",
       "    <tr>\n",
       "      <th>0</th>\n",
       "      <td>01M015</td>\n",
       "      <td>P.S. 015 Roberto Clemente</td>\n",
       "      <td>0.36</td>\n",
       "    </tr>\n",
       "    <tr>\n",
       "      <th>1</th>\n",
       "      <td>01M019</td>\n",
       "      <td>P.S. 019 Asher Levy</td>\n",
       "      <td>0.12</td>\n",
       "    </tr>\n",
       "    <tr>\n",
       "      <th>2</th>\n",
       "      <td>01M020</td>\n",
       "      <td>P.S. 020 Anna Silver</td>\n",
       "      <td>0.19</td>\n",
       "    </tr>\n",
       "    <tr>\n",
       "      <th>3</th>\n",
       "      <td>01M034</td>\n",
       "      <td>P.S. 034 Franklin D. Roosevelt</td>\n",
       "      <td>0.24</td>\n",
       "    </tr>\n",
       "    <tr>\n",
       "      <th>4</th>\n",
       "      <td>01M063</td>\n",
       "      <td>The STAR Academy - P.S.63</td>\n",
       "      <td>0.25</td>\n",
       "    </tr>\n",
       "  </tbody>\n",
       "</table>\n",
       "</div>"
      ],
      "text/plain": [
       "      dbn                     school_name %_students_in_temporary_housing\n",
       "0  01M015       P.S. 015 Roberto Clemente                            0.36\n",
       "1  01M019             P.S. 019 Asher Levy                            0.12\n",
       "2  01M020            P.S. 020 Anna Silver                            0.19\n",
       "3  01M034  P.S. 034 Franklin D. Roosevelt                            0.24\n",
       "4  01M063       The STAR Academy - P.S.63                            0.25"
      ]
     },
     "metadata": {},
     "output_type": "display_data"
    }
   ],
   "source": [
    "sdata.drop(sdata.loc[:,[\"total_enrollment\", \"#_female\", \"%_female\", \"#_male\", \"%_male\", \"#_black\", \"#_white\", \"#_asian\", \"#_hispanic\", \"#_multiple_race_categories_not_represented\", \"#_students_with_disabilities\", \"#_english_language_learners\", \"%_students_with_disabilities\", \"#_poverty\", \"%_multiple_race_categories_not_represented\", \"%_english_language_learners\", \"economic_need_index\"]], inplace = True, axis = 1)\n",
    "sdata.drop(sdata.loc[:,[\"grade_pk_(half_day_&_full_day)\", 'grade_k', 'grade_1', 'grade_2', 'grade_3', 'grade_4', 'grade_5', 'grade_6', 'grade_7', 'grade_8', 'grade_9', 'grade_10', 'grade_11', 'grade_12']], inplace = True, axis = 1)\n",
    "display(sdata.head())\n",
    "\n",
    "hdata.drop(hdata.loc[:, ['#_total_students', '#_students_in_temporary_housing',  '#_students_residing_in_shelter', '#_residing_in_dhs_shelter', '#_residing_in_non-dhs_shelter', '#_doubled_up'  ]], inplace = True, axis = 1)\n",
    "hdata = hdata[hdata[\"%_students_in_temporary_housing\"] != \"s\"]\n",
    "display(hdata.head())"
   ]
  },
  {
   "cell_type": "markdown",
   "metadata": {},
   "source": [
    "Then, we dropped the columns we did not need, only keeping ones relative to our research question which involved keeping school demographic (race make-up) and poverty data. "
   ]
  },
  {
   "cell_type": "markdown",
   "metadata": {},
   "source": [
    "#### Adding Columns then Grouping"
   ]
  },
  {
   "cell_type": "code",
   "execution_count": 5,
   "metadata": {},
   "outputs": [
    {
     "data": {
      "text/html": [
       "<div>\n",
       "<style scoped>\n",
       "    .dataframe tbody tr th:only-of-type {\n",
       "        vertical-align: middle;\n",
       "    }\n",
       "\n",
       "    .dataframe tbody tr th {\n",
       "        vertical-align: top;\n",
       "    }\n",
       "\n",
       "    .dataframe thead th {\n",
       "        text-align: right;\n",
       "    }\n",
       "</style>\n",
       "<table border=\"1\" class=\"dataframe\">\n",
       "  <thead>\n",
       "    <tr style=\"text-align: right;\">\n",
       "      <th></th>\n",
       "      <th>borough_and_district_#</th>\n",
       "      <th>%_asian</th>\n",
       "      <th>%_black</th>\n",
       "      <th>%_hispanic</th>\n",
       "      <th>%_white</th>\n",
       "      <th>%_poverty</th>\n",
       "    </tr>\n",
       "  </thead>\n",
       "  <tbody>\n",
       "    <tr>\n",
       "      <th>0</th>\n",
       "      <td>Bronx 07</td>\n",
       "      <td>1.103</td>\n",
       "      <td>26.599</td>\n",
       "      <td>69.873</td>\n",
       "      <td>1.416</td>\n",
       "      <td>91.757</td>\n",
       "    </tr>\n",
       "    <tr>\n",
       "      <th>1</th>\n",
       "      <td>Bronx 08</td>\n",
       "      <td>5.043</td>\n",
       "      <td>24.280</td>\n",
       "      <td>64.119</td>\n",
       "      <td>5.174</td>\n",
       "      <td>81.420</td>\n",
       "    </tr>\n",
       "    <tr>\n",
       "      <th>2</th>\n",
       "      <td>Bronx 09</td>\n",
       "      <td>1.499</td>\n",
       "      <td>28.604</td>\n",
       "      <td>67.840</td>\n",
       "      <td>1.235</td>\n",
       "      <td>90.821</td>\n",
       "    </tr>\n",
       "    <tr>\n",
       "      <th>3</th>\n",
       "      <td>Bronx 10</td>\n",
       "      <td>4.407</td>\n",
       "      <td>17.523</td>\n",
       "      <td>72.217</td>\n",
       "      <td>4.409</td>\n",
       "      <td>85.258</td>\n",
       "    </tr>\n",
       "    <tr>\n",
       "      <th>4</th>\n",
       "      <td>Bronx 11</td>\n",
       "      <td>6.759</td>\n",
       "      <td>40.909</td>\n",
       "      <td>42.179</td>\n",
       "      <td>8.064</td>\n",
       "      <td>78.042</td>\n",
       "    </tr>\n",
       "  </tbody>\n",
       "</table>\n",
       "</div>"
      ],
      "text/plain": [
       "  borough_and_district_#  %_asian  %_black  %_hispanic  %_white  %_poverty\n",
       "0               Bronx 07    1.103   26.599      69.873    1.416     91.757\n",
       "1               Bronx 08    5.043   24.280      64.119    5.174     81.420\n",
       "2               Bronx 09    1.499   28.604      67.840    1.235     90.821\n",
       "3               Bronx 10    4.407   17.523      72.217    4.409     85.258\n",
       "4               Bronx 11    6.759   40.909      42.179    8.064     78.042"
      ]
     },
     "metadata": {},
     "output_type": "display_data"
    },
    {
     "data": {
      "text/html": [
       "<div>\n",
       "<style scoped>\n",
       "    .dataframe tbody tr th:only-of-type {\n",
       "        vertical-align: middle;\n",
       "    }\n",
       "\n",
       "    .dataframe tbody tr th {\n",
       "        vertical-align: top;\n",
       "    }\n",
       "\n",
       "    .dataframe thead th {\n",
       "        text-align: right;\n",
       "    }\n",
       "</style>\n",
       "<table border=\"1\" class=\"dataframe\">\n",
       "  <thead>\n",
       "    <tr style=\"text-align: right;\">\n",
       "      <th></th>\n",
       "      <th>borough_and_district_#</th>\n",
       "      <th>%_students_in_temporary_housing</th>\n",
       "    </tr>\n",
       "  </thead>\n",
       "  <tbody>\n",
       "    <tr>\n",
       "      <th>0</th>\n",
       "      <td>Bronx 07</td>\n",
       "      <td>18.000</td>\n",
       "    </tr>\n",
       "    <tr>\n",
       "      <th>1</th>\n",
       "      <td>Bronx 08</td>\n",
       "      <td>14.729</td>\n",
       "    </tr>\n",
       "    <tr>\n",
       "      <th>2</th>\n",
       "      <td>Bronx 09</td>\n",
       "      <td>21.070</td>\n",
       "    </tr>\n",
       "    <tr>\n",
       "      <th>3</th>\n",
       "      <td>Bronx 10</td>\n",
       "      <td>18.867</td>\n",
       "    </tr>\n",
       "    <tr>\n",
       "      <th>4</th>\n",
       "      <td>Bronx 11</td>\n",
       "      <td>11.879</td>\n",
       "    </tr>\n",
       "  </tbody>\n",
       "</table>\n",
       "</div>"
      ],
      "text/plain": [
       "  borough_and_district_#  %_students_in_temporary_housing\n",
       "0               Bronx 07                           18.000\n",
       "1               Bronx 08                           14.729\n",
       "2               Bronx 09                           21.070\n",
       "3               Bronx 10                           18.867\n",
       "4               Bronx 11                           11.879"
      ]
     },
     "metadata": {},
     "output_type": "display_data"
    }
   ],
   "source": [
    "def label_borough(col):\n",
    "    district_number = col['dbn'][0:2]\n",
    "    if col['dbn'].find(\"M\") == 2:\n",
    "      return 'Manhattan ' + district_number\n",
    "    if col['dbn'].find(\"K\") == 2:\n",
    "      return 'Brooklyn ' + district_number\n",
    "    if col['dbn'].find(\"X\") == 2 :\n",
    "      return 'Bronx ' + district_number\n",
    "    if col['dbn'].find(\"Q\") == 2:\n",
    "      return 'Queens ' + district_number\n",
    "    if col['dbn'].find(\"R\") == 2:\n",
    "      return 'Staten Island ' + district_number\n",
    "\n",
    "sdata['borough_and_district_#'] = sdata.apply (lambda col: label_borough(col), axis=1)\n",
    "sdata = sdata.groupby(['borough_and_district_#'], as_index=False).mean()\n",
    "\n",
    "sdata.iloc[:,1:6] = sdata.iloc[:,1:6].mul(100).round(3)\n",
    "display(sdata.head())\n",
    "\n",
    "hdata['borough_and_district_#'] = hdata.apply (lambda col: label_borough(col), axis=1)\n",
    "hdata[\"%_students_in_temporary_housing\"] = pd.to_numeric(hdata[\"%_students_in_temporary_housing\"])\n",
    "hdata = hdata.groupby(['borough_and_district_#'], as_index=False).mean()\n",
    "hdata.iloc[:,1] = hdata.iloc[:,1].mul(100).round(3)\n",
    "\n",
    "display(hdata.head())\n",
    "\n",
    "\n",
    "\n"
   ]
  },
  {
   "cell_type": "code",
   "execution_count": 6,
   "metadata": {},
   "outputs": [
    {
     "data": {
      "text/html": [
       "<div>\n",
       "<style scoped>\n",
       "    .dataframe tbody tr th:only-of-type {\n",
       "        vertical-align: middle;\n",
       "    }\n",
       "\n",
       "    .dataframe tbody tr th {\n",
       "        vertical-align: top;\n",
       "    }\n",
       "\n",
       "    .dataframe thead th {\n",
       "        text-align: right;\n",
       "    }\n",
       "</style>\n",
       "<table border=\"1\" class=\"dataframe\">\n",
       "  <thead>\n",
       "    <tr style=\"text-align: right;\">\n",
       "      <th></th>\n",
       "      <th>borough_and_district_#</th>\n",
       "      <th>%_asian</th>\n",
       "      <th>%_black</th>\n",
       "      <th>%_hispanic</th>\n",
       "      <th>%_white</th>\n",
       "      <th>%_poverty</th>\n",
       "      <th>%_students_in_temporary_housing</th>\n",
       "    </tr>\n",
       "  </thead>\n",
       "  <tbody>\n",
       "    <tr>\n",
       "      <th>0</th>\n",
       "      <td>Bronx 07</td>\n",
       "      <td>1.103</td>\n",
       "      <td>26.599</td>\n",
       "      <td>69.873</td>\n",
       "      <td>1.416</td>\n",
       "      <td>91.757</td>\n",
       "      <td>18.000</td>\n",
       "    </tr>\n",
       "    <tr>\n",
       "      <th>1</th>\n",
       "      <td>Bronx 08</td>\n",
       "      <td>5.043</td>\n",
       "      <td>24.280</td>\n",
       "      <td>64.119</td>\n",
       "      <td>5.174</td>\n",
       "      <td>81.420</td>\n",
       "      <td>14.729</td>\n",
       "    </tr>\n",
       "    <tr>\n",
       "      <th>2</th>\n",
       "      <td>Bronx 09</td>\n",
       "      <td>1.499</td>\n",
       "      <td>28.604</td>\n",
       "      <td>67.840</td>\n",
       "      <td>1.235</td>\n",
       "      <td>90.821</td>\n",
       "      <td>21.070</td>\n",
       "    </tr>\n",
       "    <tr>\n",
       "      <th>3</th>\n",
       "      <td>Bronx 10</td>\n",
       "      <td>4.407</td>\n",
       "      <td>17.523</td>\n",
       "      <td>72.217</td>\n",
       "      <td>4.409</td>\n",
       "      <td>85.258</td>\n",
       "      <td>18.867</td>\n",
       "    </tr>\n",
       "    <tr>\n",
       "      <th>4</th>\n",
       "      <td>Bronx 11</td>\n",
       "      <td>6.759</td>\n",
       "      <td>40.909</td>\n",
       "      <td>42.179</td>\n",
       "      <td>8.064</td>\n",
       "      <td>78.042</td>\n",
       "      <td>11.879</td>\n",
       "    </tr>\n",
       "  </tbody>\n",
       "</table>\n",
       "</div>"
      ],
      "text/plain": [
       "  borough_and_district_#  %_asian  %_black  %_hispanic  %_white  %_poverty  \\\n",
       "0               Bronx 07    1.103   26.599      69.873    1.416     91.757   \n",
       "1               Bronx 08    5.043   24.280      64.119    5.174     81.420   \n",
       "2               Bronx 09    1.499   28.604      67.840    1.235     90.821   \n",
       "3               Bronx 10    4.407   17.523      72.217    4.409     85.258   \n",
       "4               Bronx 11    6.759   40.909      42.179    8.064     78.042   \n",
       "\n",
       "   %_students_in_temporary_housing  \n",
       "0                           18.000  \n",
       "1                           14.729  \n",
       "2                           21.070  \n",
       "3                           18.867  \n",
       "4                           11.879  "
      ]
     },
     "execution_count": 6,
     "metadata": {},
     "output_type": "execute_result"
    }
   ],
   "source": [
    "inner_merge = pd.merge(sdata, hdata, on = \"borough_and_district_#\", how = \"inner\")\n",
    "inner_merge.head()"
   ]
  },
  {
   "cell_type": "markdown",
   "metadata": {},
   "source": [
    "In this section, we added a new column which was Borough and District # by writing a function which used substrings of the dbn number to find the borough and district each school fell under. Then, we grouped the data by the borough and district number and converted the decimals to percentages. "
   ]
  },
  {
   "cell_type": "markdown",
   "metadata": {},
   "source": [
    "## Data Explanation"
   ]
  },
  {
   "cell_type": "markdown",
   "metadata": {},
   "source": [
    "In the finalized dataset, the rows represent different boroughs and school districts within New York City. The columns make up different demographics, including percentage of Asian, Black, Hispanic, White, and other races, percentage of english language learners, percentage of students in poverty, and the overall economic need index of each school district. Poverty is measured by students who qualify for a free or reduced price lunch program or those eligible for Human Resources Administration benefits. The economic_need_index accounts for the percentage of students enrolled facing economic hardship. The original dataset (which was created by the department of education) was created in order to provide a glimpse of student enrollment and demographic data.The final, revised dataset was created in order to study relationships between districts, specific demographics, and their relationship to poverty levels in order to provide insight into potential redlining within New York City. The data was collected using multiple data sources, including the DOE's Audited Register, biographic data from the Automate the Schools (ATS) system, and the Location Code Generation and Management System (LCGMS). Due to the occasional missing demographic data and long-term-absent students not being accounted for, some of the enrollment numbers do not add up. The people surveyed (students within New York City) are probably aware that their demographic and free lunch status is recorded but this information does not affect the data. The original data set can be found here https://drive.google.com/drive/folders/1B8daIcWqa5voZ6YwI-Jy1ZA4WMcZJdzW?usp=sharing. \n"
   ]
  },
  {
   "cell_type": "markdown",
   "metadata": {},
   "source": [
    "## Data Limitations"
   ]
  },
  {
   "cell_type": "markdown",
   "metadata": {},
   "source": [
    "One significant limitation within the dataset is that only public schools are accounted for. The absense of private schools in the dataset results in inflated poverty and racial minority percentages for each district as private schools historically account for a higher level of wealthier and white students due to the tuition and prep needed to admitted. As a result, the minority percentages are a lot higher (Hispanic = 40.92%), when in reality white people make up the majority of NYC (42.73%)."
   ]
  },
  {
   "cell_type": "markdown",
   "metadata": {},
   "source": [
    "#### WORK ON!"
   ]
  },
  {
   "cell_type": "markdown",
   "metadata": {},
   "source": [
    "## Initial Analysis"
   ]
  },
  {
   "cell_type": "markdown",
   "metadata": {},
   "source": [
    "#### Mean values for Columns"
   ]
  },
  {
   "cell_type": "code",
   "execution_count": 7,
   "metadata": {},
   "outputs": [
    {
     "name": "stdout",
     "output_type": "stream",
     "text": [
      "The mean Asian enrollment percentage is 10.26\n",
      "The std of Asian enrollment percentage is 12.20\n",
      "\n",
      "\n",
      "The mean Black enrollment percentage is 34.90\n",
      "The std of Black enrollment percentage is 21.33\n",
      "\n",
      "\n",
      "The mean Hispanic enrollment percentage is 40.92\n",
      "The std of Hispanic enrollment percentage is 19.11\n",
      "\n",
      "\n",
      "The mean White enrollment percentage is 11.74\n",
      "The std of White enrollment percentage is 10.56\n",
      "\n",
      "\n",
      "The mean poverty percentage is 75.80\n",
      "The std of poverty percentage is 10.62\n",
      "\n",
      "\n"
     ]
    },
    {
     "ename": "KeyError",
     "evalue": "'economic_need_index'",
     "output_type": "error",
     "traceback": [
      "\u001b[0;31m---------------------------------------------------------------------------\u001b[0m",
      "\u001b[0;31mKeyError\u001b[0m                                  Traceback (most recent call last)",
      "\u001b[0;32m/opt/anaconda3/lib/python3.8/site-packages/pandas/core/indexes/base.py\u001b[0m in \u001b[0;36mget_loc\u001b[0;34m(self, key, method, tolerance)\u001b[0m\n\u001b[1;32m   2894\u001b[0m             \u001b[0;32mtry\u001b[0m\u001b[0;34m:\u001b[0m\u001b[0;34m\u001b[0m\u001b[0;34m\u001b[0m\u001b[0m\n\u001b[0;32m-> 2895\u001b[0;31m                 \u001b[0;32mreturn\u001b[0m \u001b[0mself\u001b[0m\u001b[0;34m.\u001b[0m\u001b[0m_engine\u001b[0m\u001b[0;34m.\u001b[0m\u001b[0mget_loc\u001b[0m\u001b[0;34m(\u001b[0m\u001b[0mcasted_key\u001b[0m\u001b[0;34m)\u001b[0m\u001b[0;34m\u001b[0m\u001b[0;34m\u001b[0m\u001b[0m\n\u001b[0m\u001b[1;32m   2896\u001b[0m             \u001b[0;32mexcept\u001b[0m \u001b[0mKeyError\u001b[0m \u001b[0;32mas\u001b[0m \u001b[0merr\u001b[0m\u001b[0;34m:\u001b[0m\u001b[0;34m\u001b[0m\u001b[0;34m\u001b[0m\u001b[0m\n",
      "\u001b[0;32mpandas/_libs/index.pyx\u001b[0m in \u001b[0;36mpandas._libs.index.IndexEngine.get_loc\u001b[0;34m()\u001b[0m\n",
      "\u001b[0;32mpandas/_libs/index.pyx\u001b[0m in \u001b[0;36mpandas._libs.index.IndexEngine.get_loc\u001b[0;34m()\u001b[0m\n",
      "\u001b[0;32mpandas/_libs/hashtable_class_helper.pxi\u001b[0m in \u001b[0;36mpandas._libs.hashtable.PyObjectHashTable.get_item\u001b[0;34m()\u001b[0m\n",
      "\u001b[0;32mpandas/_libs/hashtable_class_helper.pxi\u001b[0m in \u001b[0;36mpandas._libs.hashtable.PyObjectHashTable.get_item\u001b[0;34m()\u001b[0m\n",
      "\u001b[0;31mKeyError\u001b[0m: 'economic_need_index'",
      "\nThe above exception was the direct cause of the following exception:\n",
      "\u001b[0;31mKeyError\u001b[0m                                  Traceback (most recent call last)",
      "\u001b[0;32m<ipython-input-7-848e5149945b>\u001b[0m in \u001b[0;36m<module>\u001b[0;34m\u001b[0m\n\u001b[1;32m     19\u001b[0m \u001b[0mprint\u001b[0m\u001b[0;34m(\u001b[0m\u001b[0;34m\"\\n\"\u001b[0m\u001b[0;34m)\u001b[0m\u001b[0;34m\u001b[0m\u001b[0;34m\u001b[0m\u001b[0m\n\u001b[1;32m     20\u001b[0m \u001b[0;34m\u001b[0m\u001b[0m\n\u001b[0;32m---> 21\u001b[0;31m \u001b[0mprint\u001b[0m\u001b[0;34m(\u001b[0m\u001b[0;34m\"The mean economic need index is {:.2f}\"\u001b[0m\u001b[0;34m.\u001b[0m\u001b[0mformat\u001b[0m\u001b[0;34m(\u001b[0m\u001b[0msdata\u001b[0m\u001b[0;34m[\u001b[0m\u001b[0;34m\"economic_need_index\"\u001b[0m\u001b[0;34m]\u001b[0m\u001b[0;34m.\u001b[0m\u001b[0mmean\u001b[0m\u001b[0;34m(\u001b[0m\u001b[0;34m)\u001b[0m\u001b[0;34m)\u001b[0m\u001b[0;34m)\u001b[0m\u001b[0;34m\u001b[0m\u001b[0;34m\u001b[0m\u001b[0m\n\u001b[0m\u001b[1;32m     22\u001b[0m \u001b[0mprint\u001b[0m\u001b[0;34m(\u001b[0m\u001b[0;34m\"The std of economic need index is {:.2f}\"\u001b[0m\u001b[0;34m.\u001b[0m\u001b[0mformat\u001b[0m\u001b[0;34m(\u001b[0m\u001b[0msdata\u001b[0m\u001b[0;34m[\u001b[0m\u001b[0;34m\"economic_need_index\"\u001b[0m\u001b[0;34m]\u001b[0m\u001b[0;34m.\u001b[0m\u001b[0mstd\u001b[0m\u001b[0;34m(\u001b[0m\u001b[0;34m)\u001b[0m\u001b[0;34m)\u001b[0m\u001b[0;34m)\u001b[0m\u001b[0;34m\u001b[0m\u001b[0;34m\u001b[0m\u001b[0m\n\u001b[1;32m     23\u001b[0m \u001b[0mprint\u001b[0m\u001b[0;34m(\u001b[0m\u001b[0;34m\"\\n\"\u001b[0m\u001b[0;34m)\u001b[0m\u001b[0;34m\u001b[0m\u001b[0;34m\u001b[0m\u001b[0m\n",
      "\u001b[0;32m/opt/anaconda3/lib/python3.8/site-packages/pandas/core/frame.py\u001b[0m in \u001b[0;36m__getitem__\u001b[0;34m(self, key)\u001b[0m\n\u001b[1;32m   2900\u001b[0m             \u001b[0;32mif\u001b[0m \u001b[0mself\u001b[0m\u001b[0;34m.\u001b[0m\u001b[0mcolumns\u001b[0m\u001b[0;34m.\u001b[0m\u001b[0mnlevels\u001b[0m \u001b[0;34m>\u001b[0m \u001b[0;36m1\u001b[0m\u001b[0;34m:\u001b[0m\u001b[0;34m\u001b[0m\u001b[0;34m\u001b[0m\u001b[0m\n\u001b[1;32m   2901\u001b[0m                 \u001b[0;32mreturn\u001b[0m \u001b[0mself\u001b[0m\u001b[0;34m.\u001b[0m\u001b[0m_getitem_multilevel\u001b[0m\u001b[0;34m(\u001b[0m\u001b[0mkey\u001b[0m\u001b[0;34m)\u001b[0m\u001b[0;34m\u001b[0m\u001b[0;34m\u001b[0m\u001b[0m\n\u001b[0;32m-> 2902\u001b[0;31m             \u001b[0mindexer\u001b[0m \u001b[0;34m=\u001b[0m \u001b[0mself\u001b[0m\u001b[0;34m.\u001b[0m\u001b[0mcolumns\u001b[0m\u001b[0;34m.\u001b[0m\u001b[0mget_loc\u001b[0m\u001b[0;34m(\u001b[0m\u001b[0mkey\u001b[0m\u001b[0;34m)\u001b[0m\u001b[0;34m\u001b[0m\u001b[0;34m\u001b[0m\u001b[0m\n\u001b[0m\u001b[1;32m   2903\u001b[0m             \u001b[0;32mif\u001b[0m \u001b[0mis_integer\u001b[0m\u001b[0;34m(\u001b[0m\u001b[0mindexer\u001b[0m\u001b[0;34m)\u001b[0m\u001b[0;34m:\u001b[0m\u001b[0;34m\u001b[0m\u001b[0;34m\u001b[0m\u001b[0m\n\u001b[1;32m   2904\u001b[0m                 \u001b[0mindexer\u001b[0m \u001b[0;34m=\u001b[0m \u001b[0;34m[\u001b[0m\u001b[0mindexer\u001b[0m\u001b[0;34m]\u001b[0m\u001b[0;34m\u001b[0m\u001b[0;34m\u001b[0m\u001b[0m\n",
      "\u001b[0;32m/opt/anaconda3/lib/python3.8/site-packages/pandas/core/indexes/base.py\u001b[0m in \u001b[0;36mget_loc\u001b[0;34m(self, key, method, tolerance)\u001b[0m\n\u001b[1;32m   2895\u001b[0m                 \u001b[0;32mreturn\u001b[0m \u001b[0mself\u001b[0m\u001b[0;34m.\u001b[0m\u001b[0m_engine\u001b[0m\u001b[0;34m.\u001b[0m\u001b[0mget_loc\u001b[0m\u001b[0;34m(\u001b[0m\u001b[0mcasted_key\u001b[0m\u001b[0;34m)\u001b[0m\u001b[0;34m\u001b[0m\u001b[0;34m\u001b[0m\u001b[0m\n\u001b[1;32m   2896\u001b[0m             \u001b[0;32mexcept\u001b[0m \u001b[0mKeyError\u001b[0m \u001b[0;32mas\u001b[0m \u001b[0merr\u001b[0m\u001b[0;34m:\u001b[0m\u001b[0;34m\u001b[0m\u001b[0;34m\u001b[0m\u001b[0m\n\u001b[0;32m-> 2897\u001b[0;31m                 \u001b[0;32mraise\u001b[0m \u001b[0mKeyError\u001b[0m\u001b[0;34m(\u001b[0m\u001b[0mkey\u001b[0m\u001b[0;34m)\u001b[0m \u001b[0;32mfrom\u001b[0m \u001b[0merr\u001b[0m\u001b[0;34m\u001b[0m\u001b[0;34m\u001b[0m\u001b[0m\n\u001b[0m\u001b[1;32m   2898\u001b[0m \u001b[0;34m\u001b[0m\u001b[0m\n\u001b[1;32m   2899\u001b[0m         \u001b[0;32mif\u001b[0m \u001b[0mtolerance\u001b[0m \u001b[0;32mis\u001b[0m \u001b[0;32mnot\u001b[0m \u001b[0;32mNone\u001b[0m\u001b[0;34m:\u001b[0m\u001b[0;34m\u001b[0m\u001b[0;34m\u001b[0m\u001b[0m\n",
      "\u001b[0;31mKeyError\u001b[0m: 'economic_need_index'"
     ]
    }
   ],
   "source": [
    "print(\"The mean Asian enrollment percentage is {:.2f}\".format(sdata[\"%_asian\"].mean()))\n",
    "print(\"The std of Asian enrollment percentage is {:.2f}\".format(sdata[\"%_asian\"].std()))\n",
    "print(\"\\n\")\n",
    "\n",
    "print(\"The mean Black enrollment percentage is {:.2f}\".format(sdata[\"%_black\"].mean()))\n",
    "print(\"The std of Black enrollment percentage is {:.2f}\".format(sdata[\"%_black\"].std()))\n",
    "print(\"\\n\")\n",
    "\n",
    "print(\"The mean Hispanic enrollment percentage is {:.2f}\".format(sdata[\"%_hispanic\"].mean()))\n",
    "print(\"The std of Hispanic enrollment percentage is {:.2f}\".format(sdata[\"%_hispanic\"].std()))\n",
    "print(\"\\n\")\n",
    "\n",
    "print(\"The mean White enrollment percentage is {:.2f}\".format(sdata[\"%_white\"].mean()))\n",
    "print(\"The std of White enrollment percentage is {:.2f}\".format(sdata[\"%_white\"].std()))\n",
    "print(\"\\n\")\n",
    "\n",
    "print(\"The mean poverty percentage is {:.2f}\".format(sdata[\"%_poverty\"].mean()))\n",
    "print(\"The std of poverty percentage is {:.2f}\".format(sdata[\"%_poverty\"].std()))\n",
    "print(\"\\n\")\n",
    "\n",
    "print(\"The mean economic need index is {:.2f}\".format(sdata[\"economic_need_index\"].mean()))\n",
    "print(\"The std of economic need index is {:.2f}\".format(sdata[\"economic_need_index\"].std()))\n",
    "print(\"\\n\")\n",
    "\n"
   ]
  },
  {
   "cell_type": "markdown",
   "metadata": {},
   "source": [
    "#### Scatter Plots and Correlation"
   ]
  },
  {
   "cell_type": "code",
   "execution_count": null,
   "metadata": {},
   "outputs": [],
   "source": [
    "print(\"The correlation is {:.2f}\".format(sdata[\"%_white\"].corr(sdata[\"%_poverty\"])))\n",
    "plt.scatter(sdata[\"%_white\"],sdata[\"%_poverty\"],alpha = 0.3)\n",
    "plt.xlabel(\"White Percentage\")\n",
    "plt.ylabel(\"Poverty\")"
   ]
  },
  {
   "cell_type": "code",
   "execution_count": null,
   "metadata": {},
   "outputs": [],
   "source": [
    "print(\"The correlation is {:.2f}\".format(sdata[\"%_asian\"].corr(sdata[\"%_poverty\"])))\n",
    "plt.scatter(sdata[\"%_asian\"],sdata[\"%_poverty\"],alpha = 0.3)\n",
    "plt.xlabel(\"Asian Percentage\")\n",
    "plt.ylabel(\"Poverty\")"
   ]
  },
  {
   "cell_type": "code",
   "execution_count": null,
   "metadata": {},
   "outputs": [],
   "source": [
    "print(\"The correlation is {:.2f}\".format(sdata[\"%_hispanic\"].corr(sdata[\"%_poverty\"])))\n",
    "plt.scatter(sdata[\"%_hispanic\"],sdata[\"%_poverty\"],alpha = 0.3)\n",
    "plt.xlabel(\"Hispanic Percentage\")\n",
    "plt.ylabel(\"Poverty\")"
   ]
  },
  {
   "cell_type": "code",
   "execution_count": null,
   "metadata": {},
   "outputs": [],
   "source": [
    "print(\"The correlation is {:.2f}\".format(sdata[\"%_black\"].corr(sdata[\"%_poverty\"])))\n",
    "plt.scatter(sdata[\"%_black\"],sdata[\"%_poverty\"],alpha = 0.3)\n",
    "plt.xlabel(\"Black Percentage\")\n",
    "plt.ylabel(\"Poverty\")"
   ]
  },
  {
   "cell_type": "code",
   "execution_count": null,
   "metadata": {},
   "outputs": [],
   "source": []
  }
 ],
 "metadata": {
  "kernelspec": {
   "display_name": "Python 3",
   "language": "python",
   "name": "python3"
  },
  "language_info": {
   "codemirror_mode": {
    "name": "ipython",
    "version": 3
   },
   "file_extension": ".py",
   "mimetype": "text/x-python",
   "name": "python",
   "nbconvert_exporter": "python",
   "pygments_lexer": "ipython3",
   "version": "3.8.5"
  }
 },
 "nbformat": 4,
 "nbformat_minor": 5
}
