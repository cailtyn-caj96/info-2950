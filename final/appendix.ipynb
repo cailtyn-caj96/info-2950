{
 "cells": [
  {
   "cell_type": "markdown",
   "metadata": {},
   "source": [
    "## Apendix\n",
    "In this appendix, one will find the data that did not quite fit into the final project.\n",
    "\n",
    "Listed first is the health data that was not used because there was no clear way to combine the data sets. The health data had no column district, so it could not overlap with the other datasets. Therefore this data had to be scratched; however, it still makes for a compelling case on how poverty and inequalities in New York City affect a person's access to healthcare. This first section is the data cleaning."
   ]
  },
  {
   "cell_type": "code",
   "execution_count": 22,
   "metadata": {},
   "outputs": [],
   "source": [
    "import numpy as np\n",
    "import matplotlib.pyplot as plt\n",
    "import pandas as pd\n",
    "from scipy import stats\n",
    "import seaborn as sns\n",
    "from sklearn.linear_model import LinearRegression\n",
    "import statsmodels.formula.api as smf\n",
    "from sklearn.metrics import r2_score\n",
    "from sklearn.cluster import KMeans"
   ]
  },
  {
   "cell_type": "code",
   "execution_count": 23,
   "metadata": {},
   "outputs": [
    {
     "name": "stdout",
     "output_type": "stream",
     "text": [
      "(8253, 152)\n"
     ]
    },
    {
     "data": {
      "text/html": [
       "<div>\n",
       "<style scoped>\n",
       "    .dataframe tbody tr th:only-of-type {\n",
       "        vertical-align: middle;\n",
       "    }\n",
       "\n",
       "    .dataframe tbody tr th {\n",
       "        vertical-align: top;\n",
       "    }\n",
       "\n",
       "    .dataframe thead th {\n",
       "        text-align: right;\n",
       "    }\n",
       "</style>\n",
       "<table border=\"1\" class=\"dataframe\">\n",
       "  <thead>\n",
       "    <tr style=\"text-align: right;\">\n",
       "      <th></th>\n",
       "      <th>insured</th>\n",
       "      <th>generalhealth</th>\n",
       "      <th>seen_a_doctor_in_12months?</th>\n",
       "      <th>primary_doctor</th>\n",
       "      <th>didnt_get_care</th>\n",
       "      <th>employed</th>\n",
       "      <th>who_insures_you</th>\n",
       "      <th>birthsex</th>\n",
       "      <th>below_poverty</th>\n",
       "      <th>fluvaccineshot</th>\n",
       "      <th>revieved_hepatatis_vaccine</th>\n",
       "      <th>fruit_veggie_servings</th>\n",
       "    </tr>\n",
       "  </thead>\n",
       "  <tbody>\n",
       "    <tr>\n",
       "      <th>0</th>\n",
       "      <td>1.0</td>\n",
       "      <td>3.0</td>\n",
       "      <td>1.0</td>\n",
       "      <td>1.0</td>\n",
       "      <td>2.0</td>\n",
       "      <td>3.0</td>\n",
       "      <td>1.0</td>\n",
       "      <td>2.0</td>\n",
       "      <td>2</td>\n",
       "      <td>1.0</td>\n",
       "      <td>3.0</td>\n",
       "      <td>2.0</td>\n",
       "    </tr>\n",
       "    <tr>\n",
       "      <th>1</th>\n",
       "      <td>1.0</td>\n",
       "      <td>2.0</td>\n",
       "      <td>2.0</td>\n",
       "      <td>NaN</td>\n",
       "      <td>2.0</td>\n",
       "      <td>3.0</td>\n",
       "      <td>2.0</td>\n",
       "      <td>2.0</td>\n",
       "      <td>2</td>\n",
       "      <td>2.0</td>\n",
       "      <td>2.0</td>\n",
       "      <td>1.0</td>\n",
       "    </tr>\n",
       "    <tr>\n",
       "      <th>2</th>\n",
       "      <td>1.0</td>\n",
       "      <td>2.0</td>\n",
       "      <td>1.0</td>\n",
       "      <td>1.0</td>\n",
       "      <td>2.0</td>\n",
       "      <td>3.0</td>\n",
       "      <td>2.0</td>\n",
       "      <td>1.0</td>\n",
       "      <td>2</td>\n",
       "      <td>1.0</td>\n",
       "      <td>3.0</td>\n",
       "      <td>2.0</td>\n",
       "    </tr>\n",
       "    <tr>\n",
       "      <th>3</th>\n",
       "      <td>1.0</td>\n",
       "      <td>2.0</td>\n",
       "      <td>1.0</td>\n",
       "      <td>1.0</td>\n",
       "      <td>2.0</td>\n",
       "      <td>1.0</td>\n",
       "      <td>1.0</td>\n",
       "      <td>2.0</td>\n",
       "      <td>3</td>\n",
       "      <td>2.0</td>\n",
       "      <td>2.0</td>\n",
       "      <td>2.0</td>\n",
       "    </tr>\n",
       "    <tr>\n",
       "      <th>4</th>\n",
       "      <td>1.0</td>\n",
       "      <td>2.0</td>\n",
       "      <td>2.0</td>\n",
       "      <td>1.0</td>\n",
       "      <td>2.0</td>\n",
       "      <td>3.0</td>\n",
       "      <td>NaN</td>\n",
       "      <td>2.0</td>\n",
       "      <td>4</td>\n",
       "      <td>2.0</td>\n",
       "      <td>2.0</td>\n",
       "      <td>2.0</td>\n",
       "    </tr>\n",
       "  </tbody>\n",
       "</table>\n",
       "</div>"
      ],
      "text/plain": [
       "   insured  generalhealth  seen_a_doctor_in_12months?  primary_doctor  \\\n",
       "0      1.0            3.0                         1.0             1.0   \n",
       "1      1.0            2.0                         2.0             NaN   \n",
       "2      1.0            2.0                         1.0             1.0   \n",
       "3      1.0            2.0                         1.0             1.0   \n",
       "4      1.0            2.0                         2.0             1.0   \n",
       "\n",
       "   didnt_get_care  employed  who_insures_you  birthsex  below_poverty  \\\n",
       "0             2.0       3.0              1.0       2.0              2   \n",
       "1             2.0       3.0              2.0       2.0              2   \n",
       "2             2.0       3.0              2.0       1.0              2   \n",
       "3             2.0       1.0              1.0       2.0              3   \n",
       "4             2.0       3.0              NaN       2.0              4   \n",
       "\n",
       "   fluvaccineshot  revieved_hepatatis_vaccine  fruit_veggie_servings  \n",
       "0             1.0                         3.0                    2.0  \n",
       "1             2.0                         2.0                    1.0  \n",
       "2             1.0                         3.0                    2.0  \n",
       "3             2.0                         2.0                    2.0  \n",
       "4             2.0                         2.0                    2.0  "
      ]
     },
     "execution_count": 23,
     "metadata": {},
     "output_type": "execute_result"
    }
   ],
   "source": [
    "health = pd.read_csv('health.csv')\n",
    "health.head()\n",
    "print(health.shape)\n",
    "#grabbing columns from data set\n",
    "columns_we_want = [ \"insuredgateway19\",\"generalhealth\", \"visitnonpcp12m19\", \"pcp19\",\"didntgetcare19\",\"emp3\", \"insure5\",\"birthsex\",\"imputed_neighpovgroup4_1418\", \"fluvaccineshot\",\"everhepavaccine\",\"fruitveg19\"]\n",
    "health[columns_we_want]\n",
    "health = health[columns_we_want]\n",
    "#renaming columns\n",
    "health = health.rename(columns = {'insuredgateway19' : 'insured', 'visitnonpcp12m19' : 'seen_a_doctor_in_12months?', 'pcp19' : 'primary_doctor', 'insure5': 'who_insures_you','emp3': 'employed', 'imputed_neighpovgroup4_1418': 'below_poverty','fruitveg19':'fruit_veggie_servings','everhepavaccine': 'revieved_hepatatis_vaccine','didntgetcare19': 'didnt_get_care'})\n",
    "health.head()"
   ]
  },
  {
   "cell_type": "markdown",
   "metadata": {},
   "source": [
    "This part of the data cleaning was used to change the data from number representatations to categories with clearer meaning."
   ]
  },
  {
   "cell_type": "code",
   "execution_count": 24,
   "metadata": {},
   "outputs": [
    {
     "data": {
      "text/html": [
       "<div>\n",
       "<style scoped>\n",
       "    .dataframe tbody tr th:only-of-type {\n",
       "        vertical-align: middle;\n",
       "    }\n",
       "\n",
       "    .dataframe tbody tr th {\n",
       "        vertical-align: top;\n",
       "    }\n",
       "\n",
       "    .dataframe thead th {\n",
       "        text-align: right;\n",
       "    }\n",
       "</style>\n",
       "<table border=\"1\" class=\"dataframe\">\n",
       "  <thead>\n",
       "    <tr style=\"text-align: right;\">\n",
       "      <th></th>\n",
       "      <th>insured</th>\n",
       "      <th>generalhealth</th>\n",
       "      <th>seen_a_doctor_in_12months?</th>\n",
       "      <th>primary_doctor</th>\n",
       "      <th>didnt_get_care</th>\n",
       "      <th>employed</th>\n",
       "      <th>who_insures_you</th>\n",
       "      <th>birthsex</th>\n",
       "      <th>below_poverty</th>\n",
       "      <th>fluvaccineshot</th>\n",
       "      <th>revieved_hepatatis_vaccine</th>\n",
       "      <th>fruit_veggie_servings</th>\n",
       "    </tr>\n",
       "  </thead>\n",
       "  <tbody>\n",
       "    <tr>\n",
       "      <th>0</th>\n",
       "      <td>yes</td>\n",
       "      <td>3.0</td>\n",
       "      <td>1.0</td>\n",
       "      <td>yes</td>\n",
       "      <td>no</td>\n",
       "      <td>3.0</td>\n",
       "      <td>Private</td>\n",
       "      <td>2.0</td>\n",
       "      <td>10 - &lt;20%</td>\n",
       "      <td>1.0</td>\n",
       "      <td>3.0</td>\n",
       "      <td>2.0</td>\n",
       "    </tr>\n",
       "    <tr>\n",
       "      <th>1</th>\n",
       "      <td>yes</td>\n",
       "      <td>2.0</td>\n",
       "      <td>2.0</td>\n",
       "      <td>NaN</td>\n",
       "      <td>no</td>\n",
       "      <td>3.0</td>\n",
       "      <td>self-purchase</td>\n",
       "      <td>2.0</td>\n",
       "      <td>10 - &lt;20%</td>\n",
       "      <td>2.0</td>\n",
       "      <td>2.0</td>\n",
       "      <td>1.0</td>\n",
       "    </tr>\n",
       "    <tr>\n",
       "      <th>2</th>\n",
       "      <td>yes</td>\n",
       "      <td>2.0</td>\n",
       "      <td>1.0</td>\n",
       "      <td>yes</td>\n",
       "      <td>no</td>\n",
       "      <td>3.0</td>\n",
       "      <td>self-purchase</td>\n",
       "      <td>1.0</td>\n",
       "      <td>10 - &lt;20%</td>\n",
       "      <td>1.0</td>\n",
       "      <td>3.0</td>\n",
       "      <td>2.0</td>\n",
       "    </tr>\n",
       "    <tr>\n",
       "      <th>3</th>\n",
       "      <td>yes</td>\n",
       "      <td>2.0</td>\n",
       "      <td>1.0</td>\n",
       "      <td>yes</td>\n",
       "      <td>no</td>\n",
       "      <td>1.0</td>\n",
       "      <td>Private</td>\n",
       "      <td>2.0</td>\n",
       "      <td>20 - &lt;30%</td>\n",
       "      <td>2.0</td>\n",
       "      <td>2.0</td>\n",
       "      <td>2.0</td>\n",
       "    </tr>\n",
       "    <tr>\n",
       "      <th>4</th>\n",
       "      <td>yes</td>\n",
       "      <td>2.0</td>\n",
       "      <td>2.0</td>\n",
       "      <td>yes</td>\n",
       "      <td>no</td>\n",
       "      <td>3.0</td>\n",
       "      <td>NaN</td>\n",
       "      <td>2.0</td>\n",
       "      <td>30 - &lt;100% (very high)</td>\n",
       "      <td>2.0</td>\n",
       "      <td>2.0</td>\n",
       "      <td>2.0</td>\n",
       "    </tr>\n",
       "  </tbody>\n",
       "</table>\n",
       "</div>"
      ],
      "text/plain": [
       "  insured  generalhealth  seen_a_doctor_in_12months? primary_doctor  \\\n",
       "0     yes            3.0                         1.0            yes   \n",
       "1     yes            2.0                         2.0            NaN   \n",
       "2     yes            2.0                         1.0            yes   \n",
       "3     yes            2.0                         1.0            yes   \n",
       "4     yes            2.0                         2.0            yes   \n",
       "\n",
       "  didnt_get_care  employed who_insures_you  birthsex           below_poverty  \\\n",
       "0             no       3.0         Private       2.0               10 - <20%   \n",
       "1             no       3.0   self-purchase       2.0               10 - <20%   \n",
       "2             no       3.0   self-purchase       1.0               10 - <20%   \n",
       "3             no       1.0         Private       2.0               20 - <30%   \n",
       "4             no       3.0             NaN       2.0  30 - <100% (very high)   \n",
       "\n",
       "   fluvaccineshot  revieved_hepatatis_vaccine  fruit_veggie_servings  \n",
       "0             1.0                         3.0                    2.0  \n",
       "1             2.0                         2.0                    1.0  \n",
       "2             1.0                         3.0                    2.0  \n",
       "3             2.0                         2.0                    2.0  \n",
       "4             2.0                         2.0                    2.0  "
      ]
     },
     "metadata": {},
     "output_type": "display_data"
    }
   ],
   "source": [
    "#Renaming data points in below_poverty and other columns I am preforming analysis on so that the data is understandable to the user. \n",
    "health_copy1 = health.copy()\n",
    "health_copy1.loc[health_copy1.below_poverty == 1, \"below_poverty\"] = \"0 - <10% (low pov)%\"\n",
    "health_copy1.loc[health_copy1.below_poverty == 2, \"below_poverty\"] = \"10 - <20%\"\n",
    "health_copy1.loc[health_copy1.below_poverty == 3, \"below_poverty\"] = \"20 - <30%\"\n",
    "health_copy1.loc[health_copy1.below_poverty == 4, \"below_poverty\"] = \"30 - <100% (very high)\"\n",
    "\n",
    "health_copy1.loc[health_copy1.insured == 1, \"insured\"] = \"yes\"\n",
    "health_copy1.loc[health_copy1.insured == 2, \"insured\"] = \"no\"\n",
    "\n",
    "health_copy1.loc[health_copy1.primary_doctor == 1, \"primary_doctor\"] = \"yes\"\n",
    "health_copy1.loc[health_copy1.primary_doctor == 2, \"primary_doctor\"] = \"no\"\n",
    "\n",
    "health_copy1.loc[health_copy1.didnt_get_care == 1, \"didnt_get_care\"] = \"yes\"\n",
    "health_copy1.loc[health_copy1.didnt_get_care == 2, \"didnt_get_care\"] = \"no\"\n",
    "\n",
    "health_copy1.loc[health_copy1.who_insures_you == 1, \"who_insures_you\"] = \"Private\"\n",
    "health_copy1.loc[health_copy1.who_insures_you == 2, \"who_insures_you\"] = \"self-purchase\"\n",
    "health_copy1.loc[health_copy1.who_insures_you == 3, \"who_insures_you\"] = \"Medicare\"\n",
    "health_copy1.loc[health_copy1.who_insures_you == 4, \"who_insures_you\"] = \"Medicaid\"\n",
    "health_copy1.loc[health_copy1.who_insures_you == 4, \"who_insures_you\"] = \"Others\"\n",
    "health_copy1.loc[health_copy1.who_insures_you == 4, \"who_insures_you\"] = \"Uninsured\"\n",
    "\n",
    "\n",
    "display(health_copy1.head())"
   ]
  },
  {
   "cell_type": "markdown",
   "metadata": {},
   "source": [
    "This is the analysis that was performed using the health data set which showed how the percent below poverty affected accees to primary doctor, insurance, and one's ability to get care. "
   ]
  },
  {
   "cell_type": "code",
   "execution_count": 25,
   "metadata": {},
   "outputs": [
    {
     "data": {
      "text/plain": [
       "no     88.007313\n",
       "yes    11.992687\n",
       "Name: didnt_get_care, dtype: float64"
      ]
     },
     "metadata": {},
     "output_type": "display_data"
    },
    {
     "data": {
      "text/plain": [
       "yes    90.575916\n",
       "no      9.424084\n",
       "Name: insured, dtype: float64"
      ]
     },
     "metadata": {},
     "output_type": "display_data"
    },
    {
     "data": {
      "text/plain": [
       "yes    86.048495\n",
       "no     13.951505\n",
       "Name: primary_doctor, dtype: float64"
      ]
     },
     "metadata": {},
     "output_type": "display_data"
    },
    {
     "name": "stdout",
     "output_type": "stream",
     "text": [
      "below_poverty           primary_doctor\n",
      "0 - <10% (low pov)%     yes               89.892473\n",
      "                        no                10.107527\n",
      "10 - <20%               yes               86.506790\n",
      "                        no                13.493210\n",
      "20 - <30%               yes               84.615385\n",
      "                        no                15.384615\n",
      "30 - <100% (very high)  yes               82.873377\n",
      "                        no                17.126623\n",
      "Name: primary_doctor, dtype: float64\n",
      "below_poverty           insured\n",
      "0 - <10% (low pov)%     yes        94.408602\n",
      "                        no          5.591398\n",
      "10 - <20%               yes        91.601732\n",
      "                        no          8.398268\n",
      "20 - <30%               yes        88.568729\n",
      "                        no         11.431271\n",
      "30 - <100% (very high)  yes        86.812298\n",
      "                        no         13.187702\n",
      "Name: insured, dtype: float64\n",
      "below_poverty           didnt_get_care\n",
      "0 - <10% (low pov)%     no                90.021536\n",
      "                        yes                9.978464\n",
      "10 - <20%               no                88.940225\n",
      "                        yes               11.059775\n",
      "20 - <30%               no                87.269285\n",
      "                        yes               12.730715\n",
      "30 - <100% (very high)  no                84.385113\n",
      "                        yes               15.614887\n",
      "Name: didnt_get_care, dtype: float64\n"
     ]
    },
    {
     "data": {
      "text/plain": [
       "Text(0.5, 1.0, 'distribution of residents living in specific income neighborhoods')"
      ]
     },
     "execution_count": 25,
     "metadata": {},
     "output_type": "execute_result"
    },
    {
     "data": {
      "image/png": "[encoded data removed]",
      "text/plain": [
       "<Figure size 432x288 with 1 Axes>"
      ]
     },
     "metadata": {
      "needs_background": "light"
     },
     "output_type": "display_data"
    }
   ],
   "source": [
    "#shows the percent of ppl who are below poverty and their access to helathcare \n",
    "display(health_copy1.didnt_get_care.value_counts(normalize=True)*100)\n",
    "display(health_copy1.insured.value_counts(normalize=True)*100)\n",
    "display(health_copy1.primary_doctor.value_counts(normalize=True)*100)\n",
    "\n",
    "group_poverty2 = health_copy1.groupby('below_poverty').primary_doctor\n",
    "dr_poverty = group_poverty2.value_counts(normalize=True)*100\n",
    "print(dr_poverty)\n",
    "\n",
    "group_poverty = health_copy1.groupby('below_poverty').insured\n",
    "insured_poverty= group_poverty.value_counts(normalize=True)*100\n",
    "print(insured_poverty)\n",
    "\n",
    "group_poverty3 = health_copy1.groupby('below_poverty').didnt_get_care\n",
    "didnt_poverty = group_poverty3.value_counts(normalize=True)*100\n",
    "print(didnt_poverty)\n",
    "\n",
    "#histogram \n",
    "plt.hist(health_copy1['below_poverty'])\n",
    "plt.xlabel('% of residents below the poverty line',fontsize=10)\n",
    "plt.ylabel(\"#  of residents living in those neighborhoods\",fontsize=10)\n",
    "plt.title('distribution of residents living in specific income neighborhoods',fontsize=10)"
   ]
  },
  {
   "cell_type": "markdown",
   "metadata": {},
   "source": [
    "The next analysis also did not make it into the final project because there wasn't enough data to make accurate assumptions about the correlation # total students and the percent in temporary housing. Therefore, the data was turned into a bar graph instead."
   ]
  },
  {
   "cell_type": "code",
   "execution_count": 26,
   "metadata": {},
   "outputs": [],
   "source": [
    "final_ds = pd.read_csv('final_ds.csv')\n",
    "\n",
    "#Group by each burough so that each le_[borough] consists of its own neightborhood.\n",
    "by_bronx = final_ds.loc[final_ds[\"borough\"] == \"Bronx\"]\n",
    "le_bronx = by_bronx.groupby(\"borough_and_district_#\").mean()\n",
    "\n",
    "by_brooklyn = final_ds.loc[final_ds[\"borough\"] == \"Brooklyn\"]\n",
    "le_brooklyn = by_brooklyn.groupby(\"borough_and_district_#\").mean()\n",
    "\n",
    "by_manhattan = final_ds.loc[final_ds[\"borough\"] == \"Manhattan\"]\n",
    "le_manhattan = by_manhattan.groupby(\"borough_and_district_#\").mean()\n",
    "\n",
    "by_queens = final_ds.loc[final_ds[\"borough\"] == \"Queens\"]\n",
    "le_queens = by_queens.groupby(\"borough_and_district_#\").mean()\n",
    "\n",
    "by_SI = final_ds.loc[final_ds[\"borough\"] == \"Staten Island\"]\n",
    "le_SI = by_SI.groupby(\"borough_and_district_#\").mean()"
   ]
  },
  {
   "cell_type": "code",
   "execution_count": 27,
   "metadata": {},
   "outputs": [
    {
     "data": {
      "image/png": "[encoded data removed]",
      "text/plain": [
       "<Figure size 1332x756 with 6 Axes>"
      ]
     },
     "metadata": {
      "needs_background": "light"
     },
     "output_type": "display_data"
    },
    {
     "name": "stdout",
     "output_type": "stream",
     "text": [
      "The correlation is for Bronx is -0.43\n",
      "The correlation is for Brooklyn is -0.84\n",
      "The correlation is for Manhattan is -0.79\n",
      "The correlation is for Queens is -0.46\n",
      "There is no correlation for Staten Island because there is only one point\n"
     ]
    }
   ],
   "source": [
    "fig, axs = plt.subplots(2,3)\n",
    "fig.set_size_inches(18.5, 10.5)\n",
    "fig.suptitle('# of Students in Temporary Housing by # of Total Students')\n",
    "\n",
    "axs[0, 0].scatter(le_bronx[\"#_total_students\"], le_bronx[\"%_students_in_temporary_housing\"])\n",
    "axs[0, 0].set_title('Bronx')\n",
    "axs[0, 1].scatter(le_brooklyn[\"#_total_students\"], le_brooklyn[\"%_students_in_temporary_housing\"])\n",
    "axs[0, 1].set_title('Brooklyn')\n",
    "axs[0, 2].scatter(le_manhattan[\"#_total_students\"], le_manhattan[\"%_students_in_temporary_housing\"])\n",
    "axs[0, 2].set_title('Manhattan')\n",
    "axs[1, 0].scatter(le_queens[\"#_total_students\"], le_queens[\"%_students_in_temporary_housing\"])\n",
    "axs[1, 0].set_title('Queens')\n",
    "axs[1, 1].scatter(le_SI[\"#_total_students\"], le_SI[\"%_students_in_temporary_housing\"])\n",
    "axs[1, 1].set_title('Staten Island')\n",
    "\n",
    "plt.subplots_adjust(wspace=0.30, hspace=.30)\n",
    "for ax in axs.flat[:-1]:\n",
    "    ax.set(xlabel = \"# of total students\", ylabel='% in Temp Housing')   \n",
    "plt.show()\n",
    "\n",
    "print(\"The correlation is for Bronx is {:.2f}\".format(le_bronx[\"#_total_students\"].corr(le_bronx[\"%_students_in_temporary_housing\"])))\n",
    "print(\"The correlation is for Brooklyn is {:.2f}\".format(le_brooklyn[\"#_total_students\"].corr(le_brooklyn[\"%_students_in_temporary_housing\"])))\n",
    "print(\"The correlation is for Manhattan is {:.2f}\".format(le_manhattan[\"#_total_students\"].corr(le_manhattan[\"%_students_in_temporary_housing\"])))\n",
    "print(\"The correlation is for Queens is {:.2f}\".format(le_queens[\"#_total_students\"].corr(le_queens[\"%_students_in_temporary_housing\"])))\n",
    "print(\"There is no correlation for Staten Island because there is only one point\")"
   ]
  },
  {
   "cell_type": "code",
   "execution_count": 28,
   "metadata": {},
   "outputs": [
    {
     "data": {
      "image/png": "[encoded data removed]",
      "text/plain": [
       "<Figure size 432x288 with 1 Axes>"
      ]
     },
     "metadata": {
      "needs_background": "light"
     },
     "output_type": "display_data"
    }
   ],
   "source": [
    "x1 = [sum(le_bronx[\"%_students_in_temporary_housing\"]), sum(le_brooklyn[\"%_students_in_temporary_housing\"]), sum(le_queens[\"%_students_in_temporary_housing\"]), sum(le_manhattan[\"%_students_in_temporary_housing\"]), sum(le_SI[\"%_students_in_temporary_housing\"])]\n",
    "y1 = [\"Bronx\", \"Brooklyn\", \"Queens\", \"Manhattan\", \"Staten Island\"]\n",
    "plt.bar(y1, x1)\n",
    "plt.title(\"Number of students in temporary housing by Borough\")\n",
    "plt.show()"
   ]
  },
  {
   "cell_type": "markdown",
   "metadata": {},
   "source": [
    "The next set of data analysis was tossed because it would be considered data manipulation and didn't give an accurate representation of what was actually occuring in the data set. This data was origionally used wioth the purpose of showing that the Bronx and Manhattan clusters were more accuratelu predicted: however, making just two cluster divided the data into two just boroughs. This meant that the other three boroughs were being categorized into the only two clusters and were then labelled as Manhattan or the Bronx even though they were neither. The first cluster is for low_rent and rent_burdened for the Bronx and Manhattan "
   ]
  },
  {
   "cell_type": "code",
   "execution_count": 29,
   "metadata": {},
   "outputs": [
    {
     "name": "stdout",
     "output_type": "stream",
     "text": [
      "[[10.23333333 53.3       ]\n",
      " [ 9.88181818 42.11818182]\n",
      " [37.37777778 62.93333333]\n",
      " [23.88571429 52.72928571]\n",
      " [16.07692308 56.71769231]]\n"
     ]
    },
    {
     "data": {
      "image/png": "[encoded data removed]",
      "text/plain": [
       "<Figure size 461.625x360 with 1 Axes>"
      ]
     },
     "metadata": {
      "needs_background": "light"
     },
     "output_type": "display_data"
    },
    {
     "name": "stdout",
     "output_type": "stream",
     "text": [
      "Percent of accurate boroughs:  5.1 %\n"
     ]
    }
   ],
   "source": [
    "\n",
    "clustering = KMeans(n_clusters = 5, random_state = 15)\n",
    "clustering.fit(housing_poverty[[\"poverty_rate\", \"rent_burdened\"]])\n",
    "print(clustering.cluster_centers_)\n",
    "cluster_labels = clustering.labels_\n",
    "housing_poverty['cluster_label'] = cluster_labels\n",
    "sns.relplot(x='poverty_rate', y='rent_burdened', hue=\"borough\", style ='cluster_label', s=200, alpha=.5, data=housing_poverty);\n",
    "plt.xlabel(\"% Poverty\")\n",
    "plt.ylabel(\"% Rent Burdened\")\n",
    "plt.title('Households in Poverty vs Being Rent Burdened')\n",
    "plt.show()\n",
    "predicted_borough_lookup = pd.DataFrame({\"cluster_label\": [0, 1, 2,3,4],\n",
    "                                        \"predicted_borough\": [\"Brooklyn\", \"Bronx\", \"Manhattan\", \"Queens\", \"Staten_Island\"]})\n",
    "borough_predict = pd.merge(predicted_borough_lookup, housing_poverty)\n",
    "same = borough_predict.loc[borough_predict['predicted_borough'] == borough_predict['borough']]\n",
    "total = len(borough_predict)\n",
    "accurate = len(same)\n",
    "accurate_boroughs = round((accurate/total)*100,1)\n",
    "print(\"Percent of accurate boroughs: \",accurate_boroughs, \"%\")"
   ]
  },
  {
   "cell_type": "markdown",
   "metadata": {},
   "source": [
    "The conclusions from the clustering show that the clusters created by %rent burdened and % poverty only accurately predicted 5.1% of the boroughs. This means that these two data factors (%poverty and %rent burdened) are not a good indicator of the borough an indivual lives in. However, it is important to note that it apppears that the clustering works best on the extrema of the graph where more of the of the cluster labels align with one specific color."
   ]
  },
  {
   "cell_type": "code",
   "execution_count": 31,
   "metadata": {},
   "outputs": [
    {
     "name": "stdout",
     "output_type": "stream",
     "text": [
      "[[77.38823529 53.16176471]\n",
      " [30.82222222 41.61333333]\n",
      " [95.725      60.005     ]\n",
      " [59.97       52.        ]\n",
      " [38.87142857 55.21285714]]\n"
     ]
    },
    {
     "data": {
      "image/png": "[encoded data removed]",
      "text/plain": [
       "<Figure size 461.625x360 with 1 Axes>"
      ]
     },
     "metadata": {
      "needs_background": "light"
     },
     "output_type": "display_data"
    },
    {
     "name": "stdout",
     "output_type": "stream",
     "text": [
      "Percent of accurate boroughs:  16.9 %\n"
     ]
    }
   ],
   "source": [
    "clustering = KMeans(n_clusters = 5, random_state = 15)\n",
    "clustering.fit(housing_poverty[[\"minority_rate\", \"rent_burdened\"]])\n",
    "print(clustering.cluster_centers_)\n",
    "cluster_labels = clustering.labels_\n",
    "housing_poverty['cluster_label'] = cluster_labels\n",
    "sns.relplot(x='minority_rate', y='rent_burdened', hue=\"borough\", style ='cluster_label', s=200, alpha=.5, data=housing_poverty);\n",
    "plt.xlabel(\"Percentage Minority\")\n",
    "plt.ylabel(\"% Rent Burdened\")\n",
    "plt.title('Rent Burden vs Minority Rate')\n",
    "plt.show()\n",
    "predicted_borough_lookup = pd.DataFrame({\"cluster_label\": [0, 1, 2,3,4],\n",
    "                                        \"predicted_borough\": [\"Brooklyn\", \"Bronx\", \"Manhattan\", \"Queens\", \"Staten_Island\"]})\n",
    "borough_predict = pd.merge(predicted_borough_lookup, housing_poverty)\n",
    "same = borough_predict.loc[borough_predict['predicted_borough'] == borough_predict['borough']]\n",
    "total = len(borough_predict)\n",
    "accurate = len(same)\n",
    "accurate_boroughs = round((accurate/total)*100,1)\n",
    "print(\"Percent of accurate boroughs: \",accurate_boroughs, \"%\")"
   ]
  },
  {
   "cell_type": "markdown",
   "metadata": {},
   "source": [
    "The clustering that occured here does predict a few of the boroughs accurately using the two factors: percent minority and % Rent Burdened. The clustering predicted the borough right  16.9% of the time, which means that percent minority and % of rent burdened are not great determinants of the borough an indivual lives in."
   ]
  },
  {
   "cell_type": "code",
   "execution_count": 30,
   "metadata": {},
   "outputs": [
    {
     "name": "stdout",
     "output_type": "stream",
     "text": [
      "[[36.00133333 56.69633333]\n",
      " [16.87       49.79137931]]\n",
      "Percent of accurate boroughs:  30.5 %\n"
     ]
    }
   ],
   "source": [
    "housing_poverty = pd.read_csv('housing_poverty.csv')\n",
    "clustering = KMeans(n_clusters = 2, random_state = 15)\n",
    "clustering.fit(housing_poverty[[\"low_rent\", \"rent_burdened\"]])\n",
    "print(clustering.cluster_centers_)\n",
    "cluster_labels = clustering.labels_\n",
    "housing_poverty['cluster_label'] = cluster_labels\n",
    "predicted_borough_lookup = pd.DataFrame({\"cluster_label\": [0, 1],\n",
    "                                        \"predicted_borough\": [ \"Bronx\", \"Manhattan\"]})\n",
    "borough_predict = pd.merge(predicted_borough_lookup, housing_poverty)\n",
    "same = borough_predict.loc[borough_predict['predicted_borough'] == borough_predict['borough']]\n",
    "total = len(borough_predict)\n",
    "accurate = len(same)\n",
    "accurate_boroughs = round((accurate/total)*100,1)\n",
    "print(\"Percent of accurate boroughs: \",accurate_boroughs, \"%\")"
   ]
  },
  {
   "cell_type": "markdown",
   "metadata": {},
   "source": [
    "This is a cluster for poverty_rate and rent_burdened for the Bronx and Manhattan. "
   ]
  },
  {
   "cell_type": "code",
   "execution_count": 13,
   "metadata": {},
   "outputs": [
    {
     "name": "stdout",
     "output_type": "stream",
     "text": [
      "[[13.73023256 51.09953488]\n",
      " [32.55625    59.2225    ]]\n",
      "Percent of accurate boroughs:  10.2 %\n"
     ]
    }
   ],
   "source": [
    "clustering = KMeans(n_clusters = 2, random_state = 15)\n",
    "clustering.fit(housing_poverty[[\"poverty_rate\", \"rent_burdened\"]])\n",
    "print(clustering.cluster_centers_)\n",
    "cluster_labels = clustering.labels_\n",
    "housing_poverty['cluster_label'] = cluster_labels\n",
    "predicted_borough_lookup = pd.DataFrame({\"cluster_label\": [0, 1],\n",
    "                                        \"predicted_borough\": [ \"Bronx\", \"Manhattan\"]})\n",
    "borough_predict = pd.merge(predicted_borough_lookup, housing_poverty)\n",
    "same = borough_predict.loc[borough_predict['predicted_borough'] == borough_predict['borough']]\n",
    "total = len(borough_predict)\n",
    "accurate = len(same)\n",
    "accurate_boroughs = round((accurate/total)*100,1)\n",
    "print(\"Percent of accurate boroughs: \",accurate_boroughs, \"%\")"
   ]
  },
  {
   "cell_type": "markdown",
   "metadata": {},
   "source": [
    "This is a cluster for poverty_rate and rent_burdened for the Bronx and Manhattan."
   ]
  },
  {
   "cell_type": "code",
   "execution_count": 14,
   "metadata": {},
   "outputs": [
    {
     "name": "stdout",
     "output_type": "stream",
     "text": [
      "[[84.65       55.95194444]\n",
      " [41.26086957 49.15521739]]\n",
      "Percent of accurate boroughs:  32.2 %\n"
     ]
    }
   ],
   "source": [
    "clustering = KMeans(n_clusters = 2, random_state = 15)\n",
    "clustering.fit(housing_poverty[[\"minority_rate\", \"rent_burdened\"]])\n",
    "print(clustering.cluster_centers_)\n",
    "cluster_labels = clustering.labels_\n",
    "housing_poverty['cluster_label'] = cluster_labels\n",
    "predicted_borough_lookup = pd.DataFrame({\"cluster_label\": [0, 1],\n",
    "                                        \"predicted_borough\": [ \"Bronx\", \"Manhattan\"]})\n",
    "borough_predict = pd.merge(predicted_borough_lookup, housing_poverty)\n",
    "same = borough_predict.loc[borough_predict['predicted_borough'] == borough_predict['borough']]\n",
    "total = len(borough_predict)\n",
    "accurate = len(same)\n",
    "accurate_boroughs = round((accurate/total)*100,1)\n",
    "print(\"Percent of accurate boroughs: \",accurate_boroughs, \"%\")"
   ]
  },
  {
   "cell_type": "code",
   "execution_count": null,
   "metadata": {},
   "outputs": [],
   "source": []
  }
 ],
 "metadata": {
  "kernelspec": {
   "display_name": "Python 3",
   "language": "python",
   "name": "python3"
  },
  "language_info": {
   "codemirror_mode": {
    "name": "ipython",
    "version": 3
   },
   "file_extension": ".py",
   "mimetype": "text/x-python",
   "name": "python",
   "nbconvert_exporter": "python",
   "pygments_lexer": "ipython3",
   "version": "3.8.5"
  }
 },
 "nbformat": 4,
 "nbformat_minor": 4
}
