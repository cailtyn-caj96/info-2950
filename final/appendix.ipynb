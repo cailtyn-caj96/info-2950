{
 "cells": [
  {
   "cell_type": "markdown",
   "metadata": {},
   "source": [
    "## Apendix\n",
    "In this appendix, one will find the data that did not quite fit into the final project.\n",
    "\n",
    "Listed first is the health data that was not used because there was no clear way to combine the data sets. The health data had no column district, so it could not overlap with the other datasets. Therefore this data had to be scratched; however, it still makes for a compelling case on how poverty and inequalities in New York City affect a person's access to healthcare. This first section is the data cleaning."
   ]
  },
  {
   "cell_type": "code",
   "execution_count": 11,
   "metadata": {},
   "outputs": [],
   "source": [
    "import numpy as np\n",
    "import matplotlib.pyplot as plt\n",
    "import pandas as pd\n",
    "from scipy import stats\n",
    "import seaborn as sns\n",
    "from sklearn.linear_model import LinearRegression\n",
    "import statsmodels.formula.api as smf\n",
    "from sklearn.metrics import r2_score\n",
    "from sklearn.cluster import KMeans"
   ]
  },
  {
   "cell_type": "code",
   "execution_count": 5,
   "metadata": {},
   "outputs": [
    {
     "ename": "FileNotFoundError",
     "evalue": "[Errno 2] No such file or directory: 'health.csv'",
     "output_type": "error",
     "traceback": [
      "\u001b[0;31m---------------------------------------------------------------------------\u001b[0m",
      "\u001b[0;31mFileNotFoundError\u001b[0m                         Traceback (most recent call last)",
      "\u001b[0;32m<ipython-input-5-c9500f32f4a7>\u001b[0m in \u001b[0;36m<module>\u001b[0;34m\u001b[0m\n\u001b[0;32m----> 1\u001b[0;31m \u001b[0mhealth\u001b[0m \u001b[0;34m=\u001b[0m \u001b[0mpd\u001b[0m\u001b[0;34m.\u001b[0m\u001b[0mread_csv\u001b[0m\u001b[0;34m(\u001b[0m\u001b[0;34m'health.csv'\u001b[0m\u001b[0;34m)\u001b[0m\u001b[0;34m\u001b[0m\u001b[0;34m\u001b[0m\u001b[0m\n\u001b[0m\u001b[1;32m      2\u001b[0m \u001b[0mhealth\u001b[0m\u001b[0;34m.\u001b[0m\u001b[0mhead\u001b[0m\u001b[0;34m(\u001b[0m\u001b[0;34m)\u001b[0m\u001b[0;34m\u001b[0m\u001b[0;34m\u001b[0m\u001b[0m\n\u001b[1;32m      3\u001b[0m \u001b[0mprint\u001b[0m\u001b[0;34m(\u001b[0m\u001b[0mhealth\u001b[0m\u001b[0;34m.\u001b[0m\u001b[0mshape\u001b[0m\u001b[0;34m)\u001b[0m\u001b[0;34m\u001b[0m\u001b[0;34m\u001b[0m\u001b[0m\n\u001b[1;32m      4\u001b[0m \u001b[0;31m#grabbing columns from data set\u001b[0m\u001b[0;34m\u001b[0m\u001b[0;34m\u001b[0m\u001b[0;34m\u001b[0m\u001b[0m\n\u001b[1;32m      5\u001b[0m \u001b[0mcolumns_we_want\u001b[0m \u001b[0;34m=\u001b[0m \u001b[0;34m[\u001b[0m \u001b[0;34m\"insuredgateway19\"\u001b[0m\u001b[0;34m,\u001b[0m\u001b[0;34m\"generalhealth\"\u001b[0m\u001b[0;34m,\u001b[0m \u001b[0;34m\"visitnonpcp12m19\"\u001b[0m\u001b[0;34m,\u001b[0m \u001b[0;34m\"pcp19\"\u001b[0m\u001b[0;34m,\u001b[0m\u001b[0;34m\"didntgetcare19\"\u001b[0m\u001b[0;34m,\u001b[0m\u001b[0;34m\"emp3\"\u001b[0m\u001b[0;34m,\u001b[0m \u001b[0;34m\"insure5\"\u001b[0m\u001b[0;34m,\u001b[0m\u001b[0;34m\"birthsex\"\u001b[0m\u001b[0;34m,\u001b[0m\u001b[0;34m\"imputed_neighpovgroup4_1418\"\u001b[0m\u001b[0;34m,\u001b[0m \u001b[0;34m\"fluvaccineshot\"\u001b[0m\u001b[0;34m,\u001b[0m\u001b[0;34m\"everhepavaccine\"\u001b[0m\u001b[0;34m,\u001b[0m\u001b[0;34m\"fruitveg19\"\u001b[0m\u001b[0;34m]\u001b[0m\u001b[0;34m\u001b[0m\u001b[0;34m\u001b[0m\u001b[0m\n",
      "\u001b[0;32m/opt/anaconda3/lib/python3.8/site-packages/pandas/io/parsers.py\u001b[0m in \u001b[0;36mread_csv\u001b[0;34m(filepath_or_buffer, sep, delimiter, header, names, index_col, usecols, squeeze, prefix, mangle_dupe_cols, dtype, engine, converters, true_values, false_values, skipinitialspace, skiprows, skipfooter, nrows, na_values, keep_default_na, na_filter, verbose, skip_blank_lines, parse_dates, infer_datetime_format, keep_date_col, date_parser, dayfirst, cache_dates, iterator, chunksize, compression, thousands, decimal, lineterminator, quotechar, quoting, doublequote, escapechar, comment, encoding, dialect, error_bad_lines, warn_bad_lines, delim_whitespace, low_memory, memory_map, float_precision)\u001b[0m\n\u001b[1;32m    684\u001b[0m     )\n\u001b[1;32m    685\u001b[0m \u001b[0;34m\u001b[0m\u001b[0m\n\u001b[0;32m--> 686\u001b[0;31m     \u001b[0;32mreturn\u001b[0m \u001b[0m_read\u001b[0m\u001b[0;34m(\u001b[0m\u001b[0mfilepath_or_buffer\u001b[0m\u001b[0;34m,\u001b[0m \u001b[0mkwds\u001b[0m\u001b[0;34m)\u001b[0m\u001b[0;34m\u001b[0m\u001b[0;34m\u001b[0m\u001b[0m\n\u001b[0m\u001b[1;32m    687\u001b[0m \u001b[0;34m\u001b[0m\u001b[0m\n\u001b[1;32m    688\u001b[0m \u001b[0;34m\u001b[0m\u001b[0m\n",
      "\u001b[0;32m/opt/anaconda3/lib/python3.8/site-packages/pandas/io/parsers.py\u001b[0m in \u001b[0;36m_read\u001b[0;34m(filepath_or_buffer, kwds)\u001b[0m\n\u001b[1;32m    450\u001b[0m \u001b[0;34m\u001b[0m\u001b[0m\n\u001b[1;32m    451\u001b[0m     \u001b[0;31m# Create the parser.\u001b[0m\u001b[0;34m\u001b[0m\u001b[0;34m\u001b[0m\u001b[0;34m\u001b[0m\u001b[0m\n\u001b[0;32m--> 452\u001b[0;31m     \u001b[0mparser\u001b[0m \u001b[0;34m=\u001b[0m \u001b[0mTextFileReader\u001b[0m\u001b[0;34m(\u001b[0m\u001b[0mfp_or_buf\u001b[0m\u001b[0;34m,\u001b[0m \u001b[0;34m**\u001b[0m\u001b[0mkwds\u001b[0m\u001b[0;34m)\u001b[0m\u001b[0;34m\u001b[0m\u001b[0;34m\u001b[0m\u001b[0m\n\u001b[0m\u001b[1;32m    453\u001b[0m \u001b[0;34m\u001b[0m\u001b[0m\n\u001b[1;32m    454\u001b[0m     \u001b[0;32mif\u001b[0m \u001b[0mchunksize\u001b[0m \u001b[0;32mor\u001b[0m \u001b[0miterator\u001b[0m\u001b[0;34m:\u001b[0m\u001b[0;34m\u001b[0m\u001b[0;34m\u001b[0m\u001b[0m\n",
      "\u001b[0;32m/opt/anaconda3/lib/python3.8/site-packages/pandas/io/parsers.py\u001b[0m in \u001b[0;36m__init__\u001b[0;34m(self, f, engine, **kwds)\u001b[0m\n\u001b[1;32m    944\u001b[0m             \u001b[0mself\u001b[0m\u001b[0;34m.\u001b[0m\u001b[0moptions\u001b[0m\u001b[0;34m[\u001b[0m\u001b[0;34m\"has_index_names\"\u001b[0m\u001b[0;34m]\u001b[0m \u001b[0;34m=\u001b[0m \u001b[0mkwds\u001b[0m\u001b[0;34m[\u001b[0m\u001b[0;34m\"has_index_names\"\u001b[0m\u001b[0;34m]\u001b[0m\u001b[0;34m\u001b[0m\u001b[0;34m\u001b[0m\u001b[0m\n\u001b[1;32m    945\u001b[0m \u001b[0;34m\u001b[0m\u001b[0m\n\u001b[0;32m--> 946\u001b[0;31m         \u001b[0mself\u001b[0m\u001b[0;34m.\u001b[0m\u001b[0m_make_engine\u001b[0m\u001b[0;34m(\u001b[0m\u001b[0mself\u001b[0m\u001b[0;34m.\u001b[0m\u001b[0mengine\u001b[0m\u001b[0;34m)\u001b[0m\u001b[0;34m\u001b[0m\u001b[0;34m\u001b[0m\u001b[0m\n\u001b[0m\u001b[1;32m    947\u001b[0m \u001b[0;34m\u001b[0m\u001b[0m\n\u001b[1;32m    948\u001b[0m     \u001b[0;32mdef\u001b[0m \u001b[0mclose\u001b[0m\u001b[0;34m(\u001b[0m\u001b[0mself\u001b[0m\u001b[0;34m)\u001b[0m\u001b[0;34m:\u001b[0m\u001b[0;34m\u001b[0m\u001b[0;34m\u001b[0m\u001b[0m\n",
      "\u001b[0;32m/opt/anaconda3/lib/python3.8/site-packages/pandas/io/parsers.py\u001b[0m in \u001b[0;36m_make_engine\u001b[0;34m(self, engine)\u001b[0m\n\u001b[1;32m   1176\u001b[0m     \u001b[0;32mdef\u001b[0m \u001b[0m_make_engine\u001b[0m\u001b[0;34m(\u001b[0m\u001b[0mself\u001b[0m\u001b[0;34m,\u001b[0m \u001b[0mengine\u001b[0m\u001b[0;34m=\u001b[0m\u001b[0;34m\"c\"\u001b[0m\u001b[0;34m)\u001b[0m\u001b[0;34m:\u001b[0m\u001b[0;34m\u001b[0m\u001b[0;34m\u001b[0m\u001b[0m\n\u001b[1;32m   1177\u001b[0m         \u001b[0;32mif\u001b[0m \u001b[0mengine\u001b[0m \u001b[0;34m==\u001b[0m \u001b[0;34m\"c\"\u001b[0m\u001b[0;34m:\u001b[0m\u001b[0;34m\u001b[0m\u001b[0;34m\u001b[0m\u001b[0m\n\u001b[0;32m-> 1178\u001b[0;31m             \u001b[0mself\u001b[0m\u001b[0;34m.\u001b[0m\u001b[0m_engine\u001b[0m \u001b[0;34m=\u001b[0m \u001b[0mCParserWrapper\u001b[0m\u001b[0;34m(\u001b[0m\u001b[0mself\u001b[0m\u001b[0;34m.\u001b[0m\u001b[0mf\u001b[0m\u001b[0;34m,\u001b[0m \u001b[0;34m**\u001b[0m\u001b[0mself\u001b[0m\u001b[0;34m.\u001b[0m\u001b[0moptions\u001b[0m\u001b[0;34m)\u001b[0m\u001b[0;34m\u001b[0m\u001b[0;34m\u001b[0m\u001b[0m\n\u001b[0m\u001b[1;32m   1179\u001b[0m         \u001b[0;32melse\u001b[0m\u001b[0;34m:\u001b[0m\u001b[0;34m\u001b[0m\u001b[0;34m\u001b[0m\u001b[0m\n\u001b[1;32m   1180\u001b[0m             \u001b[0;32mif\u001b[0m \u001b[0mengine\u001b[0m \u001b[0;34m==\u001b[0m \u001b[0;34m\"python\"\u001b[0m\u001b[0;34m:\u001b[0m\u001b[0;34m\u001b[0m\u001b[0;34m\u001b[0m\u001b[0m\n",
      "\u001b[0;32m/opt/anaconda3/lib/python3.8/site-packages/pandas/io/parsers.py\u001b[0m in \u001b[0;36m__init__\u001b[0;34m(self, src, **kwds)\u001b[0m\n\u001b[1;32m   2006\u001b[0m         \u001b[0mkwds\u001b[0m\u001b[0;34m[\u001b[0m\u001b[0;34m\"usecols\"\u001b[0m\u001b[0;34m]\u001b[0m \u001b[0;34m=\u001b[0m \u001b[0mself\u001b[0m\u001b[0;34m.\u001b[0m\u001b[0musecols\u001b[0m\u001b[0;34m\u001b[0m\u001b[0;34m\u001b[0m\u001b[0m\n\u001b[1;32m   2007\u001b[0m \u001b[0;34m\u001b[0m\u001b[0m\n\u001b[0;32m-> 2008\u001b[0;31m         \u001b[0mself\u001b[0m\u001b[0;34m.\u001b[0m\u001b[0m_reader\u001b[0m \u001b[0;34m=\u001b[0m \u001b[0mparsers\u001b[0m\u001b[0;34m.\u001b[0m\u001b[0mTextReader\u001b[0m\u001b[0;34m(\u001b[0m\u001b[0msrc\u001b[0m\u001b[0;34m,\u001b[0m \u001b[0;34m**\u001b[0m\u001b[0mkwds\u001b[0m\u001b[0;34m)\u001b[0m\u001b[0;34m\u001b[0m\u001b[0;34m\u001b[0m\u001b[0m\n\u001b[0m\u001b[1;32m   2009\u001b[0m         \u001b[0mself\u001b[0m\u001b[0;34m.\u001b[0m\u001b[0munnamed_cols\u001b[0m \u001b[0;34m=\u001b[0m \u001b[0mself\u001b[0m\u001b[0;34m.\u001b[0m\u001b[0m_reader\u001b[0m\u001b[0;34m.\u001b[0m\u001b[0munnamed_cols\u001b[0m\u001b[0;34m\u001b[0m\u001b[0;34m\u001b[0m\u001b[0m\n\u001b[1;32m   2010\u001b[0m \u001b[0;34m\u001b[0m\u001b[0m\n",
      "\u001b[0;32mpandas/_libs/parsers.pyx\u001b[0m in \u001b[0;36mpandas._libs.parsers.TextReader.__cinit__\u001b[0;34m()\u001b[0m\n",
      "\u001b[0;32mpandas/_libs/parsers.pyx\u001b[0m in \u001b[0;36mpandas._libs.parsers.TextReader._setup_parser_source\u001b[0;34m()\u001b[0m\n",
      "\u001b[0;31mFileNotFoundError\u001b[0m: [Errno 2] No such file or directory: 'health.csv'"
     ]
    }
   ],
   "source": [
    "health = pd.read_csv('health.csv')\n",
    "health.head()\n",
    "print(health.shape)\n",
    "#grabbing columns from data set\n",
    "columns_we_want = [ \"insuredgateway19\",\"generalhealth\", \"visitnonpcp12m19\", \"pcp19\",\"didntgetcare19\",\"emp3\", \"insure5\",\"birthsex\",\"imputed_neighpovgroup4_1418\", \"fluvaccineshot\",\"everhepavaccine\",\"fruitveg19\"]\n",
    "health[columns_we_want]\n",
    "health = health[columns_we_want]\n",
    "#renaming columns\n",
    "health = health.rename(columns = {'insuredgateway19' : 'insured', 'visitnonpcp12m19' : 'seen_a_doctor_in_12months?', 'pcp19' : 'primary_doctor', 'insure5': 'who_insures_you','emp3': 'employed', 'imputed_neighpovgroup4_1418': 'below_poverty','fruitveg19':'fruit_veggie_servings','everhepavaccine': 'revieved_hepatatis_vaccine','didntgetcare19': 'didnt_get_care'})\n",
    "health.head()"
   ]
  },
  {
   "cell_type": "markdown",
   "metadata": {},
   "source": [
    "This part of the data cleaning was used to change the data from number representatations to categories with clearer meaning."
   ]
  },
  {
   "cell_type": "code",
   "execution_count": 3,
   "metadata": {},
   "outputs": [
    {
     "ename": "NameError",
     "evalue": "name 'health' is not defined",
     "output_type": "error",
     "traceback": [
      "\u001b[0;31m---------------------------------------------------------------------------\u001b[0m",
      "\u001b[0;31mNameError\u001b[0m                                 Traceback (most recent call last)",
      "\u001b[0;32m<ipython-input-3-8b07d8edab26>\u001b[0m in \u001b[0;36m<module>\u001b[0;34m\u001b[0m\n\u001b[1;32m      1\u001b[0m \u001b[0;31m#Renaming data points in below_poverty and other columns I am preforming analysis on so that the data is understandable to the user.\u001b[0m\u001b[0;34m\u001b[0m\u001b[0;34m\u001b[0m\u001b[0;34m\u001b[0m\u001b[0m\n\u001b[0;32m----> 2\u001b[0;31m \u001b[0mhealth_copy1\u001b[0m \u001b[0;34m=\u001b[0m \u001b[0mhealth\u001b[0m\u001b[0;34m.\u001b[0m\u001b[0mcopy\u001b[0m\u001b[0;34m(\u001b[0m\u001b[0;34m)\u001b[0m\u001b[0;34m\u001b[0m\u001b[0;34m\u001b[0m\u001b[0m\n\u001b[0m\u001b[1;32m      3\u001b[0m \u001b[0mhealth_copy1\u001b[0m\u001b[0;34m.\u001b[0m\u001b[0mloc\u001b[0m\u001b[0;34m[\u001b[0m\u001b[0mhealth_copy1\u001b[0m\u001b[0;34m.\u001b[0m\u001b[0mbelow_poverty\u001b[0m \u001b[0;34m==\u001b[0m \u001b[0;36m1\u001b[0m\u001b[0;34m,\u001b[0m \u001b[0;34m\"below_poverty\"\u001b[0m\u001b[0;34m]\u001b[0m \u001b[0;34m=\u001b[0m \u001b[0;34m\"0 - <10% (low pov)%\"\u001b[0m\u001b[0;34m\u001b[0m\u001b[0;34m\u001b[0m\u001b[0m\n\u001b[1;32m      4\u001b[0m \u001b[0mhealth_copy1\u001b[0m\u001b[0;34m.\u001b[0m\u001b[0mloc\u001b[0m\u001b[0;34m[\u001b[0m\u001b[0mhealth_copy1\u001b[0m\u001b[0;34m.\u001b[0m\u001b[0mbelow_poverty\u001b[0m \u001b[0;34m==\u001b[0m \u001b[0;36m2\u001b[0m\u001b[0;34m,\u001b[0m \u001b[0;34m\"below_poverty\"\u001b[0m\u001b[0;34m]\u001b[0m \u001b[0;34m=\u001b[0m \u001b[0;34m\"10 - <20%\"\u001b[0m\u001b[0;34m\u001b[0m\u001b[0;34m\u001b[0m\u001b[0m\n\u001b[1;32m      5\u001b[0m \u001b[0mhealth_copy1\u001b[0m\u001b[0;34m.\u001b[0m\u001b[0mloc\u001b[0m\u001b[0;34m[\u001b[0m\u001b[0mhealth_copy1\u001b[0m\u001b[0;34m.\u001b[0m\u001b[0mbelow_poverty\u001b[0m \u001b[0;34m==\u001b[0m \u001b[0;36m3\u001b[0m\u001b[0;34m,\u001b[0m \u001b[0;34m\"below_poverty\"\u001b[0m\u001b[0;34m]\u001b[0m \u001b[0;34m=\u001b[0m \u001b[0;34m\"20 - <30%\"\u001b[0m\u001b[0;34m\u001b[0m\u001b[0;34m\u001b[0m\u001b[0m\n",
      "\u001b[0;31mNameError\u001b[0m: name 'health' is not defined"
     ]
    }
   ],
   "source": [
    "#Renaming data points in below_poverty and other columns I am preforming analysis on so that the data is understandable to the user. \n",
    "health_copy1 = health.copy()\n",
    "health_copy1.loc[health_copy1.below_poverty == 1, \"below_poverty\"] = \"0 - <10% (low pov)%\"\n",
    "health_copy1.loc[health_copy1.below_poverty == 2, \"below_poverty\"] = \"10 - <20%\"\n",
    "health_copy1.loc[health_copy1.below_poverty == 3, \"below_poverty\"] = \"20 - <30%\"\n",
    "health_copy1.loc[health_copy1.below_poverty == 4, \"below_poverty\"] = \"30 - <100% (very high)\"\n",
    "\n",
    "health_copy1.loc[health_copy1.insured == 1, \"insured\"] = \"yes\"\n",
    "health_copy1.loc[health_copy1.insured == 2, \"insured\"] = \"no\"\n",
    "\n",
    "health_copy1.loc[health_copy1.primary_doctor == 1, \"primary_doctor\"] = \"yes\"\n",
    "health_copy1.loc[health_copy1.primary_doctor == 2, \"primary_doctor\"] = \"no\"\n",
    "\n",
    "health_copy1.loc[health_copy1.didnt_get_care == 1, \"didnt_get_care\"] = \"yes\"\n",
    "health_copy1.loc[health_copy1.didnt_get_care == 2, \"didnt_get_care\"] = \"no\"\n",
    "\n",
    "health_copy1.loc[health_copy1.who_insures_you == 1, \"who_insures_you\"] = \"Private\"\n",
    "health_copy1.loc[health_copy1.who_insures_you == 2, \"who_insures_you\"] = \"self-purchase\"\n",
    "health_copy1.loc[health_copy1.who_insures_you == 3, \"who_insures_you\"] = \"Medicare\"\n",
    "health_copy1.loc[health_copy1.who_insures_you == 4, \"who_insures_you\"] = \"Medicaid\"\n",
    "health_copy1.loc[health_copy1.who_insures_you == 4, \"who_insures_you\"] = \"Others\"\n",
    "health_copy1.loc[health_copy1.who_insures_you == 4, \"who_insures_you\"] = \"Uninsured\"\n",
    "\n",
    "\n",
    "display(health_copy1.head())"
   ]
  },
  {
   "cell_type": "markdown",
   "metadata": {},
   "source": [
    "This is the analysis that was performed using the health data set which showed how the percent below poverty affected accees to primary doctor, insurance, and one's ability to get care. "
   ]
  },
  {
   "cell_type": "code",
   "execution_count": 65,
   "metadata": {},
   "outputs": [
    {
     "ename": "NameError",
     "evalue": "name 'health_copy1' is not defined",
     "output_type": "error",
     "traceback": [
      "\u001b[0;31m---------------------------------------------------------------------------\u001b[0m",
      "\u001b[0;31mNameError\u001b[0m                                 Traceback (most recent call last)",
      "\u001b[0;32m<ipython-input-65-7b96e83d4417>\u001b[0m in \u001b[0;36m<module>\u001b[0;34m\u001b[0m\n\u001b[1;32m      1\u001b[0m \u001b[0;31m#shows the percent of ppl who are below poverty and their access to helathcare\u001b[0m\u001b[0;34m\u001b[0m\u001b[0;34m\u001b[0m\u001b[0;34m\u001b[0m\u001b[0m\n\u001b[0;32m----> 2\u001b[0;31m \u001b[0mdisplay\u001b[0m\u001b[0;34m(\u001b[0m\u001b[0mhealth_copy1\u001b[0m\u001b[0;34m.\u001b[0m\u001b[0mdidnt_get_care\u001b[0m\u001b[0;34m.\u001b[0m\u001b[0mvalue_counts\u001b[0m\u001b[0;34m(\u001b[0m\u001b[0mnormalize\u001b[0m\u001b[0;34m=\u001b[0m\u001b[0;32mTrue\u001b[0m\u001b[0;34m)\u001b[0m\u001b[0;34m*\u001b[0m\u001b[0;36m100\u001b[0m\u001b[0;34m)\u001b[0m\u001b[0;34m\u001b[0m\u001b[0;34m\u001b[0m\u001b[0m\n\u001b[0m\u001b[1;32m      3\u001b[0m \u001b[0mdisplay\u001b[0m\u001b[0;34m(\u001b[0m\u001b[0mhealth_copy1\u001b[0m\u001b[0;34m.\u001b[0m\u001b[0minsured\u001b[0m\u001b[0;34m.\u001b[0m\u001b[0mvalue_counts\u001b[0m\u001b[0;34m(\u001b[0m\u001b[0mnormalize\u001b[0m\u001b[0;34m=\u001b[0m\u001b[0;32mTrue\u001b[0m\u001b[0;34m)\u001b[0m\u001b[0;34m*\u001b[0m\u001b[0;36m100\u001b[0m\u001b[0;34m)\u001b[0m\u001b[0;34m\u001b[0m\u001b[0;34m\u001b[0m\u001b[0m\n\u001b[1;32m      4\u001b[0m \u001b[0mdisplay\u001b[0m\u001b[0;34m(\u001b[0m\u001b[0mhealth_copy1\u001b[0m\u001b[0;34m.\u001b[0m\u001b[0mprimary_doctor\u001b[0m\u001b[0;34m.\u001b[0m\u001b[0mvalue_counts\u001b[0m\u001b[0;34m(\u001b[0m\u001b[0mnormalize\u001b[0m\u001b[0;34m=\u001b[0m\u001b[0;32mTrue\u001b[0m\u001b[0;34m)\u001b[0m\u001b[0;34m*\u001b[0m\u001b[0;36m100\u001b[0m\u001b[0;34m)\u001b[0m\u001b[0;34m\u001b[0m\u001b[0;34m\u001b[0m\u001b[0m\n\u001b[1;32m      5\u001b[0m \u001b[0;34m\u001b[0m\u001b[0m\n",
      "\u001b[0;31mNameError\u001b[0m: name 'health_copy1' is not defined"
     ]
    }
   ],
   "source": [
    "#shows the percent of ppl who are below poverty and their access to helathcare \n",
    "display(health_copy1.didnt_get_care.value_counts(normalize=True)*100)\n",
    "display(health_copy1.insured.value_counts(normalize=True)*100)\n",
    "display(health_copy1.primary_doctor.value_counts(normalize=True)*100)\n",
    "\n",
    "group_poverty2 = health_copy1.groupby('below_poverty').primary_doctor\n",
    "dr_poverty = group_poverty2.value_counts(normalize=True)*100\n",
    "print(dr_poverty)\n",
    "\n",
    "group_poverty = health_copy1.groupby('below_poverty').insured\n",
    "insured_poverty= group_poverty.value_counts(normalize=True)*100\n",
    "print(insured_poverty)\n",
    "\n",
    "group_poverty3 = health_copy1.groupby('below_poverty').didnt_get_care\n",
    "didnt_poverty = group_poverty3.value_counts(normalize=True)*100\n",
    "print(didnt_poverty)\n",
    "\n",
    "#histogram \n",
    "plt.hist(health_copy1['below_poverty'])\n",
    "plt.xlabel('% of residents below the poverty line',fontsize=10)\n",
    "plt.ylabel(\"#  of residents living in those neighborhoods\",fontsize=10)\n",
    "plt.title('distribution of residents living in specific income neighborhoods',fontsize=10)"
   ]
  },
  {
   "cell_type": "markdown",
   "metadata": {},
   "source": [
    "The next analysis also did not make it into the final project because there wasn't enough data to make accurate assumptions about the correlation # total students and the percent in temporary housing. Therefore, the data was turned into a bar graph instead."
   ]
  },
  {
   "cell_type": "code",
   "execution_count": 7,
   "metadata": {},
   "outputs": [],
   "source": [
    "final_ds = pd.read_csv('final_ds.csv')\n",
    "\n",
    "#Group by each burough so that each le_[borough] consists of its own neightborhood.\n",
    "by_bronx = final_ds.loc[final_ds[\"borough\"] == \"Bronx\"]\n",
    "le_bronx = by_bronx.groupby(\"borough_and_district_#\").mean()\n",
    "\n",
    "by_brooklyn = final_ds.loc[final_ds[\"borough\"] == \"Brooklyn\"]\n",
    "le_brooklyn = by_brooklyn.groupby(\"borough_and_district_#\").mean()\n",
    "\n",
    "by_manhattan = final_ds.loc[final_ds[\"borough\"] == \"Manhattan\"]\n",
    "le_manhattan = by_manhattan.groupby(\"borough_and_district_#\").mean()\n",
    "\n",
    "by_queens = final_ds.loc[final_ds[\"borough\"] == \"Queens\"]\n",
    "le_queens = by_queens.groupby(\"borough_and_district_#\").mean()\n",
    "\n",
    "by_SI = final_ds.loc[final_ds[\"borough\"] == \"Staten Island\"]\n",
    "le_SI = by_SI.groupby(\"borough_and_district_#\").mean()"
   ]
  },
  {
   "cell_type": "code",
   "execution_count": 8,
   "metadata": {},
   "outputs": [
    {
     "data": {
      "image/png": "[encoded data removed]",
      "text/plain": [
       "<Figure size 1332x756 with 6 Axes>"
      ]
     },
     "metadata": {
      "needs_background": "light"
     },
     "output_type": "display_data"
    },
    {
     "name": "stdout",
     "output_type": "stream",
     "text": [
      "The correlation is for Bronx is -0.43\n",
      "The correlation is for Brooklyn is -0.84\n",
      "The correlation is for Manhattan is -0.79\n",
      "The correlation is for Queens is -0.46\n",
      "There is no correlation for Staten Island because there is only one point\n"
     ]
    }
   ],
   "source": [
    "fig, axs = plt.subplots(2,3)\n",
    "fig.set_size_inches(18.5, 10.5)\n",
    "fig.suptitle('# of Students in Temporary Housing by # of Total Students')\n",
    "\n",
    "axs[0, 0].scatter(le_bronx[\"#_total_students\"], le_bronx[\"%_students_in_temporary_housing\"])\n",
    "axs[0, 0].set_title('Bronx')\n",
    "axs[0, 1].scatter(le_brooklyn[\"#_total_students\"], le_brooklyn[\"%_students_in_temporary_housing\"])\n",
    "axs[0, 1].set_title('Brooklyn')\n",
    "axs[0, 2].scatter(le_manhattan[\"#_total_students\"], le_manhattan[\"%_students_in_temporary_housing\"])\n",
    "axs[0, 2].set_title('Manhattan')\n",
    "axs[1, 0].scatter(le_queens[\"#_total_students\"], le_queens[\"%_students_in_temporary_housing\"])\n",
    "axs[1, 0].set_title('Queens')\n",
    "axs[1, 1].scatter(le_SI[\"#_total_students\"], le_SI[\"%_students_in_temporary_housing\"])\n",
    "axs[1, 1].set_title('Staten Island')\n",
    "\n",
    "plt.subplots_adjust(wspace=0.30, hspace=.30)\n",
    "for ax in axs.flat[:-1]:\n",
    "    ax.set(xlabel = \"# of total students\", ylabel='% in Temp Housing')   \n",
    "plt.show()\n",
    "\n",
    "print(\"The correlation is for Bronx is {:.2f}\".format(le_bronx[\"#_total_students\"].corr(le_bronx[\"%_students_in_temporary_housing\"])))\n",
    "print(\"The correlation is for Brooklyn is {:.2f}\".format(le_brooklyn[\"#_total_students\"].corr(le_brooklyn[\"%_students_in_temporary_housing\"])))\n",
    "print(\"The correlation is for Manhattan is {:.2f}\".format(le_manhattan[\"#_total_students\"].corr(le_manhattan[\"%_students_in_temporary_housing\"])))\n",
    "print(\"The correlation is for Queens is {:.2f}\".format(le_queens[\"#_total_students\"].corr(le_queens[\"%_students_in_temporary_housing\"])))\n",
    "print(\"There is no correlation for Staten Island because there is only one point\")"
   ]
  },
  {
   "cell_type": "code",
   "execution_count": 9,
   "metadata": {},
   "outputs": [
    {
     "data": {
      "image/png": "[encoded data removed]",
      "text/plain": [
       "<Figure size 432x288 with 1 Axes>"
      ]
     },
     "metadata": {
      "needs_background": "light"
     },
     "output_type": "display_data"
    }
   ],
   "source": [
    "x1 = [sum(le_bronx[\"%_students_in_temporary_housing\"]), sum(le_brooklyn[\"%_students_in_temporary_housing\"]), sum(le_queens[\"%_students_in_temporary_housing\"]), sum(le_manhattan[\"%_students_in_temporary_housing\"]), sum(le_SI[\"%_students_in_temporary_housing\"])]\n",
    "y1 = [\"Bronx\", \"Brooklyn\", \"Queens\", \"Manhattan\", \"Staten Island\"]\n",
    "plt.bar(y1, x1)\n",
    "plt.title(\"Number of students in temporary housing by Borough\")\n",
    "plt.show()"
   ]
  },
  {
   "cell_type": "markdown",
   "metadata": {},
   "source": [
    "The next set of data analysis was tossed because it would be considered data manipulation and didn't give an accurate representation of what was actually occuring in the data set. This data was origionally used wioth the purpose of showing that the Bronx and Manhattan clusters were more accuratelu predicted: however, making just two cluster divided the data into two just boroughs. This meant that the other three boroughs were being categorized into the only two clusters and were then labelled as Manhattan or the Bronx even though they were neither. The first cluster is for low_rent and rent_burdened for the Bronx and Manhattan "
   ]
  },
  {
   "cell_type": "code",
   "execution_count": 12,
   "metadata": {},
   "outputs": [
    {
     "name": "stdout",
     "output_type": "stream",
     "text": [
      "[[36.00133333 56.69633333]\n",
      " [16.87       49.79137931]]\n",
      "Percent of accurate boroughs:  30.5 %\n"
     ]
    }
   ],
   "source": [
    "housing_poverty = pd.read_csv('housing_poverty.csv')\n",
    "clustering = KMeans(n_clusters = 2, random_state = 15)\n",
    "clustering.fit(housing_poverty[[\"low_rent\", \"rent_burdened\"]])\n",
    "print(clustering.cluster_centers_)\n",
    "cluster_labels = clustering.labels_\n",
    "housing_poverty['cluster_label'] = cluster_labels\n",
    "predicted_borough_lookup = pd.DataFrame({\"cluster_label\": [0, 1],\n",
    "                                        \"predicted_borough\": [ \"Bronx\", \"Manhattan\"]})\n",
    "borough_predict = pd.merge(predicted_borough_lookup, housing_poverty)\n",
    "same = borough_predict.loc[borough_predict['predicted_borough'] == borough_predict['borough']]\n",
    "total = len(borough_predict)\n",
    "accurate = len(same)\n",
    "accurate_boroughs = round((accurate/total)*100,1)\n",
    "print(\"Percent of accurate boroughs: \",accurate_boroughs, \"%\")"
   ]
  },
  {
   "cell_type": "markdown",
   "metadata": {},
   "source": [
    "This is a cluster for poverty_rate and rent_burdened for the Bronx and Manhattan. "
   ]
  },
  {
   "cell_type": "code",
   "execution_count": 13,
   "metadata": {},
   "outputs": [
    {
     "name": "stdout",
     "output_type": "stream",
     "text": [
      "[[13.73023256 51.09953488]\n",
      " [32.55625    59.2225    ]]\n",
      "Percent of accurate boroughs:  10.2 %\n"
     ]
    }
   ],
   "source": [
    "clustering = KMeans(n_clusters = 2, random_state = 15)\n",
    "clustering.fit(housing_poverty[[\"poverty_rate\", \"rent_burdened\"]])\n",
    "print(clustering.cluster_centers_)\n",
    "cluster_labels = clustering.labels_\n",
    "housing_poverty['cluster_label'] = cluster_labels\n",
    "predicted_borough_lookup = pd.DataFrame({\"cluster_label\": [0, 1],\n",
    "                                        \"predicted_borough\": [ \"Bronx\", \"Manhattan\"]})\n",
    "borough_predict = pd.merge(predicted_borough_lookup, housing_poverty)\n",
    "same = borough_predict.loc[borough_predict['predicted_borough'] == borough_predict['borough']]\n",
    "total = len(borough_predict)\n",
    "accurate = len(same)\n",
    "accurate_boroughs = round((accurate/total)*100,1)\n",
    "print(\"Percent of accurate boroughs: \",accurate_boroughs, \"%\")"
   ]
  },
  {
   "cell_type": "markdown",
   "metadata": {},
   "source": [
    "This is a cluster for poverty_rate and rent_burdened for the Bronx and Manhattan."
   ]
  },
  {
   "cell_type": "code",
   "execution_count": 14,
   "metadata": {},
   "outputs": [
    {
     "name": "stdout",
     "output_type": "stream",
     "text": [
      "[[84.65       55.95194444]\n",
      " [41.26086957 49.15521739]]\n",
      "Percent of accurate boroughs:  32.2 %\n"
     ]
    }
   ],
   "source": [
    "clustering = KMeans(n_clusters = 2, random_state = 15)\n",
    "clustering.fit(housing_poverty[[\"minority_rate\", \"rent_burdened\"]])\n",
    "print(clustering.cluster_centers_)\n",
    "cluster_labels = clustering.labels_\n",
    "housing_poverty['cluster_label'] = cluster_labels\n",
    "predicted_borough_lookup = pd.DataFrame({\"cluster_label\": [0, 1],\n",
    "                                        \"predicted_borough\": [ \"Bronx\", \"Manhattan\"]})\n",
    "borough_predict = pd.merge(predicted_borough_lookup, housing_poverty)\n",
    "same = borough_predict.loc[borough_predict['predicted_borough'] == borough_predict['borough']]\n",
    "total = len(borough_predict)\n",
    "accurate = len(same)\n",
    "accurate_boroughs = round((accurate/total)*100,1)\n",
    "print(\"Percent of accurate boroughs: \",accurate_boroughs, \"%\")"
   ]
  },
  {
   "cell_type": "code",
   "execution_count": null,
   "metadata": {},
   "outputs": [],
   "source": []
  }
 ],
 "metadata": {
  "kernelspec": {
   "display_name": "Python 3",
   "language": "python",
   "name": "python3"
  },
  "language_info": {
   "codemirror_mode": {
    "name": "ipython",
    "version": 3
   },
   "file_extension": ".py",
   "mimetype": "text/x-python",
   "name": "python",
   "nbconvert_exporter": "python",
   "pygments_lexer": "ipython3",
   "version": "3.8.5"
  }
 },
 "nbformat": 4,
 "nbformat_minor": 4
}
