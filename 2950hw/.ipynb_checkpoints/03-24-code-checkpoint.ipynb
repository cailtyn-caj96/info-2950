{
 "cells": [
  {
   "cell_type": "markdown",
   "metadata": {},
   "source": [
    "# Logistic regression and model evaluation"
   ]
  },
  {
   "cell_type": "code",
   "execution_count": 1,
   "metadata": {},
   "outputs": [],
   "source": [
    "import matplotlib.pyplot as plt\n",
    "import numpy as np\n",
    "import pandas as pd\n",
    "from   sklearn.linear_model import LogisticRegression\n",
    "\n",
    "%matplotlib inline\n",
    "plt.rcParams['figure.figsize'] = (12.0, 8.0)\n",
    "plt.style.use('seaborn-poster')"
   ]
  },
  {
   "cell_type": "markdown",
   "metadata": {},
   "source": [
    "## Intro\n",
    "\n",
    "In the case of **linear** regression, we have a method that maps input variables to output values that can range from negative infinity to positive infinity. This is appropriate for a lot of cases, even if only part of the range of outputs is realistically possible or interesting.\n",
    "\n",
    "But what if we want to predict a **binary** outcome variable? (This is also known as a Bernouli trial.) In other words, a case where the only meaningful output is 0 or 1 (or True/False, or A/B, etc). Could we use a similar technique?\n",
    "\n",
    "**Yes!** But we need a way to map our could-be-anything linear regression output value into the range 0-1. Fortunately, we have exactly such a method. It's called the **logistic function** (or, really, the **sigmoid function**, but machine learning people call it \"logistic,\" because this version is the one that's useful in logistic regression). In its simplest form, this is:\n",
    "\n",
    "$$logit(x) = \\frac{e^x}{e^x + 1}$$\n",
    "\n",
    "### Plot the logistic function on synthetic data"
   ]
  },
  {
   "cell_type": "code",
   "execution_count": 2,
   "metadata": {},
   "outputs": [
    {
     "data": {
      "image/png": "[encoded data removed]",
      "text/plain": [
       "<Figure size 921.6x633.6 with 1 Axes>"
      ]
     },
     "metadata": {
      "needs_background": "light"
     },
     "output_type": "display_data"
    }
   ],
   "source": [
    "# function to calculate logit\n",
    "def logit(x):\n",
    "    return np.exp(x) / (np.exp(x) + 1)\n",
    "\n",
    "x_values = np.linspace(-7, 7, 100)\n",
    "\n",
    "# plot the logistic function\n",
    "plt.plot(x_values, logit(x_values))\n",
    "plt.show()"
   ]
  },
  {
   "cell_type": "markdown",
   "metadata": {},
   "source": [
    "Notice that $logit(x)$ approaches zero as $x$ becomes large and negative, and approaches one as $x$ becomes large and positive.\n",
    "\n",
    "If we adjust out linear model output to have a mean of zero, we can use `logit` to find that the modeled mean is the point at which there's a 50/50 chance that the output belongs to binary class 0 (or to class 1). If our linearly modeled output is well above the mean, the probability of belonging to class 1 is near 1; if it's well below, the probability is near 0.\n",
    "\n",
    "**NB.** `sklearn`'s `LogisticRegression` implementation takes care of regularizing our input data such that we can use its outputs with the simple logistic function above. \n",
    "\n",
    "The *x* that we're actually calculating is the **log-odds ratio** of belonging to each of the two classes at a given (set of) input value(s). If *x* = -2, then the odds ratio is $e^{-2} = 0.135$ and the probability of belonging to class 1 is $\\frac{e^{0.135}}{e^{0.135} + 1} = 11.9\\%$.\n",
    "\n",
    "How to *solve* logistic regression -- that is, how to estimate its best parameters -- is beyond the scope of this class. The short version is that there's no analytical solution; you do it by iterative approximation until you converge on a stable solution. \n",
    "\n",
    "### Don't let the name confuse you!\n",
    "\n",
    "Logistic regression **is not** a regression method in the sense usually given to the term. It *uses* regression, but it doesn't predict the specific value of a continuous output variable. Logistic regression is what's normally called a **classifier**. That is, it attempts to *classify* objects or observations on the basis of their properties. Classification is a matter of sorting the objects into discreet bins.\n",
    "\n",
    "In short:\n",
    "\n",
    "* **Regression** = predict the value of a continuous variable\n",
    "* **Classification** = assign an object to a particular class (possibly with an associated probability)\n",
    "\n",
    "Both regression and classification are types of **supervised learning** (where we know the target classes or values in advance), although people usually mean classification when they use that term. *k*-means clustering is an example of **unsupervised** learning (where we don't know the identity of the categories in advance).\n",
    "\n",
    "## Logistic regression in action\n",
    "Let's try to predict:\n",
    "\n",
    "1. Above-average ridership in the Citibike data.\n",
    "1. The 2020 presidental votes of (hypothetical) likely voters in the United States based on demographic features.\n",
    "\n",
    "Polling data source: [NPR/PBS NewsHour/Marist Poll: October 2020 [Roper #31118003]](https://ropercenter.cornell.edu/ipoll/study/31118003)"
   ]
  },
  {
   "cell_type": "markdown",
   "metadata": {},
   "source": [
    "### Citibike"
   ]
  },
  {
   "cell_type": "code",
   "execution_count": 3,
   "metadata": {},
   "outputs": [],
   "source": [
    "# load citibike rideship/weather data\n",
    "citibike = pd.read_csv(\n",
    "    '03-22-citibike_weather.csv',\n",
    "    parse_dates=True,\n",
    "    index_col='date'\n",
    ")"
   ]
  },
  {
   "cell_type": "code",
   "execution_count": 4,
   "metadata": {},
   "outputs": [
    {
     "data": {
      "text/html": [
       "<div>\n",
       "<style scoped>\n",
       "    .dataframe tbody tr th:only-of-type {\n",
       "        vertical-align: middle;\n",
       "    }\n",
       "\n",
       "    .dataframe tbody tr th {\n",
       "        vertical-align: top;\n",
       "    }\n",
       "\n",
       "    .dataframe thead th {\n",
       "        text-align: right;\n",
       "    }\n",
       "</style>\n",
       "<table border=\"1\" class=\"dataframe\">\n",
       "  <thead>\n",
       "    <tr style=\"text-align: right;\">\n",
       "      <th></th>\n",
       "      <th>weekday</th>\n",
       "      <th>trips</th>\n",
       "      <th>max_temp</th>\n",
       "      <th>min_temp</th>\n",
       "      <th>avg_temp</th>\n",
       "      <th>departure_from_norm</th>\n",
       "      <th>heating</th>\n",
       "      <th>cooling</th>\n",
       "      <th>precip</th>\n",
       "      <th>snow</th>\n",
       "      <th>above_avg</th>\n",
       "    </tr>\n",
       "    <tr>\n",
       "      <th>date</th>\n",
       "      <th></th>\n",
       "      <th></th>\n",
       "      <th></th>\n",
       "      <th></th>\n",
       "      <th></th>\n",
       "      <th></th>\n",
       "      <th></th>\n",
       "      <th></th>\n",
       "      <th></th>\n",
       "      <th></th>\n",
       "      <th></th>\n",
       "    </tr>\n",
       "  </thead>\n",
       "  <tbody>\n",
       "    <tr>\n",
       "      <th>2018-01-01</th>\n",
       "      <td>Monday</td>\n",
       "      <td>5500</td>\n",
       "      <td>19</td>\n",
       "      <td>7</td>\n",
       "      <td>13</td>\n",
       "      <td>-20</td>\n",
       "      <td>52</td>\n",
       "      <td>0</td>\n",
       "      <td>0.00</td>\n",
       "      <td>0.0</td>\n",
       "      <td>0</td>\n",
       "    </tr>\n",
       "    <tr>\n",
       "      <th>2018-01-02</th>\n",
       "      <td>Tuesday</td>\n",
       "      <td>18818</td>\n",
       "      <td>26</td>\n",
       "      <td>13</td>\n",
       "      <td>20</td>\n",
       "      <td>-13</td>\n",
       "      <td>45</td>\n",
       "      <td>0</td>\n",
       "      <td>0.00</td>\n",
       "      <td>0.0</td>\n",
       "      <td>0</td>\n",
       "    </tr>\n",
       "    <tr>\n",
       "      <th>2018-01-03</th>\n",
       "      <td>Wednesday</td>\n",
       "      <td>24299</td>\n",
       "      <td>30</td>\n",
       "      <td>16</td>\n",
       "      <td>23</td>\n",
       "      <td>-10</td>\n",
       "      <td>42</td>\n",
       "      <td>0</td>\n",
       "      <td>0.00</td>\n",
       "      <td>0.0</td>\n",
       "      <td>0</td>\n",
       "    </tr>\n",
       "    <tr>\n",
       "      <th>2018-01-04</th>\n",
       "      <td>Thursday</td>\n",
       "      <td>1922</td>\n",
       "      <td>29</td>\n",
       "      <td>19</td>\n",
       "      <td>24</td>\n",
       "      <td>-9</td>\n",
       "      <td>41</td>\n",
       "      <td>0</td>\n",
       "      <td>0.76</td>\n",
       "      <td>9.8</td>\n",
       "      <td>0</td>\n",
       "    </tr>\n",
       "    <tr>\n",
       "      <th>2018-01-05</th>\n",
       "      <td>Friday</td>\n",
       "      <td>4972</td>\n",
       "      <td>19</td>\n",
       "      <td>9</td>\n",
       "      <td>14</td>\n",
       "      <td>-19</td>\n",
       "      <td>51</td>\n",
       "      <td>0</td>\n",
       "      <td>0.00</td>\n",
       "      <td>0.0</td>\n",
       "      <td>0</td>\n",
       "    </tr>\n",
       "  </tbody>\n",
       "</table>\n",
       "</div>"
      ],
      "text/plain": [
       "              weekday  trips  max_temp  min_temp  avg_temp  \\\n",
       "date                                                         \n",
       "2018-01-01     Monday   5500        19         7        13   \n",
       "2018-01-02    Tuesday  18818        26        13        20   \n",
       "2018-01-03  Wednesday  24299        30        16        23   \n",
       "2018-01-04   Thursday   1922        29        19        24   \n",
       "2018-01-05     Friday   4972        19         9        14   \n",
       "\n",
       "            departure_from_norm  heating  cooling  precip  snow  above_avg  \n",
       "date                                                                        \n",
       "2018-01-01                  -20       52        0    0.00   0.0          0  \n",
       "2018-01-02                  -13       45        0    0.00   0.0          0  \n",
       "2018-01-03                  -10       42        0    0.00   0.0          0  \n",
       "2018-01-04                   -9       41        0    0.76   9.8          0  \n",
       "2018-01-05                  -19       51        0    0.00   0.0          0  "
      ]
     },
     "execution_count": 4,
     "metadata": {},
     "output_type": "execute_result"
    }
   ],
   "source": [
    "# binary variable for above-median ridership\n",
    "citibike['above_avg'] = citibike['trips'].apply(lambda x: 1 if x > citibike.trips.median() else 0)\n",
    "citibike.head()"
   ]
  },
  {
   "cell_type": "code",
   "execution_count": 5,
   "metadata": {},
   "outputs": [
    {
     "name": "stdout",
     "output_type": "stream",
     "text": [
      "[[0.15249324]] [-8.58966536]\n"
     ]
    }
   ],
   "source": [
    "# fit logistic regression model\n",
    "bike_model = LogisticRegression().fit(citibike[['avg_temp']], citibike['above_avg'])\n",
    "print(bike_model.coef_, bike_model.intercept_)"
   ]
  },
  {
   "cell_type": "markdown",
   "metadata": {},
   "source": [
    "What do these numbers mean? How do we interpret the coefficient and intercept in this case?"
   ]
  },
  {
   "cell_type": "code",
   "execution_count": 6,
   "metadata": {},
   "outputs": [
    {
     "name": "stdout",
     "output_type": "stream",
     "text": [
      "Probability of above-average ridership: 0.2758775095086142\n"
     ]
    }
   ],
   "source": [
    "# predict probability of high ridership on a 50-degree day\n",
    "m = bike_model.coef_[0][0]\n",
    "b = bike_model.intercept_[0]\n",
    "temperature = 50\n",
    "x = m * temperature + b\n",
    "print('Probability of above-average ridership:', logit(x))"
   ]
  },
  {
   "cell_type": "code",
   "execution_count": 7,
   "metadata": {},
   "outputs": [
    {
     "data": {
      "text/plain": [
       "array([[0.72412249, 0.27587751]])"
      ]
     },
     "execution_count": 7,
     "metadata": {},
     "output_type": "execute_result"
    }
   ],
   "source": [
    "# use sklearn's predict_proba() method\n",
    "bike_model.predict_proba(np.array([[50]]))"
   ]
  },
  {
   "cell_type": "code",
   "execution_count": 8,
   "metadata": {},
   "outputs": [
    {
     "data": {
      "text/plain": [
       "array([0])"
      ]
     },
     "execution_count": 8,
     "metadata": {},
     "output_type": "execute_result"
    }
   ],
   "source": [
    "# and a straight class prediction\n",
    "bike_model.predict(np.array([[50]]))"
   ]
  },
  {
   "cell_type": "code",
   "execution_count": 9,
   "metadata": {},
   "outputs": [
    {
     "data": {
      "image/png": "[encoded data removed]",
      "text/plain": [
       "<Figure size 921.6x633.6 with 1 Axes>"
      ]
     },
     "metadata": {
      "needs_background": "light"
     },
     "output_type": "display_data"
    }
   ],
   "source": [
    "# plot\n",
    "#  data\n",
    "plt.scatter(\n",
    "    citibike.avg_temp, \n",
    "    citibike.above_avg, \n",
    "    alpha = 0.3,\n",
    "    label='Above-average ridership'\n",
    ")\n",
    "\n",
    "#  logit probability of class 1\n",
    "plt.scatter(\n",
    "    citibike.avg_temp, \n",
    "    bike_model.predict_proba(citibike[['avg_temp']])[:,1], \n",
    "    alpha = 0.3,\n",
    "    label='Predicted probability of\\nabove-average ridership'\n",
    ")\n",
    "#  x (linear fit, log odds ratio)\n",
    "# plt.scatter(\n",
    "#     citibike.avg_temp, \n",
    "#     citibike.avg_temp*bike_model.coef_[0][0]+bike_model.intercept_[0],\n",
    "#     alpha = 0.3,\n",
    "#     label = '$x$'\n",
    "# )\n",
    "plt.legend()\n",
    "plt.show()"
   ]
  },
  {
   "cell_type": "markdown",
   "metadata": {},
   "source": [
    "### Polling data\n",
    "\n",
    "Can we predict presidential preference in the 2020 election on the basis of broad demographic characteristics?"
   ]
  },
  {
   "cell_type": "code",
   "execution_count": 10,
   "metadata": {},
   "outputs": [
    {
     "data": {
      "text/html": [
       "<div>\n",
       "<style scoped>\n",
       "    .dataframe tbody tr th:only-of-type {\n",
       "        vertical-align: middle;\n",
       "    }\n",
       "\n",
       "    .dataframe tbody tr th {\n",
       "        vertical-align: top;\n",
       "    }\n",
       "\n",
       "    .dataframe thead th {\n",
       "        text-align: right;\n",
       "    }\n",
       "</style>\n",
       "<table border=\"1\" class=\"dataframe\">\n",
       "  <thead>\n",
       "    <tr style=\"text-align: right;\">\n",
       "      <th></th>\n",
       "      <th>ABSVOTR</th>\n",
       "      <th>ACBCNF1</th>\n",
       "      <th>ACBNMSUP1</th>\n",
       "      <th>age45</th>\n",
       "      <th>AGEEPWT</th>\n",
       "      <th>AGER</th>\n",
       "      <th>BURBMEN</th>\n",
       "      <th>BURBNOS</th>\n",
       "      <th>BURBWMN</th>\n",
       "      <th>collegep</th>\n",
       "      <th>...</th>\n",
       "      <th>WHITEMENX</th>\n",
       "      <th>WHITEWMN</th>\n",
       "      <th>WHITEWMNX</th>\n",
       "      <th>witecoll</th>\n",
       "      <th>witecoll2</th>\n",
       "      <th>witeevan</th>\n",
       "      <th>witeevanX</th>\n",
       "      <th>women</th>\n",
       "      <th>wtfactor</th>\n",
       "      <th>YEARRAW</th>\n",
       "    </tr>\n",
       "  </thead>\n",
       "  <tbody>\n",
       "    <tr>\n",
       "      <th>0</th>\n",
       "      <td>Yet to Vote</td>\n",
       "      <td>Two, should be confirmed but after the election</td>\n",
       "      <td>Support</td>\n",
       "      <td>Under 45</td>\n",
       "      <td>30 to 44</td>\n",
       "      <td>38</td>\n",
       "      <td></td>\n",
       "      <td>Other area Men</td>\n",
       "      <td></td>\n",
       "      <td>Refused-Blanks</td>\n",
       "      <td>...</td>\n",
       "      <td>White men</td>\n",
       "      <td></td>\n",
       "      <td></td>\n",
       "      <td></td>\n",
       "      <td></td>\n",
       "      <td></td>\n",
       "      <td>5</td>\n",
       "      <td></td>\n",
       "      <td>1.743254</td>\n",
       "      <td>1982</td>\n",
       "    </tr>\n",
       "    <tr>\n",
       "      <th>1</th>\n",
       "      <td>Already Voted</td>\n",
       "      <td>Two, should be confirmed but after the election</td>\n",
       "      <td>Vol: Unsure</td>\n",
       "      <td>45 or older</td>\n",
       "      <td>60 or older</td>\n",
       "      <td>77</td>\n",
       "      <td></td>\n",
       "      <td>Other area Women</td>\n",
       "      <td></td>\n",
       "      <td>College graduate</td>\n",
       "      <td>...</td>\n",
       "      <td></td>\n",
       "      <td>White Women</td>\n",
       "      <td>White women</td>\n",
       "      <td>White - College Graduate</td>\n",
       "      <td>White - College Graduate</td>\n",
       "      <td></td>\n",
       "      <td>5</td>\n",
       "      <td>Women</td>\n",
       "      <td>0.352450</td>\n",
       "      <td>1943</td>\n",
       "    </tr>\n",
       "    <tr>\n",
       "      <th>2</th>\n",
       "      <td>Yet to Vote</td>\n",
       "      <td>One, should be confirmed immediately</td>\n",
       "      <td>Support</td>\n",
       "      <td>45 or older</td>\n",
       "      <td>60 or older</td>\n",
       "      <td>93</td>\n",
       "      <td>Small city/Suburban Men</td>\n",
       "      <td>Small city/Suburban Men</td>\n",
       "      <td></td>\n",
       "      <td>Not college graduate</td>\n",
       "      <td>...</td>\n",
       "      <td>White men</td>\n",
       "      <td></td>\n",
       "      <td></td>\n",
       "      <td>White - Not College Graduate</td>\n",
       "      <td>White - Not College Graduate</td>\n",
       "      <td></td>\n",
       "      <td>5</td>\n",
       "      <td></td>\n",
       "      <td>0.397660</td>\n",
       "      <td>1927</td>\n",
       "    </tr>\n",
       "    <tr>\n",
       "      <th>3</th>\n",
       "      <td>Yet to Vote</td>\n",
       "      <td>Two, should be confirmed but after the election</td>\n",
       "      <td>Vol: Unsure</td>\n",
       "      <td>45 or older</td>\n",
       "      <td>60 or older</td>\n",
       "      <td>78</td>\n",
       "      <td></td>\n",
       "      <td>Other area Men</td>\n",
       "      <td></td>\n",
       "      <td>Not college graduate</td>\n",
       "      <td>...</td>\n",
       "      <td>Non-white men</td>\n",
       "      <td></td>\n",
       "      <td></td>\n",
       "      <td>Non-White - Not College Graduate</td>\n",
       "      <td></td>\n",
       "      <td></td>\n",
       "      <td>5</td>\n",
       "      <td></td>\n",
       "      <td>0.662370</td>\n",
       "      <td>1942</td>\n",
       "    </tr>\n",
       "    <tr>\n",
       "      <th>4</th>\n",
       "      <td>Yet to Vote</td>\n",
       "      <td>One, should be confirmed immediately</td>\n",
       "      <td>Support</td>\n",
       "      <td>45 or older</td>\n",
       "      <td>60 or older</td>\n",
       "      <td>68</td>\n",
       "      <td></td>\n",
       "      <td>Other area Women</td>\n",
       "      <td></td>\n",
       "      <td>Not college graduate</td>\n",
       "      <td>...</td>\n",
       "      <td></td>\n",
       "      <td>White Women</td>\n",
       "      <td>White women</td>\n",
       "      <td>White - Not College Graduate</td>\n",
       "      <td>White - Not College Graduate</td>\n",
       "      <td></td>\n",
       "      <td>5</td>\n",
       "      <td>Women</td>\n",
       "      <td>0.673309</td>\n",
       "      <td>1952</td>\n",
       "    </tr>\n",
       "  </tbody>\n",
       "</table>\n",
       "<p>5 rows × 170 columns</p>\n",
       "</div>"
      ],
      "text/plain": [
       "         ABSVOTR                                          ACBCNF1  \\\n",
       "0    Yet to Vote  Two, should be confirmed but after the election   \n",
       "1  Already Voted  Two, should be confirmed but after the election   \n",
       "2    Yet to Vote             One, should be confirmed immediately   \n",
       "3    Yet to Vote  Two, should be confirmed but after the election   \n",
       "4    Yet to Vote             One, should be confirmed immediately   \n",
       "\n",
       "     ACBNMSUP1        age45      AGEEPWT  AGER                  BURBMEN  \\\n",
       "0      Support     Under 45     30 to 44    38                            \n",
       "1  Vol: Unsure  45 or older  60 or older    77                            \n",
       "2      Support  45 or older  60 or older    93  Small city/Suburban Men   \n",
       "3  Vol: Unsure  45 or older  60 or older    78                            \n",
       "4      Support  45 or older  60 or older    68                            \n",
       "\n",
       "                   BURBNOS BURBWMN              collegep  ...      WHITEMENX  \\\n",
       "0           Other area Men                Refused-Blanks  ...      White men   \n",
       "1         Other area Women              College graduate  ...                  \n",
       "2  Small city/Suburban Men          Not college graduate  ...      White men   \n",
       "3           Other area Men          Not college graduate  ...  Non-white men   \n",
       "4         Other area Women          Not college graduate  ...                  \n",
       "\n",
       "      WHITEWMN    WHITEWMNX                          witecoll  \\\n",
       "0                                                               \n",
       "1  White Women  White women          White - College Graduate   \n",
       "2                                White - Not College Graduate   \n",
       "3                            Non-White - Not College Graduate   \n",
       "4  White Women  White women      White - Not College Graduate   \n",
       "\n",
       "                      witecoll2 witeevan witeevanX  women  wtfactor YEARRAW  \n",
       "0                                                5         1.743254    1982  \n",
       "1      White - College Graduate                  5  Women  0.352450    1943  \n",
       "2  White - Not College Graduate                  5         0.397660    1927  \n",
       "3                                                5         0.662370    1942  \n",
       "4  White - Not College Graduate                  5  Women  0.673309    1952  \n",
       "\n",
       "[5 rows x 170 columns]"
      ]
     },
     "execution_count": 10,
     "metadata": {},
     "output_type": "execute_result"
    }
   ],
   "source": [
    "# Load Marist polling data from October 2020 via Roper Archive\n",
    "#  See head note for source link\n",
    "poll = pd.read_csv('03-24-polling_data.csv')\n",
    "poll.head()"
   ]
  },
  {
   "cell_type": "code",
   "execution_count": 11,
   "metadata": {},
   "outputs": [
    {
     "data": {
      "text/plain": [
       "1397"
      ]
     },
     "execution_count": 11,
     "metadata": {},
     "output_type": "execute_result"
    }
   ],
   "source": [
    "len(poll)"
   ]
  },
  {
   "cell_type": "code",
   "execution_count": 12,
   "metadata": {},
   "outputs": [
    {
     "name": "stdout",
     "output_type": "stream",
     "text": [
      "(1172, 7)\n"
     ]
    },
    {
     "data": {
      "text/html": [
       "<div>\n",
       "<style scoped>\n",
       "    .dataframe tbody tr th:only-of-type {\n",
       "        vertical-align: middle;\n",
       "    }\n",
       "\n",
       "    .dataframe tbody tr th {\n",
       "        vertical-align: top;\n",
       "    }\n",
       "\n",
       "    .dataframe thead th {\n",
       "        text-align: right;\n",
       "    }\n",
       "</style>\n",
       "<table border=\"1\" class=\"dataframe\">\n",
       "  <thead>\n",
       "    <tr style=\"text-align: right;\">\n",
       "      <th></th>\n",
       "      <th>dem</th>\n",
       "      <th>age</th>\n",
       "      <th>edu</th>\n",
       "      <th>loc</th>\n",
       "      <th>gen</th>\n",
       "      <th>eth</th>\n",
       "      <th>inc</th>\n",
       "    </tr>\n",
       "  </thead>\n",
       "  <tbody>\n",
       "    <tr>\n",
       "      <th>1</th>\n",
       "      <td>True</td>\n",
       "      <td>60 or older</td>\n",
       "      <td>Graduate/Professional Degree</td>\n",
       "      <td>Big city</td>\n",
       "      <td>Women</td>\n",
       "      <td>White</td>\n",
       "      <td>Less $50,000</td>\n",
       "    </tr>\n",
       "    <tr>\n",
       "      <th>3</th>\n",
       "      <td>True</td>\n",
       "      <td>60 or older</td>\n",
       "      <td>High School or Less</td>\n",
       "      <td>Big city</td>\n",
       "      <td>Men</td>\n",
       "      <td>Latino</td>\n",
       "      <td>$50,000-$99,999</td>\n",
       "    </tr>\n",
       "    <tr>\n",
       "      <th>4</th>\n",
       "      <td>False</td>\n",
       "      <td>60 or older</td>\n",
       "      <td>Some College/Associates</td>\n",
       "      <td>Small town/Rural</td>\n",
       "      <td>Women</td>\n",
       "      <td>White</td>\n",
       "      <td>Less $50,000</td>\n",
       "    </tr>\n",
       "    <tr>\n",
       "      <th>5</th>\n",
       "      <td>True</td>\n",
       "      <td>60 or older</td>\n",
       "      <td>Some College/Associates</td>\n",
       "      <td>Big city</td>\n",
       "      <td>Women</td>\n",
       "      <td>Black</td>\n",
       "      <td>Refused</td>\n",
       "    </tr>\n",
       "    <tr>\n",
       "      <th>6</th>\n",
       "      <td>False</td>\n",
       "      <td>60 or older</td>\n",
       "      <td>College Degree</td>\n",
       "      <td>Big city</td>\n",
       "      <td>Women</td>\n",
       "      <td>White</td>\n",
       "      <td>$100,000 or more</td>\n",
       "    </tr>\n",
       "  </tbody>\n",
       "</table>\n",
       "</div>"
      ],
      "text/plain": [
       "     dem          age                           edu               loc    gen  \\\n",
       "1   True  60 or older  Graduate/Professional Degree          Big city  Women   \n",
       "3   True  60 or older           High School or Less          Big city    Men   \n",
       "4  False  60 or older       Some College/Associates  Small town/Rural  Women   \n",
       "5   True  60 or older       Some College/Associates          Big city  Women   \n",
       "6  False  60 or older                College Degree          Big city  Women   \n",
       "\n",
       "      eth               inc  \n",
       "1   White      Less $50,000  \n",
       "3  Latino   $50,000-$99,999  \n",
       "4   White      Less $50,000  \n",
       "5   Black           Refused  \n",
       "6   White  $100,000 or more  "
      ]
     },
     "execution_count": 12,
     "metadata": {},
     "output_type": "execute_result"
    }
   ],
   "source": [
    "# limit to selected variables and drop missing data\n",
    "\n",
    "# map existing names to informative labels\n",
    "column_names = {\n",
    "    'PZ20WLNSA': 'dem',\n",
    "    \"AGEEPWT\": 'age',\n",
    "    \"EDUCWT\": 'edu',\n",
    "    \"USRXRC3\": 'loc',\n",
    "    \"GENDER\": 'gen',\n",
    "    \"RACERECX\": 'eth',\n",
    "    \"INCEP\": 'inc'\n",
    "}\n",
    "\n",
    "# rename columns and drop rows with missing data\n",
    "poll_limited = poll[column_names.keys()].rename(columns=column_names).replace(' ', np.nan).dropna()\n",
    "\n",
    "# drop low-frequency responses\n",
    "poll_limited = poll_limited.loc[\n",
    "    (poll_limited['dem'].str.len() > 10) &\n",
    "    (~poll_limited['age'].str.contains('Refused')) &\n",
    "    (~poll_limited['edu'].str.contains('Refused'))\n",
    "]\n",
    "\n",
    "# convert `dem` to boolean\n",
    "poll_limited['dem'] = poll_limited['dem'] == \"Joe Biden and Kamala Harris, the Democrats\"\n",
    "\n",
    "print(poll_limited.shape)\n",
    "poll_limited.head()"
   ]
  },
  {
   "cell_type": "code",
   "execution_count": 13,
   "metadata": {},
   "outputs": [
    {
     "data": {
      "text/plain": [
       "True     635\n",
       "False    537\n",
       "Name: dem, dtype: int64"
      ]
     },
     "metadata": {},
     "output_type": "display_data"
    },
    {
     "name": "stdout",
     "output_type": "stream",
     "text": [
      "\n"
     ]
    },
    {
     "data": {
      "text/plain": [
       "60 or older    636\n",
       "45 to 59       257\n",
       "30 to 44       151\n",
       "18 to 29       128\n",
       "Name: age, dtype: int64"
      ]
     },
     "metadata": {},
     "output_type": "display_data"
    },
    {
     "name": "stdout",
     "output_type": "stream",
     "text": [
      "\n"
     ]
    },
    {
     "data": {
      "text/plain": [
       "College Degree                  331\n",
       "High School or Less             316\n",
       "Some College/Associates         302\n",
       "Graduate/Professional Degree    223\n",
       "Name: edu, dtype: int64"
      ]
     },
     "metadata": {},
     "output_type": "display_data"
    },
    {
     "name": "stdout",
     "output_type": "stream",
     "text": [
      "\n"
     ]
    },
    {
     "data": {
      "text/plain": [
       "Small city/Suburban    481\n",
       "Small town/Rural       410\n",
       "Big city               281\n",
       "Name: loc, dtype: int64"
      ]
     },
     "metadata": {},
     "output_type": "display_data"
    },
    {
     "name": "stdout",
     "output_type": "stream",
     "text": [
      "\n"
     ]
    },
    {
     "data": {
      "text/plain": [
       "Men      618\n",
       "Women    554\n",
       "Name: gen, dtype: int64"
      ]
     },
     "metadata": {},
     "output_type": "display_data"
    },
    {
     "name": "stdout",
     "output_type": "stream",
     "text": [
      "\n"
     ]
    },
    {
     "data": {
      "text/plain": [
       "White      874\n",
       "Other       91\n",
       "Black       88\n",
       "Latino      82\n",
       "Refused     37\n",
       "Name: eth, dtype: int64"
      ]
     },
     "metadata": {},
     "output_type": "display_data"
    },
    {
     "name": "stdout",
     "output_type": "stream",
     "text": [
      "\n"
     ]
    },
    {
     "data": {
      "text/plain": [
       "Less $50,000        379\n",
       "$50,000-$99,999     345\n",
       "$100,000 or more    324\n",
       "Refused             124\n",
       "Name: inc, dtype: int64"
      ]
     },
     "metadata": {},
     "output_type": "display_data"
    },
    {
     "name": "stdout",
     "output_type": "stream",
     "text": [
      "\n"
     ]
    }
   ],
   "source": [
    "for col in poll_limited.columns:\n",
    "    display(poll_limited[col].value_counts())\n",
    "    print()"
   ]
  },
  {
   "cell_type": "markdown",
   "metadata": {},
   "source": [
    "**Question:** Why do we work with categorical versions of the predictor variables? Some of them -- age, income, years of schooling -- might have been kept continuous. Why might it be useful to bin them?"
   ]
  },
  {
   "cell_type": "markdown",
   "metadata": {},
   "source": [
    "#### Dummy variables\n",
    "\n",
    "All of our predictor variables are categorical, not continuous. To make them computable, we convert each categorical level in each existing variable to a new, binary variable indicating the presence or absence of that level for that variable.\n",
    "\n",
    "Clear as mud; let's look at an example:"
   ]
  },
  {
   "cell_type": "code",
   "execution_count": 14,
   "metadata": {},
   "outputs": [
    {
     "data": {
      "text/html": [
       "<div>\n",
       "<style scoped>\n",
       "    .dataframe tbody tr th:only-of-type {\n",
       "        vertical-align: middle;\n",
       "    }\n",
       "\n",
       "    .dataframe tbody tr th {\n",
       "        vertical-align: top;\n",
       "    }\n",
       "\n",
       "    .dataframe thead th {\n",
       "        text-align: right;\n",
       "    }\n",
       "</style>\n",
       "<table border=\"1\" class=\"dataframe\">\n",
       "  <thead>\n",
       "    <tr style=\"text-align: right;\">\n",
       "      <th></th>\n",
       "      <th>Big city</th>\n",
       "      <th>Small city/Suburban</th>\n",
       "      <th>Small town/Rural</th>\n",
       "    </tr>\n",
       "  </thead>\n",
       "  <tbody>\n",
       "    <tr>\n",
       "      <th>1105</th>\n",
       "      <td>0</td>\n",
       "      <td>1</td>\n",
       "      <td>0</td>\n",
       "    </tr>\n",
       "    <tr>\n",
       "      <th>1337</th>\n",
       "      <td>0</td>\n",
       "      <td>1</td>\n",
       "      <td>0</td>\n",
       "    </tr>\n",
       "    <tr>\n",
       "      <th>884</th>\n",
       "      <td>0</td>\n",
       "      <td>0</td>\n",
       "      <td>1</td>\n",
       "    </tr>\n",
       "    <tr>\n",
       "      <th>944</th>\n",
       "      <td>1</td>\n",
       "      <td>0</td>\n",
       "      <td>0</td>\n",
       "    </tr>\n",
       "    <tr>\n",
       "      <th>780</th>\n",
       "      <td>0</td>\n",
       "      <td>1</td>\n",
       "      <td>0</td>\n",
       "    </tr>\n",
       "    <tr>\n",
       "      <th>171</th>\n",
       "      <td>0</td>\n",
       "      <td>0</td>\n",
       "      <td>1</td>\n",
       "    </tr>\n",
       "    <tr>\n",
       "      <th>451</th>\n",
       "      <td>0</td>\n",
       "      <td>0</td>\n",
       "      <td>1</td>\n",
       "    </tr>\n",
       "    <tr>\n",
       "      <th>23</th>\n",
       "      <td>0</td>\n",
       "      <td>0</td>\n",
       "      <td>1</td>\n",
       "    </tr>\n",
       "    <tr>\n",
       "      <th>270</th>\n",
       "      <td>1</td>\n",
       "      <td>0</td>\n",
       "      <td>0</td>\n",
       "    </tr>\n",
       "    <tr>\n",
       "      <th>10</th>\n",
       "      <td>1</td>\n",
       "      <td>0</td>\n",
       "      <td>0</td>\n",
       "    </tr>\n",
       "  </tbody>\n",
       "</table>\n",
       "</div>"
      ],
      "text/plain": [
       "      Big city  Small city/Suburban  Small town/Rural\n",
       "1105         0                    1                 0\n",
       "1337         0                    1                 0\n",
       "884          0                    0                 1\n",
       "944          1                    0                 0\n",
       "780          0                    1                 0\n",
       "171          0                    0                 1\n",
       "451          0                    0                 1\n",
       "23           0                    0                 1\n",
       "270          1                    0                 0\n",
       "10           1                    0                 0"
      ]
     },
     "execution_count": 14,
     "metadata": {},
     "output_type": "execute_result"
    }
   ],
   "source": [
    "pd.get_dummies(poll_limited['loc']).sample(10)"
   ]
  },
  {
   "cell_type": "markdown",
   "metadata": {},
   "source": [
    "For real work, you probably want to use `sklearn`'s `OneHotEncoder`, which remembers the mapping between categories and levels, so that you can encode new data using the same scheme. But `pandas.get_dummies()` is convenient when you already have all your data in place."
   ]
  },
  {
   "cell_type": "code",
   "execution_count": 15,
   "metadata": {},
   "outputs": [
    {
     "data": {
      "text/html": [
       "<div>\n",
       "<style scoped>\n",
       "    .dataframe tbody tr th:only-of-type {\n",
       "        vertical-align: middle;\n",
       "    }\n",
       "\n",
       "    .dataframe tbody tr th {\n",
       "        vertical-align: top;\n",
       "    }\n",
       "\n",
       "    .dataframe thead th {\n",
       "        text-align: right;\n",
       "    }\n",
       "</style>\n",
       "<table border=\"1\" class=\"dataframe\">\n",
       "  <thead>\n",
       "    <tr style=\"text-align: right;\">\n",
       "      <th></th>\n",
       "      <th>dem</th>\n",
       "      <th>age_18 to 29</th>\n",
       "      <th>age_30 to 44</th>\n",
       "      <th>age_45 to 59</th>\n",
       "      <th>age_60 or older</th>\n",
       "      <th>edu_College Degree</th>\n",
       "      <th>edu_Graduate/Professional Degree</th>\n",
       "      <th>edu_High School or Less</th>\n",
       "      <th>edu_Some College/Associates</th>\n",
       "      <th>loc_Big city</th>\n",
       "      <th>...</th>\n",
       "      <th>gen_Women</th>\n",
       "      <th>eth_Black</th>\n",
       "      <th>eth_Latino</th>\n",
       "      <th>eth_Other</th>\n",
       "      <th>eth_Refused</th>\n",
       "      <th>eth_White</th>\n",
       "      <th>inc_$100,000 or more</th>\n",
       "      <th>inc_$50,000-$99,999</th>\n",
       "      <th>inc_Less $50,000</th>\n",
       "      <th>inc_Refused</th>\n",
       "    </tr>\n",
       "  </thead>\n",
       "  <tbody>\n",
       "    <tr>\n",
       "      <th>1</th>\n",
       "      <td>True</td>\n",
       "      <td>0</td>\n",
       "      <td>0</td>\n",
       "      <td>0</td>\n",
       "      <td>1</td>\n",
       "      <td>0</td>\n",
       "      <td>1</td>\n",
       "      <td>0</td>\n",
       "      <td>0</td>\n",
       "      <td>1</td>\n",
       "      <td>...</td>\n",
       "      <td>1</td>\n",
       "      <td>0</td>\n",
       "      <td>0</td>\n",
       "      <td>0</td>\n",
       "      <td>0</td>\n",
       "      <td>1</td>\n",
       "      <td>0</td>\n",
       "      <td>0</td>\n",
       "      <td>1</td>\n",
       "      <td>0</td>\n",
       "    </tr>\n",
       "    <tr>\n",
       "      <th>3</th>\n",
       "      <td>True</td>\n",
       "      <td>0</td>\n",
       "      <td>0</td>\n",
       "      <td>0</td>\n",
       "      <td>1</td>\n",
       "      <td>0</td>\n",
       "      <td>0</td>\n",
       "      <td>1</td>\n",
       "      <td>0</td>\n",
       "      <td>1</td>\n",
       "      <td>...</td>\n",
       "      <td>0</td>\n",
       "      <td>0</td>\n",
       "      <td>1</td>\n",
       "      <td>0</td>\n",
       "      <td>0</td>\n",
       "      <td>0</td>\n",
       "      <td>0</td>\n",
       "      <td>1</td>\n",
       "      <td>0</td>\n",
       "      <td>0</td>\n",
       "    </tr>\n",
       "    <tr>\n",
       "      <th>4</th>\n",
       "      <td>False</td>\n",
       "      <td>0</td>\n",
       "      <td>0</td>\n",
       "      <td>0</td>\n",
       "      <td>1</td>\n",
       "      <td>0</td>\n",
       "      <td>0</td>\n",
       "      <td>0</td>\n",
       "      <td>1</td>\n",
       "      <td>0</td>\n",
       "      <td>...</td>\n",
       "      <td>1</td>\n",
       "      <td>0</td>\n",
       "      <td>0</td>\n",
       "      <td>0</td>\n",
       "      <td>0</td>\n",
       "      <td>1</td>\n",
       "      <td>0</td>\n",
       "      <td>0</td>\n",
       "      <td>1</td>\n",
       "      <td>0</td>\n",
       "    </tr>\n",
       "    <tr>\n",
       "      <th>5</th>\n",
       "      <td>True</td>\n",
       "      <td>0</td>\n",
       "      <td>0</td>\n",
       "      <td>0</td>\n",
       "      <td>1</td>\n",
       "      <td>0</td>\n",
       "      <td>0</td>\n",
       "      <td>0</td>\n",
       "      <td>1</td>\n",
       "      <td>1</td>\n",
       "      <td>...</td>\n",
       "      <td>1</td>\n",
       "      <td>1</td>\n",
       "      <td>0</td>\n",
       "      <td>0</td>\n",
       "      <td>0</td>\n",
       "      <td>0</td>\n",
       "      <td>0</td>\n",
       "      <td>0</td>\n",
       "      <td>0</td>\n",
       "      <td>1</td>\n",
       "    </tr>\n",
       "    <tr>\n",
       "      <th>6</th>\n",
       "      <td>False</td>\n",
       "      <td>0</td>\n",
       "      <td>0</td>\n",
       "      <td>0</td>\n",
       "      <td>1</td>\n",
       "      <td>1</td>\n",
       "      <td>0</td>\n",
       "      <td>0</td>\n",
       "      <td>0</td>\n",
       "      <td>1</td>\n",
       "      <td>...</td>\n",
       "      <td>1</td>\n",
       "      <td>0</td>\n",
       "      <td>0</td>\n",
       "      <td>0</td>\n",
       "      <td>0</td>\n",
       "      <td>1</td>\n",
       "      <td>1</td>\n",
       "      <td>0</td>\n",
       "      <td>0</td>\n",
       "      <td>0</td>\n",
       "    </tr>\n",
       "  </tbody>\n",
       "</table>\n",
       "<p>5 rows × 23 columns</p>\n",
       "</div>"
      ],
      "text/plain": [
       "     dem  age_18 to 29  age_30 to 44  age_45 to 59  age_60 or older  \\\n",
       "1   True             0             0             0                1   \n",
       "3   True             0             0             0                1   \n",
       "4  False             0             0             0                1   \n",
       "5   True             0             0             0                1   \n",
       "6  False             0             0             0                1   \n",
       "\n",
       "   edu_College Degree  edu_Graduate/Professional Degree  \\\n",
       "1                   0                                 1   \n",
       "3                   0                                 0   \n",
       "4                   0                                 0   \n",
       "5                   0                                 0   \n",
       "6                   1                                 0   \n",
       "\n",
       "   edu_High School or Less  edu_Some College/Associates  loc_Big city  ...  \\\n",
       "1                        0                            0             1  ...   \n",
       "3                        1                            0             1  ...   \n",
       "4                        0                            1             0  ...   \n",
       "5                        0                            1             1  ...   \n",
       "6                        0                            0             1  ...   \n",
       "\n",
       "   gen_Women  eth_Black  eth_Latino  eth_Other  eth_Refused  eth_White  \\\n",
       "1          1          0           0          0            0          1   \n",
       "3          0          0           1          0            0          0   \n",
       "4          1          0           0          0            0          1   \n",
       "5          1          1           0          0            0          0   \n",
       "6          1          0           0          0            0          1   \n",
       "\n",
       "   inc_$100,000 or more  inc_$50,000-$99,999  inc_Less $50,000  inc_Refused  \n",
       "1                     0                    0                 1            0  \n",
       "3                     0                    1                 0            0  \n",
       "4                     0                    0                 1            0  \n",
       "5                     0                    0                 0            1  \n",
       "6                     1                    0                 0            0  \n",
       "\n",
       "[5 rows x 23 columns]"
      ]
     },
     "execution_count": 15,
     "metadata": {},
     "output_type": "execute_result"
    }
   ],
   "source": [
    "# get dummies for all variables\n",
    "#   save results in a new dataframe\n",
    "logistic_data = poll_limited[['dem']] # first, just the 'dem' column\n",
    "input_cols = list(poll_limited.columns)\n",
    "input_cols.remove('dem') # do not dummy our output variable\n",
    "for col in input_cols:   # get dummies for each predictor variable and add to df\n",
    "    logistic_data = pd.concat(\n",
    "        [\n",
    "            logistic_data, \n",
    "            pd.get_dummies(poll_limited[col], prefix=col)\n",
    "        ]\n",
    "        , axis='columns'\n",
    "    )   \n",
    "\n",
    "logistic_data.head()"
   ]
  },
  {
   "cell_type": "code",
   "execution_count": 16,
   "metadata": {},
   "outputs": [
    {
     "data": {
      "text/plain": [
       "Index(['dem', 'age_18 to 29', 'age_30 to 44', 'age_45 to 59',\n",
       "       'age_60 or older', 'edu_College Degree',\n",
       "       'edu_Graduate/Professional Degree', 'edu_High School or Less',\n",
       "       'edu_Some College/Associates', 'loc_Big city',\n",
       "       'loc_Small city/Suburban', 'loc_Small town/Rural', 'gen_Men',\n",
       "       'gen_Women', 'eth_Black', 'eth_Latino', 'eth_Other', 'eth_Refused',\n",
       "       'eth_White', 'inc_$100,000 or more', 'inc_$50,000-$99,999',\n",
       "       'inc_Less $50,000', 'inc_Refused'],\n",
       "      dtype='object')"
      ]
     },
     "execution_count": 16,
     "metadata": {},
     "output_type": "execute_result"
    }
   ],
   "source": [
    "logistic_data.columns"
   ]
  },
  {
   "cell_type": "code",
   "execution_count": 17,
   "metadata": {},
   "outputs": [
    {
     "name": "stdout",
     "output_type": "stream",
     "text": [
      "[[ 0.45112499 -0.26705044 -0.09945243 -0.08442972 -0.04269228  0.59711011\n",
      "  -0.42863306 -0.12559238  0.26471313  0.17095752 -0.43547826 -0.22173541\n",
      "   0.22192781  1.36068587 -0.00343545 -0.33810731 -0.86032702 -0.15862369\n",
      "   0.14565255  0.14843186  0.19941758 -0.49330959]]\n",
      "[0.30463279]\n"
     ]
    }
   ],
   "source": [
    "# columns to use for prediction\n",
    "predictors = list(logistic_data.columns)\n",
    "predictors.remove('dem')\n",
    "\n",
    "# fit logit model and print learned parameters\n",
    "election_model = LogisticRegression().fit(\n",
    "    logistic_data[predictors],\n",
    "    logistic_data['dem']\n",
    ")\n",
    "print(election_model.coef_)\n",
    "print(election_model.intercept_)"
   ]
  },
  {
   "cell_type": "code",
   "execution_count": 18,
   "metadata": {},
   "outputs": [
    {
     "data": {
      "text/plain": [
       "array([0.57557465])"
      ]
     },
     "execution_count": 18,
     "metadata": {},
     "output_type": "execute_result"
    }
   ],
   "source": [
    "# absent any information about a voter, predict ...\n",
    "logit(election_model.intercept_)"
   ]
  },
  {
   "cell_type": "code",
   "execution_count": 19,
   "metadata": {},
   "outputs": [
    {
     "name": "stdout",
     "output_type": "stream",
     "text": [
      "0.451\tage_18 to 29\n",
      "-0.267\tage_30 to 44\n",
      "-0.099\tage_45 to 59\n",
      "-0.084\tage_60 or older\n",
      "-0.043\tedu_College Degree\n",
      "0.597\tedu_Graduate/Professional Degree\n",
      "-0.429\tedu_High School or Less\n",
      "-0.126\tedu_Some College/Associates\n",
      "0.265\tloc_Big city\n",
      "0.171\tloc_Small city/Suburban\n",
      "-0.435\tloc_Small town/Rural\n",
      "-0.222\tgen_Men\n",
      "0.222\tgen_Women\n",
      "1.361\teth_Black\n",
      "-0.003\teth_Latino\n",
      "-0.338\teth_Other\n",
      "-0.860\teth_Refused\n",
      "-0.159\teth_White\n",
      "0.146\tinc_$100,000 or more\n",
      "0.148\tinc_$50,000-$99,999\n",
      "0.199\tinc_Less $50,000\n",
      "-0.493\tinc_Refused\n"
     ]
    }
   ],
   "source": [
    "# print the coefficients legibly\n",
    "for i, predictor in enumerate(predictors):\n",
    "    print(f'{election_model.coef_[0,i]:.3f}\\t{predictor}')"
   ]
  },
  {
   "cell_type": "markdown",
   "metadata": {},
   "source": [
    "#### How likely is *x* to be a Biden voter?"
   ]
  },
  {
   "cell_type": "code",
   "execution_count": 20,
   "metadata": {},
   "outputs": [
    {
     "name": "stdout",
     "output_type": "stream",
     "text": [
      "x: -1.239\n",
      "logit(x): 0.22461009816957958\n"
     ]
    }
   ],
   "source": [
    "# how likely is (a young, rural, woman who didn't go to college \n",
    "#  and who refuses to give her income or ethnicity) to be a Biden voter?\n",
    "\n",
    "#   age     loc     gen     edu     inc     eth     intercept\n",
    "x = 0.451 - 0.435 + 0.222 - 0.429 - 0.493 - 0.860 + 0.305\n",
    "print('x:', x)\n",
    "print('logit(x):', logit(x))"
   ]
  },
  {
   "cell_type": "code",
   "execution_count": 21,
   "metadata": {},
   "outputs": [
    {
     "data": {
      "text/plain": [
       "array([[0.77557487, 0.22442513]])"
      ]
     },
     "execution_count": 21,
     "metadata": {},
     "output_type": "execute_result"
    }
   ],
   "source": [
    "# ditto, using the predictor object directly\n",
    "voter_1 = [1,0,0,0,0,0,1,0,0,0,1,0,1,0,0,0,1,0,0,0,0,1]\n",
    "election_model.predict_proba(np.array([voter_1]))"
   ]
  },
  {
   "cell_type": "code",
   "execution_count": 22,
   "metadata": {},
   "outputs": [
    {
     "data": {
      "text/plain": [
       "array([[0.77557487, 0.22442513],\n",
       "       [0.06200457, 0.93799543],\n",
       "       [0.29543635, 0.70456365],\n",
       "       [0.43096251, 0.56903749]])"
      ]
     },
     "execution_count": 22,
     "metadata": {},
     "output_type": "execute_result"
    }
   ],
   "source": [
    "# a Black, 62-year-old, female Cornell professor living in Ithaca\n",
    "voter_2 = [0,0,0,1,0,1,0,0,0,1,0,0,1,1,0,0,0,0,1,0,0,0]\n",
    "\n",
    "# a latino, 24-year-old, urban man with an associate's degree and a job as a bank clerk\n",
    "voter_3 = [1,0,0,0,0,0,0,1,1,0,0,1,0,0,1,0,0,0,0,0,1,0]\n",
    "\n",
    "# a female pacific islander from a small town studying at Cornell\n",
    "voter_4 = [1,0,0,0,0,0,0,1,0,0,1,0,1,0,0,1,0,0,0,0,1,0]\n",
    "\n",
    "election_model.predict_proba(np.array([voter_1, voter_2, voter_3, voter_4]))"
   ]
  },
  {
   "cell_type": "code",
   "execution_count": 23,
   "metadata": {},
   "outputs": [
    {
     "data": {
      "image/png": "[encoded data removed]",
      "text/plain": [
       "<Figure size 921.6x633.6 with 1 Axes>"
      ]
     },
     "metadata": {
      "needs_background": "light"
     },
     "output_type": "display_data"
    }
   ],
   "source": [
    "# plot predictors by lean\n",
    "df = pd.DataFrame({'coef':election_model.coef_[0]}, index=predictors)\n",
    "df.sort_values(by='coef').plot.barh(legend=False);"
   ]
  },
  {
   "cell_type": "markdown",
   "metadata": {},
   "source": [
    "### One-hot encoding and dropping a level\n",
    "\n",
    "If we wanted to leave out one of the possible levels from each input variable, we can pass `drop_first = True` to `get_dummies()`. This doesn't make (much) difference, except in  linear regression. \n",
    "\n",
    "Here's an example of doing the same thing with scikit-learn's `OneHotEncoder` (which also has the advantage of remembering the mapping between levels and binary encodings for future use)."
   ]
  },
  {
   "cell_type": "code",
   "execution_count": 24,
   "metadata": {},
   "outputs": [
    {
     "data": {
      "text/html": [
       "<div>\n",
       "<style scoped>\n",
       "    .dataframe tbody tr th:only-of-type {\n",
       "        vertical-align: middle;\n",
       "    }\n",
       "\n",
       "    .dataframe tbody tr th {\n",
       "        vertical-align: top;\n",
       "    }\n",
       "\n",
       "    .dataframe thead th {\n",
       "        text-align: right;\n",
       "    }\n",
       "</style>\n",
       "<table border=\"1\" class=\"dataframe\">\n",
       "  <thead>\n",
       "    <tr style=\"text-align: right;\">\n",
       "      <th></th>\n",
       "      <th>dem</th>\n",
       "      <th>age_30 to 44</th>\n",
       "      <th>age_45 to 59</th>\n",
       "      <th>age_60 or older</th>\n",
       "      <th>edu_Graduate/Professional Degree</th>\n",
       "      <th>edu_High School or Less</th>\n",
       "      <th>edu_Some College/Associates</th>\n",
       "      <th>loc_Small city/Suburban</th>\n",
       "      <th>loc_Small town/Rural</th>\n",
       "      <th>gen_Women</th>\n",
       "      <th>eth_Latino</th>\n",
       "      <th>eth_Other</th>\n",
       "      <th>eth_Refused</th>\n",
       "      <th>eth_White</th>\n",
       "      <th>inc_$50,000-$99,999</th>\n",
       "      <th>inc_Less $50,000</th>\n",
       "      <th>inc_Refused</th>\n",
       "    </tr>\n",
       "  </thead>\n",
       "  <tbody>\n",
       "    <tr>\n",
       "      <th>0</th>\n",
       "      <td>True</td>\n",
       "      <td>0.0</td>\n",
       "      <td>0.0</td>\n",
       "      <td>1.0</td>\n",
       "      <td>1.0</td>\n",
       "      <td>0.0</td>\n",
       "      <td>0.0</td>\n",
       "      <td>0.0</td>\n",
       "      <td>0.0</td>\n",
       "      <td>1.0</td>\n",
       "      <td>0.0</td>\n",
       "      <td>0.0</td>\n",
       "      <td>0.0</td>\n",
       "      <td>1.0</td>\n",
       "      <td>0.0</td>\n",
       "      <td>1.0</td>\n",
       "      <td>0.0</td>\n",
       "    </tr>\n",
       "    <tr>\n",
       "      <th>1</th>\n",
       "      <td>True</td>\n",
       "      <td>0.0</td>\n",
       "      <td>0.0</td>\n",
       "      <td>1.0</td>\n",
       "      <td>0.0</td>\n",
       "      <td>1.0</td>\n",
       "      <td>0.0</td>\n",
       "      <td>0.0</td>\n",
       "      <td>0.0</td>\n",
       "      <td>0.0</td>\n",
       "      <td>1.0</td>\n",
       "      <td>0.0</td>\n",
       "      <td>0.0</td>\n",
       "      <td>0.0</td>\n",
       "      <td>1.0</td>\n",
       "      <td>0.0</td>\n",
       "      <td>0.0</td>\n",
       "    </tr>\n",
       "    <tr>\n",
       "      <th>2</th>\n",
       "      <td>False</td>\n",
       "      <td>0.0</td>\n",
       "      <td>0.0</td>\n",
       "      <td>1.0</td>\n",
       "      <td>0.0</td>\n",
       "      <td>0.0</td>\n",
       "      <td>1.0</td>\n",
       "      <td>0.0</td>\n",
       "      <td>1.0</td>\n",
       "      <td>1.0</td>\n",
       "      <td>0.0</td>\n",
       "      <td>0.0</td>\n",
       "      <td>0.0</td>\n",
       "      <td>1.0</td>\n",
       "      <td>0.0</td>\n",
       "      <td>1.0</td>\n",
       "      <td>0.0</td>\n",
       "    </tr>\n",
       "    <tr>\n",
       "      <th>3</th>\n",
       "      <td>True</td>\n",
       "      <td>0.0</td>\n",
       "      <td>0.0</td>\n",
       "      <td>1.0</td>\n",
       "      <td>0.0</td>\n",
       "      <td>0.0</td>\n",
       "      <td>1.0</td>\n",
       "      <td>0.0</td>\n",
       "      <td>0.0</td>\n",
       "      <td>1.0</td>\n",
       "      <td>0.0</td>\n",
       "      <td>0.0</td>\n",
       "      <td>0.0</td>\n",
       "      <td>0.0</td>\n",
       "      <td>0.0</td>\n",
       "      <td>0.0</td>\n",
       "      <td>1.0</td>\n",
       "    </tr>\n",
       "    <tr>\n",
       "      <th>4</th>\n",
       "      <td>False</td>\n",
       "      <td>0.0</td>\n",
       "      <td>0.0</td>\n",
       "      <td>1.0</td>\n",
       "      <td>0.0</td>\n",
       "      <td>0.0</td>\n",
       "      <td>0.0</td>\n",
       "      <td>0.0</td>\n",
       "      <td>0.0</td>\n",
       "      <td>1.0</td>\n",
       "      <td>0.0</td>\n",
       "      <td>0.0</td>\n",
       "      <td>0.0</td>\n",
       "      <td>1.0</td>\n",
       "      <td>0.0</td>\n",
       "      <td>0.0</td>\n",
       "      <td>0.0</td>\n",
       "    </tr>\n",
       "  </tbody>\n",
       "</table>\n",
       "</div>"
      ],
      "text/plain": [
       "     dem  age_30 to 44  age_45 to 59  age_60 or older  \\\n",
       "0   True           0.0           0.0              1.0   \n",
       "1   True           0.0           0.0              1.0   \n",
       "2  False           0.0           0.0              1.0   \n",
       "3   True           0.0           0.0              1.0   \n",
       "4  False           0.0           0.0              1.0   \n",
       "\n",
       "   edu_Graduate/Professional Degree  edu_High School or Less  \\\n",
       "0                               1.0                      0.0   \n",
       "1                               0.0                      1.0   \n",
       "2                               0.0                      0.0   \n",
       "3                               0.0                      0.0   \n",
       "4                               0.0                      0.0   \n",
       "\n",
       "   edu_Some College/Associates  loc_Small city/Suburban  loc_Small town/Rural  \\\n",
       "0                          0.0                      0.0                   0.0   \n",
       "1                          0.0                      0.0                   0.0   \n",
       "2                          1.0                      0.0                   1.0   \n",
       "3                          1.0                      0.0                   0.0   \n",
       "4                          0.0                      0.0                   0.0   \n",
       "\n",
       "   gen_Women  eth_Latino  eth_Other  eth_Refused  eth_White  \\\n",
       "0        1.0         0.0        0.0          0.0        1.0   \n",
       "1        0.0         1.0        0.0          0.0        0.0   \n",
       "2        1.0         0.0        0.0          0.0        1.0   \n",
       "3        1.0         0.0        0.0          0.0        0.0   \n",
       "4        1.0         0.0        0.0          0.0        1.0   \n",
       "\n",
       "   inc_$50,000-$99,999  inc_Less $50,000  inc_Refused  \n",
       "0                  0.0               1.0          0.0  \n",
       "1                  1.0               0.0          0.0  \n",
       "2                  0.0               1.0          0.0  \n",
       "3                  0.0               0.0          1.0  \n",
       "4                  0.0               0.0          0.0  "
      ]
     },
     "execution_count": 24,
     "metadata": {},
     "output_type": "execute_result"
    }
   ],
   "source": [
    "from sklearn.preprocessing import OneHotEncoder\n",
    "\n",
    "# set up encoder\n",
    "onehot_encoder = OneHotEncoder(drop='first', sparse=False)\n",
    "\n",
    "# fit and transform the data\n",
    "onehot_data = onehot_encoder.fit_transform(poll_limited[input_cols])\n",
    "\n",
    "# get column names and convert encoded data to df\n",
    "column_names = []\n",
    "for i, category in enumerate(onehot_encoder.categories_):\n",
    "    category_name = input_cols[i]\n",
    "    for colname in category[1:]:\n",
    "        column_names.append(category_name + '_' + colname)\n",
    "onehot_df = pd.DataFrame(onehot_data, columns=column_names)\n",
    "onehot_df = pd.concat(\n",
    "    [\n",
    "        poll_limited[['dem']].reset_index(drop=True), # reset index to avoid mismatches\n",
    "        onehot_df\n",
    "    ],\n",
    "    axis='columns'\n",
    ")\n",
    "\n",
    "onehot_df.head()"
   ]
  },
  {
   "cell_type": "code",
   "execution_count": 25,
   "metadata": {},
   "outputs": [
    {
     "name": "stdout",
     "output_type": "stream",
     "text": [
      "[[-0.65130417 -0.4895823  -0.47844673  0.63495787 -0.38151645 -0.07701226\n",
      "  -0.09072423 -0.69659463  0.43939399 -0.98894228 -1.33007368 -1.78900333\n",
      "  -1.19972637  0.02447947  0.07779516 -0.61518066]]\n",
      "[1.87460471]\n"
     ]
    }
   ],
   "source": [
    "# fit logit model and print learned parameters\n",
    "onehot_model = LogisticRegression().fit(\n",
    "    onehot_df[column_names],\n",
    "    onehot_df['dem']\n",
    ")\n",
    "print(onehot_model.coef_)\n",
    "print(onehot_model.intercept_)"
   ]
  },
  {
   "cell_type": "code",
   "execution_count": 26,
   "metadata": {},
   "outputs": [
    {
     "data": {
      "text/plain": [
       "[array(['18 to 29', '30 to 44', '45 to 59', '60 or older'], dtype=object),\n",
       " array(['College Degree', 'Graduate/Professional Degree',\n",
       "        'High School or Less', 'Some College/Associates'], dtype=object),\n",
       " array(['Big city', 'Small city/Suburban', 'Small town/Rural'],\n",
       "       dtype=object),\n",
       " array(['Men', 'Women'], dtype=object),\n",
       " array(['Black', 'Latino', 'Other', 'Refused', 'White'], dtype=object),\n",
       " array(['$100,000 or more', '$50,000-$99,999', 'Less $50,000', 'Refused'],\n",
       "       dtype=object)]"
      ]
     },
     "execution_count": 26,
     "metadata": {},
     "output_type": "execute_result"
    }
   ],
   "source": [
    "onehot_encoder.categories_"
   ]
  },
  {
   "cell_type": "markdown",
   "metadata": {},
   "source": [
    "Notice that our 'default' voter belongs to the first level within each category. This default (young, college degree, big city, male, Black, and high income) is now very dem-leaning (hence, larger intercept). So we expect most of the remaining predictors to add non-Democratic weight."
   ]
  },
  {
   "cell_type": "code",
   "execution_count": 27,
   "metadata": {},
   "outputs": [
    {
     "data": {
      "image/png": "[encoded data removed]",
      "text/plain": [
       "<Figure size 921.6x633.6 with 1 Axes>"
      ]
     },
     "metadata": {
      "needs_background": "light"
     },
     "output_type": "display_data"
    }
   ],
   "source": [
    "# plot predictors by lean\n",
    "df = pd.DataFrame({'coef':onehot_model.coef_[0]}, index=column_names)\n",
    "df.sort_values(by='coef').plot.barh(legend=False);"
   ]
  },
  {
   "cell_type": "code",
   "execution_count": 28,
   "metadata": {},
   "outputs": [
    {
     "data": {
      "text/html": [
       "<div>\n",
       "<style scoped>\n",
       "    .dataframe tbody tr th:only-of-type {\n",
       "        vertical-align: middle;\n",
       "    }\n",
       "\n",
       "    .dataframe tbody tr th {\n",
       "        vertical-align: top;\n",
       "    }\n",
       "\n",
       "    .dataframe thead th {\n",
       "        text-align: right;\n",
       "    }\n",
       "</style>\n",
       "<table border=\"1\" class=\"dataframe\">\n",
       "  <thead>\n",
       "    <tr style=\"text-align: right;\">\n",
       "      <th></th>\n",
       "      <th>age</th>\n",
       "      <th>edu</th>\n",
       "      <th>loc</th>\n",
       "      <th>gen</th>\n",
       "      <th>eth</th>\n",
       "      <th>inc</th>\n",
       "    </tr>\n",
       "  </thead>\n",
       "  <tbody>\n",
       "    <tr>\n",
       "      <th>0</th>\n",
       "      <td>60 or older</td>\n",
       "      <td>Graduate/Professional Degree</td>\n",
       "      <td>Small city/Suburban</td>\n",
       "      <td>Women</td>\n",
       "      <td>Black</td>\n",
       "      <td>$100,000 or more</td>\n",
       "    </tr>\n",
       "  </tbody>\n",
       "</table>\n",
       "</div>"
      ],
      "text/plain": [
       "           age                           edu                  loc    gen  \\\n",
       "0  60 or older  Graduate/Professional Degree  Small city/Suburban  Women   \n",
       "\n",
       "     eth               inc  \n",
       "0  Black  $100,000 or more  "
      ]
     },
     "execution_count": 28,
     "metadata": {},
     "output_type": "execute_result"
    }
   ],
   "source": [
    "# predict the preference of a sample voter\n",
    "#  a Black, 62-year-old, female Cornell professor living in Ithaca\n",
    "sample_voter = pd.DataFrame.from_dict(\n",
    "    {\n",
    "        'age':['60 or older'],\n",
    "        'edu':['Graduate/Professional Degree'],\n",
    "        'loc':['Small city/Suburban'],\n",
    "        'gen':['Women'],\n",
    "        'eth':['Black'],\n",
    "        'inc':['$100,000 or more']\n",
    "    }\n",
    ")\n",
    "sample_voter"
   ]
  },
  {
   "cell_type": "code",
   "execution_count": 29,
   "metadata": {},
   "outputs": [
    {
     "data": {
      "text/plain": [
       "array([[0., 0., 1., 1., 0., 0., 1., 0., 1., 0., 0., 0., 0., 0., 0., 0.]])"
      ]
     },
     "execution_count": 29,
     "metadata": {},
     "output_type": "execute_result"
    }
   ],
   "source": [
    "# vectorize using trained encoder\n",
    "sample_voter_vector = onehot_encoder.transform(sample_voter)\n",
    "sample_voter_vector"
   ]
  },
  {
   "cell_type": "code",
   "execution_count": 30,
   "metadata": {},
   "outputs": [
    {
     "data": {
      "text/plain": [
       "array([[0.08472719, 0.91527281]])"
      ]
     },
     "execution_count": 30,
     "metadata": {},
     "output_type": "execute_result"
    }
   ],
   "source": [
    "# predict party support\n",
    "onehot_model.predict_proba(sample_voter_vector)"
   ]
  },
  {
   "cell_type": "code",
   "execution_count": 31,
   "metadata": {},
   "outputs": [
    {
     "data": {
      "text/plain": [
       "array([[0.06200457, 0.93799543]])"
      ]
     },
     "execution_count": 31,
     "metadata": {},
     "output_type": "execute_result"
    }
   ],
   "source": [
    "# compare to previous model\n",
    "election_model.predict_proba(np.array([voter_2]))"
   ]
  },
  {
   "cell_type": "markdown",
   "metadata": {},
   "source": [
    "### Model evaluation\n",
    "\n",
    "The proper way to evaluate a predictive model is to **train** it on one set of data, then **score** it using a different (\"held out\") set of data. Why? Because we're concerned that what we learn from our specific dataset might not generalize to new cases (\"**overfitting**\").\n",
    "\n",
    "We can do this once (\"**train-test split**\") or multiple times, segmenting a fixed pool of labeled data differently each time (\"**cross validation**\").\n",
    "\n",
    "We also want to examine the specific distribution of our correct and incorrect predictions via a **confusion matrix** (tabulation of true labels vs. predicted labels) and a calculation of **precision** and **recall**."
   ]
  },
  {
   "cell_type": "markdown",
   "metadata": {},
   "source": [
    "#### Naive score"
   ]
  },
  {
   "cell_type": "code",
   "execution_count": 32,
   "metadata": {},
   "outputs": [
    {
     "data": {
      "text/plain": [
       "0.6339590443686007"
      ]
     },
     "execution_count": 32,
     "metadata": {},
     "output_type": "execute_result"
    }
   ],
   "source": [
    "# train and test over the same data\n",
    "election_model.score(logistic_data[predictors], logistic_data['dem'])"
   ]
  },
  {
   "cell_type": "markdown",
   "metadata": {},
   "source": [
    "#### Train-test split"
   ]
  },
  {
   "cell_type": "code",
   "execution_count": 33,
   "metadata": {},
   "outputs": [
    {
     "name": "stdout",
     "output_type": "stream",
     "text": [
      "820 352\n"
     ]
    }
   ],
   "source": [
    "from sklearn.model_selection import train_test_split, cross_val_score\n",
    "\n",
    "# train-test split (70%/30%)\n",
    "X_train, X_test, y_train, y_test = train_test_split(logistic_data[predictors], logistic_data['dem'], test_size= 0.3)\n",
    "print(len(y_train), len(y_test))"
   ]
  },
  {
   "cell_type": "code",
   "execution_count": 34,
   "metadata": {},
   "outputs": [
    {
     "data": {
      "text/plain": [
       "0.6164772727272727"
      ]
     },
     "execution_count": 34,
     "metadata": {},
     "output_type": "execute_result"
    }
   ],
   "source": [
    "# fit on train data, score on test data\n",
    "testing_model = LogisticRegression().fit(X_train, y_train)\n",
    "testing_model.score(X_test, y_test)"
   ]
  },
  {
   "cell_type": "markdown",
   "metadata": {},
   "source": [
    "#### Cross validation"
   ]
  },
  {
   "cell_type": "code",
   "execution_count": 35,
   "metadata": {},
   "outputs": [
    {
     "name": "stdout",
     "output_type": "stream",
     "text": [
      "[0.55932203 0.61016949 0.64102564 0.54700855 0.56410256 0.69230769\n",
      " 0.67521368 0.61538462 0.56410256 0.61538462]\n",
      "Mean score: 0.6084021439953643\n"
     ]
    }
   ],
   "source": [
    "# cross validation\n",
    "scores = cross_val_score(\n",
    "    LogisticRegression(), \n",
    "    logistic_data[predictors], \n",
    "    logistic_data['dem'], \n",
    "    cv=10\n",
    ")\n",
    "print(scores)\n",
    "print(f'Mean score: {scores.mean()}')"
   ]
  },
  {
   "cell_type": "markdown",
   "metadata": {},
   "source": [
    "#### Baseline\n",
    "\n",
    "Compare to an uninformatve baseline in which we guess the more common class every time"
   ]
  },
  {
   "cell_type": "code",
   "execution_count": 36,
   "metadata": {},
   "outputs": [
    {
     "data": {
      "text/plain": [
       "0.5418088737201365"
      ]
     },
     "execution_count": 36,
     "metadata": {},
     "output_type": "execute_result"
    }
   ],
   "source": [
    "# compare to baseline guess = dem, every time\n",
    "logistic_data.dem.sum()/len(logistic_data)"
   ]
  },
  {
   "cell_type": "markdown",
   "metadata": {},
   "source": [
    "In the calculation above, we take advantage of the fact the sum over a boolean column = the number of `True` values. Since `dem` = `True` is the more common label, this gives us a measure of baseline accuracy.\n",
    "\n",
    "If `dem` = `True` were the *less* common label, we would need to take 1 - the sum, since this kind of baseline accuracy in a two-class problem can never be worse than 0.50 (that is, we can never do worse than guessing the most common class every time)."
   ]
  },
  {
   "cell_type": "markdown",
   "metadata": {},
   "source": [
    "### Confusion matrix"
   ]
  },
  {
   "cell_type": "code",
   "execution_count": 37,
   "metadata": {},
   "outputs": [
    {
     "name": "stdout",
     "output_type": "stream",
     "text": [
      "Confusion matrix\n",
      "[[300 237]\n",
      " [192 443]]\n"
     ]
    }
   ],
   "source": [
    "# confusion matrix\n",
    "from sklearn.metrics import confusion_matrix, plot_confusion_matrix, classification_report\n",
    "\n",
    "# true labels and predicted labels\n",
    "y_true = logistic_data['dem']\n",
    "y_pred = election_model.predict(logistic_data[predictors])\n",
    "\n",
    "# confusion matrix\n",
    "print(\"Confusion matrix\")\n",
    "print(confusion_matrix(y_true, y_pred))"
   ]
  },
  {
   "cell_type": "code",
   "execution_count": 38,
   "metadata": {},
   "outputs": [
    {
     "data": {
      "image/png": "[encoded data removed]",
      "text/plain": [
       "<Figure size 921.6x633.6 with 2 Axes>"
      ]
     },
     "metadata": {
      "needs_background": "light"
     },
     "output_type": "display_data"
    }
   ],
   "source": [
    "# visualize confusion matrix\n",
    "plot_confusion_matrix(\n",
    "    election_model, \n",
    "    logistic_data[predictors], \n",
    "    y_true, \n",
    "    #normalize='true'\n",
    ")\n",
    "plt.show()"
   ]
  },
  {
   "cell_type": "markdown",
   "metadata": {},
   "source": [
    "#### Classification report"
   ]
  },
  {
   "cell_type": "code",
   "execution_count": 39,
   "metadata": {},
   "outputs": [
    {
     "name": "stdout",
     "output_type": "stream",
     "text": [
      "              precision    recall  f1-score   support\n",
      "\n",
      "       False       0.61      0.56      0.58       537\n",
      "        True       0.65      0.70      0.67       635\n",
      "\n",
      "    accuracy                           0.63      1172\n",
      "   macro avg       0.63      0.63      0.63      1172\n",
      "weighted avg       0.63      0.63      0.63      1172\n",
      "\n"
     ]
    }
   ],
   "source": [
    "# classification report\n",
    "print(classification_report(y_true, y_pred))"
   ]
  },
  {
   "cell_type": "markdown",
   "metadata": {},
   "source": [
    "* **precision (p)**: Of all predicitons for a given class (`true` or `false`, 1 or 0), how many are correct?\n",
    "* **recall (r)**: Of all the `true` (or `false`) instances in the data, how many were assigned to the correct class?\n",
    "* **$f_1$ score**: harmonic mean of *p* and *r*: $$\\Large f_1 = \\frac{n}{\\sum\\limits_{i=1}^n \\frac1{x_i}}$$\n",
    "where the *x*s are, in this case, just *p* and *r*. \n",
    "* **support**: Number of observations belonging to the class"
   ]
  },
  {
   "cell_type": "markdown",
   "metadata": {},
   "source": [
    "### Is this result good?\n",
    "\n",
    "Kinda? Maybe? I don't know?\n",
    "\n",
    "I would have expected better; it seems like I could predict presidential preference pretty well if I knew voter age, income, residence location type, ethnicity, and gender. But maybe not, especially if I were limited to just a few buckets within each of those inputs and if my dataset were small. Maybe political preference is more complicated than we think? Maybe there are a lot of cross-cutting cases? I, for example, am in three Republican-leaning bins and three Democratic-leaning ones. How confident are you (or should you be) that you know my voting preference?\n",
    "\n",
    "The broader point: When you assess the performance of your classifier (or regressor), you **always** need  a baseline against which to measure it. Here, one potential baseline is random guessing. We're about 6-9 percentage points better than random. The issue is that you never know, in the abstract, how much of your success (or failure) is the result of the problem itself being easy (given the available data) and how much is the result of your method's predictive insight.\n",
    "\n",
    "### For fun\n",
    "\n",
    "Alternatively, compare the accuracy of political affiliation predictions based on [photos of the contents of voters' refrigerators](https://www.nytimes.com/interactive/2020/10/27/upshot/biden-trump-poll-quiz.html), which is (apparently, but not scientifically) **52%** (on a 50-50 split sample, hence a 2% accuracy gain over random).\n",
    "\n",
    "Also for fun, see this [*New York Times* party preference predictor](https://www.nytimes.com/interactive/2019/08/08/opinion/sunday/party-polarization-quiz.html) that uses related methods and a larger dataset."
   ]
  },
  {
   "cell_type": "code",
   "execution_count": null,
   "metadata": {},
   "outputs": [],
   "source": []
  }
 ],
 "metadata": {
  "kernelspec": {
   "display_name": "Python 3",
   "language": "python",
   "name": "python3"
  },
  "language_info": {
   "codemirror_mode": {
    "name": "ipython",
    "version": 3
   },
   "file_extension": ".py",
   "mimetype": "text/x-python",
   "name": "python",
   "nbconvert_exporter": "python",
   "pygments_lexer": "ipython3",
   "version": "3.8.5"
  }
 },
 "nbformat": 4,
 "nbformat_minor": 4
}
