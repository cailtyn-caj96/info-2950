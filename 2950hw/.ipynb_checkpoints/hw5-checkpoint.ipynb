{
 "cells": [
  {
   "cell_type": "markdown",
   "metadata": {},
   "source": [
    "# Homework 5"
   ]
  },
  {
   "cell_type": "markdown",
   "metadata": {},
   "source": [
    "## Pre Section\n",
    "In this homework, we will cover:\n",
    "\n",
    "1. Some basic statistics for relationships describing pairs of random variables\n",
    "1. Linear regression\n",
    "1. Assessing the quality of model predictions"
   ]
  },
  {
   "cell_type": "code",
   "execution_count": 2,
   "metadata": {},
   "outputs": [],
   "source": [
    "##import modules needed for homework\n",
    "import numpy as np\n",
    "import matplotlib.pyplot as plt\n",
    "from sklearn.linear_model import LinearRegression as lr"
   ]
  },
  {
   "cell_type": "markdown",
   "metadata": {},
   "source": [
    "## A brief overview of useful statistics\n",
    "\n",
    "Given $n$, paired, samples $(x_1,y_1),(x_2,y_2),...,(x_n,y_n)$, of the random variables $X,Y$, we may want to deduce from this data whether $X$ and $Y$ seem to be related in some way.  Thankfully, there are certain statistics that can be generated from this data to help answer this question.  \n",
    "\n",
    "Sample **mean**: \n",
    "\n",
    "$$\\bar{X} = \\frac{\\sum_{i=1}^n X_i}{N}$$\n",
    "\n",
    "Tells us the expected value of a variable\n",
    "\n",
    "Sample **variance**: \n",
    "\n",
    "$$var(X) = \\frac{\\sum_{i=1}^n (X_i-\\bar{X})^2}{N}$$\n",
    "\n",
    "Tells us the average squared deviation about the variable's mean (spread of variable)\n",
    "\n",
    "Sample **covariance**: \n",
    "\n",
    "$$cov(X, Y) = \\frac{\\sum_i (X_i-\\bar{X}) (Y_i - \\bar{Y})}{N}$$\n",
    "\n",
    "Tells us how the extent to which two variables are related, or the extent to which two variables influence one another.  Large, positive covariance means that if one variable\n",
    "gets larger or smaller, so does the other.  Large, negative covariance means that one variable being larger or smaller implies the other is smaller or larger.  If random variables are independent, their covariance is zero, but the reverse is not always true.\n",
    "\n",
    "**Note**:  The covariance of a variable with itself is defined as it's variance, however, due to the precise way these statistics are computed in numpy, these quantities will not be exactly equal.\n",
    "\n",
    "Sample **correlation**: \n",
    "\n",
    "$$corr(X, Y) = \\frac{cov(X,Y)}{\\sqrt{var(X)}\\sqrt{var(Y)}}$$\n",
    "\n",
    "Though covariance is useful for determining whether or not variables are related, it's hard to interpret, because it lacks a sense of scale.  Correlation is a normalized version of covariance, which is constrained to lie between -1 and 1.\n",
    "\n",
    "**Note**:  When computing variance and covariance, we will sometimes normalize by N-1 instead of N.  Which one is \"correct\" typically depends on whether the sample mean $\\bar{X}$ is known, or if it is also being estimated.  You are free to use whichever you prefer.  Note numpy uses N by default, while pandas uses N-1.  This is the reason behind the previous note."
   ]
  },
  {
   "cell_type": "code",
   "execution_count": 3,
   "metadata": {},
   "outputs": [
    {
     "name": "stdout",
     "output_type": "stream",
     "text": [
      "mean of X:  -0.02765720121463028\n",
      "variance of X:  0.9895103931991204\n",
      "cov matrix of X,Y: \n",
      " [[ 0.98960935 -0.00302381]\n",
      " [-0.00302381  0.99050701]]\n",
      "covariance of X,Y:  -0.0030238108561187883\n",
      "correlation matrix of X,Y: \n",
      " [[ 1.         -0.00305418]\n",
      " [-0.00305418  1.        ]]\n",
      "correlation between X,Y:  -0.0030541752283915354\n"
     ]
    }
   ],
   "source": [
    "##Computing statistics in numpy\n",
    "\n",
    "##Generate some data\n",
    "##np.random.normal(mu,sigma,n) generates n samples of a normally distributed random variable\n",
    "##with mean mu and standard deviation sigma\n",
    "\n",
    "##two seperate arrays of data\n",
    "X = np.random.normal(0,1,10000)\n",
    "Y = np.random.normal(0,1,10000)\n",
    "\n",
    "##mean and var of 1d array\n",
    "print('mean of X: ', np.mean(X))\n",
    "print('variance of X: ', np.var(X))\n",
    "\n",
    "##cov of 2 1d arrays\n",
    "##this actually returns a matrix, whose i-jth entry is cov(variable i,variable j)\n",
    "print('cov matrix of X,Y: \\n', np.cov(X,Y))\n",
    "print('covariance of X,Y: ', np.cov(X,Y)[0,1])\n",
    "\n",
    "##correlation between 2 1d arrays\n",
    "##note that again, this returns a matrix, whose i-jth entry is corr(var i, var j)\n",
    "print('correlation matrix of X,Y: \\n',np.corrcoef(X,Y))\n",
    "print('correlation between X,Y: ',np.corrcoef(X,Y)[0,1])\n",
    "##note the correlation of a variable with itself is 1"
   ]
  },
  {
   "cell_type": "markdown",
   "metadata": {},
   "source": [
    "Note that $cov(X,X)$ does not equal $var(X)$, due to division by $N-1$ in the former, and $N$ in the latter."
   ]
  },
  {
   "cell_type": "code",
   "execution_count": 4,
   "metadata": {},
   "outputs": [
    {
     "name": "stdout",
     "output_type": "stream",
     "text": [
      "[[-0.64998     0.53060215]\n",
      " [ 0.23625493 -1.09542351]\n",
      " [-1.06905204 -0.30850373]\n",
      " [ 1.76615803 -0.13535274]\n",
      " [ 2.69949209  0.53832732]]\n"
     ]
    }
   ],
   "source": [
    "##Lets do another example, but with each variable stored as a column in a matrix\n",
    "##Call X the first colum, Y the second\n",
    "Z = np.random.normal(0,1,[10000,2]) \n",
    "print(Z[:5,:])"
   ]
  },
  {
   "cell_type": "code",
   "execution_count": 5,
   "metadata": {},
   "outputs": [
    {
     "name": "stdout",
     "output_type": "stream",
     "text": [
      "var of X:  1.0282607732916234\n",
      "var of Y:  1.0168605665583492\n",
      "var of X and var of Y:  [1.02826077 1.01686057]\n",
      "cov matrix of X,Y: \n",
      " [[ 1.02836361 -0.00292324]\n",
      " [-0.00292324  1.01696226]]\n",
      "correlation matrix of X,Y: \n",
      " [[ 1.        -0.0028585]\n",
      " [-0.0028585  1.       ]]\n"
     ]
    }
   ],
   "source": [
    "##get variances, correlations, covariances of columns of Z\n",
    "print(\"var of X: \", np.var(Z[:,0]))\n",
    "print('var of Y: ', np.var(Z[:,1]))\n",
    "print('var of X and var of Y: ', np.var(Z,axis=0))\n",
    "\n",
    "##numpy cov function has an annoying construction\n",
    "##it assumes variables correspond to rows, so we need to flip, or transpose, the matrix\n",
    "##transpose of a matrix is a new matrix with Z[i,j].T = Z[j,i]\n",
    "\n",
    "\n",
    "print('cov matrix of X,Y: \\n', np.cov(Z.T)) \n",
    "\n",
    "##correlation matrix (need to flip again)\n",
    "print('correlation matrix of X,Y: \\n', np.corrcoef(Z.T))"
   ]
  },
  {
   "cell_type": "markdown",
   "metadata": {},
   "source": [
    "## Linear Regression\n",
    "\n",
    "The goal of most scientific pursuits is the creation of a model which can adequately describe the relationship between one or more dependent (outcome) variables and one or more independent variables (features, or inputs).  While these models are often used to generate predictions of outcomes, given inputs, they can also be used to better understand how quantities are related, i.e., to infer what input variables meaningfully impact a given outcome.\n",
    "\n",
    "\n",
    "For now, we will only consider a simple case in which we want to predict one output variable $Y$ from a single input variable $X$.  We start by assuming that there is some relationship between these two variables:\n",
    "\n",
    "$$Y = f(X)$$\n",
    "\n",
    "and aim to construct some model for, or estimate of, $f(X)$, $\\hat{f}(X)$.  \n",
    "\n",
    "\n",
    "Linear regression starts by assuming what is basically the simplest possible model for $f(X)$, i.e., a linear model:\n",
    "\n",
    "$$Y = \\hat{f}(X) = aX + b$$.\n",
    "\n",
    "Naturally, such a simple model is unlikely to perfectly describe the relationship between $\\textit{any}$ two variables, moreover, it is almost certainly the case that there are other variables that influence $Y$ which are not included in our model.  To account for these shortcomings, linear regression models also include a random component, which is intended to represent the influence of other, external, variables on our outcome, or to account for uncertainty in the specification of our linear model. The full linear regression model is then:\n",
    "\n",
    "$$Y = \\hat{f}(X) + \\epsilon = aX + b + \\epsilon ,$$\n",
    "\n",
    "where $\\epsilon$ is a random variable, commonly referred to as a noise or error term.  While other choices are possible, for now we assume that $\\epsilon$ is a normal (Gaussian) random variable, with mean $0$ and variance $\\sigma^2$, $\\epsilon \\sim \\mathcal{N}(0,\\sigma^2)$.\n",
    "\n",
    "A crucial assumption of linear regression is that our noise terms are independent, and identically distributed, across distinct observations of $X$ and $Y$.  More precisely, given $n$ observations of $Y$, $y_1,y_2,...,y_n$, along with $n$ paired inputs $x_1,x_2,...,x_n$, and our model:\n",
    "\n",
    "$$y_i = ax_i + b + \\epsilon_i,$$\n",
    "\n",
    "we assume $\\epsilon_i \\sim \\mathcal{N}(0,\\sigma^2)$ for all $i$, where $\\mathcal{N}(0,\\sigma^2)$ is shorthand for a normal random variable, with mean 0 and variance $\\sigma^2$.\n",
    "\n",
    "Given data, one \"fits\" a linear regression model by finding values for the slope $a$ and intercept $b$ that best explains the observed data.  For now, you don't need to understand the mechanics of this estimation procedure, however, if you're interested, you can read more at https://en.wikipedia.org/wiki/Ordinary_least_squares . \n"
   ]
  },
  {
   "cell_type": "code",
   "execution_count": 6,
   "metadata": {},
   "outputs": [
    {
     "name": "stdout",
     "output_type": "stream",
     "text": [
      "Estimated slope:  [2.00929641]\n",
      "Estimated intercept:  0.989573330324738\n"
     ]
    }
   ],
   "source": [
    "##Fitting a linear regression model in sklearn is as easy as typing .fit\n",
    "\n",
    "##make data\n",
    "X = np.random.normal(0,1,100) \n",
    "y = 2*X + 1 + np.random.normal(0,.1,100) ##add some noise so its not too easy\n",
    "\n",
    "##create a linear regression object\n",
    "my_linear_model = lr() \n",
    "\n",
    "##fit it to data (find a and b)\n",
    "##note, sklearn requires the input X to be n by 1, rather than an array of length n\n",
    "##numpy arrays can be dynamically reshaped using the .reshape function\n",
    "##-1 stands for \"as long as you can make it\"\n",
    "##so if you have n elements in an array, -1,1 will make it n by 1.\n",
    "my_linear_model.fit(X.reshape(-1,1),y) \n",
    " \n",
    "##what are model estimates for a and b?\n",
    "print('Estimated slope: ', my_linear_model.coef_)\n",
    "print('Estimated intercept: ',my_linear_model.intercept_) "
   ]
  },
  {
   "cell_type": "markdown",
   "metadata": {},
   "source": [
    "In this case, linear regression was a good model because the relationship between $X$\n",
    "and $Y$ was linear.  The estimated parameters are near their true values.\n",
    "\n",
    "To assess how well a linear regression fits data without prior knowledge of how $X$ and $Y$ are related, we typically train, or fit, the model, using a subset of our data, then see how accurate its predictions are on a holdout set of testing data.  For now, we'll just see how\n",
    "accurately it can predict the data on which it was fit.\n",
    "\n",
    "To do this, we will generate model predictions.  Given a test point $x^*$, predictions under our model will be given: \n",
    "\n",
    "$$y^* = \\hat{a}x^* + \\hat{b},$$\n",
    "\n",
    "where $\\hat{a},\\hat{b}$ are our esimated values of $a$ and $b$ generated during our call to .fit().  These predictions can be generated by calling the .predict method of sklearn `LinearRegression` objects.\n",
    "\n"
   ]
  },
  {
   "cell_type": "code",
   "execution_count": 7,
   "metadata": {},
   "outputs": [
    {
     "name": "stdout",
     "output_type": "stream",
     "text": [
      "[-1.70960587 -0.20792438  1.08269035  2.34406577 -0.98385407  0.84975746\n",
      "  2.01916495 -0.44072046 -3.54193404  0.73175728 -0.82196607 -0.53673318\n",
      "  2.31694915  0.23607414 -2.76641021 -0.23433671  1.98152472  2.15854406\n",
      " -0.08393227  5.24022881 -1.81873055 -4.08875194 -1.9293148   2.44625461\n",
      "  1.70231979  3.13254751  2.12870194  1.0402178  -2.77519661 -4.39260542\n",
      " -1.49123782 -0.76495713 -0.27405869 -0.65532982  2.45877742 -0.57852265\n",
      "  2.2150529   0.42935342 -0.04305651 -1.0108637  -0.83456805 -0.0854419\n",
      "  0.06255595  1.301224    3.25374966  2.67365251 -1.11302241  1.86919273\n",
      "  2.94289028 -0.53076625  2.22582769  0.76241602  1.30306137 -0.24473476\n",
      "  2.80134458 -3.12980936 -2.15675529 -1.40908642  3.02224523 -1.18923594\n",
      "  1.14101668  3.48161705  0.80482411  1.2076361  -1.63469204 -1.30289695\n",
      " -1.04458069 -0.6439433  -0.62171007  0.1254417   6.15180847  1.30033401\n",
      "  2.31627346  3.02111793  0.58453831  0.93634291  4.54260529  3.07908255\n",
      "  3.60662528  2.44593778  5.48788539  4.37265641  0.29681337  0.83282427\n",
      "  2.74187001  1.36683204  1.54237582  1.16047975  0.25451562  3.38369518\n",
      " -2.79104911  0.97895898  0.91015885 -2.36137229  1.98910115 -1.53058519\n",
      "  1.47673578  0.21769156 -1.01582271  0.86615968]\n"
     ]
    }
   ],
   "source": [
    "yhat = my_linear_model.predict(X.reshape(-1,1))\n",
    "print(yhat)"
   ]
  },
  {
   "cell_type": "markdown",
   "metadata": {},
   "source": [
    "With predictions in hand, we can then assess the quality of our model by assesing the accuracy of our predictions.  This is typically done via one of two metrics:\n",
    "\n",
    "Mean squared error: \n",
    "\n",
    "$$MSE = \\frac{1}{n}\\sum_{i=1}^n (y_i-\\hat{y}_i)^2$$\n",
    "\n",
    "Coefficient of determination: \n",
    "\n",
    "$$r^2 = 1- \\frac{\\sum_{i=1}^n (y_i-\\hat{y}_i)^2}{\\sum_{i=1}^n (y_i-\\bar{y})^2}$$\n",
    "\n",
    "where $\\hat{y}_i$ is our prediction for $y_i$ and where $\\bar{y}$ is the (sample) mean of $Y$.\n",
    "\n",
    "While mean squared error is often sufficient for comparing models on a given problem, it lacks a sense of scale.  $r^2$ scores address this shortcoming by scaling mean squared error by the variance of $Y$, and can thus be interpreted as the percent of variability in $Y$ explained by the model and $X$."
   ]
  },
  {
   "cell_type": "markdown",
   "metadata": {
    "problem": 0
   },
   "source": [
    "## Discussion Question (2 pts)\n",
    "Personal data is increasingly stored in encrypted formats managed by large tech companies. In cases where a crime has occured, this data may be important to investigations by law enforcement. Apple has famously [refused to crack their encryption or build backdoors](https://www.theverge.com/2020/1/7/21054836/fbi-iphone-unlock-apple-encryption-debate-pensacola-ios-security) into their software to help law enforcement gain access to potential evidence, while [Google has charged law enforcement](https://www.nytimes.com/2020/01/24/technology/google-search-warrants-legal-fees.html) a fee to execute search warrants for user data. **What roles and responsibilities do these private tech companies have to both users and law enforcement when it comes to either sharing or safeguarding user data when a crime has occurred?**  Enter a few sentences addressing this question in the box below."
   ]
  },
  {
   "cell_type": "markdown",
   "metadata": {},
   "source": [
    "Private tech companies often have contracts with the user to safeguard and inform how they share data, if these policies are breached they have an obligation to the inform the user. Tech companies benefit greatly from being able to safeguard data, my personal view on their obligation to law enforcement is muddled because it begs the question of whether citizens themselves owe an obligation to law enforcement. Furthermore, asking companies themselves to change their design and systems for the government is even more incoherent."
   ]
  },
  {
   "cell_type": "markdown",
   "metadata": {
    "narrative": true
   },
   "source": [
    "# HW 5\n",
    "\n",
    "**To make it easier for TAs to grade your work, make sure that all cells are executed so that we can see your results without having to run anything**\n",
    "\n",
    "\n"
   ]
  },
  {
   "cell_type": "code",
   "execution_count": 8,
   "metadata": {
    "narrative": true
   },
   "outputs": [],
   "source": [
    "import numpy as np\n",
    "import pandas as pd\n",
    "from matplotlib import pyplot as plt\n",
    "from sklearn.linear_model import LinearRegression as lr"
   ]
  },
  {
   "cell_type": "markdown",
   "metadata": {
    "narrative": true
   },
   "source": [
    "## A: Computing Covariance, Correlation, and $r^2$ in numpy\n"
   ]
  },
  {
   "cell_type": "markdown",
   "metadata": {
    "problem": 1
   },
   "source": [
    "\n",
    "\n",
    "**Problem 1 (2 points):** Below we have defined an ndarray which records paired observations of two random variables $X$,$Y$.  This ndarray is a $n$ by 2 array, where $n=15$ is the number of paired observations.  Run the code cell below, and generate a scatter plot of your data, with appropriate labels."
   ]
  },
  {
   "cell_type": "code",
   "execution_count": 9,
   "metadata": {
    "narrative": true
   },
   "outputs": [],
   "source": [
    "q = np.array(\n",
    "    [\n",
    "        [ 4.35994902, 10.84003387],\n",
    "        [ 0.25926232,  6.64625283],\n",
    "        [ 5.49662478, 12.70709295],\n",
    "        [ 4.35322393, 10.33309438],\n",
    "        [ 4.20367802, 10.21407197],\n",
    "        [ 3.30334821,  8.47051026],\n",
    "        [ 2.04648634,  7.93047576],\n",
    "        [ 6.19270966, 11.491082  ],\n",
    "        [ 2.99654674,  7.60715331],\n",
    "        [ 2.66827275,  9.15886831],\n",
    "        [ 6.21133833, 11.99190195],\n",
    "        [ 5.29142094, 10.98304651],\n",
    "        [ 1.34579945,  6.89008468],\n",
    "        [ 5.13578121,  9.01125354],\n",
    "        [ 1.84439866,  8.3941969 ]\n",
    "    ]\n",
    ")"
   ]
  },
  {
   "cell_type": "code",
   "execution_count": 10,
   "metadata": {},
   "outputs": [
    {
     "data": {
      "image/png": "[encoded data removed]",
      "text/plain": [
       "<Figure size 432x288 with 1 Axes>"
      ]
     },
     "metadata": {
      "needs_background": "light"
     },
     "output_type": "display_data"
    }
   ],
   "source": [
    "## insert solution here\n",
    "X = q[:, 0]\n",
    "Y = q[:, 1]\n",
    "plt.scatter(X, Y)\n",
    "plt.xlabel('X')\n",
    "plt.ylabel('Y')\n",
    "plt.title('X vs Y')\n",
    "plt.show()"
   ]
  },
  {
   "cell_type": "markdown",
   "metadata": {
    "problem": 2
   },
   "source": [
    "**Problem 2 (2 points):** Based on this plot, what kind of functional relationship do $X$ and $Y$ seem to have?  Do you think these variables are positively or negatively correlated?  Why?"
   ]
  },
  {
   "cell_type": "markdown",
   "metadata": {},
   "source": [
    "There seems to be a strong positive correlation, as X increases Y increases. However, these are random variables, so it would make more sense for them to have no correlation."
   ]
  },
  {
   "cell_type": "markdown",
   "metadata": {
    "narrative": true
   },
   "source": [
    "Let's now compute some statistics to better understand the relationship between $X$ and $Y$.\n",
    "In the problems below, where appropriate, you will find the numpy functions `mean`, `cov`, `var`, and `corrcoef` to be useful. \n",
    "\n",
    "Remember that there are two ways to calculate variance, dividing by $N$ and dividing by $N-1$ (Note numpy and pandas have slightly different implementations of variance; one uses n-1, the other weights by n). You may use either, but be consistent. To make your code clearer, feel free to create variables for values that you use repeatedly. You can use them across cells. "
   ]
  },
  {
   "cell_type": "markdown",
   "metadata": {
    "problem": 3
   },
   "source": [
    "**Problem 3 (1 point):** Calculate the variance of $X$ and the variance of $Y$ using numpy. **Here and in every problem below, print your results with informative labeling!** "
   ]
  },
  {
   "cell_type": "code",
   "execution_count": 11,
   "metadata": {},
   "outputs": [
    {
     "name": "stdout",
     "output_type": "stream",
     "text": [
      "variance of X:  3.115355247126247\n",
      "variance of Y:  3.2864188943601205\n"
     ]
    }
   ],
   "source": [
    "print('variance of X: ', np.var(X))\n",
    "print('variance of Y: ', np.var(Y))"
   ]
  },
  {
   "cell_type": "markdown",
   "metadata": {
    "problem": 4
   },
   "source": [
    "**Problem 4 (2 pts):** Calculate the variance of $X$ and the variance of $Y$ manually (without numpy).  Note: You can still use numpy's mean function.\n"
   ]
  },
  {
   "cell_type": "code",
   "execution_count": 12,
   "metadata": {},
   "outputs": [
    {
     "name": "stdout",
     "output_type": "stream",
     "text": [
      "variance of X: 3.115355247126247\n",
      "variance of Y: 3.2864188943601205\n"
     ]
    }
   ],
   "source": [
    "varX = 0\n",
    "mx = X.mean()\n",
    "for n in X:\n",
    "    varX = varX + (n - mx)**2\n",
    "varX = varX/15\n",
    "print('variance of X:', varX)\n",
    "\n",
    "varY = 0\n",
    "my = Y.mean()\n",
    "for n in Y:\n",
    "    varY = varY + (n - my)**2\n",
    "varY = varY/15\n",
    "print('variance of Y:', varY)"
   ]
  },
  {
   "cell_type": "markdown",
   "metadata": {
    "problem": 5
   },
   "source": [
    "**Problem 5 (1 point)**: Calculate the covariance of $X$ and $Y$ using numpy."
   ]
  },
  {
   "cell_type": "code",
   "execution_count": 13,
   "metadata": {},
   "outputs": [
    {
     "name": "stdout",
     "output_type": "stream",
     "text": [
      "covariance of X,Y:  3.080690723026007\n"
     ]
    }
   ],
   "source": [
    "covXY = np.cov(X,Y)[0,1]\n",
    "print('covariance of X,Y: ', covXY)"
   ]
  },
  {
   "cell_type": "markdown",
   "metadata": {
    "problem": 6
   },
   "source": [
    "**Problem 6 (2 points):** Calculate the correlation between $X$ and $Y$ without using numpy, by combining your answers from previous problems."
   ]
  },
  {
   "cell_type": "code",
   "execution_count": 14,
   "metadata": {},
   "outputs": [
    {
     "name": "stdout",
     "output_type": "stream",
     "text": [
      "correlation of X,Y: 0.9627928423433163\n"
     ]
    }
   ],
   "source": [
    "# cov(x,y)/sqrtvarx*sqrtvary\n",
    "corrXY = covXY/(np.sqrt(varX)*np.sqrt(varY))\n",
    "print('correlation of X,Y:', corrXY)\n",
    "    "
   ]
  },
  {
   "cell_type": "markdown",
   "metadata": {
    "problem": 11
   },
   "source": [
    "### B. Linear Regression\n",
    " \n",
    "Let's now test how well the relationship between $Y$ and $X$ can be described using a linear model."
   ]
  },
  {
   "cell_type": "markdown",
   "metadata": {
    "problem": 7
   },
   "source": [
    "**Problem 7 (6 points):** Using sklearn, fit a simple linear regression model to predict $Y$ from $X$. (If you're unsure of how to do this, the documentation will prove useful.)\n",
    "\n",
    "After fitting this model, print its slope and intercept, then produce a scatter plot showing the \"in sample\" predictions of this model (i.e. predictions at the points at which this this model was trained), alongside the observed values of $Y$.  Note that both scatterplots should be placed on the same graph.  Use a legend to indicate which points correspond to predictions, and which points correspond to true values.   "
   ]
  },
  {
   "cell_type": "code",
   "execution_count": 15,
   "metadata": {},
   "outputs": [
    {
     "name": "stdout",
     "output_type": "stream",
     "text": [
      "slope:  0.9229481434399064\n",
      "intercept:  6.083516562436524\n"
     ]
    },
    {
     "data": {
      "image/png": "[encoded data removed]",
      "text/plain": [
       "<Figure size 432x288 with 1 Axes>"
      ]
     },
     "metadata": {
      "needs_background": "light"
     },
     "output_type": "display_data"
    }
   ],
   "source": [
    "linear_model = lr()\n",
    "x = []\n",
    "nx = []\n",
    "for n in X:\n",
    "    nx.append(n)\n",
    "    x.append(nx)\n",
    "    nx = []\n",
    "    \n",
    "linear_model.fit(x, Y)\n",
    "\n",
    "print('slope: ',linear_model.coef_[0])\n",
    "print('intercept: ',linear_model.intercept_)\n",
    "\n",
    "\n",
    "plt.scatter(X, Y, alpha =.8)\n",
    "plt.scatter(\n",
    "    x,\n",
    "    linear_model.predict(x), \n",
    "    c='darkorange',\n",
    "    alpha=0.8\n",
    ")\n",
    "plt.tight_layout()\n",
    "plt.title('Linear Regression Scatterplot')\n",
    "plt.show()"
   ]
  },
  {
   "cell_type": "markdown",
   "metadata": {
    "problem": 8
   },
   "source": [
    "**Problem 8 (3 points):**.\n",
    "Looking at the data, a linear relationship between $Y$ and $X$ seems like a reasonable assumption.  However, linear regression also assumes that the residuals, or the differences between model predictions and observed values of $Y$, are (i) independent and (ii) identically distributed (i.e. homoskedasticity).  Let's test this assumption.  \n",
    "\n",
    "Produce another scatter plot, with observed values of $X$ on the x axis, and with the residuals $r_i = y_i - \\hat{y}_i$, where $\\hat{y}_i = f(x_i)$ is our predicted value for $x_i$ under (our linear regression model) $f$.  Based on this scatterplot, do you think the assumptions (i) and (ii) are satisfied?"
   ]
  },
  {
   "cell_type": "code",
   "execution_count": 16,
   "metadata": {},
   "outputs": [
    {
     "data": {
      "image/png": "[encoded data removed]",
      "text/plain": [
       "<Figure size 432x288 with 1 Axes>"
      ]
     },
     "metadata": {
      "needs_background": "light"
     },
     "output_type": "display_data"
    }
   ],
   "source": [
    "res = []\n",
    "for n in range(15):\n",
    "    res.append(Y[n] - linear_model.predict(x)[n])\n",
    "# print(res)\n",
    "\n",
    "plt.scatter(X, res, alpha =.8)\n",
    "plt.title('Residual Scatterplot')\n",
    "plt.show()"
   ]
  },
  {
   "cell_type": "markdown",
   "metadata": {
    "problem": 9
   },
   "source": [
    "**Problem 9 (3 points):** \n",
    "\n",
    "Finally, let's quantify how well our linear regression modeled the data.  Compute and print the coefficient of determination (i.e. $r^2$) for this model, on this data **using the formula below (NOT via `numpy` or `pandas` `.corr()` method)**:\n",
    "\n",
    "$$r^2 = 1 - \\frac{SSR}{SST}$$\n",
    "\n",
    "where \n",
    "\n",
    "$$SSR = \\sum_{i=1}^n r_i^2$$\n",
    "\n",
    "$$SST = \\sum_{i=1}^n (y_i-\\bar{y})^2$$\n",
    "\n",
    "Note: Sometimes the terminology $r^2 = 1 - \\frac{MSE(y,\\hat{y})}{Var(y)}$ is used, where MSE = mean squared error. Ponder why these definitions are equivalent, when using $N$ in the denominator of your variance calculation.  In the future, you can automatically perform this calculation using `LinearRegression`'s built in `score` method, or by calling `sklearn.metrics.r2_score`.\n",
    "\n",
    "Based on your findings, how well is $Y$ explained by $X$ in the context of a our model (be precise and quantitative in your answer).  How does this $r^2$ score relate to the corr($X,Y$)?"
   ]
  },
  {
   "cell_type": "code",
   "execution_count": 17,
   "metadata": {},
   "outputs": [
    {
     "name": "stdout",
     "output_type": "stream",
     "text": [
      "coefficient of determinination: 0.8074939165530416\n"
     ]
    }
   ],
   "source": [
    "ssr = 0\n",
    "for n in res:\n",
    "    ssr = ssr + n**2\n",
    "sst = 0\n",
    "ym = Y.mean()\n",
    "for n in range(15):\n",
    "    sst = sst + (Y[n] - ym)**2\n",
    "\n",
    "rsqr = 1-(ssr/sst)\n",
    "print('coefficient of determinination:',rsqr)\n",
    "\n",
    "#check\n",
    "# from sklearn.metrics import r2_score\n",
    "# print(r2_score(Y, linear_model.predict(x)))"
   ]
  },
  {
   "cell_type": "markdown",
   "metadata": {
    "narrative": true
   },
   "source": [
    "## C:  Making data with a desired correlation\n",
    "\n",
    "To help you better understand correlation, you'll now create datasets that have a prescribed correlation.\n",
    "\n",
    "Note that in practice, due to randomness, it will be hard to get exact results.  Instead, round your empirical correlations to two decimal places and, whenever relevent, be sure to generate lots (10000+) of random variables to ensure reproducible results."
   ]
  },
  {
   "cell_type": "markdown",
   "metadata": {
    "problem": 10
   },
   "source": [
    "\n",
    "**Problem 10 (1 point):** Create two arrays, x, y, whose correlation is 1.0. **Calculate $Corr(x,y)$.**"
   ]
  },
  {
   "cell_type": "code",
   "execution_count": 18,
   "metadata": {},
   "outputs": [
    {
     "name": "stdout",
     "output_type": "stream",
     "text": [
      "correlation of x, y:  1.0\n"
     ]
    }
   ],
   "source": [
    "x = np.random.rand(20000)\n",
    "y = x\n",
    "print('correlation of x, y: ', round(np.corrcoef(x,y)[0,1],1))"
   ]
  },
  {
   "cell_type": "markdown",
   "metadata": {
    "problem": 11
   },
   "source": [
    "\n",
    "**Problem 11 (1 point):** Using the same x values from your answer to  problem 10, create a second array, `y2`, that also has perfect correlation with `x`, but which is not identical to your `y` from the previous problem. **Print your observed correlation coefficient between `x` and `y2`.**"
   ]
  },
  {
   "cell_type": "code",
   "execution_count": 23,
   "metadata": {},
   "outputs": [
    {
     "name": "stdout",
     "output_type": "stream",
     "text": [
      "correlation of x, y:  1.0\n"
     ]
    }
   ],
   "source": [
    "y2 = y +1\n",
    "print('correlation of x, y: ', round(np.corrcoef(x,y2)[0,1],1))"
   ]
  },
  {
   "cell_type": "markdown",
   "metadata": {
    "problem": 12
   },
   "source": [
    "\n",
    "**Problem 12 (1 point):** Create two arrays with correlation close to 0, which are independent of each other, and print the correlation of your data.  "
   ]
  },
  {
   "cell_type": "code",
   "execution_count": 20,
   "metadata": {},
   "outputs": [
    {
     "name": "stdout",
     "output_type": "stream",
     "text": [
      "correlation of x, y:  0\n"
     ]
    }
   ],
   "source": [
    "x12 = np.random.rand(20000)\n",
    "y12 = np.random.rand(20000)\n",
    "print('correlation of x, y: ', round(np.corrcoef(x12,y12)[0,1]))"
   ]
  },
  {
   "cell_type": "markdown",
   "metadata": {
    "problem": 13
   },
   "source": [
    "**Problem 13 (3 points):** Create two arrays with correlation **$r = $** 0.5 (+/- 0.01) by adding noise. First create $X$. Then create a new array `noise` of the same length using `numpy.random.normal()` with mean zero and standard deviation 1.0. Hint: Set a variable `scale`, initially equal to 1.0. Let $Y$ equal $X$ plus `scale` times `noise` and calculate $r$. If $r$ is greater than or less than 0.5, change the value of `scale` and repeat. It's OK to do this by brute force, or by figuring out how to search for the correct value of `noise` in a computationally efficient way.  **Print your scale factor and $r$.**"
   ]
  },
  {
   "cell_type": "code",
   "execution_count": 25,
   "metadata": {},
   "outputs": [
    {
     "name": "stdout",
     "output_type": "stream",
     "text": [
      "scale factor:  0.5\n",
      "correlation: r = 0.50\n"
     ]
    }
   ],
   "source": [
    "x13 = np.random.rand(20000)\n",
    "noise = np.random.normal(0,1.0,20000)\n",
    "scale = .5\n",
    "y13 = x13 + scale * noise\n",
    "print('scale factor: ', scale)\n",
    "print('correlation: r = {:.2f}'.format(np.corrcoef(x13, y13)[0,1]))"
   ]
  },
  {
   "cell_type": "markdown",
   "metadata": {
    "problem": 14
   },
   "source": [
    "**Problem 14 (3 points):** Two variables which are independent have 0 correlation, but the reverse statement is not always true.  Create an array $X$, and then generate an array $Y$ that is a deterministic function of $X$, but where the correlation between $X$ and $Y$ is near 0. In other words, given $X$, you know *exactly* what $Y$ will be, but the $r$  value is still close to 0.  Hint: You've seen an example of this in lecture (https://en.wikipedia.org/wiki/Pearson_correlation_coefficient#/media/File:Correlation_examples2.svg)\n"
   ]
  },
  {
   "cell_type": "code",
   "execution_count": 22,
   "metadata": {},
   "outputs": [
    {
     "name": "stdout",
     "output_type": "stream",
     "text": [
      "correlation:  0.02901599742163952\n"
     ]
    }
   ],
   "source": [
    "x14 = np.random.normal(0, 1, 20000)\n",
    "y14 = x14**2\n",
    "# print(y14)\n",
    "print('correlation: ', np.corrcoef(x14, y14)[0,1])"
   ]
  },
  {
   "cell_type": "code",
   "execution_count": null,
   "metadata": {},
   "outputs": [],
   "source": []
  }
 ],
 "metadata": {
  "celltoolbar": "Edit Metadata",
  "kernelspec": {
   "display_name": "Python 3",
   "language": "python",
   "name": "python3"
  },
  "language_info": {
   "codemirror_mode": {
    "name": "ipython",
    "version": 3
   },
   "file_extension": ".py",
   "mimetype": "text/x-python",
   "name": "python",
   "nbconvert_exporter": "python",
   "pygments_lexer": "ipython3",
   "version": "3.8.5"
  }
 },
 "nbformat": 4,
 "nbformat_minor": 4
}
