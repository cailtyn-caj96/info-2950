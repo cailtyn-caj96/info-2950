{
 "cells": [
  {
   "cell_type": "markdown",
   "metadata": {},
   "source": [
    "# Probability distributions and hypothesis tests\n",
    "\n",
    "We've seen already how to use sampling techniques to assess the range of values we would expect to observe for a given function sampled from a particular population. Specifically, we simulated a **null hypothesis** via **permutation** to see whether or not our observed value was outside the range of values we would expect if there were no relationship between our variables of interest. And we simulated **multiple samples** from the same population via **bootstrapping** (resampling with replacement) from our experimental data in order to assess the range of values we would be likely to see if we ran our experiment many times.\n",
    "\n",
    "How does computational hypothesis testing relate to the what you learned in your stats class for other applications? That's what we're interested in today.\n",
    "\n",
    "When you think about a hypothesis test, you want to ask:\n",
    "\n",
    "* What is the **dataset**?\n",
    "* What is the **function or statistic of interest**?\n",
    "* How would the values of the function of interest be **distributed** in the **absence of a pattern** or effect (that is, under the null hypothesis)?\n",
    "\n",
    "Recall our permutation test for the relation between $X$ and $Y$. There dataset was 20 ($x$, $y$) pairs. The function of interest, $m$, was the slope of the linear regression of $Y$ given $X$. The distribution of expected values under the null hypothesis was whatever we observed when we permuted $Y$ while holding $X$ fixed. To test for significance, we compared our actual slope to the range of slopes generated under the null and found that our actual slope was unlikely to have been generated under the null."
   ]
  },
  {
   "cell_type": "code",
   "execution_count": 1,
   "metadata": {},
   "outputs": [],
   "source": [
    "# imports, as ever\n",
    "import numpy as np\n",
    "import pandas as pd\n",
    "import matplotlib.pyplot as plt"
   ]
  },
  {
   "cell_type": "markdown",
   "metadata": {},
   "source": [
    "## Synthetic examples of hyopthesis test results"
   ]
  },
  {
   "cell_type": "code",
   "execution_count": 2,
   "metadata": {},
   "outputs": [],
   "source": [
    "# visualize an arbitrary result relative to normal distribution\n",
    "def synthetic_hypothesis_result(critical=0):\n",
    "    plt.figure(figsize=(6,4))\n",
    "    data = np.random.normal(0, 1, size=1000)\n",
    "    plt.hist(data, bins=30)\n",
    "    plt.vlines(x=critical, ymin=0, ymax=200, color='darkred')\n",
    "    plt.xlim((-5,5))\n",
    "    plt.ylim(0,100)\n",
    "    plt.show()\n",
    "    print(f'Percent of results < critical value: {np.searchsorted(sorted(data), critical)/10}%')"
   ]
  },
  {
   "cell_type": "markdown",
   "metadata": {},
   "source": [
    "### Very small *p*, reject the null"
   ]
  },
  {
   "cell_type": "code",
   "execution_count": 3,
   "metadata": {},
   "outputs": [
    {
     "data": {
      "image/png": "[encoded data removed]",
      "text/plain": [
       "<Figure size 432x288 with 1 Axes>"
      ]
     },
     "metadata": {
      "needs_background": "light"
     },
     "output_type": "display_data"
    },
    {
     "name": "stdout",
     "output_type": "stream",
     "text": [
      "Percent of results < critical value: 100.0%\n"
     ]
    }
   ],
   "source": [
    "# very unlikely under the null (4.5 sigma)\n",
    "# p-value is about 0.000007\n",
    "synthetic_hypothesis_result(4.5)"
   ]
  },
  {
   "cell_type": "markdown",
   "metadata": {},
   "source": [
    "### Large *p*, cannot reject null"
   ]
  },
  {
   "cell_type": "code",
   "execution_count": 4,
   "metadata": {},
   "outputs": [
    {
     "data": {
      "image/png": "[encoded data removed]",
      "text/plain": [
       "<Figure size 432x288 with 1 Axes>"
      ]
     },
     "metadata": {
      "needs_background": "light"
     },
     "output_type": "display_data"
    },
    {
     "name": "stdout",
     "output_type": "stream",
     "text": [
      "Percent of results < critical value: 67.6%\n"
     ]
    }
   ],
   "source": [
    "# cannot reject the null, p = 0.6\n",
    "synthetic_hypothesis_result(0.5)"
   ]
  },
  {
   "cell_type": "markdown",
   "metadata": {},
   "source": [
    "### Marinal *p*, depends on chosen critical value"
   ]
  },
  {
   "cell_type": "code",
   "execution_count": 5,
   "metadata": {},
   "outputs": [
    {
     "data": {
      "image/png": "[encoded data removed]",
      "text/plain": [
       "<Figure size 432x288 with 1 Axes>"
      ]
     },
     "metadata": {
      "needs_background": "light"
     },
     "output_type": "display_data"
    },
    {
     "name": "stdout",
     "output_type": "stream",
     "text": [
      "Percent of results < critical value: 98.9%\n"
     ]
    }
   ],
   "source": [
    "# marginal; depends on chosen significance level\n",
    "# p = 0.05\n",
    "synthetic_hypothesis_result(2)"
   ]
  },
  {
   "cell_type": "markdown",
   "metadata": {},
   "source": [
    "### Normals everywhere!\n",
    "\n",
    "You'll notice that in the previous plots we're sampling from a normal distribution. This isn't an accident! **When we examine histograms of functions of interest, they almost always end up looking like normal distributions!** The reason is that the distribution of a function that involves a sum (like a mean) is almost always normal, regardless of the shape of the underlying distribution.\n",
    "\n",
    "This is the intuition for \"standard\" tests like *z*-tests or *t*-tests. What we're really doing when we go through the steps of one of those tests is calibrating the mean and variance of a normal based on your sample size."
   ]
  },
  {
   "cell_type": "markdown",
   "metadata": {},
   "source": [
    "## Example 1: Covid trial results\n",
    "\n",
    "Consider the initial results of Pfizer's Covid vaccine trial. It involved 43,000 people, of whom 94 developed Covid during a one-month trial. Of the participants in the study, 90% received the vaccine and 10% received a placebo. This is our dataset.\n",
    "\n",
    "Our function of interest is the fraction of people who developed Covid during the course of the trial. \n",
    "\n",
    "We estimate that the population monthly Covid positive rate is 1%. If the vaccine had no effect, we would expect about 1% of trial participants to have developed Covid.\n",
    "\n",
    "If we assume that Covid cases are independent and randomly distributed binary outcomes, a Binomial distribution is a good model of our null.\n",
    "\n",
    "**Parameters of the binomial distribution:**\n",
    "\n",
    "* $N$ = sample size (here, 43000)\n",
    "* $p$ = event probability (here, 0.01)\n",
    "* $\\bar{x}$ = mean = $Np$\n",
    "* $Var(X)$ = variance = $Np(1-p)$\n",
    "* Possible outcomes: integers from zero to $N$"
   ]
  },
  {
   "cell_type": "code",
   "execution_count": 6,
   "metadata": {},
   "outputs": [
    {
     "data": {
      "text/plain": [
       "array([0, 1, 3, 1, 0, 0, 0, 3, 2, 1, 0, 0, 2, 1, 1, 1, 0, 1, 1, 0, 0, 0,\n",
       "       0, 2, 1, 0, 3, 1, 1, 1, 0, 0, 2, 0, 1, 0, 3, 1, 1, 4, 3, 0, 0, 1,\n",
       "       2, 0, 1, 4, 1, 1])"
      ]
     },
     "execution_count": 6,
     "metadata": {},
     "output_type": "execute_result"
    }
   ],
   "source": [
    "# we can use numpy to generate the results of a binomial distribution \n",
    "#  with chosen paramaters\n",
    "np.random.binomial(n=100, p=0.01, size=50)"
   ]
  },
  {
   "cell_type": "markdown",
   "metadata": {},
   "source": [
    "What do these values in this array mean?"
   ]
  },
  {
   "cell_type": "code",
   "execution_count": 7,
   "metadata": {},
   "outputs": [
    {
     "data": {
      "image/png": "[encoded data removed]",
      "text/plain": [
       "<Figure size 432x288 with 1 Axes>"
      ]
     },
     "metadata": {
      "needs_background": "light"
     },
     "output_type": "display_data"
    }
   ],
   "source": [
    "# plot 500 trials of 100 people with 1% infection rate\n",
    "plt.hist(np.random.binomial(100, 0.01, 500), bins=range(30))\n",
    "plt.show()"
   ]
  },
  {
   "cell_type": "code",
   "execution_count": 8,
   "metadata": {},
   "outputs": [],
   "source": [
    "# function to calculate the variance of a binomial distribution\n",
    "def binomial_variance(n, p):\n",
    "    return n * p * (1 - p)"
   ]
  },
  {
   "cell_type": "code",
   "execution_count": 9,
   "metadata": {},
   "outputs": [
    {
     "data": {
      "text/plain": [
       "0.99"
      ]
     },
     "execution_count": 9,
     "metadata": {},
     "output_type": "execute_result"
    }
   ],
   "source": [
    "# expected variance in our subexample\n",
    "binomial_variance(100, 0.01)"
   ]
  },
  {
   "cell_type": "code",
   "execution_count": 10,
   "metadata": {},
   "outputs": [
    {
     "data": {
      "text/plain": [
       "25.0"
      ]
     },
     "execution_count": 10,
     "metadata": {},
     "output_type": "execute_result"
    }
   ],
   "source": [
    "# variance goes up if the event is more likely (up to p=0.5)\n",
    "binomial_variance(100, 0.50)"
   ]
  },
  {
   "cell_type": "code",
   "execution_count": 11,
   "metadata": {},
   "outputs": [
    {
     "data": {
      "image/png": "[encoded data removed]",
      "text/plain": [
       "<Figure size 432x288 with 1 Axes>"
      ]
     },
     "metadata": {
      "needs_background": "light"
     },
     "output_type": "display_data"
    }
   ],
   "source": [
    "# plot trial results\n",
    "plt.hist(np.random.binomial(n=43000, p=0.01, size=10000), bins=30)\n",
    "plt.vlines(x=94, ymin=0, ymax=1000, color='darkred')\n",
    "plt.show()"
   ]
  },
  {
   "cell_type": "code",
   "execution_count": 12,
   "metadata": {},
   "outputs": [
    {
     "name": "stdout",
     "output_type": "stream",
     "text": [
      "Standard deviation of trial data: 20.63\n",
      "Result is 16.28 standard deviations below the mean\n"
     ]
    }
   ],
   "source": [
    "# how much of an outlier is the trial result?\n",
    "standard_deviation_expected = np.sqrt(binomial_variance(43000,0.01))\n",
    "print(f'Standard deviation of trial data: {standard_deviation_expected:.2f}')\n",
    "print(f'Result is {(430-94)/standard_deviation_expected:.2f} standard deviations below the mean')"
   ]
  },
  {
   "cell_type": "markdown",
   "metadata": {},
   "source": [
    "### Conclusion: w00t!"
   ]
  },
  {
   "cell_type": "markdown",
   "metadata": {},
   "source": [
    "## Example 2: Basketball"
   ]
  },
  {
   "cell_type": "markdown",
   "metadata": {},
   "source": [
    "Consider the number of threes that a player like James Harden makes in a game. On most nights, it's more than the average player, to be sure. But not every night. How can we model made threes to test if Harden is better than the average player and/or better in 2018, say, than over the rest of his career?\n",
    "\n",
    "Well, how many threes is it possible to make in a game? I can make zero, so that's the lower bound. In (very abstract) theory, a player could make arbitrarily many threes. Compare this situation to our Covid trial. For the binomial, there's a theoretical limit -- it's possible (though unlikely) to get 43,000 positives out of 43,000, but impossible to get 43,001. Not so with made threes.\n",
    "\n",
    "The Poisson (\"pwa-SOHN\", named for the [French mathematician](https://en.wikipedia.org/wiki/Sim%C3%A9on_Denis_Poisson), not for the concept of fish) distribution is a good choice when you are counting the number of times an event occurs within a fixed period (like a basketball game). The Poisson has a lower bound (zero), but no upper bound, though the probability goes down exponentially as you get further above the mean.\n",
    "\n",
    "**Parameters of the Poisson distribution:**\n",
    "\n",
    "* Parameter: $\\lambda$ (lambda)\n",
    "* Mean: $\\lambda$\n",
    "* Variance: $\\lambda$\n",
    "* Possible outcomes: integers from 0 to $\\infty$\n",
    "\n",
    "As you increase  $\\lambda$ , the variance increases along with the mean, so the distribution spreads out. When it is close to 0, it can't spread to the left, so it \"bunches up\" against the y axis."
   ]
  },
  {
   "cell_type": "code",
   "execution_count": 13,
   "metadata": {},
   "outputs": [
    {
     "data": {
      "image/png": "[encoded data removed]",
      "text/plain": [
       "<Figure size 1080x216 with 5 Axes>"
      ]
     },
     "metadata": {
      "needs_background": "light"
     },
     "output_type": "display_data"
    }
   ],
   "source": [
    "# visualize poisson with different lambda values\n",
    "figure, subplots = plt.subplots(1, 5, sharex=True, sharey=True, figsize=(15,3))\n",
    "\n",
    "# can't use lambda as variable name b/c it's a reserved word in python\n",
    "for i, poisson_mean in enumerate([1, 3, 5, 9, 13]):\n",
    "    subplots[i].hist(np.random.poisson(poisson_mean, size=1000), bins=range(30))\n",
    "    subplots[i].text(15, 150, f\"λ={poisson_mean}\", fontsize='large')\n",
    "plt.show()"
   ]
  },
  {
   "cell_type": "code",
   "execution_count": 14,
   "metadata": {},
   "outputs": [
    {
     "name": "stdout",
     "output_type": "stream",
     "text": [
      "9.5255 9.59474975\n"
     ]
    }
   ],
   "source": [
    "# does the distribution really have the stated properties?\n",
    "poisson_samples = np.random.poisson(9.5, size=10000)\n",
    "print(poisson_samples.mean(), poisson_samples.var())"
   ]
  },
  {
   "cell_type": "markdown",
   "metadata": {},
   "source": [
    "### Harden 2018-19 vs career in Houston\n",
    "\n",
    "Data from [Basketball Reference](https://www.basketball-reference.com/players/h/hardeja01.html)."
   ]
  },
  {
   "cell_type": "code",
   "execution_count": 15,
   "metadata": {},
   "outputs": [
    {
     "data": {
      "text/html": [
       "<div>\n",
       "<style scoped>\n",
       "    .dataframe tbody tr th:only-of-type {\n",
       "        vertical-align: middle;\n",
       "    }\n",
       "\n",
       "    .dataframe tbody tr th {\n",
       "        vertical-align: top;\n",
       "    }\n",
       "\n",
       "    .dataframe thead th {\n",
       "        text-align: right;\n",
       "    }\n",
       "</style>\n",
       "<table border=\"1\" class=\"dataframe\">\n",
       "  <thead>\n",
       "    <tr style=\"text-align: right;\">\n",
       "      <th></th>\n",
       "      <th>Rk</th>\n",
       "      <th>G</th>\n",
       "      <th>Age</th>\n",
       "      <th>Tm</th>\n",
       "      <th>Unnamed: 5</th>\n",
       "      <th>Opp</th>\n",
       "      <th>Unnamed: 7</th>\n",
       "      <th>GS</th>\n",
       "      <th>MP</th>\n",
       "      <th>FG</th>\n",
       "      <th>...</th>\n",
       "      <th>DRB</th>\n",
       "      <th>TRB</th>\n",
       "      <th>AST</th>\n",
       "      <th>STL</th>\n",
       "      <th>BLK</th>\n",
       "      <th>TOV</th>\n",
       "      <th>PF</th>\n",
       "      <th>PTS</th>\n",
       "      <th>GmSc</th>\n",
       "      <th>+/-</th>\n",
       "    </tr>\n",
       "    <tr>\n",
       "      <th>Date</th>\n",
       "      <th></th>\n",
       "      <th></th>\n",
       "      <th></th>\n",
       "      <th></th>\n",
       "      <th></th>\n",
       "      <th></th>\n",
       "      <th></th>\n",
       "      <th></th>\n",
       "      <th></th>\n",
       "      <th></th>\n",
       "      <th></th>\n",
       "      <th></th>\n",
       "      <th></th>\n",
       "      <th></th>\n",
       "      <th></th>\n",
       "      <th></th>\n",
       "      <th></th>\n",
       "      <th></th>\n",
       "      <th></th>\n",
       "      <th></th>\n",
       "      <th></th>\n",
       "    </tr>\n",
       "  </thead>\n",
       "  <tbody>\n",
       "    <tr>\n",
       "      <th>2012-10-31</th>\n",
       "      <td>1</td>\n",
       "      <td>1.0</td>\n",
       "      <td>23-066</td>\n",
       "      <td>HOU</td>\n",
       "      <td>@</td>\n",
       "      <td>DET</td>\n",
       "      <td>W (+9)</td>\n",
       "      <td>1.0</td>\n",
       "      <td>44:04:00</td>\n",
       "      <td>14.0</td>\n",
       "      <td>...</td>\n",
       "      <td>5.0</td>\n",
       "      <td>6.0</td>\n",
       "      <td>12.0</td>\n",
       "      <td>4.0</td>\n",
       "      <td>1.0</td>\n",
       "      <td>4.0</td>\n",
       "      <td>2.0</td>\n",
       "      <td>37.0</td>\n",
       "      <td>35.2</td>\n",
       "      <td>18.0</td>\n",
       "    </tr>\n",
       "    <tr>\n",
       "      <th>2012-11-02</th>\n",
       "      <td>2</td>\n",
       "      <td>2.0</td>\n",
       "      <td>23-068</td>\n",
       "      <td>HOU</td>\n",
       "      <td>@</td>\n",
       "      <td>ATL</td>\n",
       "      <td>W (+7)</td>\n",
       "      <td>1.0</td>\n",
       "      <td>39:49:00</td>\n",
       "      <td>14.0</td>\n",
       "      <td>...</td>\n",
       "      <td>6.0</td>\n",
       "      <td>7.0</td>\n",
       "      <td>2.0</td>\n",
       "      <td>0.0</td>\n",
       "      <td>0.0</td>\n",
       "      <td>5.0</td>\n",
       "      <td>3.0</td>\n",
       "      <td>45.0</td>\n",
       "      <td>34.2</td>\n",
       "      <td>17.0</td>\n",
       "    </tr>\n",
       "    <tr>\n",
       "      <th>2012-11-03</th>\n",
       "      <td>3</td>\n",
       "      <td>3.0</td>\n",
       "      <td>23-069</td>\n",
       "      <td>HOU</td>\n",
       "      <td>NaN</td>\n",
       "      <td>POR</td>\n",
       "      <td>L (-10)</td>\n",
       "      <td>1.0</td>\n",
       "      <td>40:43:00</td>\n",
       "      <td>8.0</td>\n",
       "      <td>...</td>\n",
       "      <td>4.0</td>\n",
       "      <td>6.0</td>\n",
       "      <td>5.0</td>\n",
       "      <td>1.0</td>\n",
       "      <td>1.0</td>\n",
       "      <td>5.0</td>\n",
       "      <td>3.0</td>\n",
       "      <td>24.0</td>\n",
       "      <td>10.8</td>\n",
       "      <td>-16.0</td>\n",
       "    </tr>\n",
       "    <tr>\n",
       "      <th>2012-11-07</th>\n",
       "      <td>4</td>\n",
       "      <td>4.0</td>\n",
       "      <td>23-073</td>\n",
       "      <td>HOU</td>\n",
       "      <td>NaN</td>\n",
       "      <td>DEN</td>\n",
       "      <td>L (-6)</td>\n",
       "      <td>1.0</td>\n",
       "      <td>38:20:00</td>\n",
       "      <td>5.0</td>\n",
       "      <td>...</td>\n",
       "      <td>2.0</td>\n",
       "      <td>3.0</td>\n",
       "      <td>2.0</td>\n",
       "      <td>5.0</td>\n",
       "      <td>0.0</td>\n",
       "      <td>6.0</td>\n",
       "      <td>1.0</td>\n",
       "      <td>15.0</td>\n",
       "      <td>7.0</td>\n",
       "      <td>-6.0</td>\n",
       "    </tr>\n",
       "    <tr>\n",
       "      <th>2012-11-09</th>\n",
       "      <td>5</td>\n",
       "      <td>5.0</td>\n",
       "      <td>23-075</td>\n",
       "      <td>HOU</td>\n",
       "      <td>@</td>\n",
       "      <td>MEM</td>\n",
       "      <td>L (-8)</td>\n",
       "      <td>1.0</td>\n",
       "      <td>40:38:00</td>\n",
       "      <td>4.0</td>\n",
       "      <td>...</td>\n",
       "      <td>2.0</td>\n",
       "      <td>4.0</td>\n",
       "      <td>4.0</td>\n",
       "      <td>0.0</td>\n",
       "      <td>2.0</td>\n",
       "      <td>5.0</td>\n",
       "      <td>1.0</td>\n",
       "      <td>18.0</td>\n",
       "      <td>7.4</td>\n",
       "      <td>-2.0</td>\n",
       "    </tr>\n",
       "  </tbody>\n",
       "</table>\n",
       "<p>5 rows × 29 columns</p>\n",
       "</div>"
      ],
      "text/plain": [
       "            Rk    G     Age   Tm Unnamed: 5  Opp Unnamed: 7   GS        MP  \\\n",
       "Date                                                                         \n",
       "2012-10-31   1  1.0  23-066  HOU          @  DET     W (+9)  1.0  44:04:00   \n",
       "2012-11-02   2  2.0  23-068  HOU          @  ATL     W (+7)  1.0  39:49:00   \n",
       "2012-11-03   3  3.0  23-069  HOU        NaN  POR    L (-10)  1.0  40:43:00   \n",
       "2012-11-07   4  4.0  23-073  HOU        NaN  DEN     L (-6)  1.0  38:20:00   \n",
       "2012-11-09   5  5.0  23-075  HOU          @  MEM     L (-8)  1.0  40:38:00   \n",
       "\n",
       "              FG  ...  DRB  TRB   AST  STL  BLK  TOV   PF   PTS  GmSc   +/-  \n",
       "Date              ...                                                        \n",
       "2012-10-31  14.0  ...  5.0  6.0  12.0  4.0  1.0  4.0  2.0  37.0  35.2  18.0  \n",
       "2012-11-02  14.0  ...  6.0  7.0   2.0  0.0  0.0  5.0  3.0  45.0  34.2  17.0  \n",
       "2012-11-03   8.0  ...  4.0  6.0   5.0  1.0  1.0  5.0  3.0  24.0  10.8 -16.0  \n",
       "2012-11-07   5.0  ...  2.0  3.0   2.0  5.0  0.0  6.0  1.0  15.0   7.0  -6.0  \n",
       "2012-11-09   4.0  ...  2.0  4.0   4.0  0.0  2.0  5.0  1.0  18.0   7.4  -2.0  \n",
       "\n",
       "[5 rows x 29 columns]"
      ]
     },
     "execution_count": 15,
     "metadata": {},
     "output_type": "execute_result"
    }
   ],
   "source": [
    "harden = pd.read_csv(\n",
    "    \"04-12-harden.csv\", \n",
    "    na_values=[\"Did Not Play\", \"Did Not Dress\", \"Inactive\", \"Player Suspended\"],\n",
    "    parse_dates=True,\n",
    "    index_col='Date'\n",
    ").dropna(subset=['3P'])\n",
    "harden.head()"
   ]
  },
  {
   "cell_type": "code",
   "execution_count": 16,
   "metadata": {},
   "outputs": [
    {
     "data": {
      "text/plain": [
       "Date\n",
       "2018-10-17    3.0\n",
       "2018-10-20    5.0\n",
       "2018-10-21    4.0\n",
       "2018-10-24    3.0\n",
       "2018-11-03    5.0\n",
       "             ... \n",
       "2019-04-02    7.0\n",
       "2019-04-03    3.0\n",
       "2019-04-05    5.0\n",
       "2019-04-07    5.0\n",
       "2019-04-09    5.0\n",
       "Name: 3P, Length: 78, dtype: float64"
      ]
     },
     "execution_count": 16,
     "metadata": {},
     "output_type": "execute_result"
    }
   ],
   "source": [
    "# get 2018-19 3P data\n",
    "harden_2018_3P = harden.loc['2018-10-01':'2019-08-01', '3P']\n",
    "harden_2018_3P"
   ]
  },
  {
   "cell_type": "code",
   "execution_count": 17,
   "metadata": {},
   "outputs": [
    {
     "data": {
      "image/png": "[encoded data removed]",
      "text/plain": [
       "<Figure size 432x288 with 1 Axes>"
      ]
     },
     "metadata": {
      "needs_background": "light"
     },
     "output_type": "display_data"
    }
   ],
   "source": [
    "# plot made threes/game career vs. 2018-19\n",
    "plt.hist(harden['3P'], align='left', width=0.9)\n",
    "plt.hist(harden_2018_3P, align='left', width=0.9)\n",
    "plt.show()"
   ]
  },
  {
   "cell_type": "code",
   "execution_count": 18,
   "metadata": {},
   "outputs": [
    {
     "name": "stdout",
     "output_type": "stream",
     "text": [
      "4.846153846153846 4.651348651348651\n"
     ]
    }
   ],
   "source": [
    "# does 2018-19 data conform to poisson distribution?\n",
    "print(harden_2018_3P.mean(), harden_2018_3P.var())"
   ]
  },
  {
   "cell_type": "code",
   "execution_count": 19,
   "metadata": {},
   "outputs": [],
   "source": [
    "# is the observed variance plausibly compatible with poisson?\n",
    "season_vars = np.zeros(1000)\n",
    "for season in range(1000):\n",
    "    season_vars[season] = np.random.poisson(harden_2018_3P.mean(), size=len(harden_2018_3P)).var()"
   ]
  },
  {
   "cell_type": "code",
   "execution_count": 20,
   "metadata": {},
   "outputs": [
    {
     "data": {
      "image/png": "[encoded data removed]",
      "text/plain": [
       "<Figure size 432x288 with 1 Axes>"
      ]
     },
     "metadata": {
      "needs_background": "light"
     },
     "output_type": "display_data"
    }
   ],
   "source": [
    "plt.hist(season_vars, bins=30)\n",
    "plt.vlines(x=harden_2018_3P.var(), ymin=0, ymax=90, color='darkred')\n",
    "plt.show()"
   ]
  },
  {
   "cell_type": "markdown",
   "metadata": {},
   "source": [
    "### Houston career 3P\n",
    "\n",
    "* dataset: 2018-2019 78 game average\n",
    "* function of interest: mean 3P / game\n",
    "* null distribution: Poisson(lambda = houston_career_mean)"
   ]
  },
  {
   "cell_type": "code",
   "execution_count": 21,
   "metadata": {},
   "outputs": [
    {
     "data": {
      "text/plain": [
       "3.2691680261011418"
      ]
     },
     "execution_count": 21,
     "metadata": {},
     "output_type": "execute_result"
    }
   ],
   "source": [
    "# career mean 3P/game in Houston\n",
    "harden_houston_career_mean_3P = harden['3P'].mean()\n",
    "harden_houston_career_mean_3P"
   ]
  },
  {
   "cell_type": "code",
   "execution_count": 22,
   "metadata": {},
   "outputs": [],
   "source": [
    "# simulate 1000 career-average seasons\n",
    "season_mean = np.zeros(1000)\n",
    "for season in range(1000):\n",
    "    season_mean[season] = np.random.poisson(\n",
    "        harden_houston_career_mean_3P, \n",
    "        size=len(harden_2018_3P)\n",
    "    ).mean()"
   ]
  },
  {
   "cell_type": "code",
   "execution_count": 23,
   "metadata": {},
   "outputs": [
    {
     "data": {
      "image/png": "[encoded data removed]",
      "text/plain": [
       "<Figure size 432x288 with 1 Axes>"
      ]
     },
     "metadata": {
      "needs_background": "light"
     },
     "output_type": "display_data"
    }
   ],
   "source": [
    "plt.hist(season_mean, bins=30)\n",
    "plt.vlines(x=harden_2018_3P.mean(), ymin=0, ymax=90, color='darkred')\n",
    "plt.show()"
   ]
  },
  {
   "cell_type": "code",
   "execution_count": 24,
   "metadata": {},
   "outputs": [
    {
     "name": "stdout",
     "output_type": "stream",
     "text": [
      "Percent of simulated seasons in which Harden averages fewer 3P/game than in 2018-19:\n"
     ]
    },
    {
     "data": {
      "text/plain": [
       "100.0"
      ]
     },
     "execution_count": 24,
     "metadata": {},
     "output_type": "execute_result"
    }
   ],
   "source": [
    "print('Percent of simulated seasons in which Harden averages fewer 3P/game than in 2018-19:')\n",
    "np.searchsorted(sorted(season_mean), harden_2018_3P.mean())/10"
   ]
  },
  {
   "cell_type": "code",
   "execution_count": 25,
   "metadata": {},
   "outputs": [
    {
     "data": {
      "text/plain": [
       "7.483165741639736"
      ]
     },
     "execution_count": 25,
     "metadata": {},
     "output_type": "execute_result"
    }
   ],
   "source": [
    "# how many standard deviations above the mean of our simulated data?\n",
    "(harden_2018_3P.mean() - harden_houston_career_mean_3P) / np.std(season_mean)"
   ]
  },
  {
   "cell_type": "markdown",
   "metadata": {},
   "source": [
    "### Harden vs. league-average player\n",
    "\n",
    "The league-average player makes about 1.82 3P per 36 minutes played. Let's look at an average player's season 3P histogram (14 iterations) vs. Harden's: "
   ]
  },
  {
   "cell_type": "code",
   "execution_count": 26,
   "metadata": {},
   "outputs": [
    {
     "data": {
      "image/png": "[encoded data removed]",
      "text/plain": [
       "<Figure size 864x432 with 15 Axes>"
      ]
     },
     "metadata": {
      "needs_background": "light"
     },
     "output_type": "display_data"
    }
   ],
   "source": [
    "figure, subplots = plt.subplots(3,5, sharey=True, sharex=True, figsize=(12,6))\n",
    "for row in range(3):\n",
    "    for col in range(5):\n",
    "        if row == 0 and col == 0:\n",
    "            subplots[row,col].hist(harden_2018_3P, bins=range(0,15), color=\"darkred\")\n",
    "        else:\n",
    "            subplots[row,col].hist(np.random.poisson(1.82, size=len(harden_2018_3P)), bins=range(0,15))\n",
    "plt.show()"
   ]
  },
  {
   "cell_type": "code",
   "execution_count": null,
   "metadata": {},
   "outputs": [],
   "source": []
  }
 ],
 "metadata": {
  "kernelspec": {
   "display_name": "Python 3",
   "language": "python",
   "name": "python3"
  },
  "language_info": {
   "codemirror_mode": {
    "name": "ipython",
    "version": 3
   },
   "file_extension": ".py",
   "mimetype": "text/x-python",
   "name": "python",
   "nbconvert_exporter": "python",
   "pygments_lexer": "ipython3",
   "version": "3.8.5"
  }
 },
 "nbformat": 4,
 "nbformat_minor": 4
}
