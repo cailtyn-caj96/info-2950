{
 "cells": [
  {
   "cell_type": "markdown",
   "metadata": {},
   "source": [
    "# Discussion Questions\n",
    "\n",
    "Let's discuss some issues about the past election from the perspective of data science.\n",
    "\n",
    "---\n",
    "\n",
    "Polling is a popular method to measure public opinion, especially with respect to political candidates. However, polling data can be biased in many ways. A famous example of a polling mistake occured around the 1936 U.S. election(https://en.wikipedia.org/wiki/1936_United_States_presidential_election): the Literary Digest, an influential magazine which had correctly predicted the previous five elections, predicted that Republican candidate Alf Landon would defeat Democratic candidate Franklin D. Roosevelt in a landslide. In the end, Roosevelt won all states expect ME and VT. \n",
    "\n",
    "How did the Literary Digest make such a big mistake? A convincing hypothesis is that their sampling method was biased: they polled their own readers, people found in vehicle registration lists, and telephone owners. These features correlate with wealth, and weathly individuals at the time were not happy with Roosevelt's \"New Deal\". Other studies suggest(https://en.wikipedia.org/wiki/The_Literary_Digest) that non-response bias was the main reason for the misleading poll results: people who disliked Roosevelt were more likely to respond the survey.\n",
    "\n",
    "**What other factors do you think may affect the accuracy of poll in general?**\n",
    "\n",
    "---\n",
    "\n",
    "You likely saw a lot of \"exit poll\" data covered in news reports on election day. An election exit poll is a poll of voters taken immediately after they have exited the polling stations ([more info here](https://en.wikipedia.org/wiki/Exit_poll)).\n",
    "\n",
    "**What advantages do you think exit polls have compared with to other election-related polls? What biases do you think exist in exit polls?**\n",
    "\n",
    "---\n",
    "\n",
    "Many institutions make predications about elections based on polling data (eg. [FiveThirtyEight](https://projects.fivethirtyeight.com/2020-election-forecast/) and [The Economist](https://projects.economist.com/us-2020-forecast/president)). They may use phrases  like \"Candidate A has a 40% chance of winning, and candidate B has a 60% chance of winning\" or \"The likelihood of Candidate A winning is 2 in 5, and the likelihood of candidate B's winning is 3 in 5\".\n",
    "\n",
    "**How do you understand these statements? Is the winner already determined by these polls?**\n",
    "\n",
    "---\n",
    "\n",
    "Many predictions will give a range of likely election results, because sampled pre-election data can never perfectly predict the full result of an election. \n",
    "\n",
    "**What factors do you think may contribute to the difference between poll-based predictions and the real election results?**"
   ]
  },
  {
   "cell_type": "markdown",
   "metadata": {},
   "source": [
    "### **Note:** You do NOT need to include answers to the above questions in your homework submission. They are for in-section discussion only."
   ]
  },
  {
   "cell_type": "markdown",
   "metadata": {
    "narrative": true
   },
   "source": [
    "# Homework 6\n",
    "\n"
   ]
  },
  {
   "cell_type": "code",
   "execution_count": 91,
   "metadata": {
    "narrative": true
   },
   "outputs": [],
   "source": [
    "%matplotlib inline\n",
    "## import libraries\n",
    "import numpy\n",
    "import pandas as pd\n",
    "from matplotlib import pyplot as plt\n",
    "from sklearn.linear_model import LinearRegression"
   ]
  },
  {
   "cell_type": "markdown",
   "metadata": {
    "problem": 1
   },
   "source": [
    "---\n",
    "\n",
    "## Problem 1 (6 pts)\n",
    "\n",
    "We will explore the relationship between the price of a diamond and its properties (e.g. color, carat weight). A description of these features can be found [here](https://www.kaggle.com/shivam2503/diamonds), while a glossary of diamond-related terms can be found [here](https://www.lumeradiamonds.com/diamond-education/glossary).\n",
    "\n",
    "Load `diamonds.csv` using `pandas` into a variable called `diamonds`. Use the `.head()` method to display the dataset's columns and first five rows. What features do you think will be correlated with the price of diamonds? Do you believe a linear model is a suitable choice for any of these features? Justify your answer.\n",
    "\n",
    "---"
   ]
  },
  {
   "cell_type": "code",
   "execution_count": 92,
   "metadata": {},
   "outputs": [
    {
     "data": {
      "text/html": [
       "<div>\n",
       "<style scoped>\n",
       "    .dataframe tbody tr th:only-of-type {\n",
       "        vertical-align: middle;\n",
       "    }\n",
       "\n",
       "    .dataframe tbody tr th {\n",
       "        vertical-align: top;\n",
       "    }\n",
       "\n",
       "    .dataframe thead th {\n",
       "        text-align: right;\n",
       "    }\n",
       "</style>\n",
       "<table border=\"1\" class=\"dataframe\">\n",
       "  <thead>\n",
       "    <tr style=\"text-align: right;\">\n",
       "      <th></th>\n",
       "      <th>carat</th>\n",
       "      <th>cut</th>\n",
       "      <th>color</th>\n",
       "      <th>clarity</th>\n",
       "      <th>depth</th>\n",
       "      <th>table</th>\n",
       "      <th>price</th>\n",
       "      <th>x</th>\n",
       "      <th>y</th>\n",
       "      <th>z</th>\n",
       "    </tr>\n",
       "  </thead>\n",
       "  <tbody>\n",
       "    <tr>\n",
       "      <th>0</th>\n",
       "      <td>0.23</td>\n",
       "      <td>Ideal</td>\n",
       "      <td>E</td>\n",
       "      <td>SI2</td>\n",
       "      <td>61.5</td>\n",
       "      <td>55.0</td>\n",
       "      <td>326</td>\n",
       "      <td>3.95</td>\n",
       "      <td>3.98</td>\n",
       "      <td>2.43</td>\n",
       "    </tr>\n",
       "    <tr>\n",
       "      <th>1</th>\n",
       "      <td>0.21</td>\n",
       "      <td>Premium</td>\n",
       "      <td>E</td>\n",
       "      <td>SI1</td>\n",
       "      <td>59.8</td>\n",
       "      <td>61.0</td>\n",
       "      <td>326</td>\n",
       "      <td>3.89</td>\n",
       "      <td>3.84</td>\n",
       "      <td>2.31</td>\n",
       "    </tr>\n",
       "    <tr>\n",
       "      <th>2</th>\n",
       "      <td>0.23</td>\n",
       "      <td>Good</td>\n",
       "      <td>E</td>\n",
       "      <td>VS1</td>\n",
       "      <td>56.9</td>\n",
       "      <td>65.0</td>\n",
       "      <td>327</td>\n",
       "      <td>4.05</td>\n",
       "      <td>4.07</td>\n",
       "      <td>2.31</td>\n",
       "    </tr>\n",
       "    <tr>\n",
       "      <th>3</th>\n",
       "      <td>0.29</td>\n",
       "      <td>Premium</td>\n",
       "      <td>I</td>\n",
       "      <td>VS2</td>\n",
       "      <td>62.4</td>\n",
       "      <td>58.0</td>\n",
       "      <td>334</td>\n",
       "      <td>4.20</td>\n",
       "      <td>4.23</td>\n",
       "      <td>2.63</td>\n",
       "    </tr>\n",
       "    <tr>\n",
       "      <th>4</th>\n",
       "      <td>0.31</td>\n",
       "      <td>Good</td>\n",
       "      <td>J</td>\n",
       "      <td>SI2</td>\n",
       "      <td>63.3</td>\n",
       "      <td>58.0</td>\n",
       "      <td>335</td>\n",
       "      <td>4.34</td>\n",
       "      <td>4.35</td>\n",
       "      <td>2.75</td>\n",
       "    </tr>\n",
       "  </tbody>\n",
       "</table>\n",
       "</div>"
      ],
      "text/plain": [
       "   carat      cut color clarity  depth  table  price     x     y     z\n",
       "0   0.23    Ideal     E     SI2   61.5   55.0    326  3.95  3.98  2.43\n",
       "1   0.21  Premium     E     SI1   59.8   61.0    326  3.89  3.84  2.31\n",
       "2   0.23     Good     E     VS1   56.9   65.0    327  4.05  4.07  2.31\n",
       "3   0.29  Premium     I     VS2   62.4   58.0    334  4.20  4.23  2.63\n",
       "4   0.31     Good     J     SI2   63.3   58.0    335  4.34  4.35  2.75"
      ]
     },
     "execution_count": 92,
     "metadata": {},
     "output_type": "execute_result"
    }
   ],
   "source": [
    "diamonds = pd.read_csv(\"diamonds.csv\")\n",
    "diamonds.head()"
   ]
  },
  {
   "cell_type": "markdown",
   "metadata": {},
   "source": [
    "I think that caract cut will be correlated with price, and I believe that carat will be linearly correlated with price. I am not exactly sure about how pricing of diamonds work, but I think that carat should probably be the best indicator of how much a diamond is worth because it is the weight so as weight goes up, price should go up in a linear manner."
   ]
  },
  {
   "cell_type": "markdown",
   "metadata": {
    "problem": 2
   },
   "source": [
    "---\n",
    "\n",
    "## Problem 2 (2 pts)\n",
    "\n",
    "Linear regression requires all variables to be numeric, but the values for several features in this dataset are strings.\n",
    "\n",
    "One way to deal with this issue is to create an *indicator variable*. An indicator variable simply indicates whether or not an observation is in a category. The variable is equal to 1 if the observation is in the category, and 0 if not. \n",
    "\n",
    "Use the `pandas.get_dummies()` function(https://pandas.pydata.org/pandas-docs/stable/reference/api/pandas.get_dummies.html) on *just* the `cut` column and display the first few rows of this result. Do **not** modify the `diamonds` object with this new data frame, we are going to do this another way in the next problem.\n",
    "\n",
    "(*Confidence check: you will get a new dataframe with five indicator variables; one for each cut category.*)\n",
    "\n",
    "---"
   ]
  },
  {
   "cell_type": "code",
   "execution_count": 93,
   "metadata": {},
   "outputs": [
    {
     "data": {
      "text/html": [
       "<div>\n",
       "<style scoped>\n",
       "    .dataframe tbody tr th:only-of-type {\n",
       "        vertical-align: middle;\n",
       "    }\n",
       "\n",
       "    .dataframe tbody tr th {\n",
       "        vertical-align: top;\n",
       "    }\n",
       "\n",
       "    .dataframe thead th {\n",
       "        text-align: right;\n",
       "    }\n",
       "</style>\n",
       "<table border=\"1\" class=\"dataframe\">\n",
       "  <thead>\n",
       "    <tr style=\"text-align: right;\">\n",
       "      <th></th>\n",
       "      <th>Fair</th>\n",
       "      <th>Good</th>\n",
       "      <th>Ideal</th>\n",
       "      <th>Premium</th>\n",
       "      <th>Very Good</th>\n",
       "    </tr>\n",
       "  </thead>\n",
       "  <tbody>\n",
       "    <tr>\n",
       "      <th>0</th>\n",
       "      <td>0</td>\n",
       "      <td>0</td>\n",
       "      <td>1</td>\n",
       "      <td>0</td>\n",
       "      <td>0</td>\n",
       "    </tr>\n",
       "    <tr>\n",
       "      <th>1</th>\n",
       "      <td>0</td>\n",
       "      <td>0</td>\n",
       "      <td>0</td>\n",
       "      <td>1</td>\n",
       "      <td>0</td>\n",
       "    </tr>\n",
       "    <tr>\n",
       "      <th>2</th>\n",
       "      <td>0</td>\n",
       "      <td>1</td>\n",
       "      <td>0</td>\n",
       "      <td>0</td>\n",
       "      <td>0</td>\n",
       "    </tr>\n",
       "    <tr>\n",
       "      <th>3</th>\n",
       "      <td>0</td>\n",
       "      <td>0</td>\n",
       "      <td>0</td>\n",
       "      <td>1</td>\n",
       "      <td>0</td>\n",
       "    </tr>\n",
       "    <tr>\n",
       "      <th>4</th>\n",
       "      <td>0</td>\n",
       "      <td>1</td>\n",
       "      <td>0</td>\n",
       "      <td>0</td>\n",
       "      <td>0</td>\n",
       "    </tr>\n",
       "  </tbody>\n",
       "</table>\n",
       "</div>"
      ],
      "text/plain": [
       "   Fair  Good  Ideal  Premium  Very Good\n",
       "0     0     0      1        0          0\n",
       "1     0     0      0        1          0\n",
       "2     0     1      0        0          0\n",
       "3     0     0      0        1          0\n",
       "4     0     1      0        0          0"
      ]
     },
     "execution_count": 93,
     "metadata": {},
     "output_type": "execute_result"
    }
   ],
   "source": [
    "pd.get_dummies(diamonds[\"cut\"]).head()"
   ]
  },
  {
   "cell_type": "markdown",
   "metadata": {
    "problem": 3
   },
   "source": [
    "---\n",
    "\n",
    "## Problem 3 (4 pts)\n",
    "\n",
    "Another way is to map these strings to a predefined set of numeric values. This method works well when there is a natural ordering to the categories, that we can reflect in the numeric values.\n",
    "\n",
    "Use the [`.map()` method](https://pandas.pydata.org/pandas-docs/stable/reference/api/pandas.Series.map.html) along with the dictionaries defined below to change the string values in the `cut`, `color` and `clarity` columns to numeric values. Update the `diamonds` dataframe with these new columns (overwrite the old columns containing strings). \n",
    "\n",
    "Next, create a new feature, `volume`, based on the `x`, `y`, and `z` dimensions in the data.\n",
    "\n",
    "$$Volume = x*y*z$$\n",
    "\n",
    "Compute the volume of each diamond and store the result in a new column named `volume` in the `diamonds` dataframe.\n",
    "\n",
    "Use `.head()` to display the first five rows of new diamond dataset.\n",
    "\n",
    "---"
   ]
  },
  {
   "cell_type": "code",
   "execution_count": 94,
   "metadata": {},
   "outputs": [
    {
     "data": {
      "text/html": [
       "<div>\n",
       "<style scoped>\n",
       "    .dataframe tbody tr th:only-of-type {\n",
       "        vertical-align: middle;\n",
       "    }\n",
       "\n",
       "    .dataframe tbody tr th {\n",
       "        vertical-align: top;\n",
       "    }\n",
       "\n",
       "    .dataframe thead th {\n",
       "        text-align: right;\n",
       "    }\n",
       "</style>\n",
       "<table border=\"1\" class=\"dataframe\">\n",
       "  <thead>\n",
       "    <tr style=\"text-align: right;\">\n",
       "      <th></th>\n",
       "      <th>carat</th>\n",
       "      <th>cut</th>\n",
       "      <th>color</th>\n",
       "      <th>clarity</th>\n",
       "      <th>depth</th>\n",
       "      <th>table</th>\n",
       "      <th>price</th>\n",
       "      <th>x</th>\n",
       "      <th>y</th>\n",
       "      <th>z</th>\n",
       "      <th>volume</th>\n",
       "    </tr>\n",
       "  </thead>\n",
       "  <tbody>\n",
       "    <tr>\n",
       "      <th>0</th>\n",
       "      <td>0.23</td>\n",
       "      <td>5</td>\n",
       "      <td>6</td>\n",
       "      <td>2</td>\n",
       "      <td>61.5</td>\n",
       "      <td>55.0</td>\n",
       "      <td>326</td>\n",
       "      <td>3.95</td>\n",
       "      <td>3.98</td>\n",
       "      <td>2.43</td>\n",
       "      <td>38.202030</td>\n",
       "    </tr>\n",
       "    <tr>\n",
       "      <th>1</th>\n",
       "      <td>0.21</td>\n",
       "      <td>4</td>\n",
       "      <td>6</td>\n",
       "      <td>3</td>\n",
       "      <td>59.8</td>\n",
       "      <td>61.0</td>\n",
       "      <td>326</td>\n",
       "      <td>3.89</td>\n",
       "      <td>3.84</td>\n",
       "      <td>2.31</td>\n",
       "      <td>34.505856</td>\n",
       "    </tr>\n",
       "    <tr>\n",
       "      <th>2</th>\n",
       "      <td>0.23</td>\n",
       "      <td>2</td>\n",
       "      <td>6</td>\n",
       "      <td>5</td>\n",
       "      <td>56.9</td>\n",
       "      <td>65.0</td>\n",
       "      <td>327</td>\n",
       "      <td>4.05</td>\n",
       "      <td>4.07</td>\n",
       "      <td>2.31</td>\n",
       "      <td>38.076885</td>\n",
       "    </tr>\n",
       "    <tr>\n",
       "      <th>3</th>\n",
       "      <td>0.29</td>\n",
       "      <td>4</td>\n",
       "      <td>2</td>\n",
       "      <td>4</td>\n",
       "      <td>62.4</td>\n",
       "      <td>58.0</td>\n",
       "      <td>334</td>\n",
       "      <td>4.20</td>\n",
       "      <td>4.23</td>\n",
       "      <td>2.63</td>\n",
       "      <td>46.724580</td>\n",
       "    </tr>\n",
       "    <tr>\n",
       "      <th>4</th>\n",
       "      <td>0.31</td>\n",
       "      <td>2</td>\n",
       "      <td>1</td>\n",
       "      <td>2</td>\n",
       "      <td>63.3</td>\n",
       "      <td>58.0</td>\n",
       "      <td>335</td>\n",
       "      <td>4.34</td>\n",
       "      <td>4.35</td>\n",
       "      <td>2.75</td>\n",
       "      <td>51.917250</td>\n",
       "    </tr>\n",
       "  </tbody>\n",
       "</table>\n",
       "</div>"
      ],
      "text/plain": [
       "   carat  cut  color  clarity  depth  table  price     x     y     z  \\\n",
       "0   0.23    5      6        2   61.5   55.0    326  3.95  3.98  2.43   \n",
       "1   0.21    4      6        3   59.8   61.0    326  3.89  3.84  2.31   \n",
       "2   0.23    2      6        5   56.9   65.0    327  4.05  4.07  2.31   \n",
       "3   0.29    4      2        4   62.4   58.0    334  4.20  4.23  2.63   \n",
       "4   0.31    2      1        2   63.3   58.0    335  4.34  4.35  2.75   \n",
       "\n",
       "      volume  \n",
       "0  38.202030  \n",
       "1  34.505856  \n",
       "2  38.076885  \n",
       "3  46.724580  \n",
       "4  51.917250  "
      ]
     },
     "execution_count": 94,
     "metadata": {},
     "output_type": "execute_result"
    }
   ],
   "source": [
    "## All of these are ordered from worst to best\n",
    "cut_map = {\"Fair\": 1, \"Good\": 2, \"Very Good\": 3, \"Premium\": 4, \"Ideal\": 5}\n",
    "color_map = {\"J\": 1, \"I\": 2, \"H\": 3, \"G\": 4, \"F\": 5, \"E\": 6, \"D\": 7}\n",
    "clarity_map = {\"I1\": 1, \"SI2\": 2, \"SI1\": 3, \"VS2\": 4, \"VS1\": 5, \"VVS2\": 6, \"VVS1\": 7, \"IF\": 8}\n",
    "\n",
    "diamonds[\"cut\"] = diamonds[\"cut\"].map(cut_map)\n",
    "diamonds[\"color\"] = diamonds[\"color\"].map(color_map)\n",
    "diamonds[\"clarity\"] = diamonds[\"clarity\"].map(clarity_map)\n",
    "\n",
    "\n",
    "diamonds[\"volume\"] = diamonds[\"x\"]* diamonds[\"y\"]* diamonds[\"z\"]\n",
    "\n",
    "diamonds.head()"
   ]
  },
  {
   "cell_type": "markdown",
   "metadata": {
    "problem": 4
   },
   "source": [
    "---\n",
    "\n",
    "## Problem 4 (6 pts)\n",
    "\n",
    "For each of the features `carat`, `cut`, `color`, `clarity`, and `volume`, use `LinearRegression` in `sklearn.linear_model` to train a model that predicts `price` given the specified feature. (That is, perform five different single linear regressions, where `price` is always the output variable, and the input feature is one of `carat`, `cut`, `color`, `clarity`, or `volume`.) In each case, print the name of the predictor variable, followed by the regression slope and $r^2$ for that variable. Be sure to print your results with informative labels and using numbers rounded to two decimal places.\n",
    "\n",
    "*Hint: a \"for\" loop will make your howework easier here.*\n",
    "\n",
    "---"
   ]
  },
  {
   "cell_type": "code",
   "execution_count": 113,
   "metadata": {},
   "outputs": [
    {
     "name": "stdout",
     "output_type": "stream",
     "text": [
      "feature:  carat\n",
      "slope:  7756.43\n",
      "0.85\n",
      "\n",
      "\n",
      "feature:  cut\n",
      "slope:  -191.11\n",
      "0.0\n",
      "\n",
      "\n",
      "feature:  color\n",
      "slope:  -404.57\n",
      "0.03\n",
      "\n",
      "\n",
      "feature:  clarity\n",
      "slope:  -355.56\n",
      "0.02\n",
      "\n",
      "\n",
      "feature:  volume\n",
      "slope:  46.01\n",
      "0.81\n",
      "\n",
      "\n"
     ]
    }
   ],
   "source": [
    "from sklearn.linear_model import LinearRegression as lr\n",
    "from sklearn.metrics import r2_score\n",
    "\n",
    "linear_model = lr()\n",
    "\n",
    "features = [\"carat\", \"cut\", \"color\", \"clarity\", \"volume\"]\n",
    "\n",
    "carat = []\n",
    "arrayx = []\n",
    "for n in diamonds[\"carat\"]:\n",
    "    arrayx.append(n)\n",
    "    carat.append(arrayx)\n",
    "    arrayx = []\n",
    "\n",
    "cut = []\n",
    "arrayx = []\n",
    "for n in diamonds[\"cut\"]:\n",
    "    arrayx.append(n)\n",
    "    cut.append(arrayx)\n",
    "    arrayx = []\n",
    "    \n",
    "color = []\n",
    "arrayx = []\n",
    "for n in diamonds[\"color\"]:\n",
    "    arrayx.append(n)\n",
    "    color.append(arrayx)\n",
    "    arrayx = []\n",
    "\n",
    "clarity = []\n",
    "arrayx = []\n",
    "for n in diamonds[\"clarity\"]:\n",
    "    arrayx.append(n)\n",
    "    clarity.append(arrayx)\n",
    "    arrayx = []\n",
    "\n",
    "volume = []\n",
    "arrayx = []\n",
    "for n in diamonds[\"volume\"]:\n",
    "    arrayx.append(n)\n",
    "    volume.append(arrayx)\n",
    "    arrayx = []\n",
    "\n",
    "featuresarray = [carat, cut, color, clarity, volume]\n",
    "for n in range(len(features)):\n",
    "    linear_model.fit(featuresarray[n], diamonds[\"price\"])\n",
    "    print(\"feature: \", features[n])\n",
    "    print('slope: ',round(linear_model.coef_[0],2))\n",
    "    print(round(r2_score(diamonds[\"price\"], linear_model.predict(featuresarray[n])),2))\n",
    "    print(\"\\n\")\n"
   ]
  },
  {
   "cell_type": "markdown",
   "metadata": {
    "problem": 5
   },
   "source": [
    "---\n",
    "\n",
    "## Problem 5 (3 pts)\n",
    "\n",
    "For each of the models you trained in problem 4, interpret the resulting regression slope (i.e. what does this coefficient imply about how changes in the variable relate to changes in price?). \n",
    "\n",
    "\n",
    "\n",
    "---"
   ]
  },
  {
   "cell_type": "markdown",
   "metadata": {},
   "source": [
    "For carat, our coefficient indicates that carat is a good indicator of changes in price based on a linear model therefore our slope of 7756 tells us that for increases in carat, there is a large increase in price. For volume, our coefficent is almost as strong as carat, the slope tells us that for each increase in volume, there is a 46 point increase in price. For cut, color, and clarity our coefficient indicates that they are not good indicators of changes in price based on our linear model because our $r^2$  is so small and close to 0, meaning that most of our data does not fit our regression line very well, therefore our slope tells us little about the relationship between the variables. However, for color, our slope tells us that color is negatively correlated with price, therefore as color increases, price decreases. This is the same for clarity -- as clarity increases, price decreases. And finally, this relationship is also seen in cut -- as cut increases, price decreases (however cut is our lowest $r^2$ valuye) "
   ]
  },
  {
   "cell_type": "markdown",
   "metadata": {
    "problem": 6
   },
   "source": [
    "---\n",
    "\n",
    "## Problem 6 (8 pts)\n",
    "\n",
    "Train a multivariable linear regression model that uses four of the five inputs jointly to predict diamond price. Print the coefficients for each predictor and the $r^2$ score of the model.\n",
    "\n",
    "Explain how you decided which of the potential predictor variables to exclude.\n",
    "\n",
    "---"
   ]
  },
  {
   "cell_type": "code",
   "execution_count": 106,
   "metadata": {},
   "outputs": [
    {
     "name": "stdout",
     "output_type": "stream",
     "text": [
      "diamonds, carat coefficient: 155.69989608688678\n",
      "diamonds, cut coefficient: 8783.771786486424\n",
      "diamonds, color coefficient: 319.6726974650187\n",
      "diamonds, clarity coefficient: 524.8434700135434\n",
      "r2:  0.9041686033395894\n"
     ]
    }
   ],
   "source": [
    "multi_model = LinearRegression()\n",
    "multi_model.fit(diamonds[['cut','carat', 'color', 'clarity',]], diamonds['price'])\n",
    "\n",
    "r2 = multi_model.score(diamonds[['cut', 'carat', 'color', 'clarity']], diamonds['price'])\n",
    "print('diamonds, carat coefficient:', multi_model.coef_[0])\n",
    "print('diamonds, cut coefficient:', multi_model.coef_[1])\n",
    "print('diamonds, color coefficient:', multi_model.coef_[2])\n",
    "print('diamonds, clarity coefficient:', multi_model.coef_[3])\n",
    "print('r2: ', r2)"
   ]
  },
  {
   "cell_type": "markdown",
   "metadata": {},
   "source": []
  },
  {
   "cell_type": "markdown",
   "metadata": {},
   "source": [
    "I chose to exclude volume because the r^2 was so close to carat, but carat was closer to a value of one."
   ]
  },
  {
   "cell_type": "markdown",
   "metadata": {
    "problem": 7
   },
   "source": [
    "---\n",
    "\n",
    "## Problem 7 (4 pts)\n",
    "\n",
    "Compare the regression slopes from the four single linear regressions performed in problem 4 to the regression slopes from the multivariable regression performed in problem 6. What has changed between the regressions in the two problems? Do you find any of these changes surprising?\n",
    "\n",
    "Compare the $r^2$ values from problems 4 and 6. Based on these results, which model do you believe predicts diamond price most accurately? \n",
    "\n",
    "---"
   ]
  },
  {
   "cell_type": "markdown",
   "metadata": {},
   "source": [
    "The slope for carat decreased by a factor of about 50, the slope for cut increased by a factor of about 45, color changed from a negative slope to a positive slope but only deccreased in magnitude by around 80, clarity also changed signs but its magnitude only increased by a factor of about 150. I do find the huge changes in magnitude from carat and color surprising. \n",
    "\n",
    "The $r^2$ value for the multivaraible linear regression model is much stronger and greater than even individual $r^2$ models from any of the variables compared. Therefore, I believe that the multivariable model predicts diamond price most accurately.\n"
   ]
  },
  {
   "cell_type": "markdown",
   "metadata": {
    "problem": 8
   },
   "source": [
    "---\n",
    "\n",
    "## Problem 8 (2 pts)\n",
    "\n",
    "Let's explore another dataset. Load `Fish.csv` using `pandas` into a variable called `fish`. Identify the species whose individuals are lightest on average. You may find it helpful to refer to the [data description](https://www.kaggle.com/aungpyaeap/fish-market).\n",
    "\n",
    "---"
   ]
  },
  {
   "cell_type": "code",
   "execution_count": 97,
   "metadata": {},
   "outputs": [
    {
     "data": {
      "text/plain": [
       "Species\n",
       "Bream        617.828571\n",
       "Parkki       154.818182\n",
       "Perch        382.239286\n",
       "Pike         718.705882\n",
       "Roach        152.050000\n",
       "Smelt         11.178571\n",
       "Whitefish    531.000000\n",
       "Name: Weight, dtype: float64"
      ]
     },
     "execution_count": 97,
     "metadata": {},
     "output_type": "execute_result"
    }
   ],
   "source": [
    "fish = pd.read_csv(\"fish.csv\")\n",
    "# fish.head()\n",
    "fish.groupby(\"Species\")[\"Weight\"].mean()"
   ]
  },
  {
   "cell_type": "markdown",
   "metadata": {},
   "source": []
  },
  {
   "cell_type": "markdown",
   "metadata": {},
   "source": [
    "Smelt is the species that is lightest on average."
   ]
  },
  {
   "cell_type": "markdown",
   "metadata": {
    "problem": 9
   },
   "source": [
    "---\n",
    "\n",
    "## Problem 9 (10 pts)\n",
    "\n",
    "Find which four species have the most observations in the dataset. Update `fish`, keeping only observations from these four species.\n",
    "\n",
    "Using the data in the updated `fish` data frame, make three scatterplots to examine the relationships between\n",
    "\n",
    "1. `Height` and `Width`,\n",
    "2. `Height` and `Weight`,\n",
    "3. `Width` and `Weight`,\n",
    "\n",
    "where the species of each observation is indicated by point color.\n",
    "\n",
    "Discuss whether a linear regression is a suitable model for the relationship between each pair of variables.\n",
    "\n",
    "Describe the patterns you observe in each scatterplot. *(This is an open-ended question, but we expect you to make at least two informative and distinct points per scatterplot.)*\n",
    "\n",
    "---"
   ]
  },
  {
   "cell_type": "code",
   "execution_count": 103,
   "metadata": {},
   "outputs": [
    {
     "data": {
      "image/png": "[encoded data removed]",
      "text/plain": [
       "<Figure size 428.625x360 with 1 Axes>"
      ]
     },
     "metadata": {
      "needs_background": "light"
     },
     "output_type": "display_data"
    }
   ],
   "source": [
    "# finding observations\n",
    "# fish.groupby(by='Species').count()\n",
    "# fish should only includ Bream, Perch, Roach, Pike\n",
    "import seaborn as sns\n",
    "\n",
    "fish = fish[fish['Species'] != \"Parkki\"]\n",
    "fish = fish[fish['Species'] != \"Smelt\"]\n",
    "fish = fish[fish['Species'] != \"Whitefish\"]\n",
    "\n",
    "sns.relplot(x=\"Height\", y=\"Width\", hue=\"Species\",data=fish, alpha =.8);\n",
    "\n",
    "plt.title('Height vs Width')\n",
    "plt.ylabel('Width')\n",
    "plt.xlabel('Height')\n",
    "plt.show()"
   ]
  },
  {
   "cell_type": "markdown",
   "metadata": {},
   "source": [
    "For the Height vs Width scatterplot\n",
    "* Across all species there is a positive correlation between height and width\n",
    "* For the bream species, it seems like they are taller on average and also at the higher end of the high spectrum but the postive correlation is less strong than the 3 other species."
   ]
  },
  {
   "cell_type": "code",
   "execution_count": 104,
   "metadata": {},
   "outputs": [
    {
     "data": {
      "image/png": "[encoded data removed]",
      "text/plain": [
       "<Figure size 428.625x360 with 1 Axes>"
      ]
     },
     "metadata": {
      "needs_background": "light"
     },
     "output_type": "display_data"
    }
   ],
   "source": [
    "sns.relplot(x=\"Height\", y=\"Weight\", hue=\"Species\",data=fish, alpha =.8);\n",
    "plt.title('Height vs Weight')\n",
    "plt.ylabel('Weight')\n",
    "plt.xlabel('Height')\n",
    "plt.show()"
   ]
  },
  {
   "cell_type": "markdown",
   "metadata": {},
   "source": [
    "For the Height vs Weight scatterplot\n",
    "* Across all species there is a positive correlation (though less positive at lower heights and weights)\n",
    "* There is an extremely steep slope for the Pike species indcating that for each unit increase of height, there is a greater increase in weight as compared to other species."
   ]
  },
  {
   "cell_type": "code",
   "execution_count": 105,
   "metadata": {},
   "outputs": [
    {
     "data": {
      "image/png": "[encoded data removed]",
      "text/plain": [
       "<Figure size 428.625x360 with 1 Axes>"
      ]
     },
     "metadata": {
      "needs_background": "light"
     },
     "output_type": "display_data"
    }
   ],
   "source": [
    "sns.relplot(x=\"Width\", y=\"Weight\", hue=\"Species\",data=fish, alpha =.8);\n",
    "plt.title('Width vs Weight')\n",
    "plt.ylabel('Weight')\n",
    "plt.xlabel('Width')\n",
    "plt.show()"
   ]
  },
  {
   "cell_type": "markdown",
   "metadata": {},
   "source": [
    "For the Width vs Weight scatterplot\n",
    "* This scatterplot is the most similar across all species.\n",
    "* There is a strong positive correlation although the slope is not too steep or too flat for any species/"
   ]
  },
  {
   "cell_type": "markdown",
   "metadata": {
    "problem": 10
   },
   "source": [
    "---\n",
    "\n",
    "## Problem 10 (6 pts)\n",
    "\n",
    "Make a three-dimensional scatterplot to demonstrate the relationship between `Height` (x-axis), `Width` (y-axis) and `Weight` (z-axis) in one graph (again for the updated `fish` data frame). Color each point by species. Label the axes and color legend with the appropriate variable name.\n",
    "\n",
    "Do you prefer the individual 2D scatterplots or the all-encompassing 3D graph? Why? *(Open-ended question!)*\n",
    "\n",
    "*(Hint: Here is a [tutorial](https://pythonprogramming.net/3d-scatter-plot-customizing/) on 3D scatterplots. You don't have to use this specific method for 3D plotting.)*\n",
    "\n",
    "---"
   ]
  },
  {
   "cell_type": "code",
   "execution_count": 112,
   "metadata": {},
   "outputs": [
    {
     "data": {
      "image/png": "[encoded data removed]",
      "text/plain": [
       "<Figure size 432x288 with 1 Axes>"
      ]
     },
     "metadata": {
      "needs_background": "light"
     },
     "output_type": "display_data"
    }
   ],
   "source": [
    "from mpl_toolkits.mplot3d import Axes3D\n",
    "from matplotlib.colors import ListedColormap\n",
    "\n",
    "fig = plt.figure()\n",
    "ax = fig.add_subplot(111, projection = '3d')\n",
    "\n",
    "species = fish['Species'].unique()\n",
    "\n",
    "for n in species:\n",
    "    x = fish[fish['Species'] == n]\n",
    "    ax.scatter(x['Height'], x['Width'], x['Weight'], marker = 'o', label = n)\n",
    "\n",
    "\n",
    "ax.set_xlabel(\"Height\")\n",
    "ax.set_ylabel(\"Width\")\n",
    "ax.set_zlabel(\"Weight\")\n",
    "\n",
    "ax.legend(loc= \"upper left\")\n",
    "\n",
    "plt.show()"
   ]
  },
  {
   "cell_type": "code",
   "execution_count": null,
   "metadata": {},
   "outputs": [],
   "source": []
  },
  {
   "cell_type": "markdown",
   "metadata": {},
   "source": [
    "As of right now, I definitely prefer the 2D plots, they are easier to see the relationship between two variables. In this all encompassing 3D plot, I am quite confused as to what is really happening because the relationships are getting lost in 3D space."
   ]
  },
  {
   "cell_type": "code",
   "execution_count": null,
   "metadata": {},
   "outputs": [],
   "source": []
  }
 ],
 "metadata": {
  "kernelspec": {
   "display_name": "Python 3",
   "language": "python",
   "name": "python3"
  },
  "language_info": {
   "codemirror_mode": {
    "name": "ipython",
    "version": 3
   },
   "file_extension": ".py",
   "mimetype": "text/x-python",
   "name": "python",
   "nbconvert_exporter": "python",
   "pygments_lexer": "ipython3",
   "version": "3.8.5"
  }
 },
 "nbformat": 4,
 "nbformat_minor": 4
}
