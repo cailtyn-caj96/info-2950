{
 "cells": [
  {
   "cell_type": "code",
   "execution_count": 75,
   "metadata": {},
   "outputs": [],
   "source": [
    "#importing the modules used to analyze data\n",
    "import pandas as pd\n",
    "import matplotlib.pyplot as plt\n"
   ]
  },
  {
   "cell_type": "code",
   "execution_count": 83,
   "metadata": {},
   "outputs": [
    {
     "data": {
      "text/html": [
       "<div>\n",
       "<style scoped>\n",
       "    .dataframe tbody tr th:only-of-type {\n",
       "        vertical-align: middle;\n",
       "    }\n",
       "\n",
       "    .dataframe tbody tr th {\n",
       "        vertical-align: top;\n",
       "    }\n",
       "\n",
       "    .dataframe thead th {\n",
       "        text-align: right;\n",
       "    }\n",
       "</style>\n",
       "<table border=\"1\" class=\"dataframe\">\n",
       "  <thead>\n",
       "    <tr style=\"text-align: right;\">\n",
       "      <th></th>\n",
       "      <th>cid</th>\n",
       "      <th>survey</th>\n",
       "      <th>wt20_dual</th>\n",
       "      <th>wt20_dual_q1</th>\n",
       "      <th>qxvers</th>\n",
       "      <th>mood1</th>\n",
       "      <th>mood2</th>\n",
       "      <th>mood3</th>\n",
       "      <th>mood4</th>\n",
       "      <th>mood5</th>\n",
       "      <th>...</th>\n",
       "      <th>sexaslttouch</th>\n",
       "      <th>sexasltrape</th>\n",
       "      <th>dvscreen</th>\n",
       "      <th>wt_compare</th>\n",
       "      <th>strata</th>\n",
       "      <th>strata_q1</th>\n",
       "      <th>bthcntrltype19</th>\n",
       "      <th>insure19r</th>\n",
       "      <th>hhsize</th>\n",
       "      <th>child</th>\n",
       "    </tr>\n",
       "  </thead>\n",
       "  <tbody>\n",
       "    <tr>\n",
       "      <th>0</th>\n",
       "      <td>2000001</td>\n",
       "      <td>20</td>\n",
       "      <td>1014.111405</td>\n",
       "      <td>1298.712123</td>\n",
       "      <td>1</td>\n",
       "      <td>5</td>\n",
       "      <td>5</td>\n",
       "      <td>5</td>\n",
       "      <td>5</td>\n",
       "      <td>4</td>\n",
       "      <td>...</td>\n",
       "      <td>2.0</td>\n",
       "      <td>2.0</td>\n",
       "      <td>2.0</td>\n",
       "      <td>1014.111405</td>\n",
       "      <td>20191402</td>\n",
       "      <td>20191402.0</td>\n",
       "      <td>NaN</td>\n",
       "      <td>1.0</td>\n",
       "      <td>2</td>\n",
       "      <td>2.0</td>\n",
       "    </tr>\n",
       "    <tr>\n",
       "      <th>1</th>\n",
       "      <td>2000002</td>\n",
       "      <td>20</td>\n",
       "      <td>60.653305</td>\n",
       "      <td>147.643223</td>\n",
       "      <td>1</td>\n",
       "      <td>5</td>\n",
       "      <td>3</td>\n",
       "      <td>3</td>\n",
       "      <td>3</td>\n",
       "      <td>3</td>\n",
       "      <td>...</td>\n",
       "      <td>2.0</td>\n",
       "      <td>2.0</td>\n",
       "      <td>2.0</td>\n",
       "      <td>60.653305</td>\n",
       "      <td>20191309</td>\n",
       "      <td>20191309.0</td>\n",
       "      <td>NaN</td>\n",
       "      <td>3.0</td>\n",
       "      <td>1</td>\n",
       "      <td>2.0</td>\n",
       "    </tr>\n",
       "    <tr>\n",
       "      <th>2</th>\n",
       "      <td>2000003</td>\n",
       "      <td>20</td>\n",
       "      <td>75.367704</td>\n",
       "      <td>108.963691</td>\n",
       "      <td>1</td>\n",
       "      <td>5</td>\n",
       "      <td>4</td>\n",
       "      <td>5</td>\n",
       "      <td>5</td>\n",
       "      <td>5</td>\n",
       "      <td>...</td>\n",
       "      <td>2.0</td>\n",
       "      <td>2.0</td>\n",
       "      <td>2.0</td>\n",
       "      <td>75.367704</td>\n",
       "      <td>20191402</td>\n",
       "      <td>20191402.0</td>\n",
       "      <td>NaN</td>\n",
       "      <td>3.0</td>\n",
       "      <td>1</td>\n",
       "      <td>2.0</td>\n",
       "    </tr>\n",
       "    <tr>\n",
       "      <th>3</th>\n",
       "      <td>2000004</td>\n",
       "      <td>20</td>\n",
       "      <td>1015.285504</td>\n",
       "      <td>NaN</td>\n",
       "      <td>2</td>\n",
       "      <td>5</td>\n",
       "      <td>4</td>\n",
       "      <td>5</td>\n",
       "      <td>5</td>\n",
       "      <td>3</td>\n",
       "      <td>...</td>\n",
       "      <td>2.0</td>\n",
       "      <td>2.0</td>\n",
       "      <td>2.0</td>\n",
       "      <td>1015.285504</td>\n",
       "      <td>20199399</td>\n",
       "      <td>NaN</td>\n",
       "      <td>NaN</td>\n",
       "      <td>1.0</td>\n",
       "      <td>3</td>\n",
       "      <td>1.0</td>\n",
       "    </tr>\n",
       "    <tr>\n",
       "      <th>4</th>\n",
       "      <td>2000005</td>\n",
       "      <td>20</td>\n",
       "      <td>223.768505</td>\n",
       "      <td>387.054275</td>\n",
       "      <td>1</td>\n",
       "      <td>5</td>\n",
       "      <td>5</td>\n",
       "      <td>5</td>\n",
       "      <td>5</td>\n",
       "      <td>5</td>\n",
       "      <td>...</td>\n",
       "      <td>2.0</td>\n",
       "      <td>2.0</td>\n",
       "      <td>2.0</td>\n",
       "      <td>223.768505</td>\n",
       "      <td>20191207</td>\n",
       "      <td>20191207.0</td>\n",
       "      <td>NaN</td>\n",
       "      <td>NaN</td>\n",
       "      <td>1</td>\n",
       "      <td>2.0</td>\n",
       "    </tr>\n",
       "  </tbody>\n",
       "</table>\n",
       "<p>5 rows × 152 columns</p>\n",
       "</div>"
      ],
      "text/plain": [
       "       cid  survey    wt20_dual  wt20_dual_q1  qxvers  mood1  mood2  mood3  \\\n",
       "0  2000001      20  1014.111405   1298.712123       1      5      5      5   \n",
       "1  2000002      20    60.653305    147.643223       1      5      3      3   \n",
       "2  2000003      20    75.367704    108.963691       1      5      4      5   \n",
       "3  2000004      20  1015.285504           NaN       2      5      4      5   \n",
       "4  2000005      20   223.768505    387.054275       1      5      5      5   \n",
       "\n",
       "   mood4  mood5  ...  sexaslttouch  sexasltrape  dvscreen   wt_compare  \\\n",
       "0      5      4  ...           2.0          2.0       2.0  1014.111405   \n",
       "1      3      3  ...           2.0          2.0       2.0    60.653305   \n",
       "2      5      5  ...           2.0          2.0       2.0    75.367704   \n",
       "3      5      3  ...           2.0          2.0       2.0  1015.285504   \n",
       "4      5      5  ...           2.0          2.0       2.0   223.768505   \n",
       "\n",
       "     strata   strata_q1  bthcntrltype19  insure19r  hhsize  child  \n",
       "0  20191402  20191402.0             NaN        1.0       2    2.0  \n",
       "1  20191309  20191309.0             NaN        3.0       1    2.0  \n",
       "2  20191402  20191402.0             NaN        3.0       1    2.0  \n",
       "3  20199399         NaN             NaN        1.0       3    1.0  \n",
       "4  20191207  20191207.0             NaN        NaN       1    2.0  \n",
       "\n",
       "[5 rows x 152 columns]"
      ]
     },
     "execution_count": 83,
     "metadata": {},
     "output_type": "execute_result"
    }
   ],
   "source": [
    "#reading the csv file \n",
    "health = pd.read_csv('health.csv')\n",
    "health.head()"
   ]
  },
  {
   "cell_type": "markdown",
   "metadata": {},
   "source": [
    "I imported the csv file using read_csv and saved it to a variable so that I could begin to perform a cleaning an analysis with the data set."
   ]
  },
  {
   "cell_type": "code",
   "execution_count": 84,
   "metadata": {},
   "outputs": [
    {
     "data": {
      "text/plain": [
       "(8253, 152)"
      ]
     },
     "execution_count": 84,
     "metadata": {},
     "output_type": "execute_result"
    }
   ],
   "source": [
    "#how much data\n",
    "health.shape"
   ]
  },
  {
   "cell_type": "markdown",
   "metadata": {},
   "source": [
    "I used health.shape to display the numnber of rows and columns currenlty present in the data set before I began to clean."
   ]
  },
  {
   "cell_type": "code",
   "execution_count": 85,
   "metadata": {},
   "outputs": [],
   "source": [
    "#grabbing columns from data set\n",
    "columns_we_want = [ \"insuredgateway19\",\"generalhealth\", \"visitnonpcp12m19\", \"pcp19\",\"didntgetcare19\",\"emp3\", \"insure5\",\"birthsex\",\"imputed_neighpovgroup4_1418\", \"fluvaccineshot\",\"everhepavaccine\",\"fruitveg19\"]\n",
    "health[columns_we_want]\n",
    "health = health[columns_we_want]"
   ]
  },
  {
   "cell_type": "markdown",
   "metadata": {},
   "source": [
    "I began to clean the data by looking through the columns and choosing the ones that would be useful to my analysis and would be the best representation of access to healthcare. I grabbed the columns by creating a list of the column names I wanted to use and saved it as columns_we_want. Than I overrode the original dataset by using health = health[columns_we_want]"
   ]
  },
  {
   "cell_type": "code",
   "execution_count": 86,
   "metadata": {},
   "outputs": [
    {
     "data": {
      "text/html": [
       "<div>\n",
       "<style scoped>\n",
       "    .dataframe tbody tr th:only-of-type {\n",
       "        vertical-align: middle;\n",
       "    }\n",
       "\n",
       "    .dataframe tbody tr th {\n",
       "        vertical-align: top;\n",
       "    }\n",
       "\n",
       "    .dataframe thead th {\n",
       "        text-align: right;\n",
       "    }\n",
       "</style>\n",
       "<table border=\"1\" class=\"dataframe\">\n",
       "  <thead>\n",
       "    <tr style=\"text-align: right;\">\n",
       "      <th></th>\n",
       "      <th>insured</th>\n",
       "      <th>generalhealth</th>\n",
       "      <th>seen_a_doctor_in_12months?</th>\n",
       "      <th>primary_doctor</th>\n",
       "      <th>didnt_get_care</th>\n",
       "      <th>employed</th>\n",
       "      <th>who_insures_you</th>\n",
       "      <th>birthsex</th>\n",
       "      <th>below_poverty</th>\n",
       "      <th>fluvaccineshot</th>\n",
       "      <th>revieved_hepatatis_vaccine</th>\n",
       "      <th>fruit_veggie_servings</th>\n",
       "    </tr>\n",
       "  </thead>\n",
       "  <tbody>\n",
       "    <tr>\n",
       "      <th>0</th>\n",
       "      <td>1.0</td>\n",
       "      <td>3.0</td>\n",
       "      <td>1.0</td>\n",
       "      <td>1.0</td>\n",
       "      <td>2.0</td>\n",
       "      <td>3.0</td>\n",
       "      <td>1.0</td>\n",
       "      <td>2.0</td>\n",
       "      <td>2</td>\n",
       "      <td>1.0</td>\n",
       "      <td>3.0</td>\n",
       "      <td>2.0</td>\n",
       "    </tr>\n",
       "    <tr>\n",
       "      <th>1</th>\n",
       "      <td>1.0</td>\n",
       "      <td>2.0</td>\n",
       "      <td>2.0</td>\n",
       "      <td>NaN</td>\n",
       "      <td>2.0</td>\n",
       "      <td>3.0</td>\n",
       "      <td>2.0</td>\n",
       "      <td>2.0</td>\n",
       "      <td>2</td>\n",
       "      <td>2.0</td>\n",
       "      <td>2.0</td>\n",
       "      <td>1.0</td>\n",
       "    </tr>\n",
       "    <tr>\n",
       "      <th>2</th>\n",
       "      <td>1.0</td>\n",
       "      <td>2.0</td>\n",
       "      <td>1.0</td>\n",
       "      <td>1.0</td>\n",
       "      <td>2.0</td>\n",
       "      <td>3.0</td>\n",
       "      <td>2.0</td>\n",
       "      <td>1.0</td>\n",
       "      <td>2</td>\n",
       "      <td>1.0</td>\n",
       "      <td>3.0</td>\n",
       "      <td>2.0</td>\n",
       "    </tr>\n",
       "    <tr>\n",
       "      <th>3</th>\n",
       "      <td>1.0</td>\n",
       "      <td>2.0</td>\n",
       "      <td>1.0</td>\n",
       "      <td>1.0</td>\n",
       "      <td>2.0</td>\n",
       "      <td>1.0</td>\n",
       "      <td>1.0</td>\n",
       "      <td>2.0</td>\n",
       "      <td>3</td>\n",
       "      <td>2.0</td>\n",
       "      <td>2.0</td>\n",
       "      <td>2.0</td>\n",
       "    </tr>\n",
       "    <tr>\n",
       "      <th>4</th>\n",
       "      <td>1.0</td>\n",
       "      <td>2.0</td>\n",
       "      <td>2.0</td>\n",
       "      <td>1.0</td>\n",
       "      <td>2.0</td>\n",
       "      <td>3.0</td>\n",
       "      <td>NaN</td>\n",
       "      <td>2.0</td>\n",
       "      <td>4</td>\n",
       "      <td>2.0</td>\n",
       "      <td>2.0</td>\n",
       "      <td>2.0</td>\n",
       "    </tr>\n",
       "  </tbody>\n",
       "</table>\n",
       "</div>"
      ],
      "text/plain": [
       "   insured  generalhealth  seen_a_doctor_in_12months?  primary_doctor  \\\n",
       "0      1.0            3.0                         1.0             1.0   \n",
       "1      1.0            2.0                         2.0             NaN   \n",
       "2      1.0            2.0                         1.0             1.0   \n",
       "3      1.0            2.0                         1.0             1.0   \n",
       "4      1.0            2.0                         2.0             1.0   \n",
       "\n",
       "   didnt_get_care  employed  who_insures_you  birthsex  below_poverty  \\\n",
       "0             2.0       3.0              1.0       2.0              2   \n",
       "1             2.0       3.0              2.0       2.0              2   \n",
       "2             2.0       3.0              2.0       1.0              2   \n",
       "3             2.0       1.0              1.0       2.0              3   \n",
       "4             2.0       3.0              NaN       2.0              4   \n",
       "\n",
       "   fluvaccineshot  revieved_hepatatis_vaccine  fruit_veggie_servings  \n",
       "0             1.0                         3.0                    2.0  \n",
       "1             2.0                         2.0                    1.0  \n",
       "2             1.0                         3.0                    2.0  \n",
       "3             2.0                         2.0                    2.0  \n",
       "4             2.0                         2.0                    2.0  "
      ]
     },
     "execution_count": 86,
     "metadata": {},
     "output_type": "execute_result"
    }
   ],
   "source": [
    "#renaming columns\n",
    "health = health.rename(columns = {'insuredgateway19' : 'insured', 'visitnonpcp12m19' : 'seen_a_doctor_in_12months?', 'pcp19' : 'primary_doctor', 'insure5': 'who_insures_you','emp3': 'employed', 'imputed_neighpovgroup4_1418': 'below_poverty','fruitveg19':'fruit_veggie_servings','everhepavaccine': 'revieved_hepatatis_vaccine','didntgetcare19': 'didnt_get_care'})\n",
    "health.head()"
   ]
  },
  {
   "cell_type": "markdown",
   "metadata": {},
   "source": [
    "Here we began to rename the columns, so that they were easier to understand. We went about this by creating a dictionary that contained both the original column name and the one we wanted to change it to. This was executed using he .rename() function."
   ]
  },
  {
   "cell_type": "code",
   "execution_count": 87,
   "metadata": {},
   "outputs": [
    {
     "data": {
      "text/html": [
       "<div>\n",
       "<style scoped>\n",
       "    .dataframe tbody tr th:only-of-type {\n",
       "        vertical-align: middle;\n",
       "    }\n",
       "\n",
       "    .dataframe tbody tr th {\n",
       "        vertical-align: top;\n",
       "    }\n",
       "\n",
       "    .dataframe thead th {\n",
       "        text-align: right;\n",
       "    }\n",
       "</style>\n",
       "<table border=\"1\" class=\"dataframe\">\n",
       "  <thead>\n",
       "    <tr style=\"text-align: right;\">\n",
       "      <th></th>\n",
       "      <th>insured</th>\n",
       "      <th>generalhealth</th>\n",
       "      <th>seen_a_doctor_in_12months?</th>\n",
       "      <th>primary_doctor</th>\n",
       "      <th>didnt_get_care</th>\n",
       "      <th>employed</th>\n",
       "      <th>who_insures_you</th>\n",
       "      <th>birthsex</th>\n",
       "      <th>below_poverty</th>\n",
       "      <th>fluvaccineshot</th>\n",
       "      <th>revieved_hepatatis_vaccine</th>\n",
       "      <th>fruit_veggie_servings</th>\n",
       "    </tr>\n",
       "  </thead>\n",
       "  <tbody>\n",
       "    <tr>\n",
       "      <th>count</th>\n",
       "      <td>8213.000000</td>\n",
       "      <td>8227.000000</td>\n",
       "      <td>8238.000000</td>\n",
       "      <td>8207.000000</td>\n",
       "      <td>8205.000000</td>\n",
       "      <td>8172.000000</td>\n",
       "      <td>8026.000000</td>\n",
       "      <td>8224.000000</td>\n",
       "      <td>8253.000000</td>\n",
       "      <td>8178.000000</td>\n",
       "      <td>8243.000000</td>\n",
       "      <td>8028.000000</td>\n",
       "    </tr>\n",
       "    <tr>\n",
       "      <th>mean</th>\n",
       "      <td>1.094241</td>\n",
       "      <td>2.696973</td>\n",
       "      <td>1.127337</td>\n",
       "      <td>1.139515</td>\n",
       "      <td>1.880073</td>\n",
       "      <td>1.778512</td>\n",
       "      <td>2.172315</td>\n",
       "      <td>1.561527</td>\n",
       "      <td>2.389192</td>\n",
       "      <td>1.492541</td>\n",
       "      <td>1.823972</td>\n",
       "      <td>2.051570</td>\n",
       "    </tr>\n",
       "    <tr>\n",
       "      <th>std</th>\n",
       "      <td>0.292181</td>\n",
       "      <td>1.121782</td>\n",
       "      <td>0.333370</td>\n",
       "      <td>0.346504</td>\n",
       "      <td>0.324896</td>\n",
       "      <td>0.943068</td>\n",
       "      <td>1.302893</td>\n",
       "      <td>0.496230</td>\n",
       "      <td>0.937318</td>\n",
       "      <td>0.499975</td>\n",
       "      <td>0.720247</td>\n",
       "      <td>0.492456</td>\n",
       "    </tr>\n",
       "    <tr>\n",
       "      <th>min</th>\n",
       "      <td>1.000000</td>\n",
       "      <td>1.000000</td>\n",
       "      <td>1.000000</td>\n",
       "      <td>1.000000</td>\n",
       "      <td>1.000000</td>\n",
       "      <td>1.000000</td>\n",
       "      <td>1.000000</td>\n",
       "      <td>1.000000</td>\n",
       "      <td>1.000000</td>\n",
       "      <td>1.000000</td>\n",
       "      <td>1.000000</td>\n",
       "      <td>1.000000</td>\n",
       "    </tr>\n",
       "    <tr>\n",
       "      <th>25%</th>\n",
       "      <td>1.000000</td>\n",
       "      <td>2.000000</td>\n",
       "      <td>1.000000</td>\n",
       "      <td>1.000000</td>\n",
       "      <td>2.000000</td>\n",
       "      <td>1.000000</td>\n",
       "      <td>1.000000</td>\n",
       "      <td>1.000000</td>\n",
       "      <td>2.000000</td>\n",
       "      <td>1.000000</td>\n",
       "      <td>1.000000</td>\n",
       "      <td>2.000000</td>\n",
       "    </tr>\n",
       "    <tr>\n",
       "      <th>50%</th>\n",
       "      <td>1.000000</td>\n",
       "      <td>3.000000</td>\n",
       "      <td>1.000000</td>\n",
       "      <td>1.000000</td>\n",
       "      <td>2.000000</td>\n",
       "      <td>1.000000</td>\n",
       "      <td>2.000000</td>\n",
       "      <td>2.000000</td>\n",
       "      <td>2.000000</td>\n",
       "      <td>1.000000</td>\n",
       "      <td>2.000000</td>\n",
       "      <td>2.000000</td>\n",
       "    </tr>\n",
       "    <tr>\n",
       "      <th>75%</th>\n",
       "      <td>1.000000</td>\n",
       "      <td>3.000000</td>\n",
       "      <td>1.000000</td>\n",
       "      <td>1.000000</td>\n",
       "      <td>2.000000</td>\n",
       "      <td>3.000000</td>\n",
       "      <td>3.000000</td>\n",
       "      <td>2.000000</td>\n",
       "      <td>3.000000</td>\n",
       "      <td>2.000000</td>\n",
       "      <td>2.000000</td>\n",
       "      <td>2.000000</td>\n",
       "    </tr>\n",
       "    <tr>\n",
       "      <th>max</th>\n",
       "      <td>2.000000</td>\n",
       "      <td>5.000000</td>\n",
       "      <td>2.000000</td>\n",
       "      <td>2.000000</td>\n",
       "      <td>2.000000</td>\n",
       "      <td>3.000000</td>\n",
       "      <td>5.000000</td>\n",
       "      <td>2.000000</td>\n",
       "      <td>4.000000</td>\n",
       "      <td>2.000000</td>\n",
       "      <td>3.000000</td>\n",
       "      <td>3.000000</td>\n",
       "    </tr>\n",
       "  </tbody>\n",
       "</table>\n",
       "</div>"
      ],
      "text/plain": [
       "           insured  generalhealth  seen_a_doctor_in_12months?  primary_doctor  \\\n",
       "count  8213.000000    8227.000000                 8238.000000     8207.000000   \n",
       "mean      1.094241       2.696973                    1.127337        1.139515   \n",
       "std       0.292181       1.121782                    0.333370        0.346504   \n",
       "min       1.000000       1.000000                    1.000000        1.000000   \n",
       "25%       1.000000       2.000000                    1.000000        1.000000   \n",
       "50%       1.000000       3.000000                    1.000000        1.000000   \n",
       "75%       1.000000       3.000000                    1.000000        1.000000   \n",
       "max       2.000000       5.000000                    2.000000        2.000000   \n",
       "\n",
       "       didnt_get_care     employed  who_insures_you     birthsex  \\\n",
       "count     8205.000000  8172.000000      8026.000000  8224.000000   \n",
       "mean         1.880073     1.778512         2.172315     1.561527   \n",
       "std          0.324896     0.943068         1.302893     0.496230   \n",
       "min          1.000000     1.000000         1.000000     1.000000   \n",
       "25%          2.000000     1.000000         1.000000     1.000000   \n",
       "50%          2.000000     1.000000         2.000000     2.000000   \n",
       "75%          2.000000     3.000000         3.000000     2.000000   \n",
       "max          2.000000     3.000000         5.000000     2.000000   \n",
       "\n",
       "       below_poverty  fluvaccineshot  revieved_hepatatis_vaccine  \\\n",
       "count    8253.000000     8178.000000                 8243.000000   \n",
       "mean        2.389192        1.492541                    1.823972   \n",
       "std         0.937318        0.499975                    0.720247   \n",
       "min         1.000000        1.000000                    1.000000   \n",
       "25%         2.000000        1.000000                    1.000000   \n",
       "50%         2.000000        1.000000                    2.000000   \n",
       "75%         3.000000        2.000000                    2.000000   \n",
       "max         4.000000        2.000000                    3.000000   \n",
       "\n",
       "       fruit_veggie_servings  \n",
       "count            8028.000000  \n",
       "mean                2.051570  \n",
       "std                 0.492456  \n",
       "min                 1.000000  \n",
       "25%                 2.000000  \n",
       "50%                 2.000000  \n",
       "75%                 2.000000  \n",
       "max                 3.000000  "
      ]
     },
     "execution_count": 87,
     "metadata": {},
     "output_type": "execute_result"
    }
   ],
   "source": [
    "# describing the basics of the numerical data using the describe varaibles\n",
    "health.describe()"
   ]
  },
  {
   "cell_type": "markdown",
   "metadata": {},
   "source": [
    "Here we utilized the .describe() fuction to give the overall numeric statistics of the categorical data."
   ]
  },
  {
   "cell_type": "code",
   "execution_count": 101,
   "metadata": {},
   "outputs": [
    {
     "name": "stdout",
     "output_type": "stream",
     "text": [
      "  insured  generalhealth  seen_a_doctor_in_12months? primary_doctor  \\\n",
      "0     yes            3.0                         1.0            yes   \n",
      "1     yes            2.0                         2.0            NaN   \n",
      "2     yes            2.0                         1.0            yes   \n",
      "3     yes            2.0                         1.0            yes   \n",
      "4     yes            2.0                         2.0            yes   \n",
      "\n",
      "  didnt_get_care  employed who_insures_you  birthsex           below_poverty  \\\n",
      "0             no       3.0         Private       2.0               10 - <20%   \n",
      "1             no       3.0   self-purchase       2.0               10 - <20%   \n",
      "2             no       3.0   self-purchase       1.0               10 - <20%   \n",
      "3             no       1.0         Private       2.0               20 - <30%   \n",
      "4             no       3.0             NaN       2.0  30 - <100% (very high)   \n",
      "\n",
      "   fluvaccineshot  revieved_hepatatis_vaccine  fruit_veggie_servings  \n",
      "0             1.0                         3.0                    2.0  \n",
      "1             2.0                         2.0                    1.0  \n",
      "2             1.0                         3.0                    2.0  \n",
      "3             2.0                         2.0                    2.0  \n",
      "4             2.0                         2.0                    2.0  \n"
     ]
    }
   ],
   "source": [
    "#Renaming data points in below_poverty and other columns I am preforming analysis on so that the data is understandable to the user. \n",
    "health_copy1 = health.copy()\n",
    "health_copy1.loc[health_copy1.below_poverty == 1, \"below_poverty\"] = \"0 - <10% (low pov)%\"\n",
    "health_copy1.loc[health_copy1.below_poverty == 2, \"below_poverty\"] = \"10 - <20%\"\n",
    "health_copy1.loc[health_copy1.below_poverty == 3, \"below_poverty\"] = \"20 - <30%\"\n",
    "health_copy1.loc[health_copy1.below_poverty == 4, \"below_poverty\"] = \"30 - <100% (very high)\"\n",
    "\n",
    "health_copy1.loc[health_copy1.insured == 1, \"insured\"] = \"yes\"\n",
    "health_copy1.loc[health_copy1.insured == 2, \"insured\"] = \"no\"\n",
    "\n",
    "health_copy1.loc[health_copy1.primary_doctor == 1, \"primary_doctor\"] = \"yes\"\n",
    "health_copy1.loc[health_copy1.primary_doctor == 2, \"primary_doctor\"] = \"no\"\n",
    "\n",
    "health_copy1.loc[health_copy1.didnt_get_care == 1, \"didnt_get_care\"] = \"yes\"\n",
    "health_copy1.loc[health_copy1.didnt_get_care == 2, \"didnt_get_care\"] = \"no\"\n",
    "\n",
    "health_copy1.loc[health_copy1.who_insures_you == 1, \"who_insures_you\"] = \"Private\"\n",
    "health_copy1.loc[health_copy1.who_insures_you == 2, \"who_insures_you\"] = \"self-purchase\"\n",
    "health_copy1.loc[health_copy1.who_insures_you == 3, \"who_insures_you\"] = \"Medicare\"\n",
    "health_copy1.loc[health_copy1.who_insures_you == 4, \"who_insures_you\"] = \"Medicaid\"\n",
    "health_copy1.loc[health_copy1.who_insures_you == 4, \"who_insures_you\"] = \"Others\"\n",
    "health_copy1.loc[health_copy1.who_insures_you == 4, \"who_insures_you\"] = \"Uninsured\"\n",
    "\n",
    "\n",
    "print(health_copy1.head())\n"
   ]
  },
  {
   "cell_type": "markdown",
   "metadata": {},
   "source": [
    "We then went on to clean the data further to give the values the categorical meaning that they were assigned, so that the value_counts analysis and histograms would be more clear than they would have had they still be categorized by numbers. We chose to save the values to a copy of the health data (health_copy1) in cause we chose to use the numerical values in a later analysis. "
   ]
  },
  {
   "cell_type": "code",
   "execution_count": 107,
   "metadata": {},
   "outputs": [
    {
     "data": {
      "text/plain": [
       "no     88.007313\n",
       "yes    11.992687\n",
       "Name: didnt_get_care, dtype: float64"
      ]
     },
     "metadata": {},
     "output_type": "display_data"
    },
    {
     "data": {
      "text/plain": [
       "yes    90.575916\n",
       "no      9.424084\n",
       "Name: insured, dtype: float64"
      ]
     },
     "metadata": {},
     "output_type": "display_data"
    },
    {
     "data": {
      "text/plain": [
       "yes    86.048495\n",
       "no     13.951505\n",
       "Name: primary_doctor, dtype: float64"
      ]
     },
     "metadata": {},
     "output_type": "display_data"
    }
   ],
   "source": [
    "display(health_copy1.didnt_get_care.value_counts(normalize=True)*100)\n",
    "display(health_copy1.insured.value_counts(normalize=True)*100)\n",
    "display(health_copy1.primary_doctor.value_counts(normalize=True)*100)"
   ]
  },
  {
   "cell_type": "markdown",
   "metadata": {},
   "source": [
    "The previous cells shows the demographics of NYC as a whole and it calculates the percentages of  those who have insurance, those who have a primary doctor, and those who are unable to recieve care when they need it. These percents can later be used to compare the neighborhoods of different income levels to NYC overall. The percents were found using the value_counts() fucntion, and normalizing the data to show it as a ratio. This ratio was then multiplied ny 100 to create a percent."
   ]
  },
  {
   "cell_type": "code",
   "execution_count": 108,
   "metadata": {},
   "outputs": [
    {
     "data": {
      "text/plain": [
       "Text(0.5, 1.0, 'distribution of residents living in specific income neighborhoods')"
      ]
     },
     "execution_count": 108,
     "metadata": {},
     "output_type": "execute_result"
    },
    {
     "data": {
      "image/png": "[encoded data removed]",
      "text/plain": [
       "<Figure size 432x288 with 1 Axes>"
      ]
     },
     "metadata": {
      "needs_background": "light"
     },
     "output_type": "display_data"
    }
   ],
   "source": [
    "plt.hist(health_copy1['below_poverty'])\n",
    "plt.xlabel('% of residents below the poverty line',fontsize=10)\n",
    "plt.ylabel(\"#  of residents living in those neighborhoods\",fontsize=10)\n",
    "plt.title('distribution of residents living in specific income neighborhoods',fontsize=10)"
   ]
  },
  {
   "cell_type": "markdown",
   "metadata": {},
   "source": [
    "We created this histogram using the plt.hist function. The histogram is used to display the number of NYC residents surveyed who fall into each of the categories of specific below poverty percentages.  "
   ]
  },
  {
   "cell_type": "code",
   "execution_count": null,
   "metadata": {},
   "outputs": [],
   "source": [
    "group_poverty = health_copy1.groupby('below_poverty').insured\n",
    "insured_poverty= group_poverty.value_counts(normalize=True)*100\n",
    "print(insured_poverty)"
   ]
  },
  {
   "cell_type": "markdown",
   "metadata": {},
   "source": [
    "This analysis uses the .groupby() function to group the data by the percent of people in a neighborhood who are below the poverty line. After the groups were formed, the percents of those insured in these categories was found using the value_counts() fucntion, and normalizing the data to show it as a ratio. This ratio was then multiplied ny 100 to create a percent."
   ]
  },
  {
   "cell_type": "markdown",
   "metadata": {},
   "source": [
    "This analysis shows that as the below poverty percentage increases (more people in that neighborhood are living in poverity) then the percent of people insured decreases. As the number of people in poverty increases, the percent of those with insurance decreases by about an increment of about 3% each time. This creates an approximate 8% differnce in those insured in the neighborhoods with the lowest poverty rate to the highest."
   ]
  },
  {
   "cell_type": "code",
   "execution_count": null,
   "metadata": {},
   "outputs": [],
   "source": [
    "group_poverty2 = health-.groupby('below_poverty').primary_doctor\n",
    "dr_poverty = group_poverty2.value_counts(normalize=True)*100\n",
    "print(dr_poverty)"
   ]
  },
  {
   "cell_type": "markdown",
   "metadata": {},
   "source": [
    "This analysis uses the .groupby() function to group the data by the percent of people in a neighborhood who are below the poverty line. After the groups were formed, the percents of those who had a primary doctory within each poverty level were found using the value_counts() fucntion, and normalizing the data to show it as a ratio. This ratio was then multiplied ny 100 to create a percent."
   ]
  },
  {
   "cell_type": "code",
   "execution_count": null,
   "metadata": {},
   "outputs": [],
   "source": [
    "group_poverty3 = health_copy1.groupby('below_poverty').didnt_get_care\n",
    "didnt_poverty = group_poverty3.value_counts(normalize=True)*100\n",
    "print(didnt_poverty)"
   ]
  },
  {
   "cell_type": "markdown",
   "metadata": {},
   "source": [
    "This analysis uses the .groupby() function to group the data by the percent of people in a neighborhood who are below the poverty line. After the groups were formed, the percents of those who didn't get care when they needed it within each poverty level were found using the value_counts() fucntion, and normalizing the data to show it as a ratio. This ratio was then multiplied by 100 to create a percent."
   ]
  },
  {
   "cell_type": "code",
   "execution_count": null,
   "metadata": {},
   "outputs": [],
   "source": [
    "# i want to make a group by so i can see the distribution of what insuraunce each neighborhood has \n",
    "plt.hist(health_copy1['who_insures_you'])\n",
    "#plt.xlabel('% of residents below the poverty line',fontsize=15)\n",
    "#plt.ylabel(\"#  of residents living in those neighborhoods\",fontsize=15)\n",
    "#plt.title('distribution of residents living in specific income neighborhoods',fontsize=15)"
   ]
  },
  {
   "cell_type": "markdown",
   "metadata": {},
   "source": [
    "## Data Limitations:\n",
    "The data in the health survery is all categorial data that is represented by numerical values. While some computations can be peformed on the data, this data set is best used in calulating percentages and showing distribution. When trying to show correlation in a scatterplot the results are inconclusive becasue there are only x amount of categories that the population can fall into. \n",
    "Beyod calculations, this data is also limited because it only includes those who have access to either a cell phone or a landline. This could possible scew the data as those with housing security are less likely to represent a population who does not have access to healthcare."
   ]
  },
  {
   "cell_type": "markdown",
   "metadata": {},
   "source": [
    "## Data explanation: \n",
    "This data set is created from a survery given to indivuals in NYC. The data set explores the general health of these residents as well other demographics such as income, gender, etc. The data is all categorical, but is represented as numbers in the dataset. In the finalized data sets we can see how poverty levels in NYC neighborhoods affect an indivuals access to healthcare. The data set can show this relationship by comparing the % of people below poverty in a specific neighborhood to the number of people insured, the number of people who have a regular doctor, and accessiblitiy to needed care. Additionally, this data set can begin to explore access to nutitious foods and vaccinations; however, there may be outside factors that also influence these demograohics that may not be directly seen through income levels.\n",
    "NOTE: This data set is currently incomplete and we are attempting to get access to boroughs and other demographic information that is not for publce use"
   ]
  },
  {
   "cell_type": "markdown",
   "metadata": {},
   "source": [
    "## Data Description:\n",
    "1. In this data set the rows are equal to the indivual answering the survey questions and the columns are equal to the questions asked on the surver. These questions relate to different health statistics(general health, is the particpant insured?,etc)\n",
    "2. This data was complied to track risk behaviors and to have a more comprehensive understanding of New York City's residents health. \n",
    "3. This data collection was funded by the New York City Department of Health and Mental Hygiene.\n",
    "4. The data is collected via stratified random sample to find data that gives neighborhood and city-wide information. However, this process is inluenced because data is only collected from households with a landline or residents with a cellular phone. Aditionally, the survey has been only been translated into Spanish, Russian, Chinese , Bengali, and Haitian Creole, which may limit the amount of those who are selected who can participate.\n",
    "5. The data was pre-processed by adding weight to the data collected in an attempt to negate any human biases that were a result of the participants answering questions about themselves. Additionally, the answers from the surveys were translated into numbers ( an answer 'yes' may now equal '1') before being added to the dataframe.\n",
    "6. This data is collected based off of interviews, so all of the human paticpants agreed to the survey and knew their data was going to be collected. It is unclear whether or not the participants had knowledge of how their data was going to be used."
   ]
  }
 ],
 "metadata": {
  "kernelspec": {
   "display_name": "Python 3",
   "language": "python",
   "name": "python3"
  },
  "language_info": {
   "codemirror_mode": {
    "name": "ipython",
    "version": 3
   },
   "file_extension": ".py",
   "mimetype": "text/x-python",
   "name": "python",
   "nbconvert_exporter": "python",
   "pygments_lexer": "ipython3",
   "version": "3.8.5"
  }
 },
 "nbformat": 4,
 "nbformat_minor": 4
}
