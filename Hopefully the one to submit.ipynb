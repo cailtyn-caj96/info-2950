{
 "cells": [
  {
   "cell_type": "markdown",
   "metadata": {},
   "source": [
    "# Project Phase II: Raquel Castromonte"
   ]
  },
  {
   "cell_type": "markdown",
   "metadata": {},
   "source": [
    "2018 - 2019 Students in Temporary Housing School Level Report\n",
    "\n",
    "Data catalog: https://catalog.data.gov/dataset/2018-2019-students-in-temporary-housing-school-level-report\n",
    "Database found on: https://data.cityofnewyork.us/Education/2018-2019-Students-in-Temporary-Housing-School-Lev/8iee-pzu6"
   ]
  },
  {
   "cell_type": "markdown",
   "metadata": {},
   "source": [
    "Possible question this might answer: Differences in student housing per borough"
   ]
  },
  {
   "cell_type": "code",
   "execution_count": null,
   "metadata": {},
   "outputs": [],
   "source": [
    "## load libraries\n",
    "import pandas as pd\n",
    "import numpy as np\n",
    "import matplotlib.pyplot as plt\n",
    "from scipy import stats"
   ]
  },
  {
   "cell_type": "code",
   "execution_count": null,
   "metadata": {},
   "outputs": [],
   "source": [
    "#load data\n",
    "housing_data = pd.read_csv(\"2018_-_2019_Students_in_Temporary_Housing_School_Level_Report.csv\")"
   ]
  },
  {
   "cell_type": "code",
   "execution_count": null,
   "metadata": {},
   "outputs": [],
   "source": [
    "housing_data.head()"
   ]
  },
  {
   "cell_type": "code",
   "execution_count": null,
   "metadata": {},
   "outputs": [],
   "source": []
  },
  {
   "cell_type": "markdown",
   "metadata": {},
   "source": [
    "#create a new column named \"Boroughs\" and extract the borough from the letter in the column \"DBN\" \n",
    "housing_data[\"Borough\"] = np.nan\n",
    "for i in range(len(housing_data[\"DBN\"])):\n",
    "    district_number = housing_data['DBN'][0:2]\n",
    "    hi = housing_data.loc[i]\n",
    "    letter =  hi[\"DBN\"][2]\n",
    "    if letter == \"M\":\n",
    "        housing_data[\"Borough\"][i] = \"Manhattan\" + district_number\n",
    "    elif letter == \"X\":\n",
    "        housing_data[\"Borough\"][i] = \"Bronx\" + district_number\n",
    "    elif letter == \"Q\":\n",
    "        housing_data[\"Borough\"][i] = \"Queens\" + district_number\n",
    "    elif letter == \"K\":\n",
    "        housing_data[\"Borough\"][i] = \"Brooklyn\" + district_number\n",
    "    elif letter == \"R\":\n",
    "        housing_data[\"Borough\"][i] = \"Staten_Island\" + district_number"
   ]
  },
  {
   "cell_type": "code",
   "execution_count": null,
   "metadata": {},
   "outputs": [],
   "source": [
    "def label_borough(col):\n",
    "    district_number = col['DBN'][0:2]\n",
    "    if col['DBN'].find(\"M\") == 2:\n",
    "      return 'Manhattan ' + district_number\n",
    "    if col['DBN'].find(\"K\") == 2:\n",
    "      return 'Brooklyn ' + district_number\n",
    "    if col['DBN'].find(\"X\") == 2 :\n",
    "      return 'Bronx ' + district_number\n",
    "    if col['DBN'].find(\"Q\") == 2:\n",
    "      return 'Queens ' + district_number\n",
    "    if col['DBN'].find(\"R\") == 2:\n",
    "      return 'Staten Island ' + district_number\n",
    "\n",
    "def labelBorough(col):\n",
    "    if col['DBN'].find(\"M\") == 2:\n",
    "      return 'Manhattan'\n",
    "    if col['DBN'].find(\"K\") == 2:\n",
    "      return 'Brooklyn'\n",
    "    if col['DBN'].find(\"X\") == 2 :\n",
    "      return 'Bronx'\n",
    "    if col['DBN'].find(\"Q\") == 2:\n",
    "      return 'Queens'\n",
    "    if col['DBN'].find(\"R\") == 2:\n",
    "      return 'Staten Island'\n",
    "\n",
    "\n",
    "housing_data['borough_and_district_#'] = housing_data.apply(lambda col: label_borough(col), axis=1)\n",
    "housing_data[\"borough\"] = housing_data.apply(lambda col: labelBorough(col), axis=1)"
   ]
  },
  {
   "cell_type": "code",
   "execution_count": null,
   "metadata": {},
   "outputs": [],
   "source": [
    "housing_data[\"borough_and_district_#\"].unique()\n",
    "housing_data[\"borough\"].unique()"
   ]
  },
  {
   "cell_type": "code",
   "execution_count": null,
   "metadata": {},
   "outputs": [],
   "source": [
    "#delete columns that we will not use\n",
    "housing_data = housing_data.drop(['DBN', 'School Name','# Doubled Up'], axis = 1)"
   ]
  },
  {
   "cell_type": "code",
   "execution_count": null,
   "metadata": {},
   "outputs": [],
   "source": [
    "#check the data types of each column\n",
    "housing_data.dtypes"
   ]
  },
  {
   "cell_type": "code",
   "execution_count": null,
   "metadata": {},
   "outputs": [],
   "source": [
    "housing_data.columns"
   ]
  },
  {
   "cell_type": "code",
   "execution_count": null,
   "metadata": {},
   "outputs": [],
   "source": [
    "housing_data[\"borough_and_district_#\"].unique()"
   ]
  },
  {
   "cell_type": "code",
   "execution_count": null,
   "metadata": {},
   "outputs": [],
   "source": [
    "#replace the s in the rows to 0\n",
    "housing_data = housing_data.replace(\"s\", 0)\n",
    "\n",
    "#change the 0 object to int in integer columns\n",
    "housing_data[\"# Students in Temporary Housing\"] = housing_data[\"# Students in Temporary Housing\"].astype(int)\n",
    "housing_data[\"% Students in Temporary Housing\"] = housing_data[\"% Students in Temporary Housing\"].astype(float)\n",
    "housing_data[\"# Students Residing in Shelter\"] = housing_data[\"# Students Residing in Shelter\"].astype(int)\n",
    "housing_data[\"# Residing in DHS Shelter\"] = housing_data[\"# Residing in DHS Shelter\"].astype(int)\n",
    "housing_data[\"# Residing in Non-DHS Shelter\"] = housing_data[\"# Residing in Non-DHS Shelter\"].astype(int)"
   ]
  },
  {
   "cell_type": "code",
   "execution_count": null,
   "metadata": {},
   "outputs": [],
   "source": [
    "#proof\n",
    "housing_data.dtypes"
   ]
  },
  {
   "cell_type": "code",
   "execution_count": null,
   "metadata": {},
   "outputs": [],
   "source": [
    "housing_data[\"borough_and_district_#\"].unique()"
   ]
  },
  {
   "cell_type": "code",
   "execution_count": null,
   "metadata": {},
   "outputs": [],
   "source": [
    "#gruop_by Borough and neighborhood\n",
    "by_borough_and_neigh = housing_data.groupby(\"borough_and_district_#\")"
   ]
  },
  {
   "cell_type": "code",
   "execution_count": null,
   "metadata": {},
   "outputs": [],
   "source": [
    "by_borough = housing_data.groupby(\"borough\")"
   ]
  },
  {
   "cell_type": "code",
   "execution_count": null,
   "metadata": {},
   "outputs": [],
   "source": [
    "#total number of students in the city according to the data\n",
    "print(\"There are {} number of students in NYC. \\n There are {} students in the Bronx,\\n {} in Brooklyn,\\n {} in Manhattan,\\n{} in Queens,\\n and {} in Staten Island\".format(\n",
    "    by_borough.sum()[\"# Total Students\"].sum(), \n",
    "    by_borough.sum()[\"# Total Students\"].loc[\"Bronx\"], \n",
    "    by_borough.sum()[\"# Total Students\"].loc[\"Brooklyn\"], \n",
    "    by_borough.sum()[\"# Total Students\"].loc[\"Manhattan\"],\n",
    "    by_borough.sum()[\"# Total Students\"].loc[\"Queens\"],\n",
    "    by_borough.sum()[\"# Total Students\"].loc[\"Staten Island\"]\n",
    "))"
   ]
  },
  {
   "cell_type": "code",
   "execution_count": null,
   "metadata": {},
   "outputs": [],
   "source": []
  },
  {
   "cell_type": "code",
   "execution_count": null,
   "metadata": {},
   "outputs": [],
   "source": [
    "#get a scatter plot of the different neighborhoods in bronx\n",
    "by_bronx = housing_data.loc[housing_data[\"borough\"] == \"Bronx\"]\n",
    "le_bronx = by_bronx.groupby(\"borough_and_district_#\").sum()\n",
    "plt.scatter(le_bronx[\"# Total Students\"], le_bronx[\"% Students in Temporary Housing\"])#, labels = \"borough_and_district_#\")\n",
    "plt.xlabel(\"Total student population in each school\")\n",
    "plt.ylabel(\"Percent of students in Temporary Housing\")\n",
    "plt.title(\"Bronx\")\n",
    "plt.show()"
   ]
  },
  {
   "cell_type": "code",
   "execution_count": null,
   "metadata": {},
   "outputs": [],
   "source": [
    "#get a scatter plot of the different neighborhoods in queens\n",
    "by_queens = housing_data.loc[housing_data[\"borough\"] == \"Queens\"]\n",
    "le_queens = by_queens.groupby(\"borough_and_district_#\").sum()\n",
    "plt.scatter(le_queens[\"# Total Students\"], le_queens[\"% Students in Temporary Housing\"])\n",
    "plt.xlabel(\"Total student population in district\")\n",
    "plt.ylabel(\"Percent of students in Temporary Housing\")\n",
    "plt.title(\"Queens\")\n",
    "plt.show()"
   ]
  },
  {
   "cell_type": "code",
   "execution_count": null,
   "metadata": {},
   "outputs": [],
   "source": [
    "#get a scatter plot of the different neighborhoods in Brooklyn\n",
    "by_brooklyn = housing_data.loc[housing_data[\"borough\"] == \"Brooklyn\"]\n",
    "le_brooklyn = by_brooklyn.groupby(\"borough_and_district_#\").sum()\n",
    "plt.scatter(le_brooklyn[\"# Total Students\"], le_brooklyn[\"% Students in Temporary Housing\"])\n",
    "plt.xlabel(\"Total student population in district\")\n",
    "plt.ylabel(\"Percent of students in Temporary Housing\")\n",
    "plt.title(\"Brooklyn\")\n",
    "plt.show()"
   ]
  },
  {
   "cell_type": "code",
   "execution_count": null,
   "metadata": {},
   "outputs": [],
   "source": [
    "#get a scatter plot of the different neighborhoods in Staten Island\n",
    "by_SI = housing_data.loc[housing_data[\"borough\"] == \"Staten Island\"]\n",
    "le_SI = by_SI.groupby(\"borough_and_district_#\").sum()\n",
    "plt.scatter(le_SI[\"# Total Students\"], le_SI[\"% Students in Temporary Housing\"])\n",
    "plt.xlabel(\"Total student population in district\")\n",
    "plt.ylabel(\"Percent of students in Temporary Housing\")\n",
    "plt.title(\"Staten Island\")\n",
    "plt.show()"
   ]
  },
  {
   "cell_type": "code",
   "execution_count": null,
   "metadata": {},
   "outputs": [],
   "source": [
    "#get a scatter plot of the different neighborhoods in Manhattan\n",
    "by_man = housing_data.loc[housing_data[\"borough\"] == \"Manhattan\"]\n",
    "le_man = by_man.groupby(\"borough_and_district_#\").sum()\n",
    "plt.scatter(le_man[\"# Total Students\"], le_man[\"% Students in Temporary Housing\"])\n",
    "plt.xlabel(\"Total student population in district\")\n",
    "plt.ylabel(\"Percent of students in Temporary Housing\")\n",
    "plt.title(\"Manhattan\")\n",
    "plt.show()"
   ]
  },
  {
   "cell_type": "code",
   "execution_count": null,
   "metadata": {},
   "outputs": [],
   "source": []
  },
  {
   "cell_type": "code",
   "execution_count": null,
   "metadata": {},
   "outputs": [],
   "source": []
  },
  {
   "cell_type": "code",
   "execution_count": null,
   "metadata": {},
   "outputs": [],
   "source": []
  }
 ],
 "metadata": {
  "kernelspec": {
   "display_name": "Python 3",
   "language": "python",
   "name": "python3"
  },
  "language_info": {
   "codemirror_mode": {
    "name": "ipython",
    "version": 3
   },
   "file_extension": ".py",
   "mimetype": "text/x-python",
   "name": "python",
   "nbconvert_exporter": "python",
   "pygments_lexer": "ipython3",
   "version": "3.7.4"
  }
 },
 "nbformat": 4,
 "nbformat_minor": 2
}
