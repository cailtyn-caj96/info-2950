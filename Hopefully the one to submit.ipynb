{
 "cells": [
  {
   "cell_type": "markdown",
   "metadata": {},
   "source": [
    "# Project Phase II: Raquel Castromonte"
   ]
  },
  {
   "cell_type": "markdown",
   "metadata": {},
   "source": [
    "2018 - 2019 Students in Temporary Housing School Level Report\n",
    "\n",
    "Data catalog: https://catalog.data.gov/dataset/2018-2019-students-in-temporary-housing-school-level-report\n",
    "Database found on: https://data.cityofnewyork.us/Education/2018-2019-Students-in-Temporary-Housing-School-Lev/8iee-pzu6"
   ]
  },
  {
   "cell_type": "markdown",
   "metadata": {},
   "source": [
    "Possible question this might answer: Differences in student housing per borough"
   ]
  },
  {
   "cell_type": "code",
   "execution_count": 1,
   "metadata": {},
   "outputs": [],
   "source": [
    "## load libraries\n",
    "import pandas as pd\n",
    "import numpy as np\n",
    "import matplotlib.pyplot as plt\n",
    "from scipy import stats"
   ]
  },
  {
   "cell_type": "code",
   "execution_count": 2,
   "metadata": {},
   "outputs": [],
   "source": [
    "#load data\n",
    "housing_data = pd.read_csv(\"2018_-_2019_Students_in_Temporary_Housing_School_Level_Report.csv\")"
   ]
  },
  {
   "cell_type": "code",
   "execution_count": 3,
   "metadata": {},
   "outputs": [
    {
     "data": {
      "text/html": [
       "<div>\n",
       "<style scoped>\n",
       "    .dataframe tbody tr th:only-of-type {\n",
       "        vertical-align: middle;\n",
       "    }\n",
       "\n",
       "    .dataframe tbody tr th {\n",
       "        vertical-align: top;\n",
       "    }\n",
       "\n",
       "    .dataframe thead th {\n",
       "        text-align: right;\n",
       "    }\n",
       "</style>\n",
       "<table border=\"1\" class=\"dataframe\">\n",
       "  <thead>\n",
       "    <tr style=\"text-align: right;\">\n",
       "      <th></th>\n",
       "      <th>DBN</th>\n",
       "      <th>School Name</th>\n",
       "      <th># Total Students</th>\n",
       "      <th># Students in Temporary Housing</th>\n",
       "      <th>% Students in Temporary Housing</th>\n",
       "      <th># Students Residing in Shelter</th>\n",
       "      <th># Residing in DHS Shelter</th>\n",
       "      <th># Residing in Non-DHS Shelter</th>\n",
       "      <th># Doubled Up</th>\n",
       "    </tr>\n",
       "  </thead>\n",
       "  <tbody>\n",
       "    <tr>\n",
       "      <td>0</td>\n",
       "      <td>01M015</td>\n",
       "      <td>P.S. 015 Roberto Clemente</td>\n",
       "      <td>187</td>\n",
       "      <td>67</td>\n",
       "      <td>0.36</td>\n",
       "      <td>16</td>\n",
       "      <td>6</td>\n",
       "      <td>10</td>\n",
       "      <td>49</td>\n",
       "    </tr>\n",
       "    <tr>\n",
       "      <td>1</td>\n",
       "      <td>01M019</td>\n",
       "      <td>P.S. 019 Asher Levy</td>\n",
       "      <td>274</td>\n",
       "      <td>34</td>\n",
       "      <td>0.12</td>\n",
       "      <td>19</td>\n",
       "      <td>s</td>\n",
       "      <td>s</td>\n",
       "      <td>15</td>\n",
       "    </tr>\n",
       "    <tr>\n",
       "      <td>2</td>\n",
       "      <td>01M020</td>\n",
       "      <td>P.S. 020 Anna Silver</td>\n",
       "      <td>512</td>\n",
       "      <td>95</td>\n",
       "      <td>0.19</td>\n",
       "      <td>41</td>\n",
       "      <td>26</td>\n",
       "      <td>15</td>\n",
       "      <td>51</td>\n",
       "    </tr>\n",
       "    <tr>\n",
       "      <td>3</td>\n",
       "      <td>01M034</td>\n",
       "      <td>P.S. 034 Franklin D. Roosevelt</td>\n",
       "      <td>348</td>\n",
       "      <td>84</td>\n",
       "      <td>0.24</td>\n",
       "      <td>46</td>\n",
       "      <td>34</td>\n",
       "      <td>12</td>\n",
       "      <td>38</td>\n",
       "    </tr>\n",
       "    <tr>\n",
       "      <td>4</td>\n",
       "      <td>01M063</td>\n",
       "      <td>The STAR Academy - P.S.63</td>\n",
       "      <td>212</td>\n",
       "      <td>52</td>\n",
       "      <td>0.25</td>\n",
       "      <td>13</td>\n",
       "      <td>s</td>\n",
       "      <td>s</td>\n",
       "      <td>37</td>\n",
       "    </tr>\n",
       "  </tbody>\n",
       "</table>\n",
       "</div>"
      ],
      "text/plain": [
       "      DBN                     School Name  # Total Students  \\\n",
       "0  01M015       P.S. 015 Roberto Clemente               187   \n",
       "1  01M019             P.S. 019 Asher Levy               274   \n",
       "2  01M020            P.S. 020 Anna Silver               512   \n",
       "3  01M034  P.S. 034 Franklin D. Roosevelt               348   \n",
       "4  01M063       The STAR Academy - P.S.63               212   \n",
       "\n",
       "  # Students in Temporary Housing % Students in Temporary Housing  \\\n",
       "0                              67                            0.36   \n",
       "1                              34                            0.12   \n",
       "2                              95                            0.19   \n",
       "3                              84                            0.24   \n",
       "4                              52                            0.25   \n",
       "\n",
       "  # Students Residing in Shelter # Residing in DHS Shelter  \\\n",
       "0                             16                         6   \n",
       "1                             19                         s   \n",
       "2                             41                        26   \n",
       "3                             46                        34   \n",
       "4                             13                         s   \n",
       "\n",
       "  # Residing in Non-DHS Shelter # Doubled Up  \n",
       "0                            10           49  \n",
       "1                             s           15  \n",
       "2                            15           51  \n",
       "3                            12           38  \n",
       "4                             s           37  "
      ]
     },
     "execution_count": 3,
     "metadata": {},
     "output_type": "execute_result"
    }
   ],
   "source": [
    "housing_data.head()"
   ]
  },
  {
   "cell_type": "code",
   "execution_count": 4,
   "metadata": {},
   "outputs": [
    {
     "data": {
      "text/plain": [
       "0    01M015\n",
       "1    01M019\n",
       "Name: DBN, dtype: object"
      ]
     },
     "execution_count": 4,
     "metadata": {},
     "output_type": "execute_result"
    }
   ],
   "source": [
    "district_number = housing_data['DBN'][0:2]\n",
    "district_number"
   ]
  },
  {
   "cell_type": "markdown",
   "metadata": {},
   "source": [
    "#create a new column named \"Boroughs\" and extract the borough from the letter in the column \"DBN\" \n",
    "housing_data[\"Borough\"] = np.nan\n",
    "for i in range(len(housing_data[\"DBN\"])):\n",
    "    district_number = housing_data['DBN'][0:2]\n",
    "    hi = housing_data.loc[i]\n",
    "    letter =  hi[\"DBN\"][2]\n",
    "    if letter == \"M\":\n",
    "        housing_data[\"Borough\"][i] = \"Manhattan\" + district_number\n",
    "    elif letter == \"X\":\n",
    "        housing_data[\"Borough\"][i] = \"Bronx\" + district_number\n",
    "    elif letter == \"Q\":\n",
    "        housing_data[\"Borough\"][i] = \"Queens\" + district_number\n",
    "    elif letter == \"K\":\n",
    "        housing_data[\"Borough\"][i] = \"Brooklyn\" + district_number\n",
    "    elif letter == \"R\":\n",
    "        housing_data[\"Borough\"][i] = \"Staten_Island\" + district_number"
   ]
  },
  {
   "cell_type": "code",
   "execution_count": 5,
   "metadata": {},
   "outputs": [],
   "source": [
    "def label_borough(col):\n",
    "    district_number = col['DBN'][0:2]\n",
    "    if col['DBN'].find(\"M\") == 2:\n",
    "      return 'Manhattan ' + district_number\n",
    "    if col['DBN'].find(\"K\") == 2:\n",
    "      return 'Brooklyn ' + district_number\n",
    "    if col['DBN'].find(\"X\") == 2 :\n",
    "      return 'Bronx ' + district_number\n",
    "    if col['DBN'].find(\"Q\") == 2:\n",
    "      return 'Queens ' + district_number\n",
    "    if col['DBN'].find(\"R\") == 2:\n",
    "      return 'Staten Island ' + district_number\n",
    "\n",
    "def labelBorough(col):\n",
    "    if col['DBN'].find(\"M\") == 2:\n",
    "      return 'Manhattan'\n",
    "    if col['DBN'].find(\"K\") == 2:\n",
    "      return 'Brooklyn'\n",
    "    if col['DBN'].find(\"X\") == 2 :\n",
    "      return 'Bronx'\n",
    "    if col['DBN'].find(\"Q\") == 2:\n",
    "      return 'Queens'\n",
    "    if col['DBN'].find(\"R\") == 2:\n",
    "      return 'Staten Island'\n",
    "\n",
    "\n",
    "housing_data['borough_and_district_#'] = housing_data.apply(lambda col: label_borough(col), axis=1)\n",
    "housing_data[\"borough\"] = housing_data.apply(lambda col: labelBorough(col), axis=1)"
   ]
  },
  {
   "cell_type": "code",
   "execution_count": 6,
   "metadata": {},
   "outputs": [
    {
     "data": {
      "text/plain": [
       "array(['Manhattan', 'Brooklyn', 'Queens', 'Bronx', 'Staten Island'],\n",
       "      dtype=object)"
      ]
     },
     "execution_count": 6,
     "metadata": {},
     "output_type": "execute_result"
    }
   ],
   "source": [
    "housing_data[\"borough_and_district_#\"].unique()\n",
    "housing_data[\"borough\"].unique()"
   ]
  },
  {
   "cell_type": "code",
   "execution_count": 7,
   "metadata": {},
   "outputs": [],
   "source": [
    "#delete columns that we will not use\n",
    "housing_data = housing_data.drop(['DBN', 'School Name','# Doubled Up'], axis = 1)"
   ]
  },
  {
   "cell_type": "code",
   "execution_count": 8,
   "metadata": {},
   "outputs": [
    {
     "data": {
      "text/plain": [
       "# Total Students                    int64\n",
       "# Students in Temporary Housing    object\n",
       "% Students in Temporary Housing    object\n",
       "# Students Residing in Shelter     object\n",
       "# Residing in DHS Shelter          object\n",
       "# Residing in Non-DHS Shelter      object\n",
       "borough_and_district_#             object\n",
       "borough                            object\n",
       "dtype: object"
      ]
     },
     "execution_count": 8,
     "metadata": {},
     "output_type": "execute_result"
    }
   ],
   "source": [
    "#check the data types of each column\n",
    "housing_data.dtypes"
   ]
  },
  {
   "cell_type": "code",
   "execution_count": 9,
   "metadata": {},
   "outputs": [
    {
     "data": {
      "text/plain": [
       "Index(['# Total Students', '# Students in Temporary Housing',\n",
       "       '% Students in Temporary Housing', '# Students Residing in Shelter',\n",
       "       '# Residing in DHS Shelter', '# Residing in Non-DHS Shelter',\n",
       "       'borough_and_district_#', 'borough'],\n",
       "      dtype='object')"
      ]
     },
     "execution_count": 9,
     "metadata": {},
     "output_type": "execute_result"
    }
   ],
   "source": [
    "housing_data.columns"
   ]
  },
  {
   "cell_type": "code",
   "execution_count": 10,
   "metadata": {},
   "outputs": [
    {
     "data": {
      "text/plain": [
       "array(['Manhattan 01', 'Manhattan 02', 'Brooklyn 22', 'Manhattan 03',\n",
       "       'Queens 24', 'Manhattan 04', 'Bronx 12', 'Manhattan 05',\n",
       "       'Manhattan 06', 'Bronx 07', 'Manhattan 75', 'Bronx 08', 'Bronx 09',\n",
       "       'Bronx 10', 'Bronx 11', 'Brooklyn 13', 'Brooklyn 14',\n",
       "       'Brooklyn 15', 'Brooklyn 16', 'Brooklyn 17', 'Brooklyn 18',\n",
       "       'Brooklyn 19', 'Brooklyn 20', 'Brooklyn 21', 'Brooklyn 23',\n",
       "       'Queens 25', 'Queens 26', 'Queens 27', 'Queens 28', 'Queens 29',\n",
       "       'Staten Island 31', 'Queens 30', 'Brooklyn 32', 'Brooklyn 75',\n",
       "       'Queens 75', 'Staten Island 75', 'Bronx 75', 'Manhattan 79',\n",
       "       'Queens 79', 'Bronx 79'], dtype=object)"
      ]
     },
     "execution_count": 10,
     "metadata": {},
     "output_type": "execute_result"
    }
   ],
   "source": [
    "housing_data[\"borough_and_district_#\"].unique()"
   ]
  },
  {
   "cell_type": "code",
   "execution_count": 11,
   "metadata": {},
   "outputs": [],
   "source": [
    "#replace the s in the rows to 0\n",
    "housing_data = housing_data.replace(\"s\", 0)\n",
    "\n",
    "#change the 0 object to int in integer columns\n",
    "housing_data[\"# Students in Temporary Housing\"] = housing_data[\"# Students in Temporary Housing\"].astype(int)\n",
    "housing_data[\"% Students in Temporary Housing\"] = housing_data[\"% Students in Temporary Housing\"].astype(float)\n",
    "housing_data[\"# Students Residing in Shelter\"] = housing_data[\"# Students Residing in Shelter\"].astype(int)\n",
    "housing_data[\"# Residing in DHS Shelter\"] = housing_data[\"# Residing in DHS Shelter\"].astype(int)\n",
    "housing_data[\"# Residing in Non-DHS Shelter\"] = housing_data[\"# Residing in Non-DHS Shelter\"].astype(int)"
   ]
  },
  {
   "cell_type": "code",
   "execution_count": 12,
   "metadata": {},
   "outputs": [
    {
     "data": {
      "text/plain": [
       "# Total Students                     int64\n",
       "# Students in Temporary Housing      int32\n",
       "% Students in Temporary Housing    float64\n",
       "# Students Residing in Shelter       int32\n",
       "# Residing in DHS Shelter            int32\n",
       "# Residing in Non-DHS Shelter        int32\n",
       "borough_and_district_#              object\n",
       "borough                             object\n",
       "dtype: object"
      ]
     },
     "execution_count": 12,
     "metadata": {},
     "output_type": "execute_result"
    }
   ],
   "source": [
    "#proof\n",
    "housing_data.dtypes"
   ]
  },
  {
   "cell_type": "code",
   "execution_count": 13,
   "metadata": {},
   "outputs": [
    {
     "data": {
      "text/plain": [
       "array(['Manhattan 01', 'Manhattan 02', 'Brooklyn 22', 'Manhattan 03',\n",
       "       'Queens 24', 'Manhattan 04', 'Bronx 12', 'Manhattan 05',\n",
       "       'Manhattan 06', 'Bronx 07', 'Manhattan 75', 'Bronx 08', 'Bronx 09',\n",
       "       'Bronx 10', 'Bronx 11', 'Brooklyn 13', 'Brooklyn 14',\n",
       "       'Brooklyn 15', 'Brooklyn 16', 'Brooklyn 17', 'Brooklyn 18',\n",
       "       'Brooklyn 19', 'Brooklyn 20', 'Brooklyn 21', 'Brooklyn 23',\n",
       "       'Queens 25', 'Queens 26', 'Queens 27', 'Queens 28', 'Queens 29',\n",
       "       'Staten Island 31', 'Queens 30', 'Brooklyn 32', 'Brooklyn 75',\n",
       "       'Queens 75', 'Staten Island 75', 'Bronx 75', 'Manhattan 79',\n",
       "       'Queens 79', 'Bronx 79'], dtype=object)"
      ]
     },
     "execution_count": 13,
     "metadata": {},
     "output_type": "execute_result"
    }
   ],
   "source": [
    "housing_data[\"borough_and_district_#\"].unique()"
   ]
  },
  {
   "cell_type": "code",
   "execution_count": 14,
   "metadata": {},
   "outputs": [],
   "source": [
    "#gruop_by Borough and neighborhood\n",
    "by_borough_and_neigh = housing_data.groupby(\"borough_and_district_#\")"
   ]
  },
  {
   "cell_type": "code",
   "execution_count": 15,
   "metadata": {},
   "outputs": [],
   "source": [
    "by_borough = housing_data.groupby(\"borough\")"
   ]
  },
  {
   "cell_type": "code",
   "execution_count": 16,
   "metadata": {},
   "outputs": [
    {
     "name": "stdout",
     "output_type": "stream",
     "text": [
      "There are 1063856 number of students in NYC. \n",
      " There are 220465 students in the Bronx,\n",
      " 306370 in Brooklyn,\n",
      " 155456 in Manhattan,\n",
      "315063 in Queens,\n",
      " and 66502 in Staten Island\n"
     ]
    }
   ],
   "source": [
    "#total number of students in the city according to the data\n",
    "print(\"There are {} number of students in NYC. \\n There are {} students in the Bronx,\\n {} in Brooklyn,\\n {} in Manhattan,\\n{} in Queens,\\n and {} in Staten Island\".format(\n",
    "    by_borough.sum()[\"# Total Students\"].sum(), \n",
    "    by_borough.sum()[\"# Total Students\"].loc[\"Bronx\"], \n",
    "    by_borough.sum()[\"# Total Students\"].loc[\"Brooklyn\"], \n",
    "    by_borough.sum()[\"# Total Students\"].loc[\"Manhattan\"],\n",
    "    by_borough.sum()[\"# Total Students\"].loc[\"Queens\"],\n",
    "    by_borough.sum()[\"# Total Students\"].loc[\"Staten Island\"]\n",
    "))"
   ]
  },
  {
   "cell_type": "code",
   "execution_count": 17,
   "metadata": {},
   "outputs": [
    {
     "data": {
      "text/html": [
       "<div>\n",
       "<style scoped>\n",
       "    .dataframe tbody tr th:only-of-type {\n",
       "        vertical-align: middle;\n",
       "    }\n",
       "\n",
       "    .dataframe tbody tr th {\n",
       "        vertical-align: top;\n",
       "    }\n",
       "\n",
       "    .dataframe thead th {\n",
       "        text-align: right;\n",
       "    }\n",
       "</style>\n",
       "<table border=\"1\" class=\"dataframe\">\n",
       "  <thead>\n",
       "    <tr style=\"text-align: right;\">\n",
       "      <th></th>\n",
       "      <th># Total Students</th>\n",
       "      <th># Students in Temporary Housing</th>\n",
       "      <th>% Students in Temporary Housing</th>\n",
       "      <th># Students Residing in Shelter</th>\n",
       "      <th># Residing in DHS Shelter</th>\n",
       "      <th># Residing in Non-DHS Shelter</th>\n",
       "    </tr>\n",
       "    <tr>\n",
       "      <th>borough_and_district_#</th>\n",
       "      <th></th>\n",
       "      <th></th>\n",
       "      <th></th>\n",
       "      <th></th>\n",
       "      <th></th>\n",
       "      <th></th>\n",
       "    </tr>\n",
       "  </thead>\n",
       "  <tbody>\n",
       "    <tr>\n",
       "      <td>Bronx 07</td>\n",
       "      <td>20644</td>\n",
       "      <td>3729</td>\n",
       "      <td>8.10</td>\n",
       "      <td>1544</td>\n",
       "      <td>911</td>\n",
       "      <td>365</td>\n",
       "    </tr>\n",
       "    <tr>\n",
       "      <td>Bronx 08</td>\n",
       "      <td>30011</td>\n",
       "      <td>4335</td>\n",
       "      <td>8.69</td>\n",
       "      <td>1832</td>\n",
       "      <td>1068</td>\n",
       "      <td>411</td>\n",
       "    </tr>\n",
       "    <tr>\n",
       "      <td>Bronx 09</td>\n",
       "      <td>36582</td>\n",
       "      <td>7779</td>\n",
       "      <td>14.96</td>\n",
       "      <td>3094</td>\n",
       "      <td>2079</td>\n",
       "      <td>631</td>\n",
       "    </tr>\n",
       "    <tr>\n",
       "      <td>Bronx 10</td>\n",
       "      <td>58667</td>\n",
       "      <td>10572</td>\n",
       "      <td>16.98</td>\n",
       "      <td>2581</td>\n",
       "      <td>1440</td>\n",
       "      <td>576</td>\n",
       "    </tr>\n",
       "    <tr>\n",
       "      <td>Bronx 11</td>\n",
       "      <td>42458</td>\n",
       "      <td>4818</td>\n",
       "      <td>7.84</td>\n",
       "      <td>1695</td>\n",
       "      <td>819</td>\n",
       "      <td>394</td>\n",
       "    </tr>\n",
       "    <tr>\n",
       "      <td>Bronx 12</td>\n",
       "      <td>24505</td>\n",
       "      <td>4557</td>\n",
       "      <td>9.89</td>\n",
       "      <td>2176</td>\n",
       "      <td>1418</td>\n",
       "      <td>492</td>\n",
       "    </tr>\n",
       "    <tr>\n",
       "      <td>Bronx 75</td>\n",
       "      <td>7356</td>\n",
       "      <td>932</td>\n",
       "      <td>1.82</td>\n",
       "      <td>577</td>\n",
       "      <td>319</td>\n",
       "      <td>154</td>\n",
       "    </tr>\n",
       "    <tr>\n",
       "      <td>Bronx 79</td>\n",
       "      <td>242</td>\n",
       "      <td>30</td>\n",
       "      <td>0.12</td>\n",
       "      <td>17</td>\n",
       "      <td>0</td>\n",
       "      <td>0</td>\n",
       "    </tr>\n",
       "  </tbody>\n",
       "</table>\n",
       "</div>"
      ],
      "text/plain": [
       "                        # Total Students  # Students in Temporary Housing  \\\n",
       "borough_and_district_#                                                      \n",
       "Bronx 07                           20644                             3729   \n",
       "Bronx 08                           30011                             4335   \n",
       "Bronx 09                           36582                             7779   \n",
       "Bronx 10                           58667                            10572   \n",
       "Bronx 11                           42458                             4818   \n",
       "Bronx 12                           24505                             4557   \n",
       "Bronx 75                            7356                              932   \n",
       "Bronx 79                             242                               30   \n",
       "\n",
       "                        % Students in Temporary Housing  \\\n",
       "borough_and_district_#                                    \n",
       "Bronx 07                                           8.10   \n",
       "Bronx 08                                           8.69   \n",
       "Bronx 09                                          14.96   \n",
       "Bronx 10                                          16.98   \n",
       "Bronx 11                                           7.84   \n",
       "Bronx 12                                           9.89   \n",
       "Bronx 75                                           1.82   \n",
       "Bronx 79                                           0.12   \n",
       "\n",
       "                        # Students Residing in Shelter  \\\n",
       "borough_and_district_#                                   \n",
       "Bronx 07                                          1544   \n",
       "Bronx 08                                          1832   \n",
       "Bronx 09                                          3094   \n",
       "Bronx 10                                          2581   \n",
       "Bronx 11                                          1695   \n",
       "Bronx 12                                          2176   \n",
       "Bronx 75                                           577   \n",
       "Bronx 79                                            17   \n",
       "\n",
       "                        # Residing in DHS Shelter  \\\n",
       "borough_and_district_#                              \n",
       "Bronx 07                                      911   \n",
       "Bronx 08                                     1068   \n",
       "Bronx 09                                     2079   \n",
       "Bronx 10                                     1440   \n",
       "Bronx 11                                      819   \n",
       "Bronx 12                                     1418   \n",
       "Bronx 75                                      319   \n",
       "Bronx 79                                        0   \n",
       "\n",
       "                        # Residing in Non-DHS Shelter  \n",
       "borough_and_district_#                                 \n",
       "Bronx 07                                          365  \n",
       "Bronx 08                                          411  \n",
       "Bronx 09                                          631  \n",
       "Bronx 10                                          576  \n",
       "Bronx 11                                          394  \n",
       "Bronx 12                                          492  \n",
       "Bronx 75                                          154  \n",
       "Bronx 79                                            0  "
      ]
     },
     "execution_count": 17,
     "metadata": {},
     "output_type": "execute_result"
    }
   ],
   "source": []
  },
  {
   "cell_type": "code",
   "execution_count": 37,
   "metadata": {},
   "outputs": [
    {
     "data": {
      "image/png": "[encoded data removed]",
      "text/plain": [
       "<Figure size 432x288 with 1 Axes>"
      ]
     },
     "metadata": {
      "needs_background": "light"
     },
     "output_type": "display_data"
    }
   ],
   "source": [
    "#get a scatter plot of the different neighborhoods in bronx\n",
    "by_bronx = housing_data.loc[housing_data[\"borough\"] == \"Bronx\"]\n",
    "le_bronx = by_bronx.groupby(\"borough_and_district_#\").sum()\n",
    "plt.scatter(le_bronx[\"# Total Students\"], le_bronx[\"% Students in Temporary Housing\"])#, labels = \"borough_and_district_#\")\n",
    "plt.xlabel(\"Total student population in each school\")\n",
    "plt.ylabel(\"Percent of students in Temporary Housing\")\n",
    "plt.title(\"Bronx\")\n",
    "plt.show()"
   ]
  },
  {
   "cell_type": "code",
   "execution_count": 39,
   "metadata": {},
   "outputs": [
    {
     "data": {
      "image/png": "[encoded data removed]",
      "text/plain": [
       "<Figure size 432x288 with 1 Axes>"
      ]
     },
     "metadata": {
      "needs_background": "light"
     },
     "output_type": "display_data"
    }
   ],
   "source": [
    "#get a scatter plot of the different neighborhoods in queens\n",
    "by_queens = housing_data.loc[housing_data[\"borough\"] == \"Queens\"]\n",
    "le_queens = by_queens.groupby(\"borough_and_district_#\").sum()\n",
    "plt.scatter(le_queens[\"# Total Students\"], le_queens[\"% Students in Temporary Housing\"])\n",
    "plt.xlabel(\"Total student population in district\")\n",
    "plt.ylabel(\"Percent of students in Temporary Housing\")\n",
    "plt.title(\"Queens\")\n",
    "plt.show()"
   ]
  },
  {
   "cell_type": "code",
   "execution_count": 42,
   "metadata": {},
   "outputs": [
    {
     "data": {
      "image/png": "[encoded data removed]",
      "text/plain": [
       "<Figure size 432x288 with 1 Axes>"
      ]
     },
     "metadata": {
      "needs_background": "light"
     },
     "output_type": "display_data"
    }
   ],
   "source": [
    "#get a scatter plot of the different neighborhoods in Brooklyn\n",
    "by_brooklyn = housing_data.loc[housing_data[\"borough\"] == \"Brooklyn\"]\n",
    "le_brooklyn = by_brooklyn.groupby(\"borough_and_district_#\").sum()\n",
    "plt.scatter(le_brooklyn[\"# Total Students\"], le_brooklyn[\"% Students in Temporary Housing\"])\n",
    "plt.xlabel(\"Total student population in district\")\n",
    "plt.ylabel(\"Percent of students in Temporary Housing\")\n",
    "plt.title(\"Brooklyn\")\n",
    "plt.show()"
   ]
  },
  {
   "cell_type": "code",
   "execution_count": 43,
   "metadata": {},
   "outputs": [
    {
     "data": {
      "image/png": "[encoded data removed]",
      "text/plain": [
       "<Figure size 432x288 with 1 Axes>"
      ]
     },
     "metadata": {
      "needs_background": "light"
     },
     "output_type": "display_data"
    }
   ],
   "source": [
    "#get a scatter plot of the different neighborhoods in Staten Island\n",
    "by_SI = housing_data.loc[housing_data[\"borough\"] == \"Staten Island\"]\n",
    "le_SI = by_SI.groupby(\"borough_and_district_#\").sum()\n",
    "plt.scatter(le_SI[\"# Total Students\"], le_SI[\"% Students in Temporary Housing\"])\n",
    "plt.xlabel(\"Total student population in district\")\n",
    "plt.ylabel(\"Percent of students in Temporary Housing\")\n",
    "plt.title(\"Staten Island\")\n",
    "plt.show()"
   ]
  },
  {
   "cell_type": "code",
   "execution_count": 46,
   "metadata": {},
   "outputs": [
    {
     "data": {
      "image/png": "[encoded data removed]",
      "text/plain": [
       "<Figure size 432x288 with 1 Axes>"
      ]
     },
     "metadata": {
      "needs_background": "light"
     },
     "output_type": "display_data"
    }
   ],
   "source": [
    "#get a scatter plot of the different neighborhoods in Manhattan\n",
    "by_man = housing_data.loc[housing_data[\"borough\"] == \"Manhattan\"]\n",
    "le_man = by_man.groupby(\"borough_and_district_#\").sum()\n",
    "plt.scatter(le_man[\"# Total Students\"], le_man[\"% Students in Temporary Housing\"])\n",
    "plt.xlabel(\"Total student population in district\")\n",
    "plt.ylabel(\"Percent of students in Temporary Housing\")\n",
    "plt.title(\"Manhattan\")\n",
    "plt.show()"
   ]
  },
  {
   "cell_type": "code",
   "execution_count": null,
   "metadata": {},
   "outputs": [],
   "source": []
  },
  {
   "cell_type": "code",
   "execution_count": 19,
   "metadata": {},
   "outputs": [],
   "source": [
    "#group by borough \n",
    "#by_borough = students.groupby(by = \"Borough\", axis = \"rows\").mean()\n",
    "#total number of students by borough\n",
    "#total_students_by_b = by_borough.sum()\n",
    "\n",
    "#total number of students according to the dataframe\n",
    "#total_students = sum(total_students_by_b[\"# Total Students\"])\n",
    "#print(students.groupby(['# Total Students', '# Students in Temporary Housing',\n",
    "#       '# Students Residing in Shelter', '# Residing in DHS Shelter',\n",
    "#       '# Residing in Non-DHS Shelter'], as_index = False)[\"Borough\"].sum())"
   ]
  },
  {
   "cell_type": "code",
   "execution_count": null,
   "metadata": {},
   "outputs": [],
   "source": []
  }
 ],
 "metadata": {
  "kernelspec": {
   "display_name": "Python 3",
   "language": "python",
   "name": "python3"
  },
  "language_info": {
   "codemirror_mode": {
    "name": "ipython",
    "version": 3
   },
   "file_extension": ".py",
   "mimetype": "text/x-python",
   "name": "python",
   "nbconvert_exporter": "python",
   "pygments_lexer": "ipython3",
   "version": "3.7.4"
  }
 },
 "nbformat": 4,
 "nbformat_minor": 2
}
