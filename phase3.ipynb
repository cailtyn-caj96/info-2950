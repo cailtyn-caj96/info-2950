{
 "cells": [
  {
   "cell_type": "markdown",
   "metadata": {},
   "source": [
    "# Phase 3 - Pre Registration of Analyses"
   ]
  },
  {
   "cell_type": "markdown",
   "metadata": {},
   "source": [
    "Inequality is rampant in New York City. Under the shadows of skyscrapers, tourism, and economic boom, many households struggle to keep up with increasing rent prices. In our project we explore the disparities in housing insecurity/rent burden and education across New York City's five boroughs.\n",
    "\n",
    "In our final report we vow to present the following analyses:\n",
    "1) Lower income renters (that are severely rent burdened) are more susceptible to housing instability/homelessness.\n",
    "\n",
    "2) Neighborhood based inequalities have a significant effect on school quality and resources."
   ]
  },
  {
   "cell_type": "markdown",
   "metadata": {},
   "source": [
    "## Questions For Reviewers"
   ]
  },
  {
   "cell_type": "code",
   "execution_count": null,
   "metadata": {},
   "outputs": [],
   "source": []
  }
 ],
 "metadata": {
  "kernelspec": {
   "display_name": "Python 3",
   "language": "python",
   "name": "python3"
  },
  "language_info": {
   "codemirror_mode": {
    "name": "ipython",
    "version": 3
   },
   "file_extension": ".py",
   "mimetype": "text/x-python",
   "name": "python",
   "nbconvert_exporter": "python",
   "pygments_lexer": "ipython3",
   "version": "3.8.5"
  }
 },
 "nbformat": 4,
 "nbformat_minor": 4
}
