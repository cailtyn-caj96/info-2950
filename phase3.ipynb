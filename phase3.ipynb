{
 "cells": [
  {
   "cell_type": "markdown",
   "metadata": {},
   "source": [
    "# Phase 3 - Pre Registration of Analyses"
   ]
  },
  {
   "cell_type": "markdown",
   "metadata": {},
   "source": [
    "Inequality is rampant in New York City. Under the shadows of skyscrapers, tourism, and economic boom, many households struggle to keep up with increasing rent prices. In our project we explore the disparities in housing insecurity/rent burden and education across New York City's five boroughs.\n",
    "\n",
    "In our final report we vow to present the following analyses:\n",
    "\n",
    "### Analysis One:\n",
    "We will plot rent burden by median income level for different neighborhoods grouped by borough to analyze if there is an association between income levelt and rent burden.\n",
    "\n",
    "### Analysis Two:\n",
    "\n",
    "Neighborhood based inequalities have a significant effect on school quality and resources."
   ]
  },
  {
   "cell_type": "markdown",
   "metadata": {},
   "source": [
    "## Questions For Reviewers\n"
   ]
  },
  {
   "cell_type": "markdown",
   "metadata": {},
   "source": [
    "- We group our data mostly by borough, would it make more sense to geographically visualize this data. Is that possible to do with what we know?\n",
    "- Our data is only a single point in time, "
   ]
  }
 ],
 "metadata": {
  "kernelspec": {
   "display_name": "Python 3",
   "language": "python",
   "name": "python3"
  },
  "language_info": {
   "codemirror_mode": {
    "name": "ipython",
    "version": 3
   },
   "file_extension": ".py",
   "mimetype": "text/x-python",
   "name": "python",
   "nbconvert_exporter": "python",
   "pygments_lexer": "ipython3",
   "version": "3.8.5"
  }
 },
 "nbformat": 4,
 "nbformat_minor": 4
}
