{
 "cells": [
  {
   "cell_type": "markdown",
   "metadata": {},
   "source": [
    "# **Inequality in NYC**\n",
    "\n",
    "New York City consists of five boroughs: Manhattan, Queens, The Bronx, Brooklyn, and Staten Island. While New York City is known for wealth, booming industries, and job opportunities, there are also many individuals in many areas that struggle to live. According to The Center of [New York City Affairs](http://www.centernyc.org/inequality-poverty), approximately one in five New Yorkers lives in poverty and nearly half the city’s households are considered near poor.\n"
   ]
  },
  {
   "cell_type": "markdown",
   "metadata": {},
   "source": [
    "# Research Questions\n",
    "\n",
    "How does the borough/neighborhood one lives in New York City and their demographic affect ones quality of life including rent burden, accessibility to healthcare, and education?\n",
    "- How does housing accessibility and rent burden differ across New York City's boroughs?\n",
    "- What are the trends in healthcare accessibility across New York City for different neighborhoods?\n",
    "- How does educational opportunity differ across New York City's neighborhoods?\n",
    "\n",
    "\n",
    "In our project, we chose to look at multiple datasets to see these varying trends and answer different parts of our questions."
   ]
  },
  {
   "cell_type": "markdown",
   "metadata": {},
   "source": [
    "# Data Collection & Cleaning"
   ]
  },
  {
   "cell_type": "code",
   "execution_count": 2,
   "metadata": {},
   "outputs": [],
   "source": [
    "import numpy as np\n",
    "import matplotlib.pyplot as plt\n",
    "import pandas as pd\n",
    "from scipy import stats\n",
    "import seaborn as sns"
   ]
  },
  {
   "cell_type": "markdown",
   "metadata": {},
   "source": [
    "### Part One: Housing\n",
    "First, we loaded out dataset and subsetted the data to only include values of percent of income spent on rent -- measuring burden of rent on a household. Additionally, we removed the last columns that included values for the Staten Island Cemetery. We then did the same operations with gross rent to create two different dataframes to look at. The heads of the two dataframes are displayed below."
   ]
  },
  {
   "cell_type": "code",
   "execution_count": 3,
   "metadata": {},
   "outputs": [],
   "source": [
    "# load csv and dropping rows\n",
    "rent = pd.read_csv(\"rent.csv\", skiprows=5)\n",
    "\n",
    "\n",
    "# number of rows to drop \n",
    "n = 22\n",
    "  \n",
    "# dropping last n rows using drop \n",
    "rent.drop(rent.tail(n).index, inplace = True) \n",
    "\n",
    "# check\n",
    "# print(rent.tail())\n",
    "\n",
    "# keep only rent burden rows\n",
    "rent_burden = rent[142:-2]\n",
    "\n",
    "# keep only gross rent rows\n",
    "gross_rent = rent[132:140]\n",
    "\n",
    "# remove Staten Island Cemetery column\n",
    "rent_burden = rent_burden.iloc[:,:-4]\n",
    "gross_rent = gross_rent.iloc[:,:-4]\n",
    "\n",
    "\n",
    "# check\n",
    "# display(rent_burden.head())\n",
    "# display(gross_rent.head())\n",
    "\n",
    "# print(len(rent_burden), ' ', len(gross_rent))\n"
   ]
  },
  {
   "cell_type": "markdown",
   "metadata": {},
   "source": [
    "After looking at these dataframes, we realized have a ton of unnecessary columns. We removed the estimates, margin of error, and percent margin of error columns and only kept the percent column. We performed this by only keeping every fourth column starting with the third column. Then we inserted back the first column which contained our descriptions/labels.\n",
    "\n",
    "We performed this for both the rent_burden and gross_rent dataframes."
   ]
  },
  {
   "cell_type": "code",
   "execution_count": 4,
   "metadata": {},
   "outputs": [],
   "source": [
    "# for rent_burden\n",
    "# get rid of estimates, MOE and Percent MOE columns - keep only percents\n",
    "rent_burden_percent = rent_burden.iloc[:,3::4].copy()\n",
    "# save the row names\n",
    "rent_burden_row = rent_burden.iloc[:, 0].copy()\n",
    "# insert first column back into dataframe\n",
    "rent_burden_percent.insert(0, 'GRAPI', rent_burden_row)\n",
    "\n",
    "# for gross_rent\n",
    "# get rid of estimates, MOE and Percent MOE columns - keep only percents\n",
    "gross_rent_percent = gross_rent.iloc[:,3::4].copy()\n",
    "# save the row names\n",
    "gross_rent_row = gross_rent.iloc[:, 0].copy()\n",
    "# insert first column back into dataframe\n",
    "gross_rent_percent.insert(0, 'Gross Rent', gross_rent_row)\n",
    "\n",
    "# check\n",
    "# display(rent_burden_percent.head())\n",
    "# display(gross_rent_percent.head())\n"
   ]
  },
  {
   "cell_type": "markdown",
   "metadata": {},
   "source": [
    "Next, we further cleaned the data by transposing the dataframes, renaming the columns to easier to read strings, then removed the unnamed column. After these operations, we transposed the dataframe back. We performed this on both the rent_burden and gross_rent dataframe."
   ]
  },
  {
   "cell_type": "code",
   "execution_count": 5,
   "metadata": {},
   "outputs": [],
   "source": [
    "# rent_burden\n",
    "rent_burden_percent_t = rent_burden_percent.T\n",
    "rent_burden_percent_t.rename(columns = {142 : 'occupied_units', 143 : '<15%', 144 : '15-19.9%', 145 : '20-24.9%', 146 : '25-29.9%',\n",
    "                                         147 : '30-34.9%', 148 : '>35%', 149 : 'not_computed'}, inplace = True)\n",
    "\n",
    "rent_burden_percent_t= rent_burden_percent_t.iloc[2:,1:8]\n",
    "\n",
    "\n",
    "# print(rent_burden_percent_t.head())\n",
    "# print(rent_burden_estimates_t.tail())\n",
    "\n",
    "rent_burden_percent = rent_burden_percent_t.T\n",
    "\n",
    "# display(rent_burden_percent.head())\n",
    "# display(rent_burden_percent.tail())\n",
    "\n",
    "\n",
    "# gross_rent\n",
    "gross_rent_percent_t = gross_rent_percent.T\n",
    "gross_rent_percent_t.rename(columns = {132 : 'occupied_units', 133 : '<200', 134 : '200-299', 135 : '300-499', 136 : '500-749',\n",
    "                                         137 : '750-999', 138 : '1000-1499', 139 : '>1500'}, inplace = True)\n",
    "\n",
    "gross_rent_percent_t= gross_rent_percent_t.iloc[2:,1:8]\n",
    "\n",
    "\n",
    "# print(rent_burden_percent_t.head())\n",
    "# print(rent_burden_estimates_t.tail())\n",
    "\n",
    "gross_rent_percent = gross_rent_percent_t.T\n",
    "\n",
    "# display(gross_rent_percent.head())\n",
    "# display(gross_rent_percent.tail())"
   ]
  },
  {
   "cell_type": "markdown",
   "metadata": {},
   "source": [
    "Next, we transposed both dataframes so that the rows would be the neighborhoods and the columns would be the categories of rent burden/gross rent. Then, we changed the string values in the dataframe to numeric values for both rent_burden_percent_transpose and gross_rent_percent_transpose. \n",
    "\n",
    "For rent_burden_percent_transpose, we calculated the sum of the percentage of households that were rent burdened (>30%) for each neighborhood and added a new column that categorized each neighborhood by borough (we created a list of the borough names that matched each column).\n",
    "\n",
    "For gross_rent_percent_transpose, we created two new columns: one that summed percentage of households that paid high gross rent (greater than 1000) and one for low gross rent (less than 1000).\n",
    "\n",
    "We created two subsets that only contained the new columns we created."
   ]
  },
  {
   "cell_type": "code",
   "execution_count": 6,
   "metadata": {},
   "outputs": [
    {
     "data": {
      "text/html": [
       "<div>\n",
       "<style scoped>\n",
       "    .dataframe tbody tr th:only-of-type {\n",
       "        vertical-align: middle;\n",
       "    }\n",
       "\n",
       "    .dataframe tbody tr th {\n",
       "        vertical-align: top;\n",
       "    }\n",
       "\n",
       "    .dataframe thead th {\n",
       "        text-align: right;\n",
       "    }\n",
       "</style>\n",
       "<table border=\"1\" class=\"dataframe\">\n",
       "  <thead>\n",
       "    <tr style=\"text-align: right;\">\n",
       "      <th></th>\n",
       "      <th>rent_burdened</th>\n",
       "      <th>borough</th>\n",
       "    </tr>\n",
       "  </thead>\n",
       "  <tbody>\n",
       "    <tr>\n",
       "      <th>BK73 North Side-South Side.2</th>\n",
       "      <td>52.3</td>\n",
       "      <td>Brooklyn</td>\n",
       "    </tr>\n",
       "    <tr>\n",
       "      <th>BK76 Greenpoint.2</th>\n",
       "      <td>45.1</td>\n",
       "      <td>Brooklyn</td>\n",
       "    </tr>\n",
       "    <tr>\n",
       "      <th>BK90 East Williamsburg.2</th>\n",
       "      <td>47.4</td>\n",
       "      <td>Brooklyn</td>\n",
       "    </tr>\n",
       "    <tr>\n",
       "      <th>BK09 Brooklyn Heights-Cobble Hill.2</th>\n",
       "      <td>33.6</td>\n",
       "      <td>Brooklyn</td>\n",
       "    </tr>\n",
       "    <tr>\n",
       "      <th>BK38 DUMBO-Vinegar Hill-Downtown Brooklyn-Boerum Hill.2</th>\n",
       "      <td>40.4</td>\n",
       "      <td>Brooklyn</td>\n",
       "    </tr>\n",
       "  </tbody>\n",
       "</table>\n",
       "</div>"
      ],
      "text/plain": [
       "                                                    rent_burdened   borough\n",
       "BK73 North Side-South Side.2                                 52.3  Brooklyn\n",
       "BK76 Greenpoint.2                                            45.1  Brooklyn\n",
       "BK90 East Williamsburg.2                                     47.4  Brooklyn\n",
       "BK09 Brooklyn Heights-Cobble Hill.2                          33.6  Brooklyn\n",
       "BK38 DUMBO-Vinegar Hill-Downtown Brooklyn-Boeru...           40.4  Brooklyn"
      ]
     },
     "metadata": {},
     "output_type": "display_data"
    },
    {
     "data": {
      "text/html": [
       "<div>\n",
       "<style scoped>\n",
       "    .dataframe tbody tr th:only-of-type {\n",
       "        vertical-align: middle;\n",
       "    }\n",
       "\n",
       "    .dataframe tbody tr th {\n",
       "        vertical-align: top;\n",
       "    }\n",
       "\n",
       "    .dataframe thead th {\n",
       "        text-align: right;\n",
       "    }\n",
       "</style>\n",
       "<table border=\"1\" class=\"dataframe\">\n",
       "  <thead>\n",
       "    <tr style=\"text-align: right;\">\n",
       "      <th></th>\n",
       "      <th>low_rent</th>\n",
       "      <th>high_rent</th>\n",
       "    </tr>\n",
       "  </thead>\n",
       "  <tbody>\n",
       "    <tr>\n",
       "      <th>BK73 North Side-South Side.2</th>\n",
       "      <td>27.4</td>\n",
       "      <td>43.4</td>\n",
       "    </tr>\n",
       "    <tr>\n",
       "      <th>BK76 Greenpoint.2</th>\n",
       "      <td>19.6</td>\n",
       "      <td>41.9</td>\n",
       "    </tr>\n",
       "    <tr>\n",
       "      <th>BK90 East Williamsburg.2</th>\n",
       "      <td>29.2</td>\n",
       "      <td>34.3</td>\n",
       "    </tr>\n",
       "    <tr>\n",
       "      <th>BK09 Brooklyn Heights-Cobble Hill.2</th>\n",
       "      <td>11.7</td>\n",
       "      <td>64.6</td>\n",
       "    </tr>\n",
       "    <tr>\n",
       "      <th>BK38 DUMBO-Vinegar Hill-Downtown Brooklyn-Boerum Hill.2</th>\n",
       "      <td>33.2</td>\n",
       "      <td>43.6</td>\n",
       "    </tr>\n",
       "  </tbody>\n",
       "</table>\n",
       "</div>"
      ],
      "text/plain": [
       "                                                    low_rent  high_rent\n",
       "BK73 North Side-South Side.2                            27.4       43.4\n",
       "BK76 Greenpoint.2                                       19.6       41.9\n",
       "BK90 East Williamsburg.2                                29.2       34.3\n",
       "BK09 Brooklyn Heights-Cobble Hill.2                     11.7       64.6\n",
       "BK38 DUMBO-Vinegar Hill-Downtown Brooklyn-Boeru...      33.2       43.6"
      ]
     },
     "metadata": {},
     "output_type": "display_data"
    }
   ],
   "source": [
    "rent_burden_percent_transpose = rent_burden_percent.T\n",
    "gross_rent_percent_transpose  = gross_rent_percent.T\n",
    "\n",
    "rent_burden_percent_transpose['<15%'] = pd.to_numeric(rent_burden_percent_transpose['<15%'])\n",
    "rent_burden_percent_transpose['15-19.9%'] = pd.to_numeric(rent_burden_percent_transpose['15-19.9%'])\n",
    "rent_burden_percent_transpose['20-24.9%'] = pd.to_numeric(rent_burden_percent_transpose['20-24.9%'])\n",
    "rent_burden_percent_transpose['25-29.9%'] = pd.to_numeric(rent_burden_percent_transpose['25-29.9%'])\n",
    "rent_burden_percent_transpose['30-34.9%'] = pd.to_numeric(rent_burden_percent_transpose['30-34.9%'])\n",
    "rent_burden_percent_transpose['>35%'] = pd.to_numeric(rent_burden_percent_transpose['>35%'])\n",
    "\n",
    "gross_rent_percent_transpose['<200'] = pd.to_numeric(gross_rent_percent_transpose['<200'])\n",
    "gross_rent_percent_transpose['200-299'] = pd.to_numeric(gross_rent_percent_transpose['200-299'])\n",
    "gross_rent_percent_transpose['300-499'] = pd.to_numeric(gross_rent_percent_transpose['300-499'])\n",
    "gross_rent_percent_transpose['500-749'] = pd.to_numeric(gross_rent_percent_transpose['500-749'])\n",
    "gross_rent_percent_transpose['750-999'] = pd.to_numeric(gross_rent_percent_transpose['750-999'])\n",
    "gross_rent_percent_transpose['>1500'] = pd.to_numeric(gross_rent_percent_transpose['>1500'])\n",
    "\n",
    "borough = []\n",
    "for col in rent_burden_percent:\n",
    "    if col.startswith('BK'):\n",
    "        borough.append('Brooklyn')\n",
    "    if col.startswith('BX'):\n",
    "        borough.append('Bronx')\n",
    "    if col.startswith('MN'):\n",
    "        borough.append('Manhattan')\n",
    "    if col.startswith('QN'):\n",
    "        borough.append('Queens')\n",
    "    if col.startswith('SI'):\n",
    "        borough.append('Staten Island')\n",
    "\n",
    "rent_burden_percent_transpose['rent_burdened'] = (rent_burden_percent_transpose[['30-34.9%','>35%']]).sum(axis=1)\n",
    "rent_burden_percent_transpose['borough'] = borough\n",
    "\n",
    "gross_rent_percent_transpose['low_rent'] = (gross_rent_percent_transpose[['<200','200-299', '300-499', '750-999']]).sum(axis=1)\n",
    "gross_rent_percent_transpose['high_rent'] = (gross_rent_percent_transpose[['1000-1499','>1500']]).sum(axis=1)\n",
    "\n",
    "rent_burden_percent_sub = rent_burden_percent_transpose.iloc[:,6:]\n",
    "display(rent_burden_percent_sub.head())\n",
    "\n",
    "gross_rent_percent_sub = gross_rent_percent_transpose.iloc[:,7:]\n",
    "display(gross_rent_percent_sub.head())\n",
    "\n",
    "#display(rent_burden_percent_transpose.head())\n",
    "#display(gross_rent_percent_transpose.head())"
   ]
  },
  {
   "cell_type": "code",
   "execution_count": 7,
   "metadata": {},
   "outputs": [
    {
     "data": {
      "text/html": [
       "<div>\n",
       "<style scoped>\n",
       "    .dataframe tbody tr th:only-of-type {\n",
       "        vertical-align: middle;\n",
       "    }\n",
       "\n",
       "    .dataframe tbody tr th {\n",
       "        vertical-align: top;\n",
       "    }\n",
       "\n",
       "    .dataframe thead th {\n",
       "        text-align: right;\n",
       "    }\n",
       "</style>\n",
       "<table border=\"1\" class=\"dataframe\">\n",
       "  <thead>\n",
       "    <tr style=\"text-align: right;\">\n",
       "      <th></th>\n",
       "      <th>neighborhood</th>\n",
       "      <th>rent_burdened</th>\n",
       "      <th>borough</th>\n",
       "      <th>low_rent</th>\n",
       "      <th>high_rent</th>\n",
       "    </tr>\n",
       "  </thead>\n",
       "  <tbody>\n",
       "    <tr>\n",
       "      <th>0</th>\n",
       "      <td>BK73 North Side-South Side.2</td>\n",
       "      <td>52.3</td>\n",
       "      <td>Brooklyn</td>\n",
       "      <td>27.4</td>\n",
       "      <td>43.4</td>\n",
       "    </tr>\n",
       "    <tr>\n",
       "      <th>1</th>\n",
       "      <td>BK76 Greenpoint.2</td>\n",
       "      <td>45.1</td>\n",
       "      <td>Brooklyn</td>\n",
       "      <td>19.6</td>\n",
       "      <td>41.9</td>\n",
       "    </tr>\n",
       "    <tr>\n",
       "      <th>2</th>\n",
       "      <td>BK90 East Williamsburg.2</td>\n",
       "      <td>47.4</td>\n",
       "      <td>Brooklyn</td>\n",
       "      <td>29.2</td>\n",
       "      <td>34.3</td>\n",
       "    </tr>\n",
       "    <tr>\n",
       "      <th>3</th>\n",
       "      <td>BK09 Brooklyn Heights-Cobble Hill.2</td>\n",
       "      <td>33.6</td>\n",
       "      <td>Brooklyn</td>\n",
       "      <td>11.7</td>\n",
       "      <td>64.6</td>\n",
       "    </tr>\n",
       "    <tr>\n",
       "      <th>4</th>\n",
       "      <td>BK38 DUMBO-Vinegar Hill-Downtown Brooklyn-Boer...</td>\n",
       "      <td>40.4</td>\n",
       "      <td>Brooklyn</td>\n",
       "      <td>33.2</td>\n",
       "      <td>43.6</td>\n",
       "    </tr>\n",
       "  </tbody>\n",
       "</table>\n",
       "</div>"
      ],
      "text/plain": [
       "                                        neighborhood  rent_burdened   borough  \\\n",
       "0                       BK73 North Side-South Side.2           52.3  Brooklyn   \n",
       "1                                  BK76 Greenpoint.2           45.1  Brooklyn   \n",
       "2                           BK90 East Williamsburg.2           47.4  Brooklyn   \n",
       "3                BK09 Brooklyn Heights-Cobble Hill.2           33.6  Brooklyn   \n",
       "4  BK38 DUMBO-Vinegar Hill-Downtown Brooklyn-Boer...           40.4  Brooklyn   \n",
       "\n",
       "   low_rent  high_rent  \n",
       "0      27.4       43.4  \n",
       "1      19.6       41.9  \n",
       "2      29.2       34.3  \n",
       "3      11.7       64.6  \n",
       "4      33.2       43.6  "
      ]
     },
     "metadata": {},
     "output_type": "display_data"
    }
   ],
   "source": [
    "rent_burden_percent_sub.reset_index(inplace=True)\n",
    "#rent_burden_percent_sub = rent_burden_percent_sub.rename(columns = {'Neighborhood'})\n",
    "\n",
    "gross_rent_percent_sub.reset_index(inplace=True)\n",
    "#gross_rent_percent_sub = gross_rent_percent_sub.rename(columns = {'Neighborhood'})\n",
    "\n",
    "burden_gross = rent_burden_percent_sub.merge(gross_rent_percent_sub)\n",
    "burden_gross = burden_gross.rename(columns = {'index':'neighborhood'})\n",
    "\n",
    "# i = burden_gross[((burden_gross.rent_burdened <1)& (burden_gross.low_rent<1) & (burden_gross.high_rent<1))].index\n",
    "# burden_gross.drop(i)\n",
    "\n",
    "# Drop Rikers Island, Queens Airport, and Manhattan Cemetery Rows\n",
    "burden_gross = burden_gross[burden_gross['rent_burdened']>1]\n",
    "\n",
    "display(burden_gross.head())"
   ]
  },
  {
   "cell_type": "code",
   "execution_count": 8,
   "metadata": {},
   "outputs": [],
   "source": [
    "rent_burden_percent['brooklyn'] = rent_burden_percent.loc[:,rent_burden_percent.columns.str.startswith('BK')].median(axis=1)\n",
    "# print(rent_burden_estimates.loc[:,rent_burden_estimates.columns.str.startswith('BK')])\n",
    "# print(rent_burden_percent['brooklyn'])\n",
    "\n",
    "\n",
    "rent_burden_percent['bronx'] = rent_burden_percent.loc[:,rent_burden_percent.columns.str.startswith('BX')].median(axis=1)\n",
    "# print(rent_burden_estimates.loc[:,rent_burden_estimates.columns.str.startswith('BX')])\n",
    "# print(rent_burden_estimates['bronx'])\n",
    "\n",
    "rent_burden_percent['manhattan'] = rent_burden_percent.loc[:,rent_burden_percent.columns.str.startswith('MN')].median(axis=1)\n",
    "# print(rent_burden_estimates.loc[:,rent_burden_estimates.columns.str.startswith('MN')])\n",
    "# print(rent_burden_estimates['manhattan'])\n",
    "\n",
    "rent_burden_percent['queens'] = rent_burden_percent.loc[:,rent_burden_percent.columns.str.startswith('QN')].median(axis=1)\n",
    "# print(rent_burden_estimates.loc[:,rent_burden_estimates.columns.str.startswith('QN')])\n",
    "# print(rent_burden_estimates['queens'])\n",
    "\n",
    "rent_burden_percent['staten'] = rent_burden_percent.loc[:,rent_burden_percent.columns.str.startswith('SI')].median(axis=1)\n",
    "# print(rent_burden_estimates.loc[:,rent_burden_estimates.columns.str.startswith('SI')])\n",
    "# print(rent_burden_estimates['staten'])"
   ]
  },
  {
   "cell_type": "markdown",
   "metadata": {},
   "source": [
    "Finally, we subsetted our dataframe to only include the average borough columns."
   ]
  },
  {
   "cell_type": "code",
   "execution_count": 9,
   "metadata": {},
   "outputs": [
    {
     "data": {
      "text/html": [
       "<div>\n",
       "<style scoped>\n",
       "    .dataframe tbody tr th:only-of-type {\n",
       "        vertical-align: middle;\n",
       "    }\n",
       "\n",
       "    .dataframe tbody tr th {\n",
       "        vertical-align: top;\n",
       "    }\n",
       "\n",
       "    .dataframe thead th {\n",
       "        text-align: right;\n",
       "    }\n",
       "</style>\n",
       "<table border=\"1\" class=\"dataframe\">\n",
       "  <thead>\n",
       "    <tr style=\"text-align: right;\">\n",
       "      <th></th>\n",
       "      <th>brooklyn</th>\n",
       "      <th>bronx</th>\n",
       "      <th>manhattan</th>\n",
       "      <th>queens</th>\n",
       "      <th>staten</th>\n",
       "    </tr>\n",
       "  </thead>\n",
       "  <tbody>\n",
       "    <tr>\n",
       "      <th>&lt;15%</th>\n",
       "      <td>11.75</td>\n",
       "      <td>9.65</td>\n",
       "      <td>17.6</td>\n",
       "      <td>11.40</td>\n",
       "      <td>12.65</td>\n",
       "    </tr>\n",
       "    <tr>\n",
       "      <th>15-19.9%</th>\n",
       "      <td>10.55</td>\n",
       "      <td>9.75</td>\n",
       "      <td>11.8</td>\n",
       "      <td>11.40</td>\n",
       "      <td>13.00</td>\n",
       "    </tr>\n",
       "    <tr>\n",
       "      <th>20-24.9%</th>\n",
       "      <td>11.60</td>\n",
       "      <td>9.95</td>\n",
       "      <td>11.8</td>\n",
       "      <td>12.00</td>\n",
       "      <td>11.50</td>\n",
       "    </tr>\n",
       "    <tr>\n",
       "      <th>25-29.9%</th>\n",
       "      <td>11.20</td>\n",
       "      <td>10.30</td>\n",
       "      <td>11.2</td>\n",
       "      <td>10.70</td>\n",
       "      <td>9.35</td>\n",
       "    </tr>\n",
       "    <tr>\n",
       "      <th>30-34.9%</th>\n",
       "      <td>9.15</td>\n",
       "      <td>9.40</td>\n",
       "      <td>8.7</td>\n",
       "      <td>8.85</td>\n",
       "      <td>7.55</td>\n",
       "    </tr>\n",
       "    <tr>\n",
       "      <th>&gt;35%</th>\n",
       "      <td>45.95</td>\n",
       "      <td>49.60</td>\n",
       "      <td>35.4</td>\n",
       "      <td>45.25</td>\n",
       "      <td>42.75</td>\n",
       "    </tr>\n",
       "  </tbody>\n",
       "</table>\n",
       "</div>"
      ],
      "text/plain": [
       "          brooklyn  bronx  manhattan  queens  staten\n",
       "<15%         11.75   9.65       17.6   11.40   12.65\n",
       "15-19.9%     10.55   9.75       11.8   11.40   13.00\n",
       "20-24.9%     11.60   9.95       11.8   12.00   11.50\n",
       "25-29.9%     11.20  10.30       11.2   10.70    9.35\n",
       "30-34.9%      9.15   9.40        8.7    8.85    7.55\n",
       ">35%         45.95  49.60       35.4   45.25   42.75"
      ]
     },
     "metadata": {},
     "output_type": "display_data"
    }
   ],
   "source": [
    "# subset to only include average borough columns\n",
    "rent_burden_percent = rent_burden_percent[['brooklyn', 'bronx', 'manhattan', 'queens', 'staten']] \n",
    "display(rent_burden_percent)"
   ]
  },
  {
   "cell_type": "markdown",
   "metadata": {},
   "source": [
    "## Data Description\n",
    "\n",
    "We used NYC Open Data on [Housing Data](https://data.cityofnewyork.us/City-Government/Demographics-and-profiles-at-the-Neighborhood-Tabu/hyuz-tij8) to help answer our question.\n",
    "\n",
    "* The original dataset had different rows be the housing characteristics from rent, household type, rent burden, etc… and the columns were the different neighborhoods. The cleaned data set had the rows be the percent burden of rent and the columns be the five boroughs in NYC.\n",
    "* This dataset was created as a part of an initiative to increase transparency, accessibility, and accountability of the City government.\n",
    "* According to their website, NYC Open Data makes the wealth of public data generated by various New York City agencies and other City organizations available for public use. It is funded by the New York City government. This specific dataset was provided by the Department of City Planning.\n",
    "* Many different politics/policies in NYC affect what type of data is collected. There are many different reasons why these estimates might not be an accurate representation of differences across boroughs including homelessness, lack of documentation, people over or underreporting their income, etc… \n",
    "* We dropped rows of unnecessary housing data that did not look at the rent burden. We also dropped unnecessary neighborhoods that had missing values such as the Staten Island Cemetery. We further cleaned the data by only looking at the median estimates by borough, and median percent estimates by borough and dropped all other columns.\n",
    "* Since this is not personalized data, the people involved might not be fully aware that their data is being used and collected. However, since it is in aggregate form there should be no privacy or expectation concerns.\n",
    "* The raw dataset can be found [here](https://drive.google.com/file/d/1mL4DjAYRaL2f184_WdoQd-u0ETNvYvgU/view?usp=sharing).\n",
    "\n",
    "\n",
    "## Data Limitiations\n",
    "This data shows five year estimates from 2008-2012, so we don't get a glimpse of what is happening year to year and how the rent burden is changing for each district -- it might be getting better or worse for some districts and we cannot exactly tell from the data. Furthermore, this data is quite old and does not take into acccount recent political events and policies that likely have afffected housing policy in NYC."
   ]
  },
  {
   "cell_type": "markdown",
   "metadata": {},
   "source": [
    "## Initial Analysis\n",
    "We looked at a line plot that compared our average rent burden percents by borough."
   ]
  },
  {
   "cell_type": "code",
   "execution_count": 10,
   "metadata": {},
   "outputs": [
    {
     "data": {
      "image/png": "[encoded data removed]",
      "text/plain": [
       "<Figure size 432x288 with 1 Axes>"
      ]
     },
     "metadata": {
      "needs_background": "light"
     },
     "output_type": "display_data"
    }
   ],
   "source": [
    "rent_burden_percent.plot.line()\n",
    "plt.show()"
   ]
  },
  {
   "cell_type": "markdown",
   "metadata": {},
   "source": [
    "\n",
    "In this finalized dataset, we see the median percent of households that are under each division of rent burden by each borough in New York City. Across all boroughs, residents spend a very large amount of their income on rent. \n",
    "\n",
    "While the differences in rent burden between boroughs do not seem that jarring, one large difference is what we see residents in the Bronx pay as a percent of their income vs residents in Manhattan. The percentage of residents that spend more than 35% of their income on living is nearly 50%, while the percent of residents that pay the same income burden on rent in Manhattan is only 35%. If we were also to compare [poverty levels](https://www1.nyc.gov/site/opportunity/poverty-in-nyc/data-tool.page) from the same time end - 2012, we see that Staten Island held the lowest poverty level at 13.4%, Manhattan the second lowest at 14.7%, Queens at 21.8%, Brooklyn at 22.3%, and the Bronx at 25.2%. \n",
    "\n",
    "The comparisons between poverty and income show us that in neighborhoods that face higher poverty levels, they may actually be more burdened by rent than their wealthier counterparts. This demonstrates a discrepancy in the quality of life and wealth that can be accumulated across boroughs."
   ]
  },
  {
   "cell_type": "code",
   "execution_count": 11,
   "metadata": {},
   "outputs": [
    {
     "data": {
      "image/png": "[encoded data removed]",
      "text/plain": [
       "<Figure size 461.625x360 with 1 Axes>"
      ]
     },
     "metadata": {
      "needs_background": "light"
     },
     "output_type": "display_data"
    },
    {
     "data": {
      "image/png": "[encoded data removed]",
      "text/plain": [
       "<Figure size 461.625x360 with 1 Axes>"
      ]
     },
     "metadata": {
      "needs_background": "light"
     },
     "output_type": "display_data"
    }
   ],
   "source": [
    "# display(burden_gross.head())\n",
    "\n",
    "sns.relplot(x='rent_burdened', y='low_rent', hue=\"borough\", s=80, alpha=.5, data=burden_gross);\n",
    "plt.xlabel(\"Rent Burdened (%)\")\n",
    "plt.ylabel(\"Households Paying Low Rent (%<$1000)\")\n",
    "plt.title('Rent Burdened vs Low Rent')\n",
    "plt.show()\n",
    "\n",
    "sns.relplot(x='rent_burdened', y='high_rent', hue=\"borough\", s=80, alpha=.5, data=burden_gross);\n",
    "plt.xlabel(\"Rent Burdened (%)\")\n",
    "plt.ylabel(\"Households Paying High Rent (%>$1000)\")\n",
    "plt.title('Rent Burdened vs High Rent')\n",
    "plt.show()"
   ]
  },
  {
   "cell_type": "markdown",
   "metadata": {},
   "source": [
    "### Part 2: Health"
   ]
  },
  {
   "cell_type": "markdown",
   "metadata": {},
   "source": [
    "We imported the csv file using read_csv and saved it to a variable so that I could begin to perform a cleaning an analysis with the data set."
   ]
  },
  {
   "cell_type": "code",
   "execution_count": null,
   "metadata": {},
   "outputs": [],
   "source": [
    "#reading the csv file \n",
    "health = pd.read_csv('health.csv')\n",
    "health.head()"
   ]
  },
  {
   "cell_type": "code",
   "execution_count": null,
   "metadata": {},
   "outputs": [],
   "source": [
    "#how much data\n",
    "health.shape"
   ]
  },
  {
   "cell_type": "markdown",
   "metadata": {},
   "source": [
    "We used health.shape to display the numnber of rows and columns currenlty present in the data set before I began to clean."
   ]
  },
  {
   "cell_type": "code",
   "execution_count": null,
   "metadata": {},
   "outputs": [],
   "source": [
    "#grabbing columns from data set\n",
    "columns_we_want = [ \"insuredgateway19\",\"generalhealth\", \"visitnonpcp12m19\", \"pcp19\",\"didntgetcare19\",\"emp3\", \"insure5\",\"birthsex\",\"imputed_neighpovgroup4_1418\", \"fluvaccineshot\",\"everhepavaccine\",\"fruitveg19\"]\n",
    "health[columns_we_want]\n",
    "health = health[columns_we_want]"
   ]
  },
  {
   "cell_type": "markdown",
   "metadata": {},
   "source": [
    "I began to clean the data by looking through the columns and choosing the ones that would be useful to my analysis and would be the best representation of access to healthcare. I grabbed the columns by creating a list of the column names I wanted to use and saved it as columns_we_want. Than I overrode the original dataset by using health = health[columns_we_want]"
   ]
  },
  {
   "cell_type": "code",
   "execution_count": null,
   "metadata": {},
   "outputs": [],
   "source": [
    "#renaming columns\n",
    "health = health.rename(columns = {'insuredgateway19' : 'insured', 'visitnonpcp12m19' : 'seen_a_doctor_in_12months?', 'pcp19' : 'primary_doctor', 'insure5': 'who_insures_you','emp3': 'employed', 'imputed_neighpovgroup4_1418': 'below_poverty','fruitveg19':'fruit_veggie_servings','everhepavaccine': 'revieved_hepatatis_vaccine','didntgetcare19': 'didnt_get_care'})\n",
    "health.head()"
   ]
  },
  {
   "cell_type": "markdown",
   "metadata": {},
   "source": [
    "Here we began to rename the columns, so that they were easier to understand. We went about this by creating a dictionary that contained both the original column name and the one we wanted to change it to. This was executed using he .rename() function."
   ]
  },
  {
   "cell_type": "code",
   "execution_count": null,
   "metadata": {},
   "outputs": [],
   "source": [
    "# describing the basics of the numerical data using the describe varaibles\n",
    "health.describe()"
   ]
  },
  {
   "cell_type": "markdown",
   "metadata": {},
   "source": [
    "Here we utilized the .describe() fuction to give the overall numeric statistics of the categorical data."
   ]
  },
  {
   "cell_type": "code",
   "execution_count": null,
   "metadata": {},
   "outputs": [],
   "source": [
    "#Renaming data points in below_poverty and other columns I am preforming analysis on so that the data is understandable to the user. \n",
    "health_copy1 = health.copy()\n",
    "health_copy1.loc[health_copy1.below_poverty == 1, \"below_poverty\"] = \"0 - <10% (low pov)%\"\n",
    "health_copy1.loc[health_copy1.below_poverty == 2, \"below_poverty\"] = \"10 - <20%\"\n",
    "health_copy1.loc[health_copy1.below_poverty == 3, \"below_poverty\"] = \"20 - <30%\"\n",
    "health_copy1.loc[health_copy1.below_poverty == 4, \"below_poverty\"] = \"30 - <100% (very high)\"\n",
    "\n",
    "health_copy1.loc[health_copy1.insured == 1, \"insured\"] = \"yes\"\n",
    "health_copy1.loc[health_copy1.insured == 2, \"insured\"] = \"no\"\n",
    "\n",
    "health_copy1.loc[health_copy1.primary_doctor == 1, \"primary_doctor\"] = \"yes\"\n",
    "health_copy1.loc[health_copy1.primary_doctor == 2, \"primary_doctor\"] = \"no\"\n",
    "\n",
    "health_copy1.loc[health_copy1.didnt_get_care == 1, \"didnt_get_care\"] = \"yes\"\n",
    "health_copy1.loc[health_copy1.didnt_get_care == 2, \"didnt_get_care\"] = \"no\"\n",
    "\n",
    "health_copy1.loc[health_copy1.who_insures_you == 1, \"who_insures_you\"] = \"Private\"\n",
    "health_copy1.loc[health_copy1.who_insures_you == 2, \"who_insures_you\"] = \"self-purchase\"\n",
    "health_copy1.loc[health_copy1.who_insures_you == 3, \"who_insures_you\"] = \"Medicare\"\n",
    "health_copy1.loc[health_copy1.who_insures_you == 4, \"who_insures_you\"] = \"Medicaid\"\n",
    "health_copy1.loc[health_copy1.who_insures_you == 4, \"who_insures_you\"] = \"Others\"\n",
    "health_copy1.loc[health_copy1.who_insures_you == 4, \"who_insures_you\"] = \"Uninsured\"\n",
    "\n",
    "\n",
    "display(health_copy1.head())"
   ]
  },
  {
   "cell_type": "markdown",
   "metadata": {},
   "source": [
    "We then went on to clean the data further to give the values the categorical meaning that they were assigned, so that the value_counts analysis and histograms would be more clear than they would have had they still be categorized by numbers. We chose to save the values to a copy of the health data (health_copy1) in cause we chose to use the numerical values in a later analysis."
   ]
  },
  {
   "cell_type": "code",
   "execution_count": null,
   "metadata": {},
   "outputs": [],
   "source": [
    "display(health_copy1.didnt_get_care.value_counts(normalize=True)*100)\n",
    "display(health_copy1.insured.value_counts(normalize=True)*100)\n",
    "display(health_copy1.primary_doctor.value_counts(normalize=True)*100)"
   ]
  },
  {
   "cell_type": "markdown",
   "metadata": {},
   "source": [
    "The previous cells shows the demographics of NYC as a whole and it calculates the percentages of  those who have insurance, those who have a primary doctor, and those who are unable to recieve care when they need it. These percents can later be used to compare the neighborhoods of different income levels to NYC overall. The percents were found using the value_counts() fucntion, and normalizing the data to show it as a ratio. This ratio was then multiplied ny 100 to create a percent."
   ]
  },
  {
   "cell_type": "code",
   "execution_count": null,
   "metadata": {},
   "outputs": [],
   "source": [
    "plt.hist(health_copy1['below_poverty'])\n",
    "plt.xlabel('% of residents below the poverty line',fontsize=10)\n",
    "plt.ylabel(\"#  of residents living in those neighborhoods\",fontsize=10)\n",
    "plt.title('distribution of residents living in specific income neighborhoods',fontsize=10)"
   ]
  },
  {
   "cell_type": "markdown",
   "metadata": {},
   "source": [
    "We created this histogram using the plt.hist function. The histogram is used to display the number of NYC residents surveyed who fall into each of the categories of specific below poverty percentages.  "
   ]
  },
  {
   "cell_type": "code",
   "execution_count": null,
   "metadata": {},
   "outputs": [],
   "source": [
    "group_poverty = health_copy1.groupby('below_poverty').insured\n",
    "insured_poverty= group_poverty.value_counts(normalize=True)*100\n",
    "print(insured_poverty)"
   ]
  },
  {
   "cell_type": "markdown",
   "metadata": {},
   "source": [
    "This analysis shows that as the below poverty percentage increases (more people in that neighborhood are living in poverity) then the percent of people insured decreases. As the number of people in poverty increases, the percent of those with insurance decreases by about an increment of about 3% each time. This creates an approximate 8% differnce in those insured in the neighborhoods with the lowest poverty rate to the highest.\n",
    "\n",
    "This analysis shows that as the below poverty percentage increases (more people in that neighborhood are living in poverity) then the percent of people insured decreases. As the number of people in poverty increases, the percent of those with insurance decreases by about an increment of about 3% each time. This creates an approximate 8% differnce in those insured in the neighborhoods with the lowest poverty rate to the highest."
   ]
  },
  {
   "cell_type": "code",
   "execution_count": null,
   "metadata": {},
   "outputs": [],
   "source": [
    "group_poverty2 = health_copy1.groupby('below_poverty').primary_doctor\n",
    "dr_poverty = group_poverty2.value_counts(normalize=True)*100\n",
    "print(dr_poverty)"
   ]
  },
  {
   "cell_type": "markdown",
   "metadata": {},
   "source": [
    "This analysis uses the .groupby() function to group the data by the percent of people in a neighborhood who are below the poverty line. After the groups were formed, the percents of those who had a primary doctory within each poverty level were found using the value_counts() fucntion, and normalizing the data to show it as a ratio. This ratio was then multiplied ny 100 to create a percent."
   ]
  },
  {
   "cell_type": "code",
   "execution_count": null,
   "metadata": {},
   "outputs": [],
   "source": [
    "group_poverty3 = health_copy1.groupby('below_poverty').didnt_get_care\n",
    "didnt_poverty = group_poverty3.value_counts(normalize=True)*100\n",
    "print(didnt_poverty)"
   ]
  },
  {
   "cell_type": "markdown",
   "metadata": {},
   "source": [
    "This analysis uses the .groupby() function to group the data by the percent of people in a neighborhood who are below the poverty line. After the groups were formed, the percents of those who didn't get care when they needed it within each poverty level were found using the value_counts() fucntion, and normalizing the data to show it as a ratio. This ratio was then multiplied by 100 to create a percent."
   ]
  },
  {
   "cell_type": "code",
   "execution_count": null,
   "metadata": {},
   "outputs": [],
   "source": [
    "# i want to make a group by so i can see the distribution of what insuraunce each neighborhood has \n",
    "plt.hist(health_copy1['who_insures_you'])\n",
    "#plt.xlabel('% of residents below the poverty line',fontsize=15)\n",
    "#plt.ylabel(\"#  of residents living in those neighborhoods\",fontsize=15)\n",
    "#plt.title('distribution of residents living in specific income neighborhoods',fontsize=15)\n",
    "plt.show()"
   ]
  },
  {
   "cell_type": "markdown",
   "metadata": {},
   "source": [
    "## Data Limitations:\n",
    "The data in the health survery is all categorial data that is represented by numerical values. While some computations can be peformed on the data, this data set is best used in calulating percentages and showing distribution. When trying to show correlation in a scatterplot the results are inconclusive becasue there are only x amount of categories that the population can fall into. \n",
    "Beyod calculations, this data is also limited because it only includes those who have access to either a cell phone or a landline. This could possible scew the data as those with housing security are less likely to represent a population who does not have access to healthcare.\n",
    "\n",
    "## Data explanation: \n",
    "This data set is created from a survery given to indivuals in NYC. The data set explores the general health of these residents as well other demographics such as income, gender, etc. The data is all categorical, but is represented as numbers in the dataset. In the finalized data sets we can see how poverty levels in NYC neighborhoods affect an indivuals access to healthcare. The data set can show this relationship by comparing the % of people below poverty in a specific neighborhood to the number of people insured, the number of people who have a regular doctor, and accessiblitiy to needed care. Additionally, this data set can begin to explore access to nutitious foods and vaccinations; however, there may be outside factors that also influence these demograohics that may not be directly seen through income levels.\n",
    "NOTE: This data set is currently incomplete and we are attempting to get access to boroughs and other demographic information that is not for publce use.\n",
    "\n",
    "## Data Description:\n",
    "1. In this data set the rows are equal to the indivual answering the survey questions and the columns are equal to the questions asked on the surver. These questions relate to different health statistics(general health, is the particpant insured?,etc)\n",
    "2. This data was complied to track risk behaviors and to have a more comprehensive understanding of New York City's residents health. \n",
    "3. This data collection was funded by the New York City Department of Health and Mental Hygiene.\n",
    "4. The data is collected via stratified random sample to find data that gives neighborhood and city-wide information. However, this process is inluenced because data is only collected from households with a landline or residents with a cellular phone. Aditionally, the survey has been only been translated into Spanish, Russian, Chinese , Bengali, and Haitian Creole, which may limit the amount of those who are selected who can participate.\n",
    "5. The data was pre-processed by adding weight to the data collected in an attempt to negate any human biases that were a result of the participants answering questions about themselves. Additionally, the answers from the surveys were translated into numbers ( an answer 'yes' may now equal '1') before being added to the dataframe.\n",
    "6. This data is collected based off of interviews, so all of the human paticpants agreed to the survey and knew their data was going to be collected. It is unclear whether or not the participants had knowledge of how their data was going to be used."
   ]
  },
  {
   "cell_type": "markdown",
   "metadata": {},
   "source": [
    "## Research Question Part 3"
   ]
  },
  {
   "cell_type": "code",
   "execution_count": null,
   "metadata": {},
   "outputs": [],
   "source": [
    "## load data\n",
    "school_data = pd.read_csv(\"Ny_School.csv\")\n",
    "housing_data = pd.read_csv(\"Student_Temp_Housing.csv\")"
   ]
  },
  {
   "cell_type": "markdown",
   "metadata": {},
   "source": [
    "#### Renaming Columns\n",
    "In this section, we renamed the columns by making them lower_case and replacing spaces in order to make them easier to work with."
   ]
  },
  {
   "cell_type": "code",
   "execution_count": null,
   "metadata": {},
   "outputs": [],
   "source": [
    "new_colnames = []\n",
    "for col in school_data.columns:\n",
    "    new_colnames.append(col.lower())\n",
    "    \n",
    "new_colnames_2 = []\n",
    "for col in housing_data.columns:\n",
    "    new_colnames_2.append(col.lower())"
   ]
  },
  {
   "cell_type": "code",
   "execution_count": null,
   "metadata": {},
   "outputs": [],
   "source": [
    "for col in range(len(new_colnames)):\n",
    "    new_colnames[col] = new_colnames[col].replace(\" \", \"_\")\n",
    "print (new_colnames)\n",
    "\n",
    "sdata = school_data.copy()\n",
    "sdata.columns = new_colnames\n",
    "\n",
    "for col in range(len(new_colnames_2)):\n",
    "    new_colnames_2[col] = new_colnames_2[col].replace(\" \", \"_\")\n",
    "print (new_colnames_2)\n",
    "\n",
    "sdata = school_data.copy()\n",
    "sdata.columns = new_colnames\n",
    "\n",
    "hdata = housing_data.copy()\n",
    "hdata.columns = new_colnames_2"
   ]
  },
  {
   "cell_type": "markdown",
   "metadata": {},
   "source": [
    "#### Dropping Columns\n",
    "Then, we dropped the columns we did not need, only keeping ones relative to our research question which involved keeping school demographic (race make-up), poverty, and students in temporary housing data."
   ]
  },
  {
   "cell_type": "code",
   "execution_count": null,
   "metadata": {},
   "outputs": [],
   "source": [
    "sdata.drop(sdata.loc[:,[\"total_enrollment\", \"#_female\", \"%_female\", \"#_male\", \"%_male\", \"#_black\", \"#_white\", \"#_asian\", \"#_hispanic\", \"#_multiple_race_categories_not_represented\", \"#_students_with_disabilities\", \"#_english_language_learners\", \"%_students_with_disabilities\", \"#_poverty\", \"%_multiple_race_categories_not_represented\", \"%_english_language_learners\", \"economic_need_index\"]], inplace = True, axis = 1)\n",
    "sdata.drop(sdata.loc[:,[\"grade_pk_(half_day_&_full_day)\", 'grade_k', 'grade_1', 'grade_2', 'grade_3', 'grade_4', 'grade_5', 'grade_6', 'grade_7', 'grade_8', 'grade_9', 'grade_10', 'grade_11', 'grade_12']], inplace = True, axis = 1)\n",
    "display(sdata.head())\n",
    "\n",
    "hdata.drop(hdata.loc[:, ['#_doubled_up', \"school_name\", '#_residing_in_non-dhs_shelter', '#_doubled_up'  ]], inplace = True, axis = 1)\n",
    "display(hdata.head())"
   ]
  },
  {
   "cell_type": "markdown",
   "metadata": {},
   "source": [
    "#### Adding Columns and Grouping\n",
    "In this section, we added two new columns in borough + district and boroughs so that we could group by both. In order to achieve this, we wrote two functions which took the dbn school number and converted them to specific boroughs and districts. Then, we grouped all the data by the boroughs and districts, replaced \"suppressed values\" with 0, and rounded and converted the decimals to percentages."
   ]
  },
  {
   "cell_type": "code",
   "execution_count": null,
   "metadata": {},
   "outputs": [],
   "source": [
    "def label_borough(col):\n",
    "    district_number = col['dbn'][0:2]\n",
    "    if col['dbn'].find(\"M\") == 2:\n",
    "      return 'Manhattan ' + district_number\n",
    "    if col['dbn'].find(\"K\") == 2:\n",
    "      return 'Brooklyn ' + district_number\n",
    "    if col['dbn'].find(\"X\") == 2 :\n",
    "      return 'Bronx ' + district_number\n",
    "    if col['dbn'].find(\"Q\") == 2:\n",
    "      return 'Queens ' + district_number\n",
    "    if col['dbn'].find(\"R\") == 2:\n",
    "      return 'Staten Island ' + district_number\n",
    "\n",
    "def labelBorough(col):\n",
    "    if col['borough_and_district_#'].find(\"Manhattan\") != -1:\n",
    "      return 'Manhattan'\n",
    "    if col['borough_and_district_#'].find(\"Brooklyn\") != -1:\n",
    "      return 'Brooklyn'\n",
    "    if col['borough_and_district_#'].find(\"Bronx\") != -1:\n",
    "      return 'Bronx'\n",
    "    if col['borough_and_district_#'].find(\"Queens\") != -1:\n",
    "      return 'Queens'\n",
    "    if col['borough_and_district_#'].find(\"Staten Island\")!= -1:\n",
    "      return 'Staten Island'\n",
    "\n",
    "\n",
    "sdata['borough_and_district_#'] = sdata.apply (lambda col: label_borough(col), axis=1)\n",
    "\n",
    "sdata = sdata.groupby(['borough_and_district_#'], as_index=False).mean()\n",
    "\n",
    "sdata.iloc[:,1:6] = sdata.iloc[:,1:6].mul(100).round(2)\n",
    "display(sdata.head())\n",
    "\n",
    "hdata = hdata.replace(\"s\", 0)\n",
    "\n",
    "hdata['borough_and_district_#'] = hdata.apply (lambda col: label_borough(col), axis=1)\n",
    "\n",
    "hdata[\"%_students_in_temporary_housing\"] = pd.to_numeric(hdata[\"%_students_in_temporary_housing\"])\n",
    "hdata[\"#_total_students\"] = pd.to_numeric(hdata[\"#_total_students\"])\n",
    "hdata[\"#_students_residing_in_shelter\"] = pd.to_numeric(hdata[\"#_students_residing_in_shelter\"])\n",
    "\n",
    "hdata = hdata.groupby(['borough_and_district_#'], as_index=False).mean()\n",
    "hdata[\"borough\"] = hdata.apply(lambda col: labelBorough(col), axis=1)\n",
    "hdata.iloc[:,2] = hdata.iloc[:,2].mul(100).round(2)\n",
    "hdata.iloc[: ,1:4] = hdata.iloc[: ,1:4].round(2)\n",
    "\n",
    "display(hdata.head())"
   ]
  },
  {
   "cell_type": "markdown",
   "metadata": {},
   "source": [
    "#### Merging the two datasets\n",
    "For this step, we created the final dataframe by merging both the education and housing data by borough and district number using the merge method."
   ]
  },
  {
   "cell_type": "code",
   "execution_count": null,
   "metadata": {},
   "outputs": [],
   "source": [
    "final_ds = pd.merge(sdata, hdata, on = \"borough_and_district_#\", how = \"inner\")\n",
    "final_ds.head()"
   ]
  },
  {
   "cell_type": "markdown",
   "metadata": {},
   "source": [
    "## Data Description\n",
    "For the finalized dataset for housing and education data, we combined two datasets. The rows represent different boroughs and school districts within New York City. The columns make up different demographics, including percentage of Asian, Black, Hispanic, White, and other races, along with percentage of students in poverty. Additionally, they show the total number of students at each public school regardless of housing situation, students residing in shelter, the number and percent of students in temporary housing. Poverty is measured by students who qualify for a free or reduced price lunch program or those eligible for Human Resources Administration benefits. Students in temporary housing are defined as any student 21 or younger enrolled in school and experiencing housing instability at any point during the school year. Temporary housing includes sharing the housing of others, in shelter, in hotel/motel, or in other temporary housing. The total numbers of students and students in temporary housing are disaggregated by school, based on the last school or program a student attended. In 2017-18, there were 105,261 students residing in temporary housing at any point throughout the school year.  The total numbers of students and students in temporary housing are disaggregated by school, based on the last school or program a student attended. The final, revised dataset was created in order to study relationships between districts and specific demographics in order to find insights into poverty levels and temporary housing numbers within the districts. The data was collected using multiple data sources, including the DOE's Audited Register, biographic data from the Automate the Schools (ATS) system, and the Location Code Generation and Management System (LCGMS), and the Department of Homeless Services (DHS). Due to the occasional missing demographic data and long-term-absent students not being accounted for, some of the enrollment numbers do not add up. The people surveyed (students within New York City) are probably aware that their demographic and free lunch status is recorded but this information does not affect the data. The original data set can be found here https://drive.google.com/drive/folders/1B8daIcWqa5voZ6YwI-Jy1ZA4WMcZJdzW?usp=sharing.\n",
    "\n",
    "## Data Limitations\n",
    "One significant limitation within the dataset is that only public schools are accounted for (tne school data accounts for charter schools while the housing data does not). The absense of private schools in the dataset results in inflated poverty, racial minority percentages, and housing data for each district as private schools historically account for a higher level of wealthier and white students due to the tuition and prep needed to admitted. Regarding the housing data, The Federal McKinney-Vento Homeless Assistance Act requires school districts to ask families to report on their housing situation. Schools are only required to provide the survey when they are aware that there is a change in address so there may be instances where schools have outdated information. Additionally, families might lie about the state of housing in their families in the questionnaires as they do not want schools prying into their family situation so as a result, the actual temporary housing numbers might be lower than they actually are. "
   ]
  },
  {
   "cell_type": "markdown",
   "metadata": {},
   "source": [
    "## Initial Analysis\n",
    "#### Mean values for Columns"
   ]
  },
  {
   "cell_type": "code",
   "execution_count": null,
   "metadata": {},
   "outputs": [],
   "source": [
    "print(\"The mean Asian enrollment percentage is {:.2f}\".format(final_ds[\"%_asian\"].mean()))\n",
    "print(\"The std of Asian enrollment percentage is {:.2f}\".format(final_ds[\"%_asian\"].std()))\n",
    "print(\"\\n\")\n",
    "\n",
    "print(\"The mean Black enrollment percentage is {:.2f}\".format(final_ds[\"%_black\"].mean()))\n",
    "print(\"The std of Black enrollment percentage is {:.2f}\".format(final_ds[\"%_black\"].std()))\n",
    "print(\"\\n\")\n",
    "\n",
    "print(\"The mean Hispanic enrollment percentage is {:.2f}\".format(final_ds[\"%_hispanic\"].mean()))\n",
    "print(\"The std of Hispanic enrollment percentage is {:.2f}\".format(final_ds[\"%_hispanic\"].std()))\n",
    "print(\"\\n\")\n",
    "\n",
    "print(\"The mean White enrollment percentage is {:.2f}\".format(final_ds[\"%_white\"].mean()))\n",
    "print(\"The std of White enrollment percentage is {:.2f}\".format(final_ds[\"%_white\"].std()))\n",
    "print(\"\\n\")\n",
    "\n",
    "print(\"The mean poverty percentage is {:.2f}\".format(final_ds[\"%_poverty\"].mean()))\n",
    "print(\"The std of poverty percentage is {:.2f}\".format(final_ds[\"%_poverty\"].std()))\n",
    "print(\"\\n\")"
   ]
  },
  {
   "cell_type": "markdown",
   "metadata": {},
   "source": [
    "#### Scatter Plots and Correlation"
   ]
  },
  {
   "cell_type": "code",
   "execution_count": null,
   "metadata": {},
   "outputs": [],
   "source": [
    "print(\"The correlation is {:.2f}\".format(final_ds[\"%_white\"].corr(final_ds[\"%_poverty\"])))\n",
    "plt.scatter(final_ds[\"%_white\"],final_ds[\"%_poverty\"],alpha = 0.3)\n",
    "plt.xlabel(\"White Percentage\")\n",
    "plt.ylabel(\"Poverty\")"
   ]
  },
  {
   "cell_type": "code",
   "execution_count": null,
   "metadata": {},
   "outputs": [],
   "source": [
    "print(\"The correlation is {:.2f}\".format(final_ds[\"%_asian\"].corr(final_ds[\"%_poverty\"])))\n",
    "plt.scatter(final_ds[\"%_asian\"],final_ds[\"%_poverty\"],alpha = 0.3)\n",
    "plt.xlabel(\"Asian Percentage\")\n",
    "plt.ylabel(\"Poverty\")"
   ]
  },
  {
   "cell_type": "code",
   "execution_count": null,
   "metadata": {},
   "outputs": [],
   "source": [
    "print(\"The correlation is {:.2f}\".format(final_ds[\"%_hispanic\"].corr(final_ds[\"%_poverty\"])))\n",
    "plt.scatter(final_ds[\"%_hispanic\"],final_ds[\"%_poverty\"],alpha = 0.3)\n",
    "plt.xlabel(\"Hispanic Percentage\")\n",
    "plt.ylabel(\"Poverty\")"
   ]
  },
  {
   "cell_type": "code",
   "execution_count": null,
   "metadata": {},
   "outputs": [],
   "source": [
    "print(\"The correlation is {:.2f}\".format(final_ds[\"%_black\"].corr(final_ds[\"%_poverty\"])))\n",
    "plt.scatter(final_ds[\"%_black\"],final_ds[\"%_poverty\"],alpha = 0.3)\n",
    "plt.xlabel(\"Black Percentage\")\n",
    "plt.ylabel(\"Poverty\")"
   ]
  },
  {
   "cell_type": "markdown",
   "metadata": {},
   "source": [
    "#### Relationship betwen mean student population and percent of unhoused students in each district per borough in scatterplots\n",
    "The following scatterplots groups the dataframe by borough to show the relationship between mean student population and percent of students unhoused. Each point in the scatter plot is a district within the borough. We also found the correlation between both variables to see if student population size correlates with unhoused students. Each borough has their own scatter plot."
   ]
  },
  {
   "cell_type": "code",
   "execution_count": null,
   "metadata": {},
   "outputs": [],
   "source": [
    "by_bronx = final_ds.loc[final_ds[\"borough\"] == \"Bronx\"]\n",
    "le_bronx = by_bronx.groupby(\"borough_and_district_#\").mean()\n",
    "\n",
    "print(\"The correlation is {:.2f}\".format(le_bronx[\"#_total_students\"].corr(le_bronx[\"%_students_in_temporary_housing\"])))\n",
    "\n",
    "plt.scatter(le_bronx[\"#_total_students\"], le_bronx[\"%_students_in_temporary_housing\"])#, labels = \"borough_and_district_#\")\n",
    "plt.xlabel(\"Total student population in each school\")\n",
    "plt.ylabel(\"Percent of students in Temporary Housing\")\n",
    "plt.title(\"Bronx\")\n",
    "plt.show()"
   ]
  },
  {
   "cell_type": "code",
   "execution_count": null,
   "metadata": {},
   "outputs": [],
   "source": [
    "by_brooklyn = final_ds.loc[final_ds[\"borough\"] == \"Brooklyn\"]\n",
    "le_brooklyn = by_brooklyn.groupby(\"borough_and_district_#\").mean()\n",
    "\n",
    "print(\"The correlation is {:.2f}\".format(le_brooklyn[\"#_total_students\"].corr(le_brooklyn[\"%_students_in_temporary_housing\"])))\n",
    "\n",
    "\n",
    "plt.scatter(le_brooklyn[\"#_total_students\"], le_brooklyn[\"%_students_in_temporary_housing\"])#, labels = \"borough_and_district_#\")\n",
    "plt.xlabel(\"Total student population in each school\")\n",
    "plt.ylabel(\"Percent of students in Temporary Housing\")\n",
    "plt.title(\"Brooklyn\")\n",
    "plt.show()\n"
   ]
  },
  {
   "cell_type": "code",
   "execution_count": null,
   "metadata": {},
   "outputs": [],
   "source": [
    "by_manhattan = final_ds.loc[final_ds[\"borough\"] == \"Manhattan\"]\n",
    "le_manhattan = by_manhattan.groupby(\"borough_and_district_#\").mean()\n",
    "print(\"The correlation is {:.2f}\".format(le_manhattan[\"#_total_students\"].corr(le_manhattan[\"%_students_in_temporary_housing\"])))\n",
    "\n",
    "plt.scatter(le_manhattan[\"#_total_students\"], le_manhattan[\"%_students_in_temporary_housing\"])#, labels = \"borough_and_district_#\")\n",
    "plt.xlabel(\"Total student population in each school\")\n",
    "plt.ylabel(\"Percent of students in Temporary Housing\")\n",
    "plt.title(\"Manhattan\")\n",
    "plt.show()"
   ]
  },
  {
   "cell_type": "code",
   "execution_count": null,
   "metadata": {},
   "outputs": [],
   "source": [
    "by_queens = final_ds.loc[final_ds[\"borough\"] == \"Queens\"]\n",
    "le_queens = by_queens.groupby(\"borough_and_district_#\").mean()\n",
    "print(\"The correlation is {:.2f}\".format(le_queens[\"#_total_students\"].corr(le_queens[\"%_students_in_temporary_housing\"])))\n",
    "plt.scatter(le_queens[\"#_total_students\"], le_queens[\"%_students_in_temporary_housing\"])#, labels = \"borough_and_district_#\")\n",
    "plt.xlabel(\"Total student population in each school\")\n",
    "plt.ylabel(\"Percent of students in Temporary Housing\")\n",
    "plt.title(\"Queens\")\n",
    "plt.show()"
   ]
  },
  {
   "cell_type": "code",
   "execution_count": null,
   "metadata": {},
   "outputs": [],
   "source": [
    "by_SI = final_ds.loc[final_ds[\"borough\"] == \"Staten Island\"]\n",
    "le_SI = by_SI.groupby(\"borough_and_district_#\").sum()\n",
    "plt.scatter(le_SI[\"#_total_students\"], le_SI[\"%_students_in_temporary_housing\"])\n",
    "plt.xlabel(\"Total student population in district\")\n",
    "plt.ylabel(\"Percent of students in Temporary Housing\")\n",
    "plt.title(\"Staten Island\")\n",
    "plt.show()"
   ]
  },
  {
   "cell_type": "markdown",
   "metadata": {},
   "source": [
    "# Questions for Reviewers\n",
    "* Since we wanted to work on different datasets that all looked at different quality of life outcomes across different areas in New York City, what would be suggestions on how to combine our analyses to create a cohesive project?\n",
    "\n",
    "* Are there any particular parts of our datasets that we cleaned that still seem unnecessary in answering our research questions?\n",
    "\n",
    "* Based on what we have found and analyzed, is the direction we are going with in our research questions appropriate? Our main concern is that we wanted to explore a variety of factors and have that answer the main, overarching, question, but we were wondering if there was a more targeted and efficient question to pose instead?\n"
   ]
  },
  {
   "cell_type": "code",
   "execution_count": null,
   "metadata": {},
   "outputs": [],
   "source": []
  },
  {
   "cell_type": "code",
   "execution_count": null,
   "metadata": {},
   "outputs": [],
   "source": []
  }
 ],
 "metadata": {
  "kernelspec": {
   "display_name": "Python 3",
   "language": "python",
   "name": "python3"
  },
  "language_info": {
   "codemirror_mode": {
    "name": "ipython",
    "version": 3
   },
   "file_extension": ".py",
   "mimetype": "text/x-python",
   "name": "python",
   "nbconvert_exporter": "python",
   "pygments_lexer": "ipython3",
   "version": "3.8.5"
  }
 },
 "nbformat": 4,
 "nbformat_minor": 4
}
