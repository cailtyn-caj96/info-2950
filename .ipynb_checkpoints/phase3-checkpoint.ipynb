{
 "cells": [
  {
   "cell_type": "markdown",
   "metadata": {},
   "source": [
    "# Phase 3 - Pre Registration of Analyses"
   ]
  },
  {
   "cell_type": "markdown",
   "metadata": {},
   "source": [
    "Inequality is rampant in New York City. Under the shadows of skyscrapers, tourism, and economic boom, many households struggle to keep up with increasing rent prices. In our project we explore the disparities in housing insecurity/rent burden and education across New York City's five boroughs.\n",
    "\n",
    "In our final report we vow to present the following analyses:\n",
    "\n",
    "### Analysis One:\n",
    "We will plot rent burden (defined as paying >30% income level) by gross rent for different neighborhoods grouped by borough, and analyze the statistical differences between them to analyze if there is an association between rent level and rent burden. Especically given the economic downturn, we want to look at how housing insecurity has been exacerbated, especially for those already living in low income areas.\n",
    "\n",
    "### Analysis Two:\n",
    "\n",
    "We will analyze the relationship between racial composition of schools and housing insecurity at the neighborhood/borough level. We will look at multilinear regression model and analyze the individual regression coefficients of the our indicator variables to see how housing insecurity may change based on race. "
   ]
  },
  {
   "cell_type": "markdown",
   "metadata": {},
   "source": [
    "## Questions For Reviewers"
   ]
  },
  {
   "cell_type": "markdown",
   "metadata": {},
   "source": [
    "- We group our data mostly by borough, would it make more sense to geographically visualize this data. Is that possible to do with what we know?\n",
    "- Our data is only a single point in time, how might this effect our analyses, and would it make them any less convincing?\n",
    "- For our final project, do we need to support our conclusions/analysis with research?\n",
    "- Is the way we are connecting these two ideas (housing and education) cohesive?\n",
    "- Are there any suggestions of other ways to visualize the data to commnicate our ideas more clearly?"
   ]
  },
  {
   "cell_type": "code",
   "execution_count": null,
   "metadata": {},
   "outputs": [],
   "source": []
  }
 ],
 "metadata": {
  "kernelspec": {
   "display_name": "Python 3",
   "language": "python",
   "name": "python3"
  },
  "language_info": {
   "codemirror_mode": {
    "name": "ipython",
    "version": 3
   },
   "file_extension": ".py",
   "mimetype": "text/x-python",
   "name": "python",
   "nbconvert_exporter": "python",
   "pygments_lexer": "ipython3",
   "version": "3.8.5"
  }
 },
 "nbformat": 4,
 "nbformat_minor": 4
}
