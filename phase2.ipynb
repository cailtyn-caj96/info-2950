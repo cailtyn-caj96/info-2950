{
 "cells": [
  {
   "cell_type": "markdown",
   "metadata": {},
   "source": [
    "## Phase II\n"
   ]
  },
  {
   "cell_type": "markdown",
   "metadata": {},
   "source": [
    "### Data Collection and Cleaning"
   ]
  },
  {
   "cell_type": "code",
   "execution_count": null,
   "metadata": {},
   "outputs": [],
   "source": [
    "## load libraries\n",
    "import pandas as pd\n",
    "import numpy as np\n",
    "import matplotlib.pyplot as plt\n",
    "from scipy import stats\n",
    "\n",
    "## load data\n",
    "school_data = pd.read_csv(\"Ny_School.csv\")\n",
    "housing_data = pd.read_csv(\"Student_Temp_Housing.csv\")\n"
   ]
  },
  {
   "cell_type": "markdown",
   "metadata": {},
   "source": [
    "#### Renaming Columns"
   ]
  },
  {
   "cell_type": "markdown",
   "metadata": {},
   "source": [
    "In this section, we renamed the columns by making them lower_case and replacing spaces in order to make them easier to work with."
   ]
  },
  {
   "cell_type": "code",
   "execution_count": null,
   "metadata": {},
   "outputs": [],
   "source": [
    "new_colnames = []\n",
    "for col in school_data.columns:\n",
    "    new_colnames.append(col.lower())\n",
    "    \n",
    "new_colnames_2 = []\n",
    "for col in housing_data.columns:\n",
    "    new_colnames_2.append(col.lower())\n",
    "    \n",
    "    "
   ]
  },
  {
   "cell_type": "code",
   "execution_count": null,
   "metadata": {},
   "outputs": [],
   "source": [
    "for col in range(len(new_colnames)):\n",
    "    new_colnames[col] = new_colnames[col].replace(\" \", \"_\")\n",
    "print (new_colnames)\n",
    "\n",
    "sdata = school_data.copy()\n",
    "sdata.columns = new_colnames\n",
    "\n",
    "for col in range(len(new_colnames_2)):\n",
    "    new_colnames_2[col] = new_colnames_2[col].replace(\" \", \"_\")\n",
    "print (new_colnames_2)\n",
    "\n",
    "sdata = school_data.copy()\n",
    "sdata.columns = new_colnames\n",
    "\n",
    "hdata = housing_data.copy()\n",
    "hdata.columns = new_colnames_2"
   ]
  },
  {
   "cell_type": "markdown",
   "metadata": {},
   "source": [
    "#### Dropping Columns"
   ]
  },
  {
   "cell_type": "markdown",
   "metadata": {},
   "source": [
    "Then, we dropped the columns we did not need, only keeping ones relative to our research question which involved keeping school demographic (race make-up), poverty, and students in temporary housing data. "
   ]
  },
  {
   "cell_type": "code",
   "execution_count": null,
   "metadata": {},
   "outputs": [],
   "source": [
    "sdata.drop(sdata.loc[:,[\"total_enrollment\", \"#_female\", \"%_female\", \"#_male\", \"%_male\", \"#_black\", \"#_white\", \"#_asian\", \"#_hispanic\", \"#_multiple_race_categories_not_represented\", \"#_students_with_disabilities\", \"#_english_language_learners\", \"%_students_with_disabilities\", \"#_poverty\", \"%_multiple_race_categories_not_represented\", \"%_english_language_learners\", \"economic_need_index\"]], inplace = True, axis = 1)\n",
    "sdata.drop(sdata.loc[:,[\"grade_pk_(half_day_&_full_day)\", 'grade_k', 'grade_1', 'grade_2', 'grade_3', 'grade_4', 'grade_5', 'grade_6', 'grade_7', 'grade_8', 'grade_9', 'grade_10', 'grade_11', 'grade_12']], inplace = True, axis = 1)\n",
    "display(sdata.head())\n",
    "\n",
    "hdata.drop(hdata.loc[:, ['#_doubled_up', \"school_name\", '#_residing_in_non-dhs_shelter', '#_doubled_up'  ]], inplace = True, axis = 1)\n",
    "display(hdata.head())"
   ]
  },
  {
   "cell_type": "markdown",
   "metadata": {},
   "source": [
    "#### Adding Columns then Grouping"
   ]
  },
  {
   "cell_type": "markdown",
   "metadata": {},
   "source": [
    "In this section, we added two new columns in borough + district and boroughs so that we could group by both. In order to achieve this, we wrote two functions which took the dbn school number and converted them to specific boroughs and districts. Then, we grouped all the data by the boroughs and districts, replaced \"suppressed values\" with 0, and rounded and converted the decimals to percentages."
   ]
  },
  {
   "cell_type": "code",
   "execution_count": null,
   "metadata": {},
   "outputs": [],
   "source": [
    "def label_borough(col):\n",
    "    district_number = col['dbn'][0:2]\n",
    "    if col['dbn'].find(\"M\") == 2:\n",
    "      return 'Manhattan ' + district_number\n",
    "    if col['dbn'].find(\"K\") == 2:\n",
    "      return 'Brooklyn ' + district_number\n",
    "    if col['dbn'].find(\"X\") == 2 :\n",
    "      return 'Bronx ' + district_number\n",
    "    if col['dbn'].find(\"Q\") == 2:\n",
    "      return 'Queens ' + district_number\n",
    "    if col['dbn'].find(\"R\") == 2:\n",
    "      return 'Staten Island ' + district_number\n",
    "\n",
    "def labelBorough(col):\n",
    "    if col['borough_and_district_#'].find(\"Manhattan\") != -1:\n",
    "      return 'Manhattan'\n",
    "    if col['borough_and_district_#'].find(\"Brooklyn\") != -1:\n",
    "      return 'Brooklyn'\n",
    "    if col['borough_and_district_#'].find(\"Bronx\") != -1:\n",
    "      return 'Bronx'\n",
    "    if col['borough_and_district_#'].find(\"Queens\") != -1:\n",
    "      return 'Queens'\n",
    "    if col['borough_and_district_#'].find(\"Staten Island\")!= -1:\n",
    "      return 'Staten Island'\n",
    "\n",
    "\n",
    "sdata['borough_and_district_#'] = sdata.apply (lambda col: label_borough(col), axis=1)\n",
    "\n",
    "sdata = sdata.groupby(['borough_and_district_#'], as_index=False).mean()\n",
    "\n",
    "sdata.iloc[:,1:6] = sdata.iloc[:,1:6].mul(100).round(2)\n",
    "display(sdata.head())\n",
    "\n",
    "hdata = hdata.replace(\"s\", 0)\n",
    "\n",
    "hdata['borough_and_district_#'] = hdata.apply (lambda col: label_borough(col), axis=1)\n",
    "\n",
    "hdata[\"%_students_in_temporary_housing\"] = pd.to_numeric(hdata[\"%_students_in_temporary_housing\"])\n",
    "hdata[\"#_total_students\"] = pd.to_numeric(hdata[\"#_total_students\"])\n",
    "hdata[\"#_students_residing_in_shelter\"] = pd.to_numeric(hdata[\"#_students_residing_in_shelter\"])\n",
    "\n",
    "hdata = hdata.groupby(['borough_and_district_#'], as_index=False).mean()\n",
    "hdata[\"borough\"] = hdata.apply(lambda col: labelBorough(col), axis=1)\n",
    "hdata.iloc[:,2] = hdata.iloc[:,2].mul(100).round(2)\n",
    "hdata.iloc[: ,1:4] = hdata.iloc[: ,1:4].round(2)\n",
    "\n",
    "display(hdata.head())\n",
    "\n",
    "\n",
    "\n"
   ]
  },
  {
   "cell_type": "markdown",
   "metadata": {},
   "source": [
    "#### Merging the two datasets"
   ]
  },
  {
   "cell_type": "markdown",
   "metadata": {},
   "source": [
    "For this step, we created the final dataframe by merging both the education and housing data by borough and district number using the merge method."
   ]
  },
  {
   "cell_type": "code",
   "execution_count": null,
   "metadata": {},
   "outputs": [],
   "source": [
    "final_ds = pd.merge(sdata, hdata, on = \"borough_and_district_#\", how = \"inner\")\n",
    "final_ds.head()"
   ]
  },
  {
   "cell_type": "markdown",
   "metadata": {},
   "source": [
    "## Data Description"
   ]
  },
  {
   "cell_type": "markdown",
   "metadata": {},
   "source": [
    "For the finalized dataset for housing and education data, we combined two datasets. The rows represent different boroughs and school districts within New York City. The columns make up different demographics, including percentage of Asian, Black, Hispanic, White, and other races, along with percentage of students in poverty. Additionally, they show the total number of students at each public school regardless of housing situation, students residing in shelter, the number and percent of students in temporary housing. Poverty is measured by students who qualify for a free or reduced price lunch program or those eligible for Human Resources Administration benefits. Students in temporary housing are defined as any student 21 or younger enrolled in school and experiencing housing instability at any point during the school year. Temporary housing includes sharing the housing of others, in shelter, in hotel/motel, or in other temporary housing. The total numbers of students and students in temporary housing are disaggregated by school, based on the last school or program a student attended. In 2017-18, there were 105,261 students residing in temporary housing at any point throughout the school year.  The total numbers of students and students in temporary housing are disaggregated by school, based on the last school or program a student attended. The final, revised dataset was created in order to study relationships between districts and specific demographics in order to find insights into poverty levels and temporary housing numbers within the districts. The data was collected using multiple data sources, including the DOE's Audited Register, biographic data from the Automate the Schools (ATS) system, and the Location Code Generation and Management System (LCGMS), and the Department of Homeless Services (DHS). Due to the occasional missing demographic data and long-term-absent students not being accounted for, some of the enrollment numbers do not add up. The people surveyed (students within New York City) are probably aware that their demographic and free lunch status is recorded but this information does not affect the data. The original data set can be found here https://drive.google.com/drive/folders/1B8daIcWqa5voZ6YwI-Jy1ZA4WMcZJdzW?usp=sharing. \n",
    "\n"
   ]
  },
  {
   "cell_type": "markdown",
   "metadata": {},
   "source": [
    "## Data Limitations"
   ]
  },
  {
   "cell_type": "markdown",
   "metadata": {},
   "source": [
    "One significant limitation within the dataset is that only public schools are accounted for (tne school data accounts for charter schools while the housing data does not). The absense of private schools in the dataset results in inflated poverty, racial minority percentages, and housing data for each district as private schools historically account for a higher level of wealthier and white students due to the tuition and prep needed to admitted. Regarding the housing data, The Federal McKinney-Vento Homeless Assistance Act requires school districts to ask families to report on their housing situation. Schools are only required to provide the survey when they are aware that there is a change in address so there may be instances where schools have outdated information. Additionally, families might lie about the state of housing in their families in the questionnaires as they do not want schools prying into their family situation so as a result, the actual temporary housing numbers might be lower than they actually are. "
   ]
  },
  {
   "cell_type": "markdown",
   "metadata": {},
   "source": [
    "## Initial Analysis"
   ]
  },
  {
   "cell_type": "markdown",
   "metadata": {},
   "source": [
    "#### Mean values for Columns"
   ]
  },
  {
   "cell_type": "code",
   "execution_count": null,
   "metadata": {},
   "outputs": [],
   "source": [
    "print(\"The mean Asian enrollment percentage is {:.2f}\".format(final_ds[\"%_asian\"].mean()))\n",
    "print(\"The std of Asian enrollment percentage is {:.2f}\".format(final_ds[\"%_asian\"].std()))\n",
    "print(\"\\n\")\n",
    "\n",
    "print(\"The mean Black enrollment percentage is {:.2f}\".format(final_ds[\"%_black\"].mean()))\n",
    "print(\"The std of Black enrollment percentage is {:.2f}\".format(final_ds[\"%_black\"].std()))\n",
    "print(\"\\n\")\n",
    "\n",
    "print(\"The mean Hispanic enrollment percentage is {:.2f}\".format(final_ds[\"%_hispanic\"].mean()))\n",
    "print(\"The std of Hispanic enrollment percentage is {:.2f}\".format(final_ds[\"%_hispanic\"].std()))\n",
    "print(\"\\n\")\n",
    "\n",
    "print(\"The mean White enrollment percentage is {:.2f}\".format(final_ds[\"%_white\"].mean()))\n",
    "print(\"The std of White enrollment percentage is {:.2f}\".format(final_ds[\"%_white\"].std()))\n",
    "print(\"\\n\")\n",
    "\n",
    "print(\"The mean poverty percentage is {:.2f}\".format(final_ds[\"%_poverty\"].mean()))\n",
    "print(\"The std of poverty percentage is {:.2f}\".format(final_ds[\"%_poverty\"].std()))\n",
    "print(\"\\n\")"
   ]
  },
  {
   "cell_type": "markdown",
   "metadata": {},
   "source": [
    "#### Scatter Plots and Correlation"
   ]
  },
  {
   "cell_type": "code",
   "execution_count": null,
   "metadata": {},
   "outputs": [],
   "source": [
    "print(\"The correlation is {:.2f}\".format(final_ds[\"%_white\"].corr(final_ds[\"%_poverty\"])))\n",
    "plt.scatter(final_ds[\"%_white\"],final_ds[\"%_poverty\"],alpha = 0.3)\n",
    "plt.xlabel(\"White Percentage\")\n",
    "plt.ylabel(\"Poverty\")"
   ]
  },
  {
   "cell_type": "code",
   "execution_count": null,
   "metadata": {},
   "outputs": [],
   "source": [
    "print(\"The correlation is {:.2f}\".format(final_ds[\"%_asian\"].corr(final_ds[\"%_poverty\"])))\n",
    "plt.scatter(final_ds[\"%_asian\"],final_ds[\"%_poverty\"],alpha = 0.3)\n",
    "plt.xlabel(\"Asian Percentage\")\n",
    "plt.ylabel(\"Poverty\")"
   ]
  },
  {
   "cell_type": "code",
   "execution_count": null,
   "metadata": {},
   "outputs": [],
   "source": [
    "print(\"The correlation is {:.2f}\".format(final_ds[\"%_hispanic\"].corr(final_ds[\"%_poverty\"])))\n",
    "plt.scatter(final_ds[\"%_hispanic\"],final_ds[\"%_poverty\"],alpha = 0.3)\n",
    "plt.xlabel(\"Hispanic Percentage\")\n",
    "plt.ylabel(\"Poverty\")"
   ]
  },
  {
   "cell_type": "code",
   "execution_count": null,
   "metadata": {},
   "outputs": [],
   "source": [
    "print(\"The correlation is {:.2f}\".format(final_ds[\"%_black\"].corr(final_ds[\"%_poverty\"])))\n",
    "plt.scatter(final_ds[\"%_black\"],final_ds[\"%_poverty\"],alpha = 0.3)\n",
    "plt.xlabel(\"Black Percentage\")\n",
    "plt.ylabel(\"Poverty\")"
   ]
  },
  {
   "cell_type": "code",
   "execution_count": null,
   "metadata": {},
   "outputs": [],
   "source": [
    "by_bronx = final_ds.loc[final_ds[\"borough\"] == \"Bronx\"]\n",
    "le_bronx = by_bronx.groupby(\"borough_and_district_#\").mean()\n",
    "\n",
    "print(\"The correlation is {:.2f}\".format(le_bronx[\"#_total_students\"].corr(le_bronx[\"%_students_in_temporary_housing\"])))\n",
    "\n",
    "plt.scatter(le_bronx[\"#_total_students\"], le_bronx[\"%_students_in_temporary_housing\"])#, labels = \"borough_and_district_#\")\n",
    "plt.xlabel(\"Total student population in each school\")\n",
    "plt.ylabel(\"Percent of students in Temporary Housing\")\n",
    "plt.title(\"Bronx\")\n",
    "plt.show()\n"
   ]
  },
  {
   "cell_type": "code",
   "execution_count": null,
   "metadata": {},
   "outputs": [],
   "source": [
    "by_brooklyn = final_ds.loc[final_ds[\"borough\"] == \"Brooklyn\"]\n",
    "le_brooklyn = by_brooklyn.groupby(\"borough_and_district_#\").mean()\n",
    "\n",
    "print(\"The correlation is {:.2f}\".format(le_brooklyn[\"#_total_students\"].corr(le_brooklyn[\"%_students_in_temporary_housing\"])))\n",
    "\n",
    "\n",
    "plt.scatter(le_brooklyn[\"#_total_students\"], le_brooklyn[\"%_students_in_temporary_housing\"])#, labels = \"borough_and_district_#\")\n",
    "plt.xlabel(\"Total student population in each school\")\n",
    "plt.ylabel(\"Percent of students in Temporary Housing\")\n",
    "plt.title(\"Brooklyn\")\n",
    "plt.show()\n"
   ]
  },
  {
   "cell_type": "code",
   "execution_count": null,
   "metadata": {},
   "outputs": [],
   "source": [
    "by_manhattan = final_ds.loc[final_ds[\"borough\"] == \"Manhattan\"]\n",
    "le_manhattan = by_manhattan.groupby(\"borough_and_district_#\").mean()\n",
    "print(\"The correlation is {:.2f}\".format(le_manhattan[\"#_total_students\"].corr(le_manhattan[\"%_students_in_temporary_housing\"])))\n",
    "\n",
    "plt.scatter(le_manhattan[\"#_total_students\"], le_manhattan[\"%_students_in_temporary_housing\"])#, labels = \"borough_and_district_#\")\n",
    "plt.xlabel(\"Total student population in each school\")\n",
    "plt.ylabel(\"Percent of students in Temporary Housing\")\n",
    "plt.title(\"Manhattan\")\n",
    "plt.show()\n"
   ]
  },
  {
   "cell_type": "code",
   "execution_count": null,
   "metadata": {},
   "outputs": [],
   "source": [
    "by_queens = final_ds.loc[final_ds[\"borough\"] == \"Queens\"]\n",
    "le_queens = by_queens.groupby(\"borough_and_district_#\").mean()\n",
    "print(\"The correlation is {:.2f}\".format(le_queens[\"#_total_students\"].corr(le_queens[\"%_students_in_temporary_housing\"])))\n",
    "plt.scatter(le_queens[\"#_total_students\"], le_queens[\"%_students_in_temporary_housing\"])#, labels = \"borough_and_district_#\")\n",
    "plt.xlabel(\"Total student population in each school\")\n",
    "plt.ylabel(\"Percent of students in Temporary Housing\")\n",
    "plt.title(\"Queens\")\n",
    "plt.show()\n"
   ]
  },
  {
   "cell_type": "code",
   "execution_count": null,
   "metadata": {},
   "outputs": [],
   "source": [
    "by_SI = final_ds.loc[final_ds[\"borough\"] == \"Staten Island\"]\n",
    "le_SI = by_SI.groupby(\"borough_and_district_#\").sum()\n",
    "plt.scatter(le_SI[\"#_total_students\"], le_SI[\"%_students_in_temporary_housing\"])\n",
    "plt.xlabel(\"Total student population in district\")\n",
    "plt.ylabel(\"Percent of students in Temporary Housing\")\n",
    "plt.title(\"Staten Island\")\n",
    "plt.show()"
   ]
  }
 ],
 "metadata": {
  "kernelspec": {
   "display_name": "Python 3",
   "language": "python",
   "name": "python3"
  },
  "language_info": {
   "codemirror_mode": {
    "name": "ipython",
    "version": 3
   },
   "file_extension": ".py",
   "mimetype": "text/x-python",
   "name": "python",
   "nbconvert_exporter": "python",
   "pygments_lexer": "ipython3",
   "version": "3.8.5"
  }
 },
 "nbformat": 4,
 "nbformat_minor": 5
}
